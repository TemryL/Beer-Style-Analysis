{
 "cells": [
  {
   "attachments": {},
   "cell_type": "markdown",
   "metadata": {},
   "source": [
    "# Table of Contents\n",
    "* [Introduction](#section0)\n",
    "* [Data pre-processing](#section1)\n",
    "* [Data exploratory](#section2)\n",
    "* [Merging beer styles into supra-styles](#section3)\n",
    "* [Numerical description of the supra-styles](#section4)\n",
    "* [Textual description of the supra-styles](#section5)\n",
    "* [Categorization of users](#section6)\n",
    "* [Finding the favorite supra-styles for each category of users](#section7)\n",
    "* [Finding the beers to put on the shelves](#section8)"
   ]
  },
  {
   "attachments": {},
   "cell_type": "markdown",
   "metadata": {},
   "source": [
    "# Imports"
   ]
  },
  {
   "attachments": {},
   "cell_type": "markdown",
   "metadata": {},
   "source": [
    "## Introduction <a class=\"anchor\" id=\"section0\"></a>"
   ]
  },
  {
   "attachments": {},
   "cell_type": "markdown",
   "metadata": {},
   "source": [
    "## Data pre-processing <a class=\"anchor\" id=\"section1\"></a>\n",
    "\n",
    "For this project two dataset have been provided: data from [BeerAdvocate](https://www.beeradvocate.com) as well as from [RateBeer](https://www.ratebeer.com/) websites.\n",
    "Both dataset are organized following the same relational model shown bellow.\n",
    "\n",
    "### ER Diagram:\n",
    "<img src=\"figures/ER_diagram.png\" alt=\"ER_Diagram\" width=\"800\"/>\n",
    "\n",
    "### Relations:\n",
    "<img src=\"figures/relations.png\" alt=\"relations\" width=\"800\"/>\n",
    "\n",
    "The following analysis will be done on `BeerAdvocate` dataset. Raw data are available [here](https://drive.google.com/drive/folders/1Wz6D2FM25ydFw_-41I9uTwG9uNsN4TCF).\n",
    "Processed data are available [here](https://drive.switch.ch/index.php/s/QBPV4ptiUoV8XER). In order to reproduce the analysis a data folder with the following architecture should be placed in the root directory of the repository:\n",
    "\n",
    "<pre>  \n",
    "├─── data\n",
    "    ├─── raw\n",
    "      ├─── BeerAdvocate\n",
    "        ├─── beers.csv\n",
    "        ├─── breweries.csv\n",
    "        ├─── ratings.txt\n",
    "        ├─── reviews.txt\n",
    "        ├─── users.csv\n",
    "      ├─── RateBeer\n",
    "        ├─── beers.csv\n",
    "        ├─── breweries.csv\n",
    "        ├─── ratings.txt\n",
    "        ├─── reviews.txt\n",
    "        ├─── users.csv\n",
    "    ├─── processed\n",
    "      ├─── BeerAdvocate\n",
    "        ├─── beers.pkl\n",
    "        ├─── breweries.pkl\n",
    "        ├─── ratings.pkl\n",
    "        ├─── reviews.pkl\n",
    "        ├─── users.pkl\n",
    "      ├─── RateBeer\n",
    "        ├─── beers.pkl\n",
    "        ├─── breweries.pkl\n",
    "        ├─── ratings.pkl\n",
    "        ├─── reviews.pkl\n",
    "        ├─── users.pkl \n",
    "</pre>\n",
    "\n",
    "If one wants to manually re-produced the processed data from the raw data, simply move to the `src` folder and execute:\n",
    "```\n",
    "  python process_raw_data.py\n",
    "```\n",
    "Make sure to have all the requirements and that the data in the raw data folder have been uncompressed. Be aware that running the script took around 20 min on Apple silicon M1 Pro. "
   ]
  },
  {
   "attachments": {},
   "cell_type": "markdown",
   "metadata": {},
   "source": [
    "## Data exploratory <a class=\"anchor\" id=\"section2\"></a>"
   ]
  },
  {
   "attachments": {},
   "cell_type": "markdown",
   "metadata": {},
   "source": [
    "## Merging beer styles into supra-styles <a class=\"anchor\" id=\"section3\"></a>"
   ]
  },
  {
   "attachments": {},
   "cell_type": "markdown",
   "metadata": {},
   "source": [
    "## Numerical description of the supra-styles <a class=\"anchor\" id=\"section4\"></a>"
   ]
  },
  {
   "attachments": {},
   "cell_type": "markdown",
   "metadata": {},
   "source": [
    "## Textual description of the supra-styles <a class=\"anchor\" id=\"section5\"></a>"
   ]
  },
  {
   "attachments": {},
   "cell_type": "markdown",
   "metadata": {},
   "source": [
    "## Categorization of users <a class=\"anchor\" id=\"section6\"></a>"
   ]
  },
  {
   "cell_type": "markdown",
   "metadata": {},
   "source": []
  }
 ],
 "metadata": {
  "kernelspec": {
   "display_name": "Python 3",
   "language": "python",
   "name": "python3"
  },
  "language_info": {
   "name": "python",
   "version": "3.9.6 (default, Aug  5 2022, 15:21:02) \n[Clang 14.0.0 (clang-1400.0.29.102)]"
  },
  "orig_nbformat": 4,
  "vscode": {
   "interpreter": {
    "hash": "31f2aee4e71d21fbe5cf8b01ff0e069b9275f58929596ceb00d14d90e3e16cd6"
   }
  }
 },
 "nbformat": 4,
 "nbformat_minor": 2
}
