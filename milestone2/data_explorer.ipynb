{
 "cells": [
  {
   "cell_type": "code",
   "execution_count": 1,
   "metadata": {},
   "outputs": [],
   "source": [
    "import os\n",
    "import subprocess\n",
    "import pandas as pd\n",
    "from tqdm.notebook import tqdm\n",
    "\n",
    "DATA_FOLDER = '../data/'"
   ]
  },
  {
   "cell_type": "markdown",
   "metadata": {},
   "source": [
    "# Beer Advocate folder:"
   ]
  },
  {
   "cell_type": "code",
   "execution_count": 3,
   "metadata": {},
   "outputs": [],
   "source": [
    "beers = pd.read_csv('../data/BeerAdvocate/beers.csv')\n",
    "breweries = pd.read_csv('../data/BeerAdvocate/breweries.csv')\n",
    "users = pd.read_csv('../data/BeerAdvocate/users.csv')"
   ]
  },
  {
   "cell_type": "code",
   "execution_count": 5,
   "metadata": {},
   "outputs": [
    {
     "name": "stdout",
     "output_type": "stream",
     "text": [
      "(280823, 15)\n",
      "280823\n",
      "(16758, 4)\n",
      "16758\n",
      "(153704, 6)\n",
      "153704\n"
     ]
    }
   ],
   "source": [
    "print(beers.shape)\n",
    "print(beers.beer_id.nunique())\n",
    "\n",
    "print(breweries.shape)\n",
    "print(breweries.id.nunique())\n",
    "\n",
    "print(users.shape)\n",
    "print(users.user_id.nunique())"
   ]
  },
  {
   "cell_type": "code",
   "execution_count": 57,
   "metadata": {},
   "outputs": [
    {
     "data": {
      "text/html": [
       "<div>\n",
       "<style scoped>\n",
       "    .dataframe tbody tr th:only-of-type {\n",
       "        vertical-align: middle;\n",
       "    }\n",
       "\n",
       "    .dataframe tbody tr th {\n",
       "        vertical-align: top;\n",
       "    }\n",
       "\n",
       "    .dataframe thead th {\n",
       "        text-align: right;\n",
       "    }\n",
       "</style>\n",
       "<table border=\"1\" class=\"dataframe\">\n",
       "  <thead>\n",
       "    <tr style=\"text-align: right;\">\n",
       "      <th></th>\n",
       "      <th>beer_id</th>\n",
       "      <th>beer_name</th>\n",
       "      <th>brewery_id</th>\n",
       "      <th>brewery_name</th>\n",
       "      <th>style</th>\n",
       "      <th>nbr_ratings</th>\n",
       "      <th>nbr_reviews</th>\n",
       "      <th>avg</th>\n",
       "      <th>ba_score</th>\n",
       "      <th>bros_score</th>\n",
       "      <th>abv</th>\n",
       "      <th>avg_computed</th>\n",
       "      <th>zscore</th>\n",
       "      <th>nbr_matched_valid_ratings</th>\n",
       "      <th>avg_matched_valid_ratings</th>\n",
       "    </tr>\n",
       "  </thead>\n",
       "  <tbody>\n",
       "    <tr>\n",
       "      <th>0</th>\n",
       "      <td>166064</td>\n",
       "      <td>Nashe Moskovskoe</td>\n",
       "      <td>39912</td>\n",
       "      <td>Abdysh-Ata (Абдыш Ата)</td>\n",
       "      <td>Euro Pale Lager</td>\n",
       "      <td>0</td>\n",
       "      <td>0</td>\n",
       "      <td>NaN</td>\n",
       "      <td>NaN</td>\n",
       "      <td>NaN</td>\n",
       "      <td>4.7</td>\n",
       "      <td>NaN</td>\n",
       "      <td>NaN</td>\n",
       "      <td>0</td>\n",
       "      <td>NaN</td>\n",
       "    </tr>\n",
       "  </tbody>\n",
       "</table>\n",
       "</div>"
      ],
      "text/plain": [
       "   beer_id         beer_name  brewery_id            brewery_name  \\\n",
       "0   166064  Nashe Moskovskoe       39912  Abdysh-Ata (Абдыш Ата)   \n",
       "\n",
       "             style  nbr_ratings  nbr_reviews  avg  ba_score  bros_score  abv  \\\n",
       "0  Euro Pale Lager            0            0  NaN       NaN         NaN  4.7   \n",
       "\n",
       "   avg_computed  zscore  nbr_matched_valid_ratings  avg_matched_valid_ratings  \n",
       "0           NaN     NaN                          0                        NaN  "
      ]
     },
     "execution_count": 57,
     "metadata": {},
     "output_type": "execute_result"
    }
   ],
   "source": [
    "beers.head(1)"
   ]
  },
  {
   "cell_type": "code",
   "execution_count": 9,
   "metadata": {},
   "outputs": [
    {
     "data": {
      "text/plain": [
       "array(['Euro Pale Lager', 'American Pale Lager', 'Euro Dark Lager',\n",
       "       'Foreign / Export Stout', 'Irish Red Ale', 'Czech Pilsener',\n",
       "       'Kölsch', 'Dortmunder / Export Lager', 'Munich Dunkel Lager',\n",
       "       'Märzen / Oktoberfest', 'English Pale Ale', 'English Bitter',\n",
       "       'American Pale Wheat Ale', 'American Blonde Ale',\n",
       "       'English India Pale Ale (IPA)', 'Irish Dry Stout',\n",
       "       'American Stout', 'American Pale Ale (APA)', 'Milk / Sweet Stout',\n",
       "       'American Double / Imperial IPA', 'German Pilsener',\n",
       "       'American IPA', 'Witbier', 'Munich Helles Lager',\n",
       "       'English Brown Ale', 'English Porter', 'English Pale Mild Ale',\n",
       "       'American Black Ale', 'Saison / Farmhouse Ale',\n",
       "       'Berliner Weissbier', 'American Double / Imperial Stout',\n",
       "       'American Porter', 'American Wild Ale', 'Fruit / Vegetable Beer',\n",
       "       'English Dark Mild Ale', 'Hefeweizen', 'English Stout',\n",
       "       'California Common / Steam Beer', 'American Amber / Red Ale',\n",
       "       'Tripel', 'Altbier', 'Smoked Beer', 'Bière de Garde',\n",
       "       'Oatmeal Stout', 'Rye Beer', 'Extra Special / Strong Bitter (ESB)',\n",
       "       'Russian Imperial Stout', 'Winter Warmer', 'Belgian Pale Ale',\n",
       "       'Belgian IPA', 'Belgian Strong Pale Ale', 'Old Ale',\n",
       "       'Dunkelweizen', 'English Barleywine', 'English Strong Ale',\n",
       "       'American Brown Ale', 'Schwarzbier', 'Baltic Porter',\n",
       "       'Vienna Lager', 'Herbed / Spiced Beer', 'Rauchbier',\n",
       "       'Scottish Ale', 'Scottish Gruit / Ancient Herbed Ale',\n",
       "       'Black & Tan', 'Gose', 'Scotch Ale / Wee Heavy',\n",
       "       'Low Alcohol Beer', 'Kristalweizen', 'Doppelbock', 'Chile Beer',\n",
       "       'Sahti', 'Euro Strong Lager', 'American Strong Ale', 'Dubbel',\n",
       "       'Cream Ale', 'American Barleywine', 'Flanders Red Ale',\n",
       "       'Light Lager', 'Pumpkin Ale', 'Quadrupel (Quad)', 'Bock',\n",
       "       'Bière de Champagne / Bière Brut', 'Kellerbier / Zwickelbier',\n",
       "       'American Amber / Red Lager', 'American Dark Wheat Ale',\n",
       "       'Weizenbock', 'American Double / Imperial Pilsner',\n",
       "       'Belgian Strong Dark Ale', 'Lambic - Fruit', 'Eisbock', 'Braggot',\n",
       "       'Belgian Dark Ale', 'Maibock / Helles Bock', 'Flanders Oud Bruin',\n",
       "       'American Adjunct Lager', 'American Malt Liquor', 'Kvass',\n",
       "       'Wheatwine', 'Gueuze', 'Roggenbier', 'Lambic - Unblended',\n",
       "       'Japanese Rice Lager', 'Happoshu', 'Faro'], dtype=object)"
      ]
     },
     "execution_count": 9,
     "metadata": {},
     "output_type": "execute_result"
    }
   ],
   "source": [
    "beers['style'].unique()"
   ]
  },
  {
   "cell_type": "code",
   "execution_count": 58,
   "metadata": {},
   "outputs": [
    {
     "data": {
      "text/html": [
       "<div>\n",
       "<style scoped>\n",
       "    .dataframe tbody tr th:only-of-type {\n",
       "        vertical-align: middle;\n",
       "    }\n",
       "\n",
       "    .dataframe tbody tr th {\n",
       "        vertical-align: top;\n",
       "    }\n",
       "\n",
       "    .dataframe thead th {\n",
       "        text-align: right;\n",
       "    }\n",
       "</style>\n",
       "<table border=\"1\" class=\"dataframe\">\n",
       "  <thead>\n",
       "    <tr style=\"text-align: right;\">\n",
       "      <th></th>\n",
       "      <th>id</th>\n",
       "      <th>location</th>\n",
       "      <th>name</th>\n",
       "      <th>nbr_beers</th>\n",
       "    </tr>\n",
       "  </thead>\n",
       "  <tbody>\n",
       "    <tr>\n",
       "      <th>0</th>\n",
       "      <td>39912</td>\n",
       "      <td>Kyrgyzstan</td>\n",
       "      <td>Abdysh-Ata (Абдыш Ата)</td>\n",
       "      <td>5</td>\n",
       "    </tr>\n",
       "  </tbody>\n",
       "</table>\n",
       "</div>"
      ],
      "text/plain": [
       "      id    location                    name  nbr_beers\n",
       "0  39912  Kyrgyzstan  Abdysh-Ata (Абдыш Ата)          5"
      ]
     },
     "execution_count": 58,
     "metadata": {},
     "output_type": "execute_result"
    }
   ],
   "source": [
    "breweries.head(1)"
   ]
  },
  {
   "cell_type": "code",
   "execution_count": 12,
   "metadata": {},
   "outputs": [
    {
     "data": {
      "text/html": [
       "<div>\n",
       "<style scoped>\n",
       "    .dataframe tbody tr th:only-of-type {\n",
       "        vertical-align: middle;\n",
       "    }\n",
       "\n",
       "    .dataframe tbody tr th {\n",
       "        vertical-align: top;\n",
       "    }\n",
       "\n",
       "    .dataframe thead th {\n",
       "        text-align: right;\n",
       "    }\n",
       "</style>\n",
       "<table border=\"1\" class=\"dataframe\">\n",
       "  <thead>\n",
       "    <tr style=\"text-align: right;\">\n",
       "      <th></th>\n",
       "      <th>nbr_ratings</th>\n",
       "      <th>nbr_reviews</th>\n",
       "      <th>user_id</th>\n",
       "      <th>user_name</th>\n",
       "      <th>joined</th>\n",
       "      <th>location</th>\n",
       "    </tr>\n",
       "  </thead>\n",
       "  <tbody>\n",
       "    <tr>\n",
       "      <th>0</th>\n",
       "      <td>7820</td>\n",
       "      <td>465</td>\n",
       "      <td>nmann08.184925</td>\n",
       "      <td>nmann08</td>\n",
       "      <td>1.199704e+09</td>\n",
       "      <td>United States, Washington</td>\n",
       "    </tr>\n",
       "    <tr>\n",
       "      <th>1</th>\n",
       "      <td>2521</td>\n",
       "      <td>2504</td>\n",
       "      <td>stjamesgate.163714</td>\n",
       "      <td>StJamesGate</td>\n",
       "      <td>1.191838e+09</td>\n",
       "      <td>United States, New York</td>\n",
       "    </tr>\n",
       "    <tr>\n",
       "      <th>2</th>\n",
       "      <td>1797</td>\n",
       "      <td>1143</td>\n",
       "      <td>mdagnew.19527</td>\n",
       "      <td>mdagnew</td>\n",
       "      <td>1.116410e+09</td>\n",
       "      <td>Northern Ireland</td>\n",
       "    </tr>\n",
       "    <tr>\n",
       "      <th>3</th>\n",
       "      <td>31</td>\n",
       "      <td>31</td>\n",
       "      <td>helloloser12345.10867</td>\n",
       "      <td>helloloser12345</td>\n",
       "      <td>1.101380e+09</td>\n",
       "      <td>Northern Ireland</td>\n",
       "    </tr>\n",
       "    <tr>\n",
       "      <th>4</th>\n",
       "      <td>604</td>\n",
       "      <td>604</td>\n",
       "      <td>cypressbob.3708</td>\n",
       "      <td>cypressbob</td>\n",
       "      <td>1.069326e+09</td>\n",
       "      <td>Northern Ireland</td>\n",
       "    </tr>\n",
       "  </tbody>\n",
       "</table>\n",
       "</div>"
      ],
      "text/plain": [
       "   nbr_ratings  nbr_reviews                user_id        user_name  \\\n",
       "0         7820          465         nmann08.184925          nmann08   \n",
       "1         2521         2504     stjamesgate.163714      StJamesGate   \n",
       "2         1797         1143          mdagnew.19527          mdagnew   \n",
       "3           31           31  helloloser12345.10867  helloloser12345   \n",
       "4          604          604        cypressbob.3708       cypressbob   \n",
       "\n",
       "         joined                   location  \n",
       "0  1.199704e+09  United States, Washington  \n",
       "1  1.191838e+09    United States, New York  \n",
       "2  1.116410e+09           Northern Ireland  \n",
       "3  1.101380e+09           Northern Ireland  \n",
       "4  1.069326e+09           Northern Ireland  "
      ]
     },
     "execution_count": 12,
     "metadata": {},
     "output_type": "execute_result"
    }
   ],
   "source": [
    "users.head(5)"
   ]
  },
  {
   "cell_type": "code",
   "execution_count": 13,
   "metadata": {},
   "outputs": [
    {
     "name": "stdout",
     "output_type": "stream",
     "text": [
      "beer_name: Régab\n",
      "beer_id: 142544\n",
      "brewery_name: Societe des Brasseries du Gabon (SOBRAGA)\n",
      "brewery_id: 37262\n",
      "style: Euro Pale Lager\n",
      "abv: 4.5\n",
      "date: 1440064800\n",
      "user_name: nmann08\n",
      "user_id: nmann08.184925\n",
      "appearance: 3.25\n",
      "aroma: 2.75\n",
      "palate: 3.25\n",
      "taste: 2.75\n",
      "overall: 3.0\n",
      "rating: 2.88\n",
      "text: From a bottle, pours a piss yellow color with a fizzy white head.  This is carbonated similar to soda.The nose is basic.. malt, corn, a little floral, some earthy straw.  The flavor is boring, not offensive, just boring.  Tastes a little like corn and grain.  Hard to write a review on something so simple.Its ok, could be way worse.\n",
      "review: True\n",
      "\n",
      "beer_name: Barelegs Brew\n",
      "beer_id: 19590\n"
     ]
    }
   ],
   "source": [
    "!head -n 20 /Users/tommery/Desktop/MA3/ADA_TooHotToHoot/ada-2022-project-toohottohoot/data/BeerAdvocate/ratings.txt"
   ]
  },
  {
   "cell_type": "code",
   "execution_count": 14,
   "metadata": {},
   "outputs": [
    {
     "name": "stdout",
     "output_type": "stream",
     "text": [
      "beer_name: Régab\n",
      "beer_id: 142544\n",
      "brewery_name: Societe des Brasseries du Gabon (SOBRAGA)\n",
      "brewery_id: 37262\n",
      "style: Euro Pale Lager\n",
      "abv: 4.5\n",
      "date: 1440064800\n",
      "user_name: nmann08\n",
      "user_id: nmann08.184925\n",
      "appearance: 3.25\n",
      "aroma: 2.75\n",
      "palate: 3.25\n",
      "taste: 2.75\n",
      "overall: 3.0\n",
      "rating: 2.88\n",
      "text: From a bottle, pours a piss yellow color with a fizzy white head.  This is carbonated similar to soda.The nose is basic.. malt, corn, a little floral, some earthy straw.  The flavor is boring, not offensive, just boring.  Tastes a little like corn and grain.  Hard to write a review on something so simple.Its ok, could be way worse.\n",
      "\n",
      "beer_name: Barelegs Brew\n",
      "beer_id: 19590\n",
      "brewery_name: Strangford Lough Brewing Company Ltd\n"
     ]
    }
   ],
   "source": [
    "!head -n 20 /Users/tommery/Desktop/MA3/ADA_TooHotToHoot/ada-2022-project-toohottohoot/data/BeerAdvocate/reviews.txt"
   ]
  },
  {
   "cell_type": "markdown",
   "metadata": {},
   "source": [
    "### Ratings.txt and reviews.txt to dataframe"
   ]
  },
  {
   "cell_type": "code",
   "execution_count": 8,
   "metadata": {},
   "outputs": [],
   "source": [
    "def parse_txt_file(path, features, nb_lines):\n",
    "    \n",
    "    file = open(path)\n",
    "    \n",
    "    d = {}\n",
    "    ds = []\n",
    "    \n",
    "    for line in tqdm(file, desc=\"Parsing {} file: \".format(path.split('/')[-1]), total=nb_lines):\n",
    "        if line == '\\n':            \n",
    "            ds.append(d)\n",
    "            d = {}\n",
    "            continue\n",
    "        \n",
    "        key, val = line.split(':', maxsplit=1)\n",
    "        if key not in features:\n",
    "            continue\n",
    "        d[key] = val[1:-1]\n",
    "    \n",
    "    return pd.DataFrame(ds)"
   ]
  },
  {
   "cell_type": "markdown",
   "metadata": {},
   "source": [
    "### Differences between ratings.txt and reviews.txt"
   ]
  },
  {
   "cell_type": "code",
   "execution_count": 25,
   "metadata": {},
   "outputs": [
    {
     "name": "stdout",
     "output_type": "stream",
     "text": [
      " 151074576\n",
      " 44022962\n"
     ]
    }
   ],
   "source": [
    "!wc -l < ../data/BeerAdvocate/ratings.txt\n",
    "!wc -l < ../data/BeerAdvocate/reviews.txt"
   ]
  },
  {
   "cell_type": "code",
   "execution_count": null,
   "metadata": {},
   "outputs": [],
   "source": [
    "nb_lines_ratings = !wc -l < '../data/BeerAdvocate/ratings.txt'\n",
    "nb_lines_ratings = int(nb_lines_ratings[0])\n",
    "\n",
    "nb_lines_reviews = !wc -l < '../data/BeerAdvocate/reviews.txt'\n",
    "nb_lines_reviews = int(nb_lines_reviews[0])\n",
    "\n",
    "ratings = parse_txt_file(DATA_FOLDER+'BeerAdvocate/ratings.txt', features=['review'], nb_lines=nb_lines_ratings)\n",
    "reviews = parse_txt_file(DATA_FOLDER+'BeerAdvocate/reviews.txt', features=['beer_name'], nb_lines=nb_lines_reviews)\n",
    "\n",
    "nb_text_in_ratings = ratings['review'].apply(lambda x: 1 if x == 'True' else 0).sum()\n",
    "print(nb_text_in_ratings == len(reviews))"
   ]
  },
  {
   "cell_type": "markdown",
   "metadata": {},
   "source": [
    "Conclusion: It seems to be reasonable to consider that all review in `reviews.txt` are in `ratings.txt`, since the number of attribute **review** equal to **True** in `ratings.txt` correspond to the number of actual review in `reviews.txt`. Therefore taking only `ratings.txt` does not leave any information. "
   ]
  },
  {
   "cell_type": "markdown",
   "metadata": {},
   "source": [
    "### Check constraints in relational model"
   ]
  },
  {
   "cell_type": "code",
   "execution_count": 9,
   "metadata": {},
   "outputs": [
    {
     "data": {
      "application/vnd.jupyter.widget-view+json": {
       "model_id": "d3b4645022fd4dad866bab413fb764c8",
       "version_major": 2,
       "version_minor": 0
      },
      "text/plain": [
       "Parsing ratings.txt file:   0%|          | 0/151074576 [00:00<?, ?it/s]"
      ]
     },
     "metadata": {},
     "output_type": "display_data"
    }
   ],
   "source": [
    "nb_lines_ratings = !wc -l < '../data/BeerAdvocate/ratings.txt'\n",
    "nb_lines_ratings = int(nb_lines_ratings[0])\n",
    "\n",
    "ratings = parse_txt_file(DATA_FOLDER+'BeerAdvocate/ratings.txt', features=['beer_id', 'user_id', 'date'], nb_lines=nb_lines_ratings)"
   ]
  },
  {
   "cell_type": "code",
   "execution_count": 19,
   "metadata": {},
   "outputs": [
    {
     "name": "stdout",
     "output_type": "stream",
     "text": [
      "247982 280823\n",
      "153704 153704\n",
      "247982 280823\n"
     ]
    }
   ],
   "source": [
    "# Participation and key constraints for 'Ratings' relationship:\n",
    "print(ratings['beer_id'].nunique(), beers.beer_id.nunique())    # Partial participation on beers entity\n",
    "print(ratings['user_id'].nunique(), users.user_id.nunique())    # Full participation on user entity\n",
    "print(ratings['beer_id'].nunique(), beers.beer_id.nunique())    # Partial participation on beers entity"
   ]
  },
  {
   "cell_type": "code",
   "execution_count": 14,
   "metadata": {},
   "outputs": [
    {
     "name": "stdout",
     "output_type": "stream",
     "text": [
      "0\n",
      "14325 16758\n"
     ]
    }
   ],
   "source": [
    "# Participation and key constraints for 'Produced_by' relationship:\n",
    "print(beers.brewery_id.isnull().sum())                  # Full participation + key constraint on beers entity\n",
    "print(beers.brewery_id.nunique(), breweries.shape[0])   # Partial participation on breweries entity"
   ]
  },
  {
   "cell_type": "markdown",
   "metadata": {},
   "source": [
    "# Rate Beer folder:"
   ]
  },
  {
   "cell_type": "code",
   "execution_count": 20,
   "metadata": {},
   "outputs": [],
   "source": [
    "beers = pd.read_csv('../data/RateBeer/beers.csv')\n",
    "breweries = pd.read_csv('../data/RateBeer/breweries.csv')\n",
    "users = pd.read_csv('../data/RateBeer/users.csv')"
   ]
  },
  {
   "cell_type": "code",
   "execution_count": 61,
   "metadata": {},
   "outputs": [
    {
     "data": {
      "text/html": [
       "<div>\n",
       "<style scoped>\n",
       "    .dataframe tbody tr th:only-of-type {\n",
       "        vertical-align: middle;\n",
       "    }\n",
       "\n",
       "    .dataframe tbody tr th {\n",
       "        vertical-align: top;\n",
       "    }\n",
       "\n",
       "    .dataframe thead th {\n",
       "        text-align: right;\n",
       "    }\n",
       "</style>\n",
       "<table border=\"1\" class=\"dataframe\">\n",
       "  <thead>\n",
       "    <tr style=\"text-align: right;\">\n",
       "      <th></th>\n",
       "      <th>beer_id</th>\n",
       "      <th>beer_name</th>\n",
       "      <th>brewery_id</th>\n",
       "      <th>brewery_name</th>\n",
       "      <th>style</th>\n",
       "      <th>nbr_ratings</th>\n",
       "      <th>overall_score</th>\n",
       "      <th>style_score</th>\n",
       "      <th>avg</th>\n",
       "      <th>abv</th>\n",
       "      <th>avg_computed</th>\n",
       "      <th>zscore</th>\n",
       "      <th>nbr_matched_valid_ratings</th>\n",
       "      <th>avg_matched_valid_ratings</th>\n",
       "    </tr>\n",
       "  </thead>\n",
       "  <tbody>\n",
       "    <tr>\n",
       "      <th>0</th>\n",
       "      <td>410549</td>\n",
       "      <td>33 Export (Gabon)</td>\n",
       "      <td>3198</td>\n",
       "      <td>Sobraga</td>\n",
       "      <td>Pale Lager</td>\n",
       "      <td>1</td>\n",
       "      <td>NaN</td>\n",
       "      <td>NaN</td>\n",
       "      <td>2.72</td>\n",
       "      <td>5.0</td>\n",
       "      <td>2.0</td>\n",
       "      <td>NaN</td>\n",
       "      <td>0</td>\n",
       "      <td>NaN</td>\n",
       "    </tr>\n",
       "  </tbody>\n",
       "</table>\n",
       "</div>"
      ],
      "text/plain": [
       "   beer_id          beer_name  brewery_id brewery_name       style  \\\n",
       "0   410549  33 Export (Gabon)        3198      Sobraga  Pale Lager   \n",
       "\n",
       "   nbr_ratings  overall_score  style_score   avg  abv  avg_computed  zscore  \\\n",
       "0            1            NaN          NaN  2.72  5.0           2.0     NaN   \n",
       "\n",
       "   nbr_matched_valid_ratings  avg_matched_valid_ratings  \n",
       "0                          0                        NaN  "
      ]
     },
     "execution_count": 61,
     "metadata": {},
     "output_type": "execute_result"
    }
   ],
   "source": [
    "beers.head(1)"
   ]
  },
  {
   "cell_type": "code",
   "execution_count": 62,
   "metadata": {},
   "outputs": [
    {
     "data": {
      "text/html": [
       "<div>\n",
       "<style scoped>\n",
       "    .dataframe tbody tr th:only-of-type {\n",
       "        vertical-align: middle;\n",
       "    }\n",
       "\n",
       "    .dataframe tbody tr th {\n",
       "        vertical-align: top;\n",
       "    }\n",
       "\n",
       "    .dataframe thead th {\n",
       "        text-align: right;\n",
       "    }\n",
       "</style>\n",
       "<table border=\"1\" class=\"dataframe\">\n",
       "  <thead>\n",
       "    <tr style=\"text-align: right;\">\n",
       "      <th></th>\n",
       "      <th>id</th>\n",
       "      <th>location</th>\n",
       "      <th>name</th>\n",
       "      <th>nbr_beers</th>\n",
       "    </tr>\n",
       "  </thead>\n",
       "  <tbody>\n",
       "    <tr>\n",
       "      <th>0</th>\n",
       "      <td>3198</td>\n",
       "      <td>Gabon</td>\n",
       "      <td>Sobraga</td>\n",
       "      <td>3</td>\n",
       "    </tr>\n",
       "  </tbody>\n",
       "</table>\n",
       "</div>"
      ],
      "text/plain": [
       "     id location     name  nbr_beers\n",
       "0  3198    Gabon  Sobraga          3"
      ]
     },
     "execution_count": 62,
     "metadata": {},
     "output_type": "execute_result"
    }
   ],
   "source": [
    "breweries.head(1)"
   ]
  },
  {
   "cell_type": "code",
   "execution_count": 63,
   "metadata": {},
   "outputs": [
    {
     "data": {
      "text/html": [
       "<div>\n",
       "<style scoped>\n",
       "    .dataframe tbody tr th:only-of-type {\n",
       "        vertical-align: middle;\n",
       "    }\n",
       "\n",
       "    .dataframe tbody tr th {\n",
       "        vertical-align: top;\n",
       "    }\n",
       "\n",
       "    .dataframe thead th {\n",
       "        text-align: right;\n",
       "    }\n",
       "</style>\n",
       "<table border=\"1\" class=\"dataframe\">\n",
       "  <thead>\n",
       "    <tr style=\"text-align: right;\">\n",
       "      <th></th>\n",
       "      <th>nbr_ratings</th>\n",
       "      <th>user_id</th>\n",
       "      <th>user_name</th>\n",
       "      <th>joined</th>\n",
       "      <th>location</th>\n",
       "    </tr>\n",
       "  </thead>\n",
       "  <tbody>\n",
       "    <tr>\n",
       "      <th>0</th>\n",
       "      <td>1890</td>\n",
       "      <td>175852</td>\n",
       "      <td>Manslow</td>\n",
       "      <td>1.337508e+09</td>\n",
       "      <td>Poland</td>\n",
       "    </tr>\n",
       "  </tbody>\n",
       "</table>\n",
       "</div>"
      ],
      "text/plain": [
       "   nbr_ratings  user_id user_name        joined location\n",
       "0         1890   175852   Manslow  1.337508e+09   Poland"
      ]
     },
     "execution_count": 63,
     "metadata": {},
     "output_type": "execute_result"
    }
   ],
   "source": [
    "users.head(1)"
   ]
  },
  {
   "cell_type": "code",
   "execution_count": 64,
   "metadata": {},
   "outputs": [
    {
     "name": "stdout",
     "output_type": "stream",
     "text": [
      "beer_name: 33 Export (Gabon)\n",
      "beer_id: 410549\n",
      "brewery_name: Sobraga\n",
      "brewery_id: 3198\n",
      "style: Pale Lager\n",
      "abv: 5.0\n",
      "date: 1461664800\n",
      "user_name: Manslow\n",
      "user_id: 175852\n",
      "appearance: 2\n",
      "aroma: 4\n",
      "palate: 2\n",
      "taste: 4\n",
      "overall: 8\n",
      "rating: 2.00\n",
      "text: Puszka 0,33l dzięki Christoph . Kolor jasnozłoty, piana biała drobnoziarnista szybko opada. Aromat słodowy, lekko słodkie.Dość dobre. \n",
      "\n",
      "beer_name: Castel Beer (Gabon)\n",
      "beer_id: 105273\n",
      "brewery_name: Sobraga\n"
     ]
    }
   ],
   "source": [
    "!head -n 20 /Users/tommery/Desktop/MA3/ADA_TooHotToHoot/ada-2022-project-toohottohoot/data/RateBeer/ratings.txt"
   ]
  },
  {
   "cell_type": "code",
   "execution_count": 65,
   "metadata": {},
   "outputs": [
    {
     "name": "stdout",
     "output_type": "stream",
     "text": [
      "beer_name: 33 Export (Gabon)\n",
      "beer_id: 410549\n",
      "brewery_name: Sobraga\n",
      "brewery_id: 3198\n",
      "style: Pale Lager\n",
      "abv: 5.0\n",
      "date: 1461664800\n",
      "user_name: Manslow\n",
      "user_id: 175852\n",
      "appearance: 2\n",
      "aroma: 4\n",
      "palate: 2\n",
      "taste: 4\n",
      "overall: 8\n",
      "rating: 2.00\n",
      "text: Puszka 0,33l dzięki Christoph . Kolor jasnozłoty, piana biała drobnoziarnista szybko opada. Aromat słodowy, lekko słodkie.Dość dobre. \n",
      "\n",
      "beer_name: Castel Beer (Gabon)\n",
      "beer_id: 105273\n",
      "brewery_name: Sobraga\n"
     ]
    }
   ],
   "source": [
    "!head -n 20 /Users/tommery/Desktop/MA3/ADA_TooHotToHoot/ada-2022-project-toohottohoot/data/RateBeer/reviews.txt"
   ]
  },
  {
   "cell_type": "markdown",
   "metadata": {},
   "source": [
    "### Differences between ratings.txt and reviews.txt"
   ]
  },
  {
   "cell_type": "code",
   "execution_count": 3,
   "metadata": {},
   "outputs": [
    {
     "name": "stdout",
     "output_type": "stream",
     "text": [
      " 121075258\n",
      " 121075258\n"
     ]
    }
   ],
   "source": [
    "!wc -l < ../data/RateBeer/ratings.txt\n",
    "!wc -l < ../data/RateBeer/reviews.txt"
   ]
  },
  {
   "cell_type": "code",
   "execution_count": 2,
   "metadata": {},
   "outputs": [
    {
     "data": {
      "application/vnd.jupyter.widget-view+json": {
       "model_id": "9107d0a0deb34e239808868c09afce6d",
       "version_major": 2,
       "version_minor": 0
      },
      "text/plain": [
       "Checking if 'ratings.txt' and 'reviews.txt' in RateBeer folder are different:   0%|          | 0/121075258 [00…"
      ]
     },
     "metadata": {},
     "output_type": "display_data"
    },
    {
     "name": "stdout",
     "output_type": "stream",
     "text": [
      "'ratings.tx' and 'reviews.txt' files in RateBeer folder are the same.\n"
     ]
    }
   ],
   "source": [
    "with open('../data/RateBeer/ratings.txt') as f:\n",
    "    lines_ratings = f.readlines()\n",
    "\n",
    "with open('../data/RateBeer/reviews.txt') as f:\n",
    "    lines_reviews = f.readlines()\n",
    "\n",
    "for l1, l2 in tqdm(zip(lines_ratings, lines_reviews), total=len(lines_ratings), desc=\"Checking if 'ratings.txt' and 'reviews.txt' in RateBeer folder are different\"):\n",
    "    if l1 != l2:\n",
    "        raise ValueError('Files are different')\n",
    "\n",
    "print(\"'ratings.tx' and 'reviews.txt' files in RateBeer folder are the same.\")"
   ]
  },
  {
   "cell_type": "markdown",
   "metadata": {},
   "source": [
    "### Check constraints in relational model"
   ]
  },
  {
   "cell_type": "code",
   "execution_count": 24,
   "metadata": {},
   "outputs": [
    {
     "data": {
      "application/vnd.jupyter.widget-view+json": {
       "model_id": "41c2006c92a14965a8c1990c23fed32a",
       "version_major": 2,
       "version_minor": 0
      },
      "text/plain": [
       "Parsing ratings.txt file:   0%|          | 0/121075258 [00:00<?, ?it/s]"
      ]
     },
     "metadata": {},
     "output_type": "display_data"
    }
   ],
   "source": [
    "nb_lines_ratings = !wc -l < '../data/RateBeer/ratings.txt'\n",
    "nb_lines_ratings = int(nb_lines_ratings[0])\n",
    "\n",
    "ratings = parse_txt_file(DATA_FOLDER+'RateBeer/ratings.txt', features=['beer_id', 'user_id', 'date'], nb_lines=nb_lines_ratings)"
   ]
  },
  {
   "cell_type": "code",
   "execution_count": 25,
   "metadata": {},
   "outputs": [
    {
     "name": "stdout",
     "output_type": "stream",
     "text": [
      "396690 442081\n",
      "70121 70120\n",
      "396690 442081\n"
     ]
    }
   ],
   "source": [
    "# Participation and key constraints for 'Ratings' relationship:\n",
    "print(ratings['beer_id'].nunique(), beers.beer_id.nunique())    # Partial participation on beers entity\n",
    "print(ratings['user_id'].nunique(), users.user_id.nunique())    # Full participation on user entity\n",
    "print(ratings['beer_id'].nunique(), beers.beer_id.nunique())    # Partial participation on beers entity"
   ]
  },
  {
   "cell_type": "code",
   "execution_count": 26,
   "metadata": {},
   "outputs": [
    {
     "name": "stdout",
     "output_type": "stream",
     "text": [
      "0\n",
      "23199 24189\n"
     ]
    }
   ],
   "source": [
    "# Participation and key constraints for 'Produced_by' relationship:\n",
    "print(beers.brewery_id.isnull().sum())                  # Full participation + key constraint on beers entity\n",
    "print(beers.brewery_id.nunique(), breweries.shape[0])   # Partial participation on breweries entity"
   ]
  },
  {
   "cell_type": "markdown",
   "metadata": {},
   "source": [
    "# Matched beer data folder:"
   ]
  },
  {
   "cell_type": "code",
   "execution_count": 4,
   "metadata": {},
   "outputs": [
    {
     "name": "stderr",
     "output_type": "stream",
     "text": [
      "/var/folders/y_/y88txvzd6wn04_qgbshn3ct80000gn/T/ipykernel_24229/2726088533.py:1: DtypeWarning: Columns (0,1,2,3,4,5,8,10,11,12,13,15,16,17,18,19,20,23,25,26,27,29,30,31,32) have mixed types. Specify dtype option on import or set low_memory=False.\n",
      "  beers = pd.read_csv('../data/matched_beer_data/beers.csv')\n",
      "/var/folders/y_/y88txvzd6wn04_qgbshn3ct80000gn/T/ipykernel_24229/2726088533.py:5: DtypeWarning: Columns (0,1,2,3,5,7,8,9,10,11,13,17,18,19,20,22,24,25,26,27,29,31) have mixed types. Specify dtype option on import or set low_memory=False.\n",
      "  ratings = pd.read_csv('../data/matched_beer_data/ratings.csv')\n"
     ]
    }
   ],
   "source": [
    "beers = pd.read_csv('../data/matched_beer_data/beers.csv')\n",
    "breweries = pd.read_csv('../data/matched_beer_data/breweries.csv')\n",
    "users = pd.read_csv('../data/matched_beer_data/users.csv')\n",
    "users_approx = pd.read_csv('../data/matched_beer_data/users_approx.csv')\n",
    "ratings = pd.read_csv('../data/matched_beer_data/ratings.csv')"
   ]
  },
  {
   "cell_type": "code",
   "execution_count": 5,
   "metadata": {},
   "outputs": [
    {
     "data": {
      "text/html": [
       "<div>\n",
       "<style scoped>\n",
       "    .dataframe tbody tr th:only-of-type {\n",
       "        vertical-align: middle;\n",
       "    }\n",
       "\n",
       "    .dataframe tbody tr th {\n",
       "        vertical-align: top;\n",
       "    }\n",
       "\n",
       "    .dataframe thead th {\n",
       "        text-align: right;\n",
       "    }\n",
       "</style>\n",
       "<table border=\"1\" class=\"dataframe\">\n",
       "  <thead>\n",
       "    <tr style=\"text-align: right;\">\n",
       "      <th></th>\n",
       "      <th>ba</th>\n",
       "      <th>ba.1</th>\n",
       "      <th>ba.2</th>\n",
       "      <th>ba.3</th>\n",
       "      <th>ba.4</th>\n",
       "      <th>ba.5</th>\n",
       "      <th>ba.6</th>\n",
       "      <th>ba.7</th>\n",
       "      <th>ba.8</th>\n",
       "      <th>ba.9</th>\n",
       "      <th>...</th>\n",
       "      <th>rb.7</th>\n",
       "      <th>rb.8</th>\n",
       "      <th>rb.9</th>\n",
       "      <th>rb.10</th>\n",
       "      <th>rb.11</th>\n",
       "      <th>rb.12</th>\n",
       "      <th>rb.13</th>\n",
       "      <th>rb.14</th>\n",
       "      <th>scores</th>\n",
       "      <th>scores.1</th>\n",
       "    </tr>\n",
       "  </thead>\n",
       "  <tbody>\n",
       "    <tr>\n",
       "      <th>0</th>\n",
       "      <td>abv</td>\n",
       "      <td>avg</td>\n",
       "      <td>avg_computed</td>\n",
       "      <td>avg_matched_valid_ratings</td>\n",
       "      <td>ba_score</td>\n",
       "      <td>beer_id</td>\n",
       "      <td>beer_name</td>\n",
       "      <td>beer_wout_brewery_name</td>\n",
       "      <td>brewery_id</td>\n",
       "      <td>brewery_name</td>\n",
       "      <td>...</td>\n",
       "      <td>brewery_id</td>\n",
       "      <td>brewery_name</td>\n",
       "      <td>nbr_matched_valid_ratings</td>\n",
       "      <td>nbr_ratings</td>\n",
       "      <td>overall_score</td>\n",
       "      <td>style</td>\n",
       "      <td>style_score</td>\n",
       "      <td>zscore</td>\n",
       "      <td>diff</td>\n",
       "      <td>sim</td>\n",
       "    </tr>\n",
       "  </tbody>\n",
       "</table>\n",
       "<p>1 rows × 33 columns</p>\n",
       "</div>"
      ],
      "text/plain": [
       "    ba ba.1          ba.2                       ba.3      ba.4     ba.5  \\\n",
       "0  abv  avg  avg_computed  avg_matched_valid_ratings  ba_score  beer_id   \n",
       "\n",
       "        ba.6                    ba.7        ba.8          ba.9  ...  \\\n",
       "0  beer_name  beer_wout_brewery_name  brewery_id  brewery_name  ...   \n",
       "\n",
       "         rb.7          rb.8                       rb.9        rb.10  \\\n",
       "0  brewery_id  brewery_name  nbr_matched_valid_ratings  nbr_ratings   \n",
       "\n",
       "           rb.11  rb.12        rb.13   rb.14 scores scores.1  \n",
       "0  overall_score  style  style_score  zscore   diff      sim  \n",
       "\n",
       "[1 rows x 33 columns]"
      ]
     },
     "execution_count": 5,
     "metadata": {},
     "output_type": "execute_result"
    }
   ],
   "source": [
    "beers.head(1)"
   ]
  },
  {
   "cell_type": "code",
   "execution_count": 6,
   "metadata": {},
   "outputs": [
    {
     "data": {
      "text/html": [
       "<div>\n",
       "<style scoped>\n",
       "    .dataframe tbody tr th:only-of-type {\n",
       "        vertical-align: middle;\n",
       "    }\n",
       "\n",
       "    .dataframe tbody tr th {\n",
       "        vertical-align: top;\n",
       "    }\n",
       "\n",
       "    .dataframe thead th {\n",
       "        text-align: right;\n",
       "    }\n",
       "</style>\n",
       "<table border=\"1\" class=\"dataframe\">\n",
       "  <thead>\n",
       "    <tr style=\"text-align: right;\">\n",
       "      <th></th>\n",
       "      <th>ba</th>\n",
       "      <th>ba.1</th>\n",
       "      <th>ba.2</th>\n",
       "      <th>ba.3</th>\n",
       "      <th>rb</th>\n",
       "      <th>rb.1</th>\n",
       "      <th>rb.2</th>\n",
       "      <th>rb.3</th>\n",
       "      <th>scores</th>\n",
       "      <th>scores.1</th>\n",
       "    </tr>\n",
       "  </thead>\n",
       "  <tbody>\n",
       "    <tr>\n",
       "      <th>0</th>\n",
       "      <td>id</td>\n",
       "      <td>location</td>\n",
       "      <td>name</td>\n",
       "      <td>nbr_beers</td>\n",
       "      <td>id</td>\n",
       "      <td>location</td>\n",
       "      <td>name</td>\n",
       "      <td>nbr_beers</td>\n",
       "      <td>diff</td>\n",
       "      <td>sim</td>\n",
       "    </tr>\n",
       "  </tbody>\n",
       "</table>\n",
       "</div>"
      ],
      "text/plain": [
       "   ba      ba.1  ba.2       ba.3  rb      rb.1  rb.2       rb.3 scores  \\\n",
       "0  id  location  name  nbr_beers  id  location  name  nbr_beers   diff   \n",
       "\n",
       "  scores.1  \n",
       "0      sim  "
      ]
     },
     "execution_count": 6,
     "metadata": {},
     "output_type": "execute_result"
    }
   ],
   "source": [
    "breweries.head(1)"
   ]
  },
  {
   "cell_type": "code",
   "execution_count": 7,
   "metadata": {},
   "outputs": [
    {
     "data": {
      "text/html": [
       "<div>\n",
       "<style scoped>\n",
       "    .dataframe tbody tr th:only-of-type {\n",
       "        vertical-align: middle;\n",
       "    }\n",
       "\n",
       "    .dataframe tbody tr th {\n",
       "        vertical-align: top;\n",
       "    }\n",
       "\n",
       "    .dataframe thead th {\n",
       "        text-align: right;\n",
       "    }\n",
       "</style>\n",
       "<table border=\"1\" class=\"dataframe\">\n",
       "  <thead>\n",
       "    <tr style=\"text-align: right;\">\n",
       "      <th></th>\n",
       "      <th>ba</th>\n",
       "      <th>ba.1</th>\n",
       "      <th>ba.2</th>\n",
       "      <th>ba.3</th>\n",
       "      <th>ba.4</th>\n",
       "      <th>ba.5</th>\n",
       "      <th>ba.6</th>\n",
       "      <th>rb</th>\n",
       "      <th>rb.1</th>\n",
       "      <th>rb.2</th>\n",
       "      <th>rb.3</th>\n",
       "      <th>rb.4</th>\n",
       "      <th>rb.5</th>\n",
       "    </tr>\n",
       "  </thead>\n",
       "  <tbody>\n",
       "    <tr>\n",
       "      <th>0</th>\n",
       "      <td>joined</td>\n",
       "      <td>location</td>\n",
       "      <td>nbr_ratings</td>\n",
       "      <td>nbr_reviews</td>\n",
       "      <td>user_id</td>\n",
       "      <td>user_name</td>\n",
       "      <td>user_name_lower</td>\n",
       "      <td>joined</td>\n",
       "      <td>location</td>\n",
       "      <td>nbr_ratings</td>\n",
       "      <td>user_id</td>\n",
       "      <td>user_name</td>\n",
       "      <td>user_name_lower</td>\n",
       "    </tr>\n",
       "  </tbody>\n",
       "</table>\n",
       "</div>"
      ],
      "text/plain": [
       "       ba      ba.1         ba.2         ba.3     ba.4       ba.5  \\\n",
       "0  joined  location  nbr_ratings  nbr_reviews  user_id  user_name   \n",
       "\n",
       "              ba.6      rb      rb.1         rb.2     rb.3       rb.4  \\\n",
       "0  user_name_lower  joined  location  nbr_ratings  user_id  user_name   \n",
       "\n",
       "              rb.5  \n",
       "0  user_name_lower  "
      ]
     },
     "execution_count": 7,
     "metadata": {},
     "output_type": "execute_result"
    }
   ],
   "source": [
    "users.head(1)"
   ]
  },
  {
   "cell_type": "code",
   "execution_count": 8,
   "metadata": {},
   "outputs": [
    {
     "data": {
      "text/html": [
       "<div>\n",
       "<style scoped>\n",
       "    .dataframe tbody tr th:only-of-type {\n",
       "        vertical-align: middle;\n",
       "    }\n",
       "\n",
       "    .dataframe tbody tr th {\n",
       "        vertical-align: top;\n",
       "    }\n",
       "\n",
       "    .dataframe thead th {\n",
       "        text-align: right;\n",
       "    }\n",
       "</style>\n",
       "<table border=\"1\" class=\"dataframe\">\n",
       "  <thead>\n",
       "    <tr style=\"text-align: right;\">\n",
       "      <th></th>\n",
       "      <th>ba</th>\n",
       "      <th>ba.1</th>\n",
       "      <th>ba.2</th>\n",
       "      <th>ba.3</th>\n",
       "      <th>ba.4</th>\n",
       "      <th>ba.5</th>\n",
       "      <th>ba.6</th>\n",
       "      <th>rb</th>\n",
       "      <th>rb.1</th>\n",
       "      <th>rb.2</th>\n",
       "      <th>rb.3</th>\n",
       "      <th>rb.4</th>\n",
       "      <th>rb.5</th>\n",
       "      <th>scores</th>\n",
       "    </tr>\n",
       "  </thead>\n",
       "  <tbody>\n",
       "    <tr>\n",
       "      <th>0</th>\n",
       "      <td>joined</td>\n",
       "      <td>location</td>\n",
       "      <td>nbr_ratings</td>\n",
       "      <td>nbr_reviews</td>\n",
       "      <td>user_id</td>\n",
       "      <td>user_name</td>\n",
       "      <td>user_name_lower</td>\n",
       "      <td>joined</td>\n",
       "      <td>location</td>\n",
       "      <td>nbr_ratings</td>\n",
       "      <td>user_id</td>\n",
       "      <td>user_name</td>\n",
       "      <td>user_name_lower</td>\n",
       "      <td>sim</td>\n",
       "    </tr>\n",
       "  </tbody>\n",
       "</table>\n",
       "</div>"
      ],
      "text/plain": [
       "       ba      ba.1         ba.2         ba.3     ba.4       ba.5  \\\n",
       "0  joined  location  nbr_ratings  nbr_reviews  user_id  user_name   \n",
       "\n",
       "              ba.6      rb      rb.1         rb.2     rb.3       rb.4  \\\n",
       "0  user_name_lower  joined  location  nbr_ratings  user_id  user_name   \n",
       "\n",
       "              rb.5 scores  \n",
       "0  user_name_lower    sim  "
      ]
     },
     "execution_count": 8,
     "metadata": {},
     "output_type": "execute_result"
    }
   ],
   "source": [
    "users_approx.head(1)"
   ]
  },
  {
   "cell_type": "code",
   "execution_count": 9,
   "metadata": {},
   "outputs": [
    {
     "data": {
      "text/html": [
       "<div>\n",
       "<style scoped>\n",
       "    .dataframe tbody tr th:only-of-type {\n",
       "        vertical-align: middle;\n",
       "    }\n",
       "\n",
       "    .dataframe tbody tr th {\n",
       "        vertical-align: top;\n",
       "    }\n",
       "\n",
       "    .dataframe thead th {\n",
       "        text-align: right;\n",
       "    }\n",
       "</style>\n",
       "<table border=\"1\" class=\"dataframe\">\n",
       "  <thead>\n",
       "    <tr style=\"text-align: right;\">\n",
       "      <th></th>\n",
       "      <th>ba</th>\n",
       "      <th>ba.1</th>\n",
       "      <th>ba.2</th>\n",
       "      <th>ba.3</th>\n",
       "      <th>ba.4</th>\n",
       "      <th>ba.5</th>\n",
       "      <th>ba.6</th>\n",
       "      <th>ba.7</th>\n",
       "      <th>ba.8</th>\n",
       "      <th>ba.9</th>\n",
       "      <th>...</th>\n",
       "      <th>rb.6</th>\n",
       "      <th>rb.7</th>\n",
       "      <th>rb.8</th>\n",
       "      <th>rb.9</th>\n",
       "      <th>rb.10</th>\n",
       "      <th>rb.11</th>\n",
       "      <th>rb.12</th>\n",
       "      <th>rb.13</th>\n",
       "      <th>rb.14</th>\n",
       "      <th>rb.15</th>\n",
       "    </tr>\n",
       "  </thead>\n",
       "  <tbody>\n",
       "    <tr>\n",
       "      <th>0</th>\n",
       "      <td>abv</td>\n",
       "      <td>appearance</td>\n",
       "      <td>aroma</td>\n",
       "      <td>beer_id</td>\n",
       "      <td>beer_name</td>\n",
       "      <td>brewery_id</td>\n",
       "      <td>brewery_name</td>\n",
       "      <td>date</td>\n",
       "      <td>overall</td>\n",
       "      <td>palate</td>\n",
       "      <td>...</td>\n",
       "      <td>brewery_name</td>\n",
       "      <td>date</td>\n",
       "      <td>overall</td>\n",
       "      <td>palate</td>\n",
       "      <td>rating</td>\n",
       "      <td>style</td>\n",
       "      <td>taste</td>\n",
       "      <td>text</td>\n",
       "      <td>user_id</td>\n",
       "      <td>user_name</td>\n",
       "    </tr>\n",
       "  </tbody>\n",
       "</table>\n",
       "<p>1 rows × 33 columns</p>\n",
       "</div>"
      ],
      "text/plain": [
       "    ba        ba.1   ba.2     ba.3       ba.4        ba.5          ba.6  ba.7  \\\n",
       "0  abv  appearance  aroma  beer_id  beer_name  brewery_id  brewery_name  date   \n",
       "\n",
       "      ba.8    ba.9  ...          rb.6  rb.7     rb.8    rb.9   rb.10  rb.11  \\\n",
       "0  overall  palate  ...  brewery_name  date  overall  palate  rating  style   \n",
       "\n",
       "   rb.12 rb.13    rb.14      rb.15  \n",
       "0  taste  text  user_id  user_name  \n",
       "\n",
       "[1 rows x 33 columns]"
      ]
     },
     "execution_count": 9,
     "metadata": {},
     "output_type": "execute_result"
    }
   ],
   "source": [
    "ratings.head(1)"
   ]
  },
  {
   "cell_type": "code",
   "execution_count": 30,
   "metadata": {},
   "outputs": [
    {
     "name": "stdout",
     "output_type": "stream",
     "text": [
      "beer_name: Legbiter\n",
      "beer_id: 19827\n",
      "brewery_name: Strangford Lough Brewing Company Ltd\n",
      "brewery_id: 10093\n",
      "style: English Pale Ale\n",
      "abv: 4.8\n",
      "date: 1417431600\n",
      "user_name: Hellpop65\n",
      "user_id: hellpop65.48993\n",
      "appearance: nan\n",
      "aroma: nan\n",
      "palate: nan\n",
      "taste: nan\n",
      "overall: nan\n",
      "rating: 3.25\n",
      "text: nan\n",
      "review: False\n",
      "\n",
      "beer_name: Legbiter\n",
      "beer_id: 19827\n"
     ]
    }
   ],
   "source": [
    "!head -n 20 /Users/tommery/Desktop/MA3/ADA_TooHotToHoot/ada-2022-project-toohottohoot/data/matched_beer_data/ratings_ba.txt"
   ]
  },
  {
   "cell_type": "code",
   "execution_count": 31,
   "metadata": {},
   "outputs": [
    {
     "name": "stdout",
     "output_type": "stream",
     "text": [
      "beer_name: Ards Bally Black Stout\n",
      "beer_id: 155699\n",
      "brewery_name: Ards Brewing Co.\n",
      "brewery_id: 13538\n",
      "style: Stout\n",
      "abv: 4.6\n",
      "date: 1429178400\n",
      "user_name: ciaranc\n",
      "user_id: 151109\n",
      "appearance: 3\n",
      "aroma: 7\n",
      "palate: 2\n",
      "taste: 8\n",
      "overall: 17\n",
      "rating: 3.70\n",
      "text: Bottle, gift from Aaron. Black, big head, lots of fizz. Head doesnât stick around. Roast, bitter coffee notes, roasted barley, light body, loads of carbonation. Decent flavour and very drinkable\n",
      "\n",
      "beer_name: Ards Bally Black Stout\n",
      "beer_id: 155699\n",
      "brewery_name: Ards Brewing Co.\n"
     ]
    }
   ],
   "source": [
    "!head -n 20 /Users/tommery/Desktop/MA3/ADA_TooHotToHoot/ada-2022-project-toohottohoot/data/matched_beer_data/ratings_rb.txt"
   ]
  },
  {
   "cell_type": "code",
   "execution_count": 32,
   "metadata": {},
   "outputs": [
    {
     "name": "stdout",
     "output_type": "stream",
     "text": [
      "beer_name: Legbiter\n",
      "beer_id: 19827\n",
      "brewery_name: Strangford Lough Brewing Company Ltd\n",
      "brewery_id: 10093\n",
      "style: English Pale Ale\n",
      "abv: 4.8\n",
      "date: 1360753200\n",
      "user_name: brewdude1982\n",
      "user_id: brewdude1982.691169\n",
      "appearance: 4.25\n",
      "aroma: 4.5\n",
      "palate: 3.25\n",
      "taste: 3.75\n",
      "overall: 3.75\n",
      "rating: 3.91\n",
      "text: This was a 12 oz bottle poured into a snifter.It pours a dark brown with some clarity but not truly transparent. It has a frothy head with mild retention and low lacing. By far the best thing this beer has going for it is a truly amazing malty aroma that does not dissapoint. If only the taste delivered the same punch. It has a mild malt taste and is followed by a metallic finish. This could be due to being Ina bottle so I would try again on draft but it did let me down. The body is kind of weak with decent carbonation. I would buy again if the price was right but it didn't strike me as awesome.\n",
      "review: True\n",
      "\n",
      "beer_name: Legbiter\n",
      "beer_id: 19827\n"
     ]
    }
   ],
   "source": [
    "!head -n 20 /Users/tommery/Desktop/MA3/ADA_TooHotToHoot/ada-2022-project-toohottohoot/data/matched_beer_data/ratings_with_text_ba.txt"
   ]
  },
  {
   "cell_type": "code",
   "execution_count": 33,
   "metadata": {},
   "outputs": [
    {
     "name": "stdout",
     "output_type": "stream",
     "text": [
      "beer_name: Ards Bally Black Stout\n",
      "beer_id: 155699\n",
      "brewery_name: Ards Brewing Co.\n",
      "brewery_id: 13538\n",
      "style: Stout\n",
      "abv: 4.6\n",
      "date: 1429178400\n",
      "user_name: ciaranc\n",
      "user_id: 151109\n",
      "appearance: 3\n",
      "aroma: 7\n",
      "palate: 2\n",
      "taste: 8\n",
      "overall: 17\n",
      "rating: 3.70\n",
      "text: Bottle, gift from Aaron. Black, big head, lots of fizz. Head doesnât stick around. Roast, bitter coffee notes, roasted barley, light body, loads of carbonation. Decent flavour and very drinkable\n",
      "\n",
      "beer_name: Ards Bally Black Stout\n",
      "beer_id: 155699\n",
      "brewery_name: Ards Brewing Co.\n"
     ]
    }
   ],
   "source": [
    "!head -n 20 /Users/tommery/Desktop/MA3/ADA_TooHotToHoot/ada-2022-project-toohottohoot/data/matched_beer_data/ratings_with_text_rb.txt"
   ]
  }
 ],
 "metadata": {
  "kernelspec": {
   "display_name": "Python 3.9.13 ('ada')",
   "language": "python",
   "name": "python3"
  },
  "language_info": {
   "codemirror_mode": {
    "name": "ipython",
    "version": 3
   },
   "file_extension": ".py",
   "mimetype": "text/x-python",
   "name": "python",
   "nbconvert_exporter": "python",
   "pygments_lexer": "ipython3",
   "version": "3.9.13"
  },
  "orig_nbformat": 4,
  "vscode": {
   "interpreter": {
    "hash": "93963d08e70ee6c5fda436d8fb318be1b3ce6c69e5c7a2a5023d39c7fdf62847"
   }
  }
 },
 "nbformat": 4,
 "nbformat_minor": 2
}
