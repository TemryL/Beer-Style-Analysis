{
 "cells": [
  {
   "cell_type": "code",
   "execution_count": 4,
   "metadata": {},
   "outputs": [],
   "source": [
    "import pandas as pd\n",
    "import numpy as np\n",
    "import seaborn as sns\n",
    "import math\n",
    "import umap\n",
    "import matplotlib.pylab as plt\n",
    "import plotly.express as px\n",
    "import colorcet as cc\n",
    "from sklearn.manifold import TSNE\n",
    "from sklearn.decomposition import PCA\n",
    "from sklearn.cluster import KMeans, DBSCAN\n",
    "from sklearn.metrics import silhouette_score\n",
    "from scipy.stats import norm\n",
    "from statsmodels.stats import diagnostic\n",
    "from sklearn.datasets import load_digits\n",
    "from sklearn.model_selection import train_test_split\n",
    "from sklearn.preprocessing import StandardScaler\n",
    "from scipy import stats\n",
    "from IPython.display import display\n",
    "\n",
    "\n",
    "%matplotlib inline\n",
    "\n",
    "sns.set(style='white', context='notebook', rc={'figure.figsize':(8,6)})\n",
    "palette = sns.color_palette(cc.glasbey, n_colors=25)\n",
    "\n",
    "DATA_FOLDER = 'Processed_Dataset/'\n",
    "\n",
    "BEERS_DATASET = DATA_FOLDER+\"beers.pkl\"\n",
    "RATINGS_DATASET = DATA_FOLDER+\"ratings.pkl\"\n"
   ]
  },
  {
   "cell_type": "markdown",
   "metadata": {},
   "source": [
    "## Merging styles"
   ]
  },
  {
   "attachments": {},
   "cell_type": "markdown",
   "metadata": {},
   "source": [
    "There is more than one hundred different styles of beers represented in the dataset and we need to find a way to reduce this number cleverly. Indeed keeping those one hundred styles and directly selecting the most liked one among them might result in a poor recommendation as one might end up with near identical beer styles on the shelves. Diversity is key. We need to ensure that costumers will be presented with a sufficiently diversified offer on the shelves hence maximizing the chances that there will find a beer that matches their taste and go home with. \n",
    "\n",
    "Discarding styles is not an option but grouping those that have a high similarity can be. We would have all the different styles represented but within supra-styles (a dozen for example) and the ones that are most liked by a category of drinkers will end up on the shelf dedicated to it. Let us try to merge those styles."
   ]
  },
  {
   "attachments": {},
   "cell_type": "markdown",
   "metadata": {},
   "source": [
    "We start by loading the data from the BeerAdvocate dataset."
   ]
  },
  {
   "cell_type": "code",
   "execution_count": 5,
   "metadata": {},
   "outputs": [
    {
     "data": {
      "text/html": [
       "<div>\n",
       "<style scoped>\n",
       "    .dataframe tbody tr th:only-of-type {\n",
       "        vertical-align: middle;\n",
       "    }\n",
       "\n",
       "    .dataframe tbody tr th {\n",
       "        vertical-align: top;\n",
       "    }\n",
       "\n",
       "    .dataframe thead th {\n",
       "        text-align: right;\n",
       "    }\n",
       "</style>\n",
       "<table border=\"1\" class=\"dataframe\">\n",
       "  <thead>\n",
       "    <tr style=\"text-align: right;\">\n",
       "      <th></th>\n",
       "      <th>beer_id</th>\n",
       "      <th>beer_name</th>\n",
       "      <th>brewery_id</th>\n",
       "      <th>style</th>\n",
       "      <th>avg</th>\n",
       "      <th>abv</th>\n",
       "      <th>avg_computed</th>\n",
       "    </tr>\n",
       "  </thead>\n",
       "  <tbody>\n",
       "    <tr>\n",
       "      <th>0</th>\n",
       "      <td>166064</td>\n",
       "      <td>Nashe Moskovskoe</td>\n",
       "      <td>39912</td>\n",
       "      <td>Euro Pale Lager</td>\n",
       "      <td>NaN</td>\n",
       "      <td>4.7</td>\n",
       "      <td>NaN</td>\n",
       "    </tr>\n",
       "    <tr>\n",
       "      <th>1</th>\n",
       "      <td>166065</td>\n",
       "      <td>Nashe Pivovskoe</td>\n",
       "      <td>39912</td>\n",
       "      <td>Euro Pale Lager</td>\n",
       "      <td>NaN</td>\n",
       "      <td>3.8</td>\n",
       "      <td>NaN</td>\n",
       "    </tr>\n",
       "    <tr>\n",
       "      <th>2</th>\n",
       "      <td>166066</td>\n",
       "      <td>Nashe Shakhterskoe</td>\n",
       "      <td>39912</td>\n",
       "      <td>Euro Pale Lager</td>\n",
       "      <td>NaN</td>\n",
       "      <td>4.8</td>\n",
       "      <td>NaN</td>\n",
       "    </tr>\n",
       "    <tr>\n",
       "      <th>3</th>\n",
       "      <td>166067</td>\n",
       "      <td>Nashe Zhigulevskoe</td>\n",
       "      <td>39912</td>\n",
       "      <td>Euro Pale Lager</td>\n",
       "      <td>NaN</td>\n",
       "      <td>4.0</td>\n",
       "      <td>NaN</td>\n",
       "    </tr>\n",
       "    <tr>\n",
       "      <th>4</th>\n",
       "      <td>166063</td>\n",
       "      <td>Zhivoe</td>\n",
       "      <td>39912</td>\n",
       "      <td>Euro Pale Lager</td>\n",
       "      <td>NaN</td>\n",
       "      <td>4.5</td>\n",
       "      <td>NaN</td>\n",
       "    </tr>\n",
       "    <tr>\n",
       "      <th>...</th>\n",
       "      <td>...</td>\n",
       "      <td>...</td>\n",
       "      <td>...</td>\n",
       "      <td>...</td>\n",
       "      <td>...</td>\n",
       "      <td>...</td>\n",
       "      <td>...</td>\n",
       "    </tr>\n",
       "    <tr>\n",
       "      <th>280818</th>\n",
       "      <td>19139</td>\n",
       "      <td>Kölsch Ale</td>\n",
       "      <td>885</td>\n",
       "      <td>Kölsch</td>\n",
       "      <td>2.71</td>\n",
       "      <td>5.0</td>\n",
       "      <td>2.713333</td>\n",
       "    </tr>\n",
       "    <tr>\n",
       "      <th>280819</th>\n",
       "      <td>19140</td>\n",
       "      <td>Nut Brown Ale</td>\n",
       "      <td>885</td>\n",
       "      <td>English Brown Ale</td>\n",
       "      <td>3.10</td>\n",
       "      <td>5.3</td>\n",
       "      <td>3.250000</td>\n",
       "    </tr>\n",
       "    <tr>\n",
       "      <th>280820</th>\n",
       "      <td>19146</td>\n",
       "      <td>Octoberfest</td>\n",
       "      <td>885</td>\n",
       "      <td>Märzen / Oktoberfest</td>\n",
       "      <td>NaN</td>\n",
       "      <td>NaN</td>\n",
       "      <td>NaN</td>\n",
       "    </tr>\n",
       "    <tr>\n",
       "      <th>280821</th>\n",
       "      <td>2805</td>\n",
       "      <td>Scotch Ale</td>\n",
       "      <td>885</td>\n",
       "      <td>Scotch Ale / Wee Heavy</td>\n",
       "      <td>NaN</td>\n",
       "      <td>7.0</td>\n",
       "      <td>NaN</td>\n",
       "    </tr>\n",
       "    <tr>\n",
       "      <th>280822</th>\n",
       "      <td>19148</td>\n",
       "      <td>Smoked Porter</td>\n",
       "      <td>885</td>\n",
       "      <td>American Porter</td>\n",
       "      <td>NaN</td>\n",
       "      <td>NaN</td>\n",
       "      <td>NaN</td>\n",
       "    </tr>\n",
       "  </tbody>\n",
       "</table>\n",
       "<p>280823 rows × 7 columns</p>\n",
       "</div>"
      ],
      "text/plain": [
       "        beer_id           beer_name  brewery_id                   style   avg  \\\n",
       "0        166064    Nashe Moskovskoe       39912         Euro Pale Lager   NaN   \n",
       "1        166065     Nashe Pivovskoe       39912         Euro Pale Lager   NaN   \n",
       "2        166066  Nashe Shakhterskoe       39912         Euro Pale Lager   NaN   \n",
       "3        166067  Nashe Zhigulevskoe       39912         Euro Pale Lager   NaN   \n",
       "4        166063              Zhivoe       39912         Euro Pale Lager   NaN   \n",
       "...         ...                 ...         ...                     ...   ...   \n",
       "280818    19139          Kölsch Ale         885                  Kölsch  2.71   \n",
       "280819    19140       Nut Brown Ale         885       English Brown Ale  3.10   \n",
       "280820    19146         Octoberfest         885    Märzen / Oktoberfest   NaN   \n",
       "280821     2805          Scotch Ale         885  Scotch Ale / Wee Heavy   NaN   \n",
       "280822    19148       Smoked Porter         885         American Porter   NaN   \n",
       "\n",
       "        abv  avg_computed  \n",
       "0       4.7           NaN  \n",
       "1       3.8           NaN  \n",
       "2       4.8           NaN  \n",
       "3       4.0           NaN  \n",
       "4       4.5           NaN  \n",
       "...     ...           ...  \n",
       "280818  5.0      2.713333  \n",
       "280819  5.3      3.250000  \n",
       "280820  NaN           NaN  \n",
       "280821  7.0           NaN  \n",
       "280822  NaN           NaN  \n",
       "\n",
       "[280823 rows x 7 columns]"
      ]
     },
     "execution_count": 5,
     "metadata": {},
     "output_type": "execute_result"
    }
   ],
   "source": [
    "beers = pd.read_pickle(BEERS_DATASET)\n",
    "beers"
   ]
  },
  {
   "cell_type": "code",
   "execution_count": 6,
   "metadata": {},
   "outputs": [
    {
     "data": {
      "text/html": [
       "<div>\n",
       "<style scoped>\n",
       "    .dataframe tbody tr th:only-of-type {\n",
       "        vertical-align: middle;\n",
       "    }\n",
       "\n",
       "    .dataframe tbody tr th {\n",
       "        vertical-align: top;\n",
       "    }\n",
       "\n",
       "    .dataframe thead th {\n",
       "        text-align: right;\n",
       "    }\n",
       "</style>\n",
       "<table border=\"1\" class=\"dataframe\">\n",
       "  <thead>\n",
       "    <tr style=\"text-align: right;\">\n",
       "      <th></th>\n",
       "      <th>beer_id</th>\n",
       "      <th>date</th>\n",
       "      <th>user_id</th>\n",
       "      <th>appearance</th>\n",
       "      <th>aroma</th>\n",
       "      <th>palate</th>\n",
       "      <th>taste</th>\n",
       "      <th>overall</th>\n",
       "      <th>rating</th>\n",
       "      <th>review</th>\n",
       "    </tr>\n",
       "  </thead>\n",
       "  <tbody>\n",
       "    <tr>\n",
       "      <th>0</th>\n",
       "      <td>142544</td>\n",
       "      <td>2015-08-20 10:00:00</td>\n",
       "      <td>nmann08.184925</td>\n",
       "      <td>3.25</td>\n",
       "      <td>2.75</td>\n",
       "      <td>3.25</td>\n",
       "      <td>2.75</td>\n",
       "      <td>3.0</td>\n",
       "      <td>2.88</td>\n",
       "      <td>True</td>\n",
       "    </tr>\n",
       "    <tr>\n",
       "      <th>1</th>\n",
       "      <td>19590</td>\n",
       "      <td>2009-02-20 11:00:00</td>\n",
       "      <td>stjamesgate.163714</td>\n",
       "      <td>3.00</td>\n",
       "      <td>3.50</td>\n",
       "      <td>3.50</td>\n",
       "      <td>4.00</td>\n",
       "      <td>3.5</td>\n",
       "      <td>3.67</td>\n",
       "      <td>True</td>\n",
       "    </tr>\n",
       "    <tr>\n",
       "      <th>2</th>\n",
       "      <td>19590</td>\n",
       "      <td>2006-03-13 11:00:00</td>\n",
       "      <td>mdagnew.19527</td>\n",
       "      <td>4.00</td>\n",
       "      <td>3.50</td>\n",
       "      <td>3.50</td>\n",
       "      <td>4.00</td>\n",
       "      <td>3.5</td>\n",
       "      <td>3.73</td>\n",
       "      <td>True</td>\n",
       "    </tr>\n",
       "    <tr>\n",
       "      <th>3</th>\n",
       "      <td>19590</td>\n",
       "      <td>2004-12-01 11:00:00</td>\n",
       "      <td>helloloser12345.10867</td>\n",
       "      <td>4.00</td>\n",
       "      <td>3.50</td>\n",
       "      <td>4.00</td>\n",
       "      <td>4.00</td>\n",
       "      <td>4.5</td>\n",
       "      <td>3.98</td>\n",
       "      <td>True</td>\n",
       "    </tr>\n",
       "    <tr>\n",
       "      <th>4</th>\n",
       "      <td>19590</td>\n",
       "      <td>2004-08-30 10:00:00</td>\n",
       "      <td>cypressbob.3708</td>\n",
       "      <td>4.00</td>\n",
       "      <td>4.00</td>\n",
       "      <td>4.00</td>\n",
       "      <td>4.00</td>\n",
       "      <td>4.0</td>\n",
       "      <td>4.00</td>\n",
       "      <td>True</td>\n",
       "    </tr>\n",
       "    <tr>\n",
       "      <th>...</th>\n",
       "      <td>...</td>\n",
       "      <td>...</td>\n",
       "      <td>...</td>\n",
       "      <td>...</td>\n",
       "      <td>...</td>\n",
       "      <td>...</td>\n",
       "      <td>...</td>\n",
       "      <td>...</td>\n",
       "      <td>...</td>\n",
       "      <td>...</td>\n",
       "    </tr>\n",
       "    <tr>\n",
       "      <th>8393027</th>\n",
       "      <td>19139</td>\n",
       "      <td>2006-02-27 11:00:00</td>\n",
       "      <td>jaluria.31362</td>\n",
       "      <td>3.50</td>\n",
       "      <td>3.50</td>\n",
       "      <td>3.50</td>\n",
       "      <td>4.00</td>\n",
       "      <td>4.0</td>\n",
       "      <td>3.80</td>\n",
       "      <td>True</td>\n",
       "    </tr>\n",
       "    <tr>\n",
       "      <th>8393028</th>\n",
       "      <td>19139</td>\n",
       "      <td>2006-02-19 11:00:00</td>\n",
       "      <td>dithyramb.4413</td>\n",
       "      <td>3.00</td>\n",
       "      <td>3.00</td>\n",
       "      <td>3.00</td>\n",
       "      <td>2.50</td>\n",
       "      <td>3.0</td>\n",
       "      <td>2.80</td>\n",
       "      <td>True</td>\n",
       "    </tr>\n",
       "    <tr>\n",
       "      <th>8393029</th>\n",
       "      <td>19139</td>\n",
       "      <td>2004-08-10 10:00:00</td>\n",
       "      <td>manekineko.2654</td>\n",
       "      <td>3.00</td>\n",
       "      <td>1.50</td>\n",
       "      <td>1.00</td>\n",
       "      <td>1.50</td>\n",
       "      <td>1.5</td>\n",
       "      <td>1.54</td>\n",
       "      <td>True</td>\n",
       "    </tr>\n",
       "    <tr>\n",
       "      <th>8393030</th>\n",
       "      <td>19140</td>\n",
       "      <td>2012-07-08 10:00:00</td>\n",
       "      <td>redsox1539.683632</td>\n",
       "      <td>NaN</td>\n",
       "      <td>NaN</td>\n",
       "      <td>NaN</td>\n",
       "      <td>NaN</td>\n",
       "      <td>NaN</td>\n",
       "      <td>3.50</td>\n",
       "      <td>False</td>\n",
       "    </tr>\n",
       "    <tr>\n",
       "      <th>8393031</th>\n",
       "      <td>19140</td>\n",
       "      <td>2006-02-19 11:00:00</td>\n",
       "      <td>dithyramb.4413</td>\n",
       "      <td>3.00</td>\n",
       "      <td>3.00</td>\n",
       "      <td>3.00</td>\n",
       "      <td>3.00</td>\n",
       "      <td>3.0</td>\n",
       "      <td>3.00</td>\n",
       "      <td>True</td>\n",
       "    </tr>\n",
       "  </tbody>\n",
       "</table>\n",
       "<p>8393032 rows × 10 columns</p>\n",
       "</div>"
      ],
      "text/plain": [
       "         beer_id                date                user_id  appearance  \\\n",
       "0         142544 2015-08-20 10:00:00         nmann08.184925        3.25   \n",
       "1          19590 2009-02-20 11:00:00     stjamesgate.163714        3.00   \n",
       "2          19590 2006-03-13 11:00:00          mdagnew.19527        4.00   \n",
       "3          19590 2004-12-01 11:00:00  helloloser12345.10867        4.00   \n",
       "4          19590 2004-08-30 10:00:00        cypressbob.3708        4.00   \n",
       "...          ...                 ...                    ...         ...   \n",
       "8393027    19139 2006-02-27 11:00:00          jaluria.31362        3.50   \n",
       "8393028    19139 2006-02-19 11:00:00         dithyramb.4413        3.00   \n",
       "8393029    19139 2004-08-10 10:00:00        manekineko.2654        3.00   \n",
       "8393030    19140 2012-07-08 10:00:00      redsox1539.683632         NaN   \n",
       "8393031    19140 2006-02-19 11:00:00         dithyramb.4413        3.00   \n",
       "\n",
       "         aroma  palate  taste  overall  rating  review  \n",
       "0         2.75    3.25   2.75      3.0    2.88    True  \n",
       "1         3.50    3.50   4.00      3.5    3.67    True  \n",
       "2         3.50    3.50   4.00      3.5    3.73    True  \n",
       "3         3.50    4.00   4.00      4.5    3.98    True  \n",
       "4         4.00    4.00   4.00      4.0    4.00    True  \n",
       "...        ...     ...    ...      ...     ...     ...  \n",
       "8393027   3.50    3.50   4.00      4.0    3.80    True  \n",
       "8393028   3.00    3.00   2.50      3.0    2.80    True  \n",
       "8393029   1.50    1.00   1.50      1.5    1.54    True  \n",
       "8393030    NaN     NaN    NaN      NaN    3.50   False  \n",
       "8393031   3.00    3.00   3.00      3.0    3.00    True  \n",
       "\n",
       "[8393032 rows x 10 columns]"
      ]
     },
     "execution_count": 6,
     "metadata": {},
     "output_type": "execute_result"
    }
   ],
   "source": [
    "ratings = pd.read_pickle(RATINGS_DATASET)\n",
    "ratings"
   ]
  },
  {
   "attachments": {},
   "cell_type": "markdown",
   "metadata": {},
   "source": [
    "The style of the beer is not mentioned in the *ratings* dataframe but in the *beers* dataframe and is needed for the analysis. We hence merge those two dataframes. "
   ]
  },
  {
   "attachments": {},
   "cell_type": "markdown",
   "metadata": {},
   "source": [
    "Note: the styles will be analysed based on their similarity of 'abv' and of the ratings they got:  'appearance', 'aroma', 'palate', 'taste', 'overall' and 'rating'. Those are the features we hence keep in the merge (except the 'abv' which we will be added later)."
   ]
  },
  {
   "cell_type": "code",
   "execution_count": 7,
   "metadata": {},
   "outputs": [
    {
     "data": {
      "text/html": [
       "<div>\n",
       "<style scoped>\n",
       "    .dataframe tbody tr th:only-of-type {\n",
       "        vertical-align: middle;\n",
       "    }\n",
       "\n",
       "    .dataframe tbody tr th {\n",
       "        vertical-align: top;\n",
       "    }\n",
       "\n",
       "    .dataframe thead th {\n",
       "        text-align: right;\n",
       "    }\n",
       "</style>\n",
       "<table border=\"1\" class=\"dataframe\">\n",
       "  <thead>\n",
       "    <tr style=\"text-align: right;\">\n",
       "      <th></th>\n",
       "      <th>appearance</th>\n",
       "      <th>aroma</th>\n",
       "      <th>palate</th>\n",
       "      <th>taste</th>\n",
       "      <th>overall</th>\n",
       "      <th>rating</th>\n",
       "      <th>style</th>\n",
       "    </tr>\n",
       "  </thead>\n",
       "  <tbody>\n",
       "    <tr>\n",
       "      <th>0</th>\n",
       "      <td>3.25</td>\n",
       "      <td>2.75</td>\n",
       "      <td>3.25</td>\n",
       "      <td>2.75</td>\n",
       "      <td>3.0</td>\n",
       "      <td>2.88</td>\n",
       "      <td>Euro Pale Lager</td>\n",
       "    </tr>\n",
       "    <tr>\n",
       "      <th>1</th>\n",
       "      <td>3.00</td>\n",
       "      <td>3.50</td>\n",
       "      <td>3.50</td>\n",
       "      <td>4.00</td>\n",
       "      <td>3.5</td>\n",
       "      <td>3.67</td>\n",
       "      <td>English Pale Ale</td>\n",
       "    </tr>\n",
       "    <tr>\n",
       "      <th>2</th>\n",
       "      <td>4.00</td>\n",
       "      <td>3.50</td>\n",
       "      <td>3.50</td>\n",
       "      <td>4.00</td>\n",
       "      <td>3.5</td>\n",
       "      <td>3.73</td>\n",
       "      <td>English Pale Ale</td>\n",
       "    </tr>\n",
       "    <tr>\n",
       "      <th>3</th>\n",
       "      <td>4.00</td>\n",
       "      <td>3.50</td>\n",
       "      <td>4.00</td>\n",
       "      <td>4.00</td>\n",
       "      <td>4.5</td>\n",
       "      <td>3.98</td>\n",
       "      <td>English Pale Ale</td>\n",
       "    </tr>\n",
       "    <tr>\n",
       "      <th>4</th>\n",
       "      <td>4.00</td>\n",
       "      <td>4.00</td>\n",
       "      <td>4.00</td>\n",
       "      <td>4.00</td>\n",
       "      <td>4.0</td>\n",
       "      <td>4.00</td>\n",
       "      <td>English Pale Ale</td>\n",
       "    </tr>\n",
       "    <tr>\n",
       "      <th>...</th>\n",
       "      <td>...</td>\n",
       "      <td>...</td>\n",
       "      <td>...</td>\n",
       "      <td>...</td>\n",
       "      <td>...</td>\n",
       "      <td>...</td>\n",
       "      <td>...</td>\n",
       "    </tr>\n",
       "    <tr>\n",
       "      <th>8393027</th>\n",
       "      <td>3.50</td>\n",
       "      <td>3.50</td>\n",
       "      <td>3.50</td>\n",
       "      <td>4.00</td>\n",
       "      <td>4.0</td>\n",
       "      <td>3.80</td>\n",
       "      <td>Kölsch</td>\n",
       "    </tr>\n",
       "    <tr>\n",
       "      <th>8393028</th>\n",
       "      <td>3.00</td>\n",
       "      <td>3.00</td>\n",
       "      <td>3.00</td>\n",
       "      <td>2.50</td>\n",
       "      <td>3.0</td>\n",
       "      <td>2.80</td>\n",
       "      <td>Kölsch</td>\n",
       "    </tr>\n",
       "    <tr>\n",
       "      <th>8393029</th>\n",
       "      <td>3.00</td>\n",
       "      <td>1.50</td>\n",
       "      <td>1.00</td>\n",
       "      <td>1.50</td>\n",
       "      <td>1.5</td>\n",
       "      <td>1.54</td>\n",
       "      <td>Kölsch</td>\n",
       "    </tr>\n",
       "    <tr>\n",
       "      <th>8393030</th>\n",
       "      <td>NaN</td>\n",
       "      <td>NaN</td>\n",
       "      <td>NaN</td>\n",
       "      <td>NaN</td>\n",
       "      <td>NaN</td>\n",
       "      <td>3.50</td>\n",
       "      <td>English Brown Ale</td>\n",
       "    </tr>\n",
       "    <tr>\n",
       "      <th>8393031</th>\n",
       "      <td>3.00</td>\n",
       "      <td>3.00</td>\n",
       "      <td>3.00</td>\n",
       "      <td>3.00</td>\n",
       "      <td>3.0</td>\n",
       "      <td>3.00</td>\n",
       "      <td>English Brown Ale</td>\n",
       "    </tr>\n",
       "  </tbody>\n",
       "</table>\n",
       "<p>8393032 rows × 7 columns</p>\n",
       "</div>"
      ],
      "text/plain": [
       "         appearance  aroma  palate  taste  overall  rating              style\n",
       "0              3.25   2.75    3.25   2.75      3.0    2.88    Euro Pale Lager\n",
       "1              3.00   3.50    3.50   4.00      3.5    3.67   English Pale Ale\n",
       "2              4.00   3.50    3.50   4.00      3.5    3.73   English Pale Ale\n",
       "3              4.00   3.50    4.00   4.00      4.5    3.98   English Pale Ale\n",
       "4              4.00   4.00    4.00   4.00      4.0    4.00   English Pale Ale\n",
       "...             ...    ...     ...    ...      ...     ...                ...\n",
       "8393027        3.50   3.50    3.50   4.00      4.0    3.80             Kölsch\n",
       "8393028        3.00   3.00    3.00   2.50      3.0    2.80             Kölsch\n",
       "8393029        3.00   1.50    1.00   1.50      1.5    1.54             Kölsch\n",
       "8393030         NaN    NaN     NaN    NaN      NaN    3.50  English Brown Ale\n",
       "8393031        3.00   3.00    3.00   3.00      3.0    3.00  English Brown Ale\n",
       "\n",
       "[8393032 rows x 7 columns]"
      ]
     },
     "execution_count": 7,
     "metadata": {},
     "output_type": "execute_result"
    }
   ],
   "source": [
    "beers_merged = pd.merge(ratings, beers, left_on='beer_id', right_on='beer_id')[['appearance', 'aroma', 'palate', 'taste', 'overall', 'rating', 'style']]\n",
    "beers_merged"
   ]
  },
  {
   "attachments": {},
   "cell_type": "markdown",
   "metadata": {},
   "source": [
    "There are more than one hundred different beer styles in the data."
   ]
  },
  {
   "cell_type": "code",
   "execution_count": null,
   "metadata": {},
   "outputs": [
    {
     "ename": "",
     "evalue": "",
     "output_type": "error",
     "traceback": [
      "\u001b[1;31mRunning cells with '/usr/bin/python3' requires ipykernel package.\n",
      "\u001b[1;31mRun the following command to install 'ipykernel' into the Python environment. \n",
      "\u001b[1;31mCommand: '/usr/bin/python3 -m pip install ipykernel -U --user --force-reinstall'"
     ]
    }
   ],
   "source": [
    "beers_merged['style'].nunique()"
   ]
  },
  {
   "attachments": {},
   "cell_type": "markdown",
   "metadata": {},
   "source": [
    "As mentioned before, our analysis should be carried out with a lower number of different beer styles. On the technical side, this will yield stronger statistics. This also serves the overall purpose of our analysis by promoting diversity/variety to customers though a selection of sufficiently different beer styles. Recall that our goal is to design the shelves so as to provide a personal recommendation/selection of the clients likely to be liked by the clients (personal as the client is suggested with beer styles popular among drinkers of his category)."
   ]
  },
  {
   "attachments": {},
   "cell_type": "markdown",
   "metadata": {},
   "source": [
    "It is easily seen that the proportion of data for the different beer styles differs quite significantly. Some beer styles have only a few beers to represent them and the fear is that those samples do not adequately represent the actual distribution of data in the population. This is an argument for our merge."
   ]
  },
  {
   "cell_type": "code",
   "execution_count": 9,
   "metadata": {},
   "outputs": [
    {
     "data": {
      "text/plain": [
       "style\n",
       "Happoshu                               627\n",
       "Kvass                                  814\n",
       "Faro                                  1796\n",
       "Roggenbier                            1911\n",
       "English Pale Mild Ale                 2443\n",
       "                                     ...  \n",
       "Saison / Farmhouse Ale              301953\n",
       "American Pale Ale (APA)             388139\n",
       "American Double / Imperial Stout    500265\n",
       "American Double / Imperial IPA      739982\n",
       "American IPA                        997814\n",
       "Name: rating, Length: 104, dtype: int64"
      ]
     },
     "execution_count": 9,
     "metadata": {},
     "output_type": "execute_result"
    }
   ],
   "source": [
    "beers_merged.groupby('style')['rating'].count().sort_values()"
   ]
  },
  {
   "attachments": {},
   "cell_type": "markdown",
   "metadata": {},
   "source": [
    "Let us jump right in the analysis. "
   ]
  },
  {
   "attachments": {},
   "cell_type": "markdown",
   "metadata": {},
   "source": [
    "For each beer style, we will be considering as features:\n",
    "- the average alcohol by volume (alcohol content) of all the DIFFERENT beers falling in that style ('abv')\n",
    "- the average rating in terms of appearance all the beers falling in that style ('appearance')\t\t\t\t\t\n",
    "- the average rating in terms of aroma ('aroma')\n",
    "- the average rating in terms of palate ('palate')\n",
    "- the average rating in terms of taste ('taste')\n",
    "- the average rating in terms of overall impression ('overall')\n",
    "- the average rating (CEST QUOI CA DEJA) ('rating')"
   ]
  },
  {
   "attachments": {},
   "cell_type": "markdown",
   "metadata": {},
   "source": [
    "Since the 'abv' has to be obtained considering each different beer once, we use the *beers* dataset."
   ]
  },
  {
   "attachments": {},
   "cell_type": "markdown",
   "metadata": {},
   "source": [
    "We start by grouping by styles and average the 'abv' over each different style."
   ]
  },
  {
   "cell_type": "code",
   "execution_count": 10,
   "metadata": {},
   "outputs": [],
   "source": [
    "style_abv = beers.groupby('style').mean()['abv']"
   ]
  },
  {
   "attachments": {},
   "cell_type": "markdown",
   "metadata": {},
   "source": [
    "Certains styles seems to vary quite a lot in terms of their abv."
   ]
  },
  {
   "cell_type": "code",
   "execution_count": 11,
   "metadata": {},
   "outputs": [
    {
     "data": {
      "text/plain": [
       "count    104.000000\n",
       "mean       6.422254\n",
       "std        1.876347\n",
       "min        1.089788\n",
       "25%        5.272295\n",
       "50%        6.048263\n",
       "75%        7.118561\n",
       "max       13.945443\n",
       "Name: abv, dtype: float64"
      ]
     },
     "execution_count": 11,
     "metadata": {},
     "output_type": "execute_result"
    }
   ],
   "source": [
    "style_abv.describe()"
   ]
  },
  {
   "attachments": {},
   "cell_type": "markdown",
   "metadata": {},
   "source": [
    "The distribution of the abv for the different styles is plotted below."
   ]
  },
  {
   "cell_type": "code",
   "execution_count": 12,
   "metadata": {},
   "outputs": [
    {
     "data": {
      "text/plain": [
       "Text(0, 0.5, 'Number of beer styles')"
      ]
     },
     "execution_count": 12,
     "metadata": {},
     "output_type": "execute_result"
    },
    {
     "data": {
      "image/png": "[encoded data removed]",
      "text/plain": [
       "<Figure size 800x600 with 1 Axes>"
      ]
     },
     "metadata": {},
     "output_type": "display_data"
    }
   ],
   "source": [
    "plt.hist(style_abv, bins=50)\n",
    "plt.xlabel('abv')\n",
    "plt.ylabel('Number of beer styles')"
   ]
  },
  {
   "attachments": {},
   "cell_type": "markdown",
   "metadata": {},
   "source": [
    "It appears that the abv could potentially be exploited to discrimate styles between one another. "
   ]
  },
  {
   "attachments": {},
   "cell_type": "markdown",
   "metadata": {},
   "source": [
    "Back with our *beer_merged* dataframe, We group by styles and average the different ratings over each different style as was done with 'abv'."
   ]
  },
  {
   "cell_type": "code",
   "execution_count": 13,
   "metadata": {},
   "outputs": [
    {
     "data": {
      "text/html": [
       "<div>\n",
       "<style scoped>\n",
       "    .dataframe tbody tr th:only-of-type {\n",
       "        vertical-align: middle;\n",
       "    }\n",
       "\n",
       "    .dataframe tbody tr th {\n",
       "        vertical-align: top;\n",
       "    }\n",
       "\n",
       "    .dataframe thead th {\n",
       "        text-align: right;\n",
       "    }\n",
       "</style>\n",
       "<table border=\"1\" class=\"dataframe\">\n",
       "  <thead>\n",
       "    <tr style=\"text-align: right;\">\n",
       "      <th></th>\n",
       "      <th>appearance</th>\n",
       "      <th>aroma</th>\n",
       "      <th>palate</th>\n",
       "      <th>taste</th>\n",
       "      <th>overall</th>\n",
       "      <th>rating</th>\n",
       "    </tr>\n",
       "    <tr>\n",
       "      <th>style</th>\n",
       "      <th></th>\n",
       "      <th></th>\n",
       "      <th></th>\n",
       "      <th></th>\n",
       "      <th></th>\n",
       "      <th></th>\n",
       "    </tr>\n",
       "  </thead>\n",
       "  <tbody>\n",
       "    <tr>\n",
       "      <th>Altbier</th>\n",
       "      <td>3.804970</td>\n",
       "      <td>3.639206</td>\n",
       "      <td>3.712032</td>\n",
       "      <td>3.734094</td>\n",
       "      <td>3.767099</td>\n",
       "      <td>3.688162</td>\n",
       "    </tr>\n",
       "    <tr>\n",
       "      <th>American Adjunct Lager</th>\n",
       "      <td>2.834799</td>\n",
       "      <td>2.557520</td>\n",
       "      <td>2.768130</td>\n",
       "      <td>2.722332</td>\n",
       "      <td>2.881181</td>\n",
       "      <td>2.622378</td>\n",
       "    </tr>\n",
       "    <tr>\n",
       "      <th>American Amber / Red Ale</th>\n",
       "      <td>3.847400</td>\n",
       "      <td>3.695537</td>\n",
       "      <td>3.722954</td>\n",
       "      <td>3.749445</td>\n",
       "      <td>3.775169</td>\n",
       "      <td>3.740720</td>\n",
       "    </tr>\n",
       "    <tr>\n",
       "      <th>American Amber / Red Lager</th>\n",
       "      <td>3.535507</td>\n",
       "      <td>3.269277</td>\n",
       "      <td>3.384669</td>\n",
       "      <td>3.396695</td>\n",
       "      <td>3.482003</td>\n",
       "      <td>3.340731</td>\n",
       "    </tr>\n",
       "    <tr>\n",
       "      <th>American Barleywine</th>\n",
       "      <td>4.040312</td>\n",
       "      <td>4.021135</td>\n",
       "      <td>4.006163</td>\n",
       "      <td>4.046653</td>\n",
       "      <td>3.974425</td>\n",
       "      <td>4.028173</td>\n",
       "    </tr>\n",
       "    <tr>\n",
       "      <th>...</th>\n",
       "      <td>...</td>\n",
       "      <td>...</td>\n",
       "      <td>...</td>\n",
       "      <td>...</td>\n",
       "      <td>...</td>\n",
       "      <td>...</td>\n",
       "    </tr>\n",
       "    <tr>\n",
       "      <th>Vienna Lager</th>\n",
       "      <td>3.677319</td>\n",
       "      <td>3.458537</td>\n",
       "      <td>3.563928</td>\n",
       "      <td>3.592847</td>\n",
       "      <td>3.663178</td>\n",
       "      <td>3.556377</td>\n",
       "    </tr>\n",
       "    <tr>\n",
       "      <th>Weizenbock</th>\n",
       "      <td>4.007100</td>\n",
       "      <td>4.021994</td>\n",
       "      <td>3.993293</td>\n",
       "      <td>4.058172</td>\n",
       "      <td>4.013157</td>\n",
       "      <td>4.044141</td>\n",
       "    </tr>\n",
       "    <tr>\n",
       "      <th>Wheatwine</th>\n",
       "      <td>3.938947</td>\n",
       "      <td>3.967110</td>\n",
       "      <td>3.943702</td>\n",
       "      <td>3.975081</td>\n",
       "      <td>3.898842</td>\n",
       "      <td>3.952787</td>\n",
       "    </tr>\n",
       "    <tr>\n",
       "      <th>Winter Warmer</th>\n",
       "      <td>3.839167</td>\n",
       "      <td>3.716082</td>\n",
       "      <td>3.693794</td>\n",
       "      <td>3.732080</td>\n",
       "      <td>3.721939</td>\n",
       "      <td>3.725578</td>\n",
       "    </tr>\n",
       "    <tr>\n",
       "      <th>Witbier</th>\n",
       "      <td>3.701572</td>\n",
       "      <td>3.647162</td>\n",
       "      <td>3.646796</td>\n",
       "      <td>3.665673</td>\n",
       "      <td>3.711504</td>\n",
       "      <td>3.633994</td>\n",
       "    </tr>\n",
       "  </tbody>\n",
       "</table>\n",
       "<p>104 rows × 6 columns</p>\n",
       "</div>"
      ],
      "text/plain": [
       "                            appearance     aroma    palate     taste  \\\n",
       "style                                                                  \n",
       "Altbier                       3.804970  3.639206  3.712032  3.734094   \n",
       "American Adjunct Lager        2.834799  2.557520  2.768130  2.722332   \n",
       "American Amber / Red Ale      3.847400  3.695537  3.722954  3.749445   \n",
       "American Amber / Red Lager    3.535507  3.269277  3.384669  3.396695   \n",
       "American Barleywine           4.040312  4.021135  4.006163  4.046653   \n",
       "...                                ...       ...       ...       ...   \n",
       "Vienna Lager                  3.677319  3.458537  3.563928  3.592847   \n",
       "Weizenbock                    4.007100  4.021994  3.993293  4.058172   \n",
       "Wheatwine                     3.938947  3.967110  3.943702  3.975081   \n",
       "Winter Warmer                 3.839167  3.716082  3.693794  3.732080   \n",
       "Witbier                       3.701572  3.647162  3.646796  3.665673   \n",
       "\n",
       "                             overall    rating  \n",
       "style                                           \n",
       "Altbier                     3.767099  3.688162  \n",
       "American Adjunct Lager      2.881181  2.622378  \n",
       "American Amber / Red Ale    3.775169  3.740720  \n",
       "American Amber / Red Lager  3.482003  3.340731  \n",
       "American Barleywine         3.974425  4.028173  \n",
       "...                              ...       ...  \n",
       "Vienna Lager                3.663178  3.556377  \n",
       "Weizenbock                  4.013157  4.044141  \n",
       "Wheatwine                   3.898842  3.952787  \n",
       "Winter Warmer               3.721939  3.725578  \n",
       "Witbier                     3.711504  3.633994  \n",
       "\n",
       "[104 rows x 6 columns]"
      ]
     },
     "execution_count": 13,
     "metadata": {},
     "output_type": "execute_result"
    }
   ],
   "source": [
    "style_features = beers_merged.groupby('style').mean()\n",
    "style_features"
   ]
  },
  {
   "attachments": {},
   "cell_type": "markdown",
   "metadata": {},
   "source": [
    "The distribution of those attributes among the population of beer styles is plotted below."
   ]
  },
  {
   "cell_type": "code",
   "execution_count": 14,
   "metadata": {},
   "outputs": [
    {
     "data": {
      "text/plain": [
       "Text(0, 0.6, 'Number of beer styles')"
      ]
     },
     "execution_count": 14,
     "metadata": {},
     "output_type": "execute_result"
    },
    {
     "data": {
      "image/png": "[encoded data removed]",
      "text/plain": [
       "<Figure size 800x600 with 6 Axes>"
      ]
     },
     "metadata": {},
     "output_type": "display_data"
    }
   ],
   "source": [
    "fig, ax = plt.subplots(2,3, sharey = True, sharex = True)\n",
    "\n",
    "for i in range(6):\n",
    "    sbplt = ax[i%2, math.floor(i/2)]\n",
    "    sbplt.hist(style_features.iloc[:,i], bins=30)\n",
    "    sbplt.set_title(style_features.columns[i])\n",
    "    \n",
    "fig.tight_layout()\n",
    "\n",
    "fig.text(0.4,0, \"features\")\n",
    "fig.text(0,0.6, \"Number of beer styles\", rotation = 90)"
   ]
  },
  {
   "attachments": {},
   "cell_type": "markdown",
   "metadata": {},
   "source": [
    "There is one additional check that one could perform to see if our enterprise has any chance of succeeding. We can compare the distributions of those 6 attributes for beers belonging to two very different beer styles and see if indeed they differ. If the distribution for two very different beer styles are superimposed, discriminating them solely based on those attributes might be impossible.\n",
    "\n",
    "Two different beer styles could for example be Pale Ale and Pale Lager. "
   ]
  },
  {
   "cell_type": "code",
   "execution_count": 15,
   "metadata": {},
   "outputs": [],
   "source": [
    "Pale_Lager_beer = beers_merged.loc[beers_merged['style'].apply(lambda x: False if x.find('Pale Lager') < 0 else True)].drop(['style'],axis=1)"
   ]
  },
  {
   "cell_type": "code",
   "execution_count": 16,
   "metadata": {},
   "outputs": [],
   "source": [
    "Pale_Ale_beer = beers_merged.loc[beers_merged['style'].apply(lambda x: False if x.find('Pale Ale') < 0 else True)].drop(['style'],axis=1)"
   ]
  },
  {
   "cell_type": "code",
   "execution_count": 17,
   "metadata": {},
   "outputs": [
    {
     "data": {
      "text/plain": [
       "(0.08716424114413229, 0.0009999999999998899)"
      ]
     },
     "execution_count": 17,
     "metadata": {},
     "output_type": "execute_result"
    }
   ],
   "source": [
    "# does the data come from a normal distribution?\n",
    "diagnostic.kstest_normal(Pale_Ale_beer['rating'].dropna().values.astype(float), dist = 'norm')"
   ]
  },
  {
   "attachments": {},
   "cell_type": "markdown",
   "metadata": {},
   "source": [
    "- the pvalue is lower than some threshold, e.g. 0.05, then we can reject the Null hypothesis that the sample comes from a normal distribution."
   ]
  },
  {
   "cell_type": "code",
   "execution_count": 18,
   "metadata": {},
   "outputs": [
    {
     "data": {
      "text/plain": [
       "Ttest_indResult(statistic=209.9705189963642, pvalue=0.0)"
      ]
     },
     "execution_count": 18,
     "metadata": {},
     "output_type": "execute_result"
    }
   ],
   "source": [
    "stats.ttest_ind(Pale_Ale_beer['palate'].dropna().values.astype(float), Pale_Lager_beer['palate'].dropna().values.astype(float))"
   ]
  },
  {
   "attachments": {},
   "cell_type": "markdown",
   "metadata": {},
   "source": [
    "- p is smaller than 0.05 -> we reject the null hypothesis that the feature come from the same -> there is a significant difference"
   ]
  },
  {
   "cell_type": "code",
   "execution_count": 19,
   "metadata": {},
   "outputs": [],
   "source": [
    "def normal(mean, std, sbplt, color=\"black\"):\n",
    "    x = np.linspace(mean-4*std, mean+4*std, 200)\n",
    "    p = norm.pdf(x, mean, std)\n",
    "    sbplt.plot(x, p, color, linewidth=2)"
   ]
  },
  {
   "cell_type": "code",
   "execution_count": 20,
   "metadata": {},
   "outputs": [
    {
     "data": {
      "text/plain": [
       "<matplotlib.legend.Legend at 0x7fa88c6c9400>"
      ]
     },
     "execution_count": 20,
     "metadata": {},
     "output_type": "execute_result"
    },
    {
     "data": {
      "image/png": "[encoded data removed]",
      "text/plain": [
       "<Figure size 800x600 with 6 Axes>"
      ]
     },
     "metadata": {},
     "output_type": "display_data"
    }
   ],
   "source": [
    "fig, ax = plt.subplots(2,3,figsize= (8,6), sharey = True, sharex = True)\n",
    "\n",
    "for i,feature in enumerate(style_features.columns):\n",
    "    sbplt = ax[i%2, math.floor(i/2)]\n",
    "    sbplt.hist(Pale_Lager_beer[feature], bins=np.arange(0,5.25,0.25), density=True)\n",
    "    normal(Pale_Lager_beer[feature].mean(), Pale_Lager_beer[feature].std(), sbplt, '#1f77b4')\n",
    "    sbplt.hist(Pale_Ale_beer[feature], bins=np.arange(0,5.25,0.25), density=True)\n",
    "    normal(Pale_Ale_beer[feature].mean(), Pale_Ale_beer[feature].std(), sbplt, '#ff7f0e')\n",
    "    sbplt.set_title(feature)\n",
    "    \n",
    "fig.tight_layout()\n",
    "\n",
    "fig.text(0.4,0, \"Features\")\n",
    "fig.text(0,0.6, \"Density\", rotation = 90)\n",
    "fig.legend(['Pale Lager','Pale Ale'], loc='lower right')"
   ]
  },
  {
   "attachments": {},
   "cell_type": "markdown",
   "metadata": {},
   "source": [
    "We see that the distributions are indeed shifted. "
   ]
  },
  {
   "attachments": {},
   "cell_type": "markdown",
   "metadata": {},
   "source": [
    "Closing the parenthesis, we can now add back the 'abv' feature that was computed using the *beer* dataframe. "
   ]
  },
  {
   "cell_type": "code",
   "execution_count": 21,
   "metadata": {},
   "outputs": [
    {
     "data": {
      "text/html": [
       "<div>\n",
       "<style scoped>\n",
       "    .dataframe tbody tr th:only-of-type {\n",
       "        vertical-align: middle;\n",
       "    }\n",
       "\n",
       "    .dataframe tbody tr th {\n",
       "        vertical-align: top;\n",
       "    }\n",
       "\n",
       "    .dataframe thead th {\n",
       "        text-align: right;\n",
       "    }\n",
       "</style>\n",
       "<table border=\"1\" class=\"dataframe\">\n",
       "  <thead>\n",
       "    <tr style=\"text-align: right;\">\n",
       "      <th></th>\n",
       "      <th>appearance</th>\n",
       "      <th>aroma</th>\n",
       "      <th>palate</th>\n",
       "      <th>taste</th>\n",
       "      <th>overall</th>\n",
       "      <th>rating</th>\n",
       "      <th>abv</th>\n",
       "    </tr>\n",
       "    <tr>\n",
       "      <th>style</th>\n",
       "      <th></th>\n",
       "      <th></th>\n",
       "      <th></th>\n",
       "      <th></th>\n",
       "      <th></th>\n",
       "      <th></th>\n",
       "      <th></th>\n",
       "    </tr>\n",
       "  </thead>\n",
       "  <tbody>\n",
       "    <tr>\n",
       "      <th>Altbier</th>\n",
       "      <td>3.804970</td>\n",
       "      <td>3.639206</td>\n",
       "      <td>3.712032</td>\n",
       "      <td>3.734094</td>\n",
       "      <td>3.767099</td>\n",
       "      <td>3.688162</td>\n",
       "      <td>5.681312</td>\n",
       "    </tr>\n",
       "    <tr>\n",
       "      <th>American Adjunct Lager</th>\n",
       "      <td>2.834799</td>\n",
       "      <td>2.557520</td>\n",
       "      <td>2.768130</td>\n",
       "      <td>2.722332</td>\n",
       "      <td>2.881181</td>\n",
       "      <td>2.622378</td>\n",
       "      <td>4.942573</td>\n",
       "    </tr>\n",
       "    <tr>\n",
       "      <th>American Amber / Red Ale</th>\n",
       "      <td>3.847400</td>\n",
       "      <td>3.695537</td>\n",
       "      <td>3.722954</td>\n",
       "      <td>3.749445</td>\n",
       "      <td>3.775169</td>\n",
       "      <td>3.740720</td>\n",
       "      <td>6.047384</td>\n",
       "    </tr>\n",
       "    <tr>\n",
       "      <th>American Amber / Red Lager</th>\n",
       "      <td>3.535507</td>\n",
       "      <td>3.269277</td>\n",
       "      <td>3.384669</td>\n",
       "      <td>3.396695</td>\n",
       "      <td>3.482003</td>\n",
       "      <td>3.340731</td>\n",
       "      <td>5.450313</td>\n",
       "    </tr>\n",
       "    <tr>\n",
       "      <th>American Barleywine</th>\n",
       "      <td>4.040312</td>\n",
       "      <td>4.021135</td>\n",
       "      <td>4.006163</td>\n",
       "      <td>4.046653</td>\n",
       "      <td>3.974425</td>\n",
       "      <td>4.028173</td>\n",
       "      <td>10.787476</td>\n",
       "    </tr>\n",
       "    <tr>\n",
       "      <th>...</th>\n",
       "      <td>...</td>\n",
       "      <td>...</td>\n",
       "      <td>...</td>\n",
       "      <td>...</td>\n",
       "      <td>...</td>\n",
       "      <td>...</td>\n",
       "      <td>...</td>\n",
       "    </tr>\n",
       "    <tr>\n",
       "      <th>Vienna Lager</th>\n",
       "      <td>3.677319</td>\n",
       "      <td>3.458537</td>\n",
       "      <td>3.563928</td>\n",
       "      <td>3.592847</td>\n",
       "      <td>3.663178</td>\n",
       "      <td>3.556377</td>\n",
       "      <td>5.143708</td>\n",
       "    </tr>\n",
       "    <tr>\n",
       "      <th>Weizenbock</th>\n",
       "      <td>4.007100</td>\n",
       "      <td>4.021994</td>\n",
       "      <td>3.993293</td>\n",
       "      <td>4.058172</td>\n",
       "      <td>4.013157</td>\n",
       "      <td>4.044141</td>\n",
       "      <td>7.546863</td>\n",
       "    </tr>\n",
       "    <tr>\n",
       "      <th>Wheatwine</th>\n",
       "      <td>3.938947</td>\n",
       "      <td>3.967110</td>\n",
       "      <td>3.943702</td>\n",
       "      <td>3.975081</td>\n",
       "      <td>3.898842</td>\n",
       "      <td>3.952787</td>\n",
       "      <td>10.162399</td>\n",
       "    </tr>\n",
       "    <tr>\n",
       "      <th>Winter Warmer</th>\n",
       "      <td>3.839167</td>\n",
       "      <td>3.716082</td>\n",
       "      <td>3.693794</td>\n",
       "      <td>3.732080</td>\n",
       "      <td>3.721939</td>\n",
       "      <td>3.725578</td>\n",
       "      <td>7.106720</td>\n",
       "    </tr>\n",
       "    <tr>\n",
       "      <th>Witbier</th>\n",
       "      <td>3.701572</td>\n",
       "      <td>3.647162</td>\n",
       "      <td>3.646796</td>\n",
       "      <td>3.665673</td>\n",
       "      <td>3.711504</td>\n",
       "      <td>3.633994</td>\n",
       "      <td>5.285531</td>\n",
       "    </tr>\n",
       "  </tbody>\n",
       "</table>\n",
       "<p>104 rows × 7 columns</p>\n",
       "</div>"
      ],
      "text/plain": [
       "                            appearance     aroma    palate     taste  \\\n",
       "style                                                                  \n",
       "Altbier                       3.804970  3.639206  3.712032  3.734094   \n",
       "American Adjunct Lager        2.834799  2.557520  2.768130  2.722332   \n",
       "American Amber / Red Ale      3.847400  3.695537  3.722954  3.749445   \n",
       "American Amber / Red Lager    3.535507  3.269277  3.384669  3.396695   \n",
       "American Barleywine           4.040312  4.021135  4.006163  4.046653   \n",
       "...                                ...       ...       ...       ...   \n",
       "Vienna Lager                  3.677319  3.458537  3.563928  3.592847   \n",
       "Weizenbock                    4.007100  4.021994  3.993293  4.058172   \n",
       "Wheatwine                     3.938947  3.967110  3.943702  3.975081   \n",
       "Winter Warmer                 3.839167  3.716082  3.693794  3.732080   \n",
       "Witbier                       3.701572  3.647162  3.646796  3.665673   \n",
       "\n",
       "                             overall    rating        abv  \n",
       "style                                                      \n",
       "Altbier                     3.767099  3.688162   5.681312  \n",
       "American Adjunct Lager      2.881181  2.622378   4.942573  \n",
       "American Amber / Red Ale    3.775169  3.740720   6.047384  \n",
       "American Amber / Red Lager  3.482003  3.340731   5.450313  \n",
       "American Barleywine         3.974425  4.028173  10.787476  \n",
       "...                              ...       ...        ...  \n",
       "Vienna Lager                3.663178  3.556377   5.143708  \n",
       "Weizenbock                  4.013157  4.044141   7.546863  \n",
       "Wheatwine                   3.898842  3.952787  10.162399  \n",
       "Winter Warmer               3.721939  3.725578   7.106720  \n",
       "Witbier                     3.711504  3.633994   5.285531  \n",
       "\n",
       "[104 rows x 7 columns]"
      ]
     },
     "execution_count": 21,
     "metadata": {},
     "output_type": "execute_result"
    }
   ],
   "source": [
    "style_features['abv'] = style_abv\n",
    "style_features"
   ]
  },
  {
   "attachments": {},
   "cell_type": "markdown",
   "metadata": {},
   "source": [
    "We also keep track of the names of the different beer styles that will be our labels."
   ]
  },
  {
   "cell_type": "code",
   "execution_count": 22,
   "metadata": {},
   "outputs": [],
   "source": [
    "style_labels = style_features.index"
   ]
  },
  {
   "attachments": {},
   "cell_type": "markdown",
   "metadata": {},
   "source": [
    "We convert our features to a numpy array."
   ]
  },
  {
   "cell_type": "code",
   "execution_count": 23,
   "metadata": {},
   "outputs": [],
   "source": [
    "X = style_features.to_numpy()"
   ]
  },
  {
   "attachments": {},
   "cell_type": "markdown",
   "metadata": {},
   "source": [
    "We standardize them as it is done before PCA to cancel the effect of different variances between features in our initial data."
   ]
  },
  {
   "cell_type": "code",
   "execution_count": 24,
   "metadata": {},
   "outputs": [],
   "source": [
    "#X = (X - X.mean(axis=0))/X.std(axis=0)\n",
    "X = StandardScaler().fit_transform(style_features.to_numpy())"
   ]
  },
  {
   "attachments": {},
   "cell_type": "markdown",
   "metadata": {},
   "source": [
    "Now now we have all of our features in place, we can perform PCA."
   ]
  },
  {
   "cell_type": "code",
   "execution_count": 25,
   "metadata": {},
   "outputs": [
    {
     "data": {
      "application/vnd.plotly.v1+json": {
       "config": {
        "plotlyServerURL": "https://plot.ly"
       },
       "data": [
        {
         "hovertemplate": "color=Altbier<br>x=%{x}<br>y=%{y}<extra></extra>",
         "legendgroup": "Altbier",
         "marker": {
          "color": "#636efa",
          "symbol": "circle"
         },
         "mode": "markers",
         "name": "Altbier",
         "orientation": "v",
         "showlegend": true,
         "type": "scatter",
         "x": [
          0.1266366033092438
         ],
         "xaxis": "x",
         "y": [
          -0.3863264600466344
         ],
         "yaxis": "y"
        },
        {
         "hovertemplate": "color=American Adjunct Lager<br>x=%{x}<br>y=%{y}<extra></extra>",
         "legendgroup": "American Adjunct Lager",
         "marker": {
          "color": "#EF553B",
          "symbol": "circle"
         },
         "mode": "markers",
         "name": "American Adjunct Lager",
         "orientation": "v",
         "showlegend": true,
         "type": "scatter",
         "x": [
          7.177979834058073
         ],
         "xaxis": "x",
         "y": [
          0.8805321890831912
         ],
         "yaxis": "y"
        },
        {
         "hovertemplate": "color=American Amber / Red Ale<br>x=%{x}<br>y=%{y}<extra></extra>",
         "legendgroup": "American Amber / Red Ale",
         "marker": {
          "color": "#00cc96",
          "symbol": "circle"
         },
         "mode": "markers",
         "name": "American Amber / Red Ale",
         "orientation": "v",
         "showlegend": true,
         "type": "scatter",
         "x": [
          -0.13155199890737607
         ],
         "xaxis": "x",
         "y": [
          -0.24381782739171384
         ],
         "yaxis": "y"
        },
        {
         "hovertemplate": "color=American Amber / Red Lager<br>x=%{x}<br>y=%{y}<extra></extra>",
         "legendgroup": "American Amber / Red Lager",
         "marker": {
          "color": "#ab63fa",
          "symbol": "circle"
         },
         "mode": "markers",
         "name": "American Amber / Red Lager",
         "orientation": "v",
         "showlegend": true,
         "type": "scatter",
         "x": [
          2.40862445642097
         ],
         "xaxis": "x",
         "y": [
          0.01879861710195242
         ],
         "yaxis": "y"
        },
        {
         "hovertemplate": "color=American Barleywine<br>x=%{x}<br>y=%{y}<extra></extra>",
         "legendgroup": "American Barleywine",
         "marker": {
          "color": "#FFA15A",
          "symbol": "circle"
         },
         "mode": "markers",
         "name": "American Barleywine",
         "orientation": "v",
         "showlegend": true,
         "type": "scatter",
         "x": [
          -2.550992860036864
         ],
         "xaxis": "x",
         "y": [
          1.803881847542937
         ],
         "yaxis": "y"
        },
        {
         "hovertemplate": "color=American Black Ale<br>x=%{x}<br>y=%{y}<extra></extra>",
         "legendgroup": "American Black Ale",
         "marker": {
          "color": "#19d3f3",
          "symbol": "circle"
         },
         "mode": "markers",
         "name": "American Black Ale",
         "orientation": "v",
         "showlegend": true,
         "type": "scatter",
         "x": [
          -1.701263090575699
         ],
         "xaxis": "x",
         "y": [
          -0.05967585079878765
         ],
         "yaxis": "y"
        },
        {
         "hovertemplate": "color=American Blonde Ale<br>x=%{x}<br>y=%{y}<extra></extra>",
         "legendgroup": "American Blonde Ale",
         "marker": {
          "color": "#FF6692",
          "symbol": "circle"
         },
         "mode": "markers",
         "name": "American Blonde Ale",
         "orientation": "v",
         "showlegend": true,
         "type": "scatter",
         "x": [
          1.310544743339465
         ],
         "xaxis": "x",
         "y": [
          -0.38796288800574597
         ],
         "yaxis": "y"
        },
        {
         "hovertemplate": "color=American Brown Ale<br>x=%{x}<br>y=%{y}<extra></extra>",
         "legendgroup": "American Brown Ale",
         "marker": {
          "color": "#B6E880",
          "symbol": "circle"
         },
         "mode": "markers",
         "name": "American Brown Ale",
         "orientation": "v",
         "showlegend": true,
         "type": "scatter",
         "x": [
          -0.798174548196539
         ],
         "xaxis": "x",
         "y": [
          -0.2646560348269693
         ],
         "yaxis": "y"
        },
        {
         "hovertemplate": "color=American Dark Wheat Ale<br>x=%{x}<br>y=%{y}<extra></extra>",
         "legendgroup": "American Dark Wheat Ale",
         "marker": {
          "color": "#FF97FF",
          "symbol": "circle"
         },
         "mode": "markers",
         "name": "American Dark Wheat Ale",
         "orientation": "v",
         "showlegend": true,
         "type": "scatter",
         "x": [
          0.7299737630650233
         ],
         "xaxis": "x",
         "y": [
          -0.022537837703311834
         ],
         "yaxis": "y"
        },
        {
         "hovertemplate": "color=American Double / Imperial IPA<br>x=%{x}<br>y=%{y}<extra></extra>",
         "legendgroup": "American Double / Imperial IPA",
         "marker": {
          "color": "#FECB52",
          "symbol": "circle"
         },
         "mode": "markers",
         "name": "American Double / Imperial IPA",
         "orientation": "v",
         "showlegend": true,
         "type": "scatter",
         "x": [
          -3.228967560442122
         ],
         "xaxis": "x",
         "y": [
          0.5590190960053856
         ],
         "yaxis": "y"
        },
        {
         "hovertemplate": "color=American Double / Imperial Pilsner<br>x=%{x}<br>y=%{y}<extra></extra>",
         "legendgroup": "American Double / Imperial Pilsner",
         "marker": {
          "color": "#636efa",
          "symbol": "circle"
         },
         "mode": "markers",
         "name": "American Double / Imperial Pilsner",
         "orientation": "v",
         "showlegend": true,
         "type": "scatter",
         "x": [
          -1.5079511342670766
         ],
         "xaxis": "x",
         "y": [
          0.26051662518663715
         ],
         "yaxis": "y"
        },
        {
         "hovertemplate": "color=American Double / Imperial Stout<br>x=%{x}<br>y=%{y}<extra></extra>",
         "legendgroup": "American Double / Imperial Stout",
         "marker": {
          "color": "#EF553B",
          "symbol": "circle"
         },
         "mode": "markers",
         "name": "American Double / Imperial Stout",
         "orientation": "v",
         "showlegend": true,
         "type": "scatter",
         "x": [
          -4.147287373108788
         ],
         "xaxis": "x",
         "y": [
          1.2084953945954897
         ],
         "yaxis": "y"
        },
        {
         "hovertemplate": "color=American IPA<br>x=%{x}<br>y=%{y}<extra></extra>",
         "legendgroup": "American IPA",
         "marker": {
          "color": "#00cc96",
          "symbol": "circle"
         },
         "mode": "markers",
         "name": "American IPA",
         "orientation": "v",
         "showlegend": true,
         "type": "scatter",
         "x": [
          -1.6471380694771889
         ],
         "xaxis": "x",
         "y": [
          -0.3854364570912545
         ],
         "yaxis": "y"
        },
        {
         "hovertemplate": "color=American Malt Liquor<br>x=%{x}<br>y=%{y}<extra></extra>",
         "legendgroup": "American Malt Liquor",
         "marker": {
          "color": "#ab63fa",
          "symbol": "circle"
         },
         "mode": "markers",
         "name": "American Malt Liquor",
         "orientation": "v",
         "showlegend": true,
         "type": "scatter",
         "x": [
          7.746631972556616
         ],
         "xaxis": "x",
         "y": [
          2.7791873523993664
         ],
         "yaxis": "y"
        },
        {
         "hovertemplate": "color=American Pale Ale (APA)<br>x=%{x}<br>y=%{y}<extra></extra>",
         "legendgroup": "American Pale Ale (APA)",
         "marker": {
          "color": "#FFA15A",
          "symbol": "circle"
         },
         "mode": "markers",
         "name": "American Pale Ale (APA)",
         "orientation": "v",
         "showlegend": true,
         "type": "scatter",
         "x": [
          -0.8537918741829037
         ],
         "xaxis": "x",
         "y": [
          -0.7509169268580136
         ],
         "yaxis": "y"
        },
        {
         "hovertemplate": "color=American Pale Lager<br>x=%{x}<br>y=%{y}<extra></extra>",
         "legendgroup": "American Pale Lager",
         "marker": {
          "color": "#19d3f3",
          "symbol": "circle"
         },
         "mode": "markers",
         "name": "American Pale Lager",
         "orientation": "v",
         "showlegend": true,
         "type": "scatter",
         "x": [
          1.662014140152377
         ],
         "xaxis": "x",
         "y": [
          -0.21969060465473012
         ],
         "yaxis": "y"
        },
        {
         "hovertemplate": "color=American Pale Wheat Ale<br>x=%{x}<br>y=%{y}<extra></extra>",
         "legendgroup": "American Pale Wheat Ale",
         "marker": {
          "color": "#FF6692",
          "symbol": "circle"
         },
         "mode": "markers",
         "name": "American Pale Wheat Ale",
         "orientation": "v",
         "showlegend": true,
         "type": "scatter",
         "x": [
          0.7621963873753296
         ],
         "xaxis": "x",
         "y": [
          -0.4499754823764517
         ],
         "yaxis": "y"
        },
        {
         "hovertemplate": "color=American Porter<br>x=%{x}<br>y=%{y}<extra></extra>",
         "legendgroup": "American Porter",
         "marker": {
          "color": "#B6E880",
          "symbol": "circle"
         },
         "mode": "markers",
         "name": "American Porter",
         "orientation": "v",
         "showlegend": true,
         "type": "scatter",
         "x": [
          -1.6438086144073987
         ],
         "xaxis": "x",
         "y": [
          -0.24469890363907454
         ],
         "yaxis": "y"
        },
        {
         "hovertemplate": "color=American Stout<br>x=%{x}<br>y=%{y}<extra></extra>",
         "legendgroup": "American Stout",
         "marker": {
          "color": "#FF97FF",
          "symbol": "circle"
         },
         "mode": "markers",
         "name": "American Stout",
         "orientation": "v",
         "showlegend": true,
         "type": "scatter",
         "x": [
          -1.1687064140145194
         ],
         "xaxis": "x",
         "y": [
          -0.2544363678083605
         ],
         "yaxis": "y"
        },
        {
         "hovertemplate": "color=American Strong Ale<br>x=%{x}<br>y=%{y}<extra></extra>",
         "legendgroup": "American Strong Ale",
         "marker": {
          "color": "#FECB52",
          "symbol": "circle"
         },
         "mode": "markers",
         "name": "American Strong Ale",
         "orientation": "v",
         "showlegend": true,
         "type": "scatter",
         "x": [
          -2.386736668221967
         ],
         "xaxis": "x",
         "y": [
          1.1064673288376283
         ],
         "yaxis": "y"
        },
        {
         "hovertemplate": "color=American Wild Ale<br>x=%{x}<br>y=%{y}<extra></extra>",
         "legendgroup": "American Wild Ale",
         "marker": {
          "color": "#636efa",
          "symbol": "circle"
         },
         "mode": "markers",
         "name": "American Wild Ale",
         "orientation": "v",
         "showlegend": true,
         "type": "scatter",
         "x": [
          -2.716945138194629
         ],
         "xaxis": "x",
         "y": [
          -0.6046455020010738
         ],
         "yaxis": "y"
        },
        {
         "hovertemplate": "color=Baltic Porter<br>x=%{x}<br>y=%{y}<extra></extra>",
         "legendgroup": "Baltic Porter",
         "marker": {
          "color": "#EF553B",
          "symbol": "circle"
         },
         "mode": "markers",
         "name": "Baltic Porter",
         "orientation": "v",
         "showlegend": true,
         "type": "scatter",
         "x": [
          -2.146765200543
         ],
         "xaxis": "x",
         "y": [
          0.46089935549886296
         ],
         "yaxis": "y"
        },
        {
         "hovertemplate": "color=Belgian Dark Ale<br>x=%{x}<br>y=%{y}<extra></extra>",
         "legendgroup": "Belgian Dark Ale",
         "marker": {
          "color": "#00cc96",
          "symbol": "circle"
         },
         "mode": "markers",
         "name": "Belgian Dark Ale",
         "orientation": "v",
         "showlegend": true,
         "type": "scatter",
         "x": [
          -0.03921954055111873
         ],
         "xaxis": "x",
         "y": [
          0.03319661134854712
         ],
         "yaxis": "y"
        },
        {
         "hovertemplate": "color=Belgian IPA<br>x=%{x}<br>y=%{y}<extra></extra>",
         "legendgroup": "Belgian IPA",
         "marker": {
          "color": "#ab63fa",
          "symbol": "circle"
         },
         "mode": "markers",
         "name": "Belgian IPA",
         "orientation": "v",
         "showlegend": true,
         "type": "scatter",
         "x": [
          -1.3675532577251974
         ],
         "xaxis": "x",
         "y": [
          0.0795500146855896
         ],
         "yaxis": "y"
        },
        {
         "hovertemplate": "color=Belgian Pale Ale<br>x=%{x}<br>y=%{y}<extra></extra>",
         "legendgroup": "Belgian Pale Ale",
         "marker": {
          "color": "#FFA15A",
          "symbol": "circle"
         },
         "mode": "markers",
         "name": "Belgian Pale Ale",
         "orientation": "v",
         "showlegend": true,
         "type": "scatter",
         "x": [
          -0.26373248999072413
         ],
         "xaxis": "x",
         "y": [
          -0.38316002614154643
         ],
         "yaxis": "y"
        },
        {
         "hovertemplate": "color=Belgian Strong Dark Ale<br>x=%{x}<br>y=%{y}<extra></extra>",
         "legendgroup": "Belgian Strong Dark Ale",
         "marker": {
          "color": "#19d3f3",
          "symbol": "circle"
         },
         "mode": "markers",
         "name": "Belgian Strong Dark Ale",
         "orientation": "v",
         "showlegend": true,
         "type": "scatter",
         "x": [
          -2.1787533886561774
         ],
         "xaxis": "x",
         "y": [
          1.0301073729143337
         ],
         "yaxis": "y"
        },
        {
         "hovertemplate": "color=Belgian Strong Pale Ale<br>x=%{x}<br>y=%{y}<extra></extra>",
         "legendgroup": "Belgian Strong Pale Ale",
         "marker": {
          "color": "#FF6692",
          "symbol": "circle"
         },
         "mode": "markers",
         "name": "Belgian Strong Pale Ale",
         "orientation": "v",
         "showlegend": true,
         "type": "scatter",
         "x": [
          -1.6512092448200164
         ],
         "xaxis": "x",
         "y": [
          0.8279525055938827
         ],
         "yaxis": "y"
        },
        {
         "hovertemplate": "color=Berliner Weissbier<br>x=%{x}<br>y=%{y}<extra></extra>",
         "legendgroup": "Berliner Weissbier",
         "marker": {
          "color": "#B6E880",
          "symbol": "circle"
         },
         "mode": "markers",
         "name": "Berliner Weissbier",
         "orientation": "v",
         "showlegend": true,
         "type": "scatter",
         "x": [
          -1.4130915211559585
         ],
         "xaxis": "x",
         "y": [
          -1.5468057310315793
         ],
         "yaxis": "y"
        },
        {
         "hovertemplate": "color=Bière de Champagne / Bière Brut<br>x=%{x}<br>y=%{y}<extra></extra>",
         "legendgroup": "Bière de Champagne / Bière Brut",
         "marker": {
          "color": "#FF97FF",
          "symbol": "circle"
         },
         "mode": "markers",
         "name": "Bière de Champagne / Bière Brut",
         "orientation": "v",
         "showlegend": true,
         "type": "scatter",
         "x": [
          -1.2718259424757545
         ],
         "xaxis": "x",
         "y": [
          0.8698722948850851
         ],
         "yaxis": "y"
        },
        {
         "hovertemplate": "color=Bière de Garde<br>x=%{x}<br>y=%{y}<extra></extra>",
         "legendgroup": "Bière de Garde",
         "marker": {
          "color": "#FECB52",
          "symbol": "circle"
         },
         "mode": "markers",
         "name": "Bière de Garde",
         "orientation": "v",
         "showlegend": true,
         "type": "scatter",
         "x": [
          -1.1366249457320385
         ],
         "xaxis": "x",
         "y": [
          0.08346973779628718
         ],
         "yaxis": "y"
        },
        {
         "hovertemplate": "color=Black & Tan<br>x=%{x}<br>y=%{y}<extra></extra>",
         "legendgroup": "Black & Tan",
         "marker": {
          "color": "#636efa",
          "symbol": "circle"
         },
         "mode": "markers",
         "name": "Black & Tan",
         "orientation": "v",
         "showlegend": true,
         "type": "scatter",
         "x": [
          2.082808582857608
         ],
         "xaxis": "x",
         "y": [
          0.4028669300447957
         ],
         "yaxis": "y"
        },
        {
         "hovertemplate": "color=Bock<br>x=%{x}<br>y=%{y}<extra></extra>",
         "legendgroup": "Bock",
         "marker": {
          "color": "#EF553B",
          "symbol": "circle"
         },
         "mode": "markers",
         "name": "Bock",
         "orientation": "v",
         "showlegend": true,
         "type": "scatter",
         "x": [
          1.0878617106290642
         ],
         "xaxis": "x",
         "y": [
          0.37705018666461493
         ],
         "yaxis": "y"
        },
        {
         "hovertemplate": "color=Braggot<br>x=%{x}<br>y=%{y}<extra></extra>",
         "legendgroup": "Braggot",
         "marker": {
          "color": "#00cc96",
          "symbol": "circle"
         },
         "mode": "markers",
         "name": "Braggot",
         "orientation": "v",
         "showlegend": true,
         "type": "scatter",
         "x": [
          -0.6944372854718593
         ],
         "xaxis": "x",
         "y": [
          1.3686724684086293
         ],
         "yaxis": "y"
        },
        {
         "hovertemplate": "color=California Common / Steam Beer<br>x=%{x}<br>y=%{y}<extra></extra>",
         "legendgroup": "California Common / Steam Beer",
         "marker": {
          "color": "#ab63fa",
          "symbol": "circle"
         },
         "mode": "markers",
         "name": "California Common / Steam Beer",
         "orientation": "v",
         "showlegend": true,
         "type": "scatter",
         "x": [
          -0.028295143288848985
         ],
         "xaxis": "x",
         "y": [
          -0.6131218674812522
         ],
         "yaxis": "y"
        },
        {
         "hovertemplate": "color=Chile Beer<br>x=%{x}<br>y=%{y}<extra></extra>",
         "legendgroup": "Chile Beer",
         "marker": {
          "color": "#FFA15A",
          "symbol": "circle"
         },
         "mode": "markers",
         "name": "Chile Beer",
         "orientation": "v",
         "showlegend": true,
         "type": "scatter",
         "x": [
          1.470956016469444
         ],
         "xaxis": "x",
         "y": [
          0.16055808151927475
         ],
         "yaxis": "y"
        },
        {
         "hovertemplate": "color=Cream Ale<br>x=%{x}<br>y=%{y}<extra></extra>",
         "legendgroup": "Cream Ale",
         "marker": {
          "color": "#19d3f3",
          "symbol": "circle"
         },
         "mode": "markers",
         "name": "Cream Ale",
         "orientation": "v",
         "showlegend": true,
         "type": "scatter",
         "x": [
          0.7453117551197803
         ],
         "xaxis": "x",
         "y": [
          -0.3821631802959483
         ],
         "yaxis": "y"
        },
        {
         "hovertemplate": "color=Czech Pilsener<br>x=%{x}<br>y=%{y}<extra></extra>",
         "legendgroup": "Czech Pilsener",
         "marker": {
          "color": "#FF6692",
          "symbol": "circle"
         },
         "mode": "markers",
         "name": "Czech Pilsener",
         "orientation": "v",
         "showlegend": true,
         "type": "scatter",
         "x": [
          0.8575997164592455
         ],
         "xaxis": "x",
         "y": [
          -0.5805013905690982
         ],
         "yaxis": "y"
        },
        {
         "hovertemplate": "color=Doppelbock<br>x=%{x}<br>y=%{y}<extra></extra>",
         "legendgroup": "Doppelbock",
         "marker": {
          "color": "#B6E880",
          "symbol": "circle"
         },
         "mode": "markers",
         "name": "Doppelbock",
         "orientation": "v",
         "showlegend": true,
         "type": "scatter",
         "x": [
          -1.4490462634384451
         ],
         "xaxis": "x",
         "y": [
          0.6518291109013788
         ],
         "yaxis": "y"
        },
        {
         "hovertemplate": "color=Dortmunder / Export Lager<br>x=%{x}<br>y=%{y}<extra></extra>",
         "legendgroup": "Dortmunder / Export Lager",
         "marker": {
          "color": "#FF97FF",
          "symbol": "circle"
         },
         "mode": "markers",
         "name": "Dortmunder / Export Lager",
         "orientation": "v",
         "showlegend": true,
         "type": "scatter",
         "x": [
          0.7044880392072354
         ],
         "xaxis": "x",
         "y": [
          -0.4571570443978201
         ],
         "yaxis": "y"
        },
        {
         "hovertemplate": "color=Dubbel<br>x=%{x}<br>y=%{y}<extra></extra>",
         "legendgroup": "Dubbel",
         "marker": {
          "color": "#FECB52",
          "symbol": "circle"
         },
         "mode": "markers",
         "name": "Dubbel",
         "orientation": "v",
         "showlegend": true,
         "type": "scatter",
         "x": [
          -1.3630854734626383
         ],
         "xaxis": "x",
         "y": [
          0.24235646115509674
         ],
         "yaxis": "y"
        },
        {
         "hovertemplate": "color=Dunkelweizen<br>x=%{x}<br>y=%{y}<extra></extra>",
         "legendgroup": "Dunkelweizen",
         "marker": {
          "color": "#636efa",
          "symbol": "circle"
         },
         "mode": "markers",
         "name": "Dunkelweizen",
         "orientation": "v",
         "showlegend": true,
         "type": "scatter",
         "x": [
          -0.3168048720036792
         ],
         "xaxis": "x",
         "y": [
          -0.5751442516920827
         ],
         "yaxis": "y"
        },
        {
         "hovertemplate": "color=Eisbock<br>x=%{x}<br>y=%{y}<extra></extra>",
         "legendgroup": "Eisbock",
         "marker": {
          "color": "#EF553B",
          "symbol": "circle"
         },
         "mode": "markers",
         "name": "Eisbock",
         "orientation": "v",
         "showlegend": true,
         "type": "scatter",
         "x": [
          -3.5422366036360344
         ],
         "xaxis": "x",
         "y": [
          3.322158419823778
         ],
         "yaxis": "y"
        },
        {
         "hovertemplate": "color=English Barleywine<br>x=%{x}<br>y=%{y}<extra></extra>",
         "legendgroup": "English Barleywine",
         "marker": {
          "color": "#00cc96",
          "symbol": "circle"
         },
         "mode": "markers",
         "name": "English Barleywine",
         "orientation": "v",
         "showlegend": true,
         "type": "scatter",
         "x": [
          -2.875479064186139
         ],
         "xaxis": "x",
         "y": [
          1.713095721873015
         ],
         "yaxis": "y"
        },
        {
         "hovertemplate": "color=English Bitter<br>x=%{x}<br>y=%{y}<extra></extra>",
         "legendgroup": "English Bitter",
         "marker": {
          "color": "#ab63fa",
          "symbol": "circle"
         },
         "mode": "markers",
         "name": "English Bitter",
         "orientation": "v",
         "showlegend": true,
         "type": "scatter",
         "x": [
          1.0473817869639355
         ],
         "xaxis": "x",
         "y": [
          -0.9241798649563208
         ],
         "yaxis": "y"
        },
        {
         "hovertemplate": "color=English Brown Ale<br>x=%{x}<br>y=%{y}<extra></extra>",
         "legendgroup": "English Brown Ale",
         "marker": {
          "color": "#FFA15A",
          "symbol": "circle"
         },
         "mode": "markers",
         "name": "English Brown Ale",
         "orientation": "v",
         "showlegend": true,
         "type": "scatter",
         "x": [
          0.4825868577061789
         ],
         "xaxis": "x",
         "y": [
          -0.49862344856044105
         ],
         "yaxis": "y"
        },
        {
         "hovertemplate": "color=English Dark Mild Ale<br>x=%{x}<br>y=%{y}<extra></extra>",
         "legendgroup": "English Dark Mild Ale",
         "marker": {
          "color": "#19d3f3",
          "symbol": "circle"
         },
         "mode": "markers",
         "name": "English Dark Mild Ale",
         "orientation": "v",
         "showlegend": true,
         "type": "scatter",
         "x": [
          0.6649758150644507
         ],
         "xaxis": "x",
         "y": [
          -1.1133299028014265
         ],
         "yaxis": "y"
        },
        {
         "hovertemplate": "color=English India Pale Ale (IPA)<br>x=%{x}<br>y=%{y}<extra></extra>",
         "legendgroup": "English India Pale Ale (IPA)",
         "marker": {
          "color": "#FF6692",
          "symbol": "circle"
         },
         "mode": "markers",
         "name": "English India Pale Ale (IPA)",
         "orientation": "v",
         "showlegend": true,
         "type": "scatter",
         "x": [
          0.7123424936947749
         ],
         "xaxis": "x",
         "y": [
          -0.037009748585116145
         ],
         "yaxis": "y"
        },
        {
         "hovertemplate": "color=English Pale Ale<br>x=%{x}<br>y=%{y}<extra></extra>",
         "legendgroup": "English Pale Ale",
         "marker": {
          "color": "#B6E880",
          "symbol": "circle"
         },
         "mode": "markers",
         "name": "English Pale Ale",
         "orientation": "v",
         "showlegend": true,
         "type": "scatter",
         "x": [
          1.297649337616883
         ],
         "xaxis": "x",
         "y": [
          -0.6172982408693779
         ],
         "yaxis": "y"
        },
        {
         "hovertemplate": "color=English Pale Mild Ale<br>x=%{x}<br>y=%{y}<extra></extra>",
         "legendgroup": "English Pale Mild Ale",
         "marker": {
          "color": "#FF97FF",
          "symbol": "circle"
         },
         "mode": "markers",
         "name": "English Pale Mild Ale",
         "orientation": "v",
         "showlegend": true,
         "type": "scatter",
         "x": [
          1.2391331571048558
         ],
         "xaxis": "x",
         "y": [
          -0.9087113537583643
         ],
         "yaxis": "y"
        },
        {
         "hovertemplate": "color=English Porter<br>x=%{x}<br>y=%{y}<extra></extra>",
         "legendgroup": "English Porter",
         "marker": {
          "color": "#FECB52",
          "symbol": "circle"
         },
         "mode": "markers",
         "name": "English Porter",
         "orientation": "v",
         "showlegend": true,
         "type": "scatter",
         "x": [
          -0.9105013914783406
         ],
         "xaxis": "x",
         "y": [
          -0.5760760415817496
         ],
         "yaxis": "y"
        },
        {
         "hovertemplate": "color=English Stout<br>x=%{x}<br>y=%{y}<extra></extra>",
         "legendgroup": "English Stout",
         "marker": {
          "color": "#636efa",
          "symbol": "circle"
         },
         "mode": "markers",
         "name": "English Stout",
         "orientation": "v",
         "showlegend": true,
         "type": "scatter",
         "x": [
          -0.5364818977517419
         ],
         "xaxis": "x",
         "y": [
          -0.6862827536316556
         ],
         "yaxis": "y"
        },
        {
         "hovertemplate": "color=English Strong Ale<br>x=%{x}<br>y=%{y}<extra></extra>",
         "legendgroup": "English Strong Ale",
         "marker": {
          "color": "#EF553B",
          "symbol": "circle"
         },
         "mode": "markers",
         "name": "English Strong Ale",
         "orientation": "v",
         "showlegend": true,
         "type": "scatter",
         "x": [
          -0.4712209279222948
         ],
         "xaxis": "x",
         "y": [
          0.39522492388101443
         ],
         "yaxis": "y"
        },
        {
         "hovertemplate": "color=Euro Dark Lager<br>x=%{x}<br>y=%{y}<extra></extra>",
         "legendgroup": "Euro Dark Lager",
         "marker": {
          "color": "#00cc96",
          "symbol": "circle"
         },
         "mode": "markers",
         "name": "Euro Dark Lager",
         "orientation": "v",
         "showlegend": true,
         "type": "scatter",
         "x": [
          1.7728952251756906
         ],
         "xaxis": "x",
         "y": [
          -0.2696176881696837
         ],
         "yaxis": "y"
        },
        {
         "hovertemplate": "color=Euro Pale Lager<br>x=%{x}<br>y=%{y}<extra></extra>",
         "legendgroup": "Euro Pale Lager",
         "marker": {
          "color": "#ab63fa",
          "symbol": "circle"
         },
         "mode": "markers",
         "name": "Euro Pale Lager",
         "orientation": "v",
         "showlegend": true,
         "type": "scatter",
         "x": [
          5.110311833645926
         ],
         "xaxis": "x",
         "y": [
          0.33021038869837893
         ],
         "yaxis": "y"
        },
        {
         "hovertemplate": "color=Euro Strong Lager<br>x=%{x}<br>y=%{y}<extra></extra>",
         "legendgroup": "Euro Strong Lager",
         "marker": {
          "color": "#FFA15A",
          "symbol": "circle"
         },
         "mode": "markers",
         "name": "Euro Strong Lager",
         "orientation": "v",
         "showlegend": true,
         "type": "scatter",
         "x": [
          5.230999509980499
         ],
         "xaxis": "x",
         "y": [
          2.019477454466061
         ],
         "yaxis": "y"
        },
        {
         "hovertemplate": "color=Extra Special / Strong Bitter (ESB)<br>x=%{x}<br>y=%{y}<extra></extra>",
         "legendgroup": "Extra Special / Strong Bitter (ESB)",
         "marker": {
          "color": "#19d3f3",
          "symbol": "circle"
         },
         "mode": "markers",
         "name": "Extra Special / Strong Bitter (ESB)",
         "orientation": "v",
         "showlegend": true,
         "type": "scatter",
         "x": [
          0.09665685089458567
         ],
         "xaxis": "x",
         "y": [
          -0.494499725473012
         ],
         "yaxis": "y"
        },
        {
         "hovertemplate": "color=Faro<br>x=%{x}<br>y=%{y}<extra></extra>",
         "legendgroup": "Faro",
         "marker": {
          "color": "#FF6692",
          "symbol": "circle"
         },
         "mode": "markers",
         "name": "Faro",
         "orientation": "v",
         "showlegend": true,
         "type": "scatter",
         "x": [
          0.4447195816645011
         ],
         "xaxis": "x",
         "y": [
          -0.6708995770156111
         ],
         "yaxis": "y"
        },
        {
         "hovertemplate": "color=Flanders Oud Bruin<br>x=%{x}<br>y=%{y}<extra></extra>",
         "legendgroup": "Flanders Oud Bruin",
         "marker": {
          "color": "#B6E880",
          "symbol": "circle"
         },
         "mode": "markers",
         "name": "Flanders Oud Bruin",
         "orientation": "v",
         "showlegend": true,
         "type": "scatter",
         "x": [
          -1.8184632664201412
         ],
         "xaxis": "x",
         "y": [
          -0.07630995525646583
         ],
         "yaxis": "y"
        },
        {
         "hovertemplate": "color=Flanders Red Ale<br>x=%{x}<br>y=%{y}<extra></extra>",
         "legendgroup": "Flanders Red Ale",
         "marker": {
          "color": "#FF97FF",
          "symbol": "circle"
         },
         "mode": "markers",
         "name": "Flanders Red Ale",
         "orientation": "v",
         "showlegend": true,
         "type": "scatter",
         "x": [
          -2.555511242584406
         ],
         "xaxis": "x",
         "y": [
          -0.4679920128061678
         ],
         "yaxis": "y"
        },
        {
         "hovertemplate": "color=Foreign / Export Stout<br>x=%{x}<br>y=%{y}<extra></extra>",
         "legendgroup": "Foreign / Export Stout",
         "marker": {
          "color": "#FECB52",
          "symbol": "circle"
         },
         "mode": "markers",
         "name": "Foreign / Export Stout",
         "orientation": "v",
         "showlegend": true,
         "type": "scatter",
         "x": [
          -1.3424819556578267
         ],
         "xaxis": "x",
         "y": [
          -0.01189458845798237
         ],
         "yaxis": "y"
        },
        {
         "hovertemplate": "color=Fruit / Vegetable Beer<br>x=%{x}<br>y=%{y}<extra></extra>",
         "legendgroup": "Fruit / Vegetable Beer",
         "marker": {
          "color": "#636efa",
          "symbol": "circle"
         },
         "mode": "markers",
         "name": "Fruit / Vegetable Beer",
         "orientation": "v",
         "showlegend": true,
         "type": "scatter",
         "x": [
          1.5057389833174697
         ],
         "xaxis": "x",
         "y": [
          -0.16954691925030047
         ],
         "yaxis": "y"
        },
        {
         "hovertemplate": "color=German Pilsener<br>x=%{x}<br>y=%{y}<extra></extra>",
         "legendgroup": "German Pilsener",
         "marker": {
          "color": "#EF553B",
          "symbol": "circle"
         },
         "mode": "markers",
         "name": "German Pilsener",
         "orientation": "v",
         "showlegend": true,
         "type": "scatter",
         "x": [
          1.086928284829748
         ],
         "xaxis": "x",
         "y": [
          -0.5105033736465513
         ],
         "yaxis": "y"
        },
        {
         "hovertemplate": "color=Gose<br>x=%{x}<br>y=%{y}<extra></extra>",
         "legendgroup": "Gose",
         "marker": {
          "color": "#00cc96",
          "symbol": "circle"
         },
         "mode": "markers",
         "name": "Gose",
         "orientation": "v",
         "showlegend": true,
         "type": "scatter",
         "x": [
          -1.0447304887315039
         ],
         "xaxis": "x",
         "y": [
          -1.1990875498912936
         ],
         "yaxis": "y"
        },
        {
         "hovertemplate": "color=Gueuze<br>x=%{x}<br>y=%{y}<extra></extra>",
         "legendgroup": "Gueuze",
         "marker": {
          "color": "#ab63fa",
          "symbol": "circle"
         },
         "mode": "markers",
         "name": "Gueuze",
         "orientation": "v",
         "showlegend": true,
         "type": "scatter",
         "x": [
          -3.3878954341544367
         ],
         "xaxis": "x",
         "y": [
          -0.9662990703015438
         ],
         "yaxis": "y"
        },
        {
         "hovertemplate": "color=Happoshu<br>x=%{x}<br>y=%{y}<extra></extra>",
         "legendgroup": "Happoshu",
         "marker": {
          "color": "#FFA15A",
          "symbol": "circle"
         },
         "mode": "markers",
         "name": "Happoshu",
         "orientation": "v",
         "showlegend": true,
         "type": "scatter",
         "x": [
          5.8773713514883195
         ],
         "xaxis": "x",
         "y": [
          0.7110643025448147
         ],
         "yaxis": "y"
        },
        {
         "hovertemplate": "color=Hefeweizen<br>x=%{x}<br>y=%{y}<extra></extra>",
         "legendgroup": "Hefeweizen",
         "marker": {
          "color": "#19d3f3",
          "symbol": "circle"
         },
         "mode": "markers",
         "name": "Hefeweizen",
         "orientation": "v",
         "showlegend": true,
         "type": "scatter",
         "x": [
          -0.27682130345547834
         ],
         "xaxis": "x",
         "y": [
          -0.7498059770283955
         ],
         "yaxis": "y"
        },
        {
         "hovertemplate": "color=Herbed / Spiced Beer<br>x=%{x}<br>y=%{y}<extra></extra>",
         "legendgroup": "Herbed / Spiced Beer",
         "marker": {
          "color": "#FF6692",
          "symbol": "circle"
         },
         "mode": "markers",
         "name": "Herbed / Spiced Beer",
         "orientation": "v",
         "showlegend": true,
         "type": "scatter",
         "x": [
          0.9148406043278942
         ],
         "xaxis": "x",
         "y": [
          0.032812111033229556
         ],
         "yaxis": "y"
        },
        {
         "hovertemplate": "color=Irish Dry Stout<br>x=%{x}<br>y=%{y}<extra></extra>",
         "legendgroup": "Irish Dry Stout",
         "marker": {
          "color": "#B6E880",
          "symbol": "circle"
         },
         "mode": "markers",
         "name": "Irish Dry Stout",
         "orientation": "v",
         "showlegend": true,
         "type": "scatter",
         "x": [
          0.041378575245598986
         ],
         "xaxis": "x",
         "y": [
          -0.8279664772412982
         ],
         "yaxis": "y"
        },
        {
         "hovertemplate": "color=Irish Red Ale<br>x=%{x}<br>y=%{y}<extra></extra>",
         "legendgroup": "Irish Red Ale",
         "marker": {
          "color": "#FF97FF",
          "symbol": "circle"
         },
         "mode": "markers",
         "name": "Irish Red Ale",
         "orientation": "v",
         "showlegend": true,
         "type": "scatter",
         "x": [
          1.0921973157247074
         ],
         "xaxis": "x",
         "y": [
          -0.25247904499556595
         ],
         "yaxis": "y"
        },
        {
         "hovertemplate": "color=Japanese Rice Lager<br>x=%{x}<br>y=%{y}<extra></extra>",
         "legendgroup": "Japanese Rice Lager",
         "marker": {
          "color": "#FECB52",
          "symbol": "circle"
         },
         "mode": "markers",
         "name": "Japanese Rice Lager",
         "orientation": "v",
         "showlegend": true,
         "type": "scatter",
         "x": [
          5.571529162332205
         ],
         "xaxis": "x",
         "y": [
          0.6858898563001357
         ],
         "yaxis": "y"
        },
        {
         "hovertemplate": "color=Kellerbier / Zwickelbier<br>x=%{x}<br>y=%{y}<extra></extra>",
         "legendgroup": "Kellerbier / Zwickelbier",
         "marker": {
          "color": "#636efa",
          "symbol": "circle"
         },
         "mode": "markers",
         "name": "Kellerbier / Zwickelbier",
         "orientation": "v",
         "showlegend": true,
         "type": "scatter",
         "x": [
          -0.21507719030299696
         ],
         "xaxis": "x",
         "y": [
          -0.7791797230657074
         ],
         "yaxis": "y"
        },
        {
         "hovertemplate": "color=Kristalweizen<br>x=%{x}<br>y=%{y}<extra></extra>",
         "legendgroup": "Kristalweizen",
         "marker": {
          "color": "#EF553B",
          "symbol": "circle"
         },
         "mode": "markers",
         "name": "Kristalweizen",
         "orientation": "v",
         "showlegend": true,
         "type": "scatter",
         "x": [
          0.8763115994605228
         ],
         "xaxis": "x",
         "y": [
          -0.5195025858965558
         ],
         "yaxis": "y"
        },
        {
         "hovertemplate": "color=Kvass<br>x=%{x}<br>y=%{y}<extra></extra>",
         "legendgroup": "Kvass",
         "marker": {
          "color": "#00cc96",
          "symbol": "circle"
         },
         "mode": "markers",
         "name": "Kvass",
         "orientation": "v",
         "showlegend": true,
         "type": "scatter",
         "x": [
          2.80260717989702
         ],
         "xaxis": "x",
         "y": [
          -1.7153269982908608
         ],
         "yaxis": "y"
        },
        {
         "hovertemplate": "color=Kölsch<br>x=%{x}<br>y=%{y}<extra></extra>",
         "legendgroup": "Kölsch",
         "marker": {
          "color": "#ab63fa",
          "symbol": "circle"
         },
         "mode": "markers",
         "name": "Kölsch",
         "orientation": "v",
         "showlegend": true,
         "type": "scatter",
         "x": [
          0.8155207792867848
         ],
         "xaxis": "x",
         "y": [
          -0.591205299861796
         ],
         "yaxis": "y"
        },
        {
         "hovertemplate": "color=Lambic - Fruit<br>x=%{x}<br>y=%{y}<extra></extra>",
         "legendgroup": "Lambic - Fruit",
         "marker": {
          "color": "#FFA15A",
          "symbol": "circle"
         },
         "mode": "markers",
         "name": "Lambic - Fruit",
         "orientation": "v",
         "showlegend": true,
         "type": "scatter",
         "x": [
          -2.5346180433985577
         ],
         "xaxis": "x",
         "y": [
          -0.8467721514834187
         ],
         "yaxis": "y"
        },
        {
         "hovertemplate": "color=Lambic - Unblended<br>x=%{x}<br>y=%{y}<extra></extra>",
         "legendgroup": "Lambic - Unblended",
         "marker": {
          "color": "#19d3f3",
          "symbol": "circle"
         },
         "mode": "markers",
         "name": "Lambic - Unblended",
         "orientation": "v",
         "showlegend": true,
         "type": "scatter",
         "x": [
          -2.456108115829842
         ],
         "xaxis": "x",
         "y": [
          -0.8810131666255687
         ],
         "yaxis": "y"
        },
        {
         "hovertemplate": "color=Light Lager<br>x=%{x}<br>y=%{y}<extra></extra>",
         "legendgroup": "Light Lager",
         "marker": {
          "color": "#FF6692",
          "symbol": "circle"
         },
         "mode": "markers",
         "name": "Light Lager",
         "orientation": "v",
         "showlegend": true,
         "type": "scatter",
         "x": [
          9.813649847600033
         ],
         "xaxis": "x",
         "y": [
          1.0226557948032498
         ],
         "yaxis": "y"
        },
        {
         "hovertemplate": "color=Low Alcohol Beer<br>x=%{x}<br>y=%{y}<extra></extra>",
         "legendgroup": "Low Alcohol Beer",
         "marker": {
          "color": "#B6E880",
          "symbol": "circle"
         },
         "mode": "markers",
         "name": "Low Alcohol Beer",
         "orientation": "v",
         "showlegend": true,
         "type": "scatter",
         "x": [
          8.624182867874865
         ],
         "xaxis": "x",
         "y": [
          -0.8778128168932373
         ],
         "yaxis": "y"
        },
        {
         "hovertemplate": "color=Maibock / Helles Bock<br>x=%{x}<br>y=%{y}<extra></extra>",
         "legendgroup": "Maibock / Helles Bock",
         "marker": {
          "color": "#FF97FF",
          "symbol": "circle"
         },
         "mode": "markers",
         "name": "Maibock / Helles Bock",
         "orientation": "v",
         "showlegend": true,
         "type": "scatter",
         "x": [
          -0.1687286814016883
         ],
         "xaxis": "x",
         "y": [
          0.1886437628194263
         ],
         "yaxis": "y"
        },
        {
         "hovertemplate": "color=Milk / Sweet Stout<br>x=%{x}<br>y=%{y}<extra></extra>",
         "legendgroup": "Milk / Sweet Stout",
         "marker": {
          "color": "#FECB52",
          "symbol": "circle"
         },
         "mode": "markers",
         "name": "Milk / Sweet Stout",
         "orientation": "v",
         "showlegend": true,
         "type": "scatter",
         "x": [
          -1.8369676614561117
         ],
         "xaxis": "x",
         "y": [
          -0.4398333221391362
         ],
         "yaxis": "y"
        },
        {
         "hovertemplate": "color=Munich Dunkel Lager<br>x=%{x}<br>y=%{y}<extra></extra>",
         "legendgroup": "Munich Dunkel Lager",
         "marker": {
          "color": "#636efa",
          "symbol": "circle"
         },
         "mode": "markers",
         "name": "Munich Dunkel Lager",
         "orientation": "v",
         "showlegend": true,
         "type": "scatter",
         "x": [
          0.5919872409858183
         ],
         "xaxis": "x",
         "y": [
          -0.545216133692379
         ],
         "yaxis": "y"
        },
        {
         "hovertemplate": "color=Munich Helles Lager<br>x=%{x}<br>y=%{y}<extra></extra>",
         "legendgroup": "Munich Helles Lager",
         "marker": {
          "color": "#EF553B",
          "symbol": "circle"
         },
         "mode": "markers",
         "name": "Munich Helles Lager",
         "orientation": "v",
         "showlegend": true,
         "type": "scatter",
         "x": [
          0.44546922881282425
         ],
         "xaxis": "x",
         "y": [
          -0.6696416875888151
         ],
         "yaxis": "y"
        },
        {
         "hovertemplate": "color=Märzen / Oktoberfest<br>x=%{x}<br>y=%{y}<extra></extra>",
         "legendgroup": "Märzen / Oktoberfest",
         "marker": {
          "color": "#00cc96",
          "symbol": "circle"
         },
         "mode": "markers",
         "name": "Märzen / Oktoberfest",
         "orientation": "v",
         "showlegend": true,
         "type": "scatter",
         "x": [
          0.36525050337121584
         ],
         "xaxis": "x",
         "y": [
          -0.3210552153740407
         ],
         "yaxis": "y"
        },
        {
         "hovertemplate": "color=Oatmeal Stout<br>x=%{x}<br>y=%{y}<extra></extra>",
         "legendgroup": "Oatmeal Stout",
         "marker": {
          "color": "#ab63fa",
          "symbol": "circle"
         },
         "mode": "markers",
         "name": "Oatmeal Stout",
         "orientation": "v",
         "showlegend": true,
         "type": "scatter",
         "x": [
          -1.4635387518412148
         ],
         "xaxis": "x",
         "y": [
          -0.45535337677018295
         ],
         "yaxis": "y"
        },
        {
         "hovertemplate": "color=Old Ale<br>x=%{x}<br>y=%{y}<extra></extra>",
         "legendgroup": "Old Ale",
         "marker": {
          "color": "#FFA15A",
          "symbol": "circle"
         },
         "mode": "markers",
         "name": "Old Ale",
         "orientation": "v",
         "showlegend": true,
         "type": "scatter",
         "x": [
          -2.308276551948199
         ],
         "xaxis": "x",
         "y": [
          0.794844636078858
         ],
         "yaxis": "y"
        },
        {
         "hovertemplate": "color=Pumpkin Ale<br>x=%{x}<br>y=%{y}<extra></extra>",
         "legendgroup": "Pumpkin Ale",
         "marker": {
          "color": "#19d3f3",
          "symbol": "circle"
         },
         "mode": "markers",
         "name": "Pumpkin Ale",
         "orientation": "v",
         "showlegend": true,
         "type": "scatter",
         "x": [
          0.043981013233484474
         ],
         "xaxis": "x",
         "y": [
          0.18266922212522044
         ],
         "yaxis": "y"
        },
        {
         "hovertemplate": "color=Quadrupel (Quad)<br>x=%{x}<br>y=%{y}<extra></extra>",
         "legendgroup": "Quadrupel (Quad)",
         "marker": {
          "color": "#FF6692",
          "symbol": "circle"
         },
         "mode": "markers",
         "name": "Quadrupel (Quad)",
         "orientation": "v",
         "showlegend": true,
         "type": "scatter",
         "x": [
          -3.52575125364573
         ],
         "xaxis": "x",
         "y": [
          1.5424992494285126
         ],
         "yaxis": "y"
        },
        {
         "hovertemplate": "color=Rauchbier<br>x=%{x}<br>y=%{y}<extra></extra>",
         "legendgroup": "Rauchbier",
         "marker": {
          "color": "#B6E880",
          "symbol": "circle"
         },
         "mode": "markers",
         "name": "Rauchbier",
         "orientation": "v",
         "showlegend": true,
         "type": "scatter",
         "x": [
          -0.9971652860620308
         ],
         "xaxis": "x",
         "y": [
          -0.5185232838749791
         ],
         "yaxis": "y"
        },
        {
         "hovertemplate": "color=Roggenbier<br>x=%{x}<br>y=%{y}<extra></extra>",
         "legendgroup": "Roggenbier",
         "marker": {
          "color": "#FF97FF",
          "symbol": "circle"
         },
         "mode": "markers",
         "name": "Roggenbier",
         "orientation": "v",
         "showlegend": true,
         "type": "scatter",
         "x": [
          -0.17173093639089795
         ],
         "xaxis": "x",
         "y": [
          -0.4930310424584903
         ],
         "yaxis": "y"
        },
        {
         "hovertemplate": "color=Russian Imperial Stout<br>x=%{x}<br>y=%{y}<extra></extra>",
         "legendgroup": "Russian Imperial Stout",
         "marker": {
          "color": "#FECB52",
          "symbol": "circle"
         },
         "mode": "markers",
         "name": "Russian Imperial Stout",
         "orientation": "v",
         "showlegend": true,
         "type": "scatter",
         "x": [
          -3.571364298052244
         ],
         "xaxis": "x",
         "y": [
          1.2860342012454464
         ],
         "yaxis": "y"
        },
        {
         "hovertemplate": "color=Rye Beer<br>x=%{x}<br>y=%{y}<extra></extra>",
         "legendgroup": "Rye Beer",
         "marker": {
          "color": "#636efa",
          "symbol": "circle"
         },
         "mode": "markers",
         "name": "Rye Beer",
         "orientation": "v",
         "showlegend": true,
         "type": "scatter",
         "x": [
          -0.9921467819659735
         ],
         "xaxis": "x",
         "y": [
          -0.2500602391572146
         ],
         "yaxis": "y"
        },
        {
         "hovertemplate": "color=Sahti<br>x=%{x}<br>y=%{y}<extra></extra>",
         "legendgroup": "Sahti",
         "marker": {
          "color": "#EF553B",
          "symbol": "circle"
         },
         "mode": "markers",
         "name": "Sahti",
         "orientation": "v",
         "showlegend": true,
         "type": "scatter",
         "x": [
          -0.43743520393002633
         ],
         "xaxis": "x",
         "y": [
          0.35590113922940897
         ],
         "yaxis": "y"
        },
        {
         "hovertemplate": "color=Saison / Farmhouse Ale<br>x=%{x}<br>y=%{y}<extra></extra>",
         "legendgroup": "Saison / Farmhouse Ale",
         "marker": {
          "color": "#00cc96",
          "symbol": "circle"
         },
         "mode": "markers",
         "name": "Saison / Farmhouse Ale",
         "orientation": "v",
         "showlegend": true,
         "type": "scatter",
         "x": [
          -1.6543880129791075
         ],
         "xaxis": "x",
         "y": [
          -0.49360383931323804
         ],
         "yaxis": "y"
        },
        {
         "hovertemplate": "color=Schwarzbier<br>x=%{x}<br>y=%{y}<extra></extra>",
         "legendgroup": "Schwarzbier",
         "marker": {
          "color": "#ab63fa",
          "symbol": "circle"
         },
         "mode": "markers",
         "name": "Schwarzbier",
         "orientation": "v",
         "showlegend": true,
         "type": "scatter",
         "x": [
          -0.013840791770202452
         ],
         "xaxis": "x",
         "y": [
          -0.6074161978126428
         ],
         "yaxis": "y"
        },
        {
         "hovertemplate": "color=Scotch Ale / Wee Heavy<br>x=%{x}<br>y=%{y}<extra></extra>",
         "legendgroup": "Scotch Ale / Wee Heavy",
         "marker": {
          "color": "#FFA15A",
          "symbol": "circle"
         },
         "mode": "markers",
         "name": "Scotch Ale / Wee Heavy",
         "orientation": "v",
         "showlegend": true,
         "type": "scatter",
         "x": [
          -1.757397666964973
         ],
         "xaxis": "x",
         "y": [
          0.6401028844739884
         ],
         "yaxis": "y"
        },
        {
         "hovertemplate": "color=Scottish Ale<br>x=%{x}<br>y=%{y}<extra></extra>",
         "legendgroup": "Scottish Ale",
         "marker": {
          "color": "#19d3f3",
          "symbol": "circle"
         },
         "mode": "markers",
         "name": "Scottish Ale",
         "orientation": "v",
         "showlegend": true,
         "type": "scatter",
         "x": [
          0.12960735422140365
         ],
         "xaxis": "x",
         "y": [
          -0.2767005624507868
         ],
         "yaxis": "y"
        },
        {
         "hovertemplate": "color=Scottish Gruit / Ancient Herbed Ale<br>x=%{x}<br>y=%{y}<extra></extra>",
         "legendgroup": "Scottish Gruit / Ancient Herbed Ale",
         "marker": {
          "color": "#FF6692",
          "symbol": "circle"
         },
         "mode": "markers",
         "name": "Scottish Gruit / Ancient Herbed Ale",
         "orientation": "v",
         "showlegend": true,
         "type": "scatter",
         "x": [
          0.036092560953200924
         ],
         "xaxis": "x",
         "y": [
          -0.12526477355056512
         ],
         "yaxis": "y"
        },
        {
         "hovertemplate": "color=Smoked Beer<br>x=%{x}<br>y=%{y}<extra></extra>",
         "legendgroup": "Smoked Beer",
         "marker": {
          "color": "#B6E880",
          "symbol": "circle"
         },
         "mode": "markers",
         "name": "Smoked Beer",
         "orientation": "v",
         "showlegend": true,
         "type": "scatter",
         "x": [
          -0.6356250221184881
         ],
         "xaxis": "x",
         "y": [
          -0.2898774258032695
         ],
         "yaxis": "y"
        },
        {
         "hovertemplate": "color=Tripel<br>x=%{x}<br>y=%{y}<extra></extra>",
         "legendgroup": "Tripel",
         "marker": {
          "color": "#FF97FF",
          "symbol": "circle"
         },
         "mode": "markers",
         "name": "Tripel",
         "orientation": "v",
         "showlegend": true,
         "type": "scatter",
         "x": [
          -1.792602789095392
         ],
         "xaxis": "x",
         "y": [
          0.9671968150735697
         ],
         "yaxis": "y"
        },
        {
         "hovertemplate": "color=Vienna Lager<br>x=%{x}<br>y=%{y}<extra></extra>",
         "legendgroup": "Vienna Lager",
         "marker": {
          "color": "#FECB52",
          "symbol": "circle"
         },
         "mode": "markers",
         "name": "Vienna Lager",
         "orientation": "v",
         "showlegend": true,
         "type": "scatter",
         "x": [
          1.1627227689603477
         ],
         "xaxis": "x",
         "y": [
          -0.4437059335811573
         ],
         "yaxis": "y"
        },
        {
         "hovertemplate": "color=Weizenbock<br>x=%{x}<br>y=%{y}<extra></extra>",
         "legendgroup": "Weizenbock",
         "marker": {
          "color": "#636efa",
          "symbol": "circle"
         },
         "mode": "markers",
         "name": "Weizenbock",
         "orientation": "v",
         "showlegend": true,
         "type": "scatter",
         "x": [
          -2.171564266120091
         ],
         "xaxis": "x",
         "y": [
          0.11231066011696418
         ],
         "yaxis": "y"
        },
        {
         "hovertemplate": "color=Wheatwine<br>x=%{x}<br>y=%{y}<extra></extra>",
         "legendgroup": "Wheatwine",
         "marker": {
          "color": "#EF553B",
          "symbol": "circle"
         },
         "mode": "markers",
         "name": "Wheatwine",
         "orientation": "v",
         "showlegend": true,
         "type": "scatter",
         "x": [
          -1.951549919798608
         ],
         "xaxis": "x",
         "y": [
          1.611539227302031
         ],
         "yaxis": "y"
        },
        {
         "hovertemplate": "color=Winter Warmer<br>x=%{x}<br>y=%{y}<extra></extra>",
         "legendgroup": "Winter Warmer",
         "marker": {
          "color": "#00cc96",
          "symbol": "circle"
         },
         "mode": "markers",
         "name": "Winter Warmer",
         "orientation": "v",
         "showlegend": true,
         "type": "scatter",
         "x": [
          -0.13553752409243383
         ],
         "xaxis": "x",
         "y": [
          0.34526829658063996
         ],
         "yaxis": "y"
        },
        {
         "hovertemplate": "color=Witbier<br>x=%{x}<br>y=%{y}<extra></extra>",
         "legendgroup": "Witbier",
         "marker": {
          "color": "#ab63fa",
          "symbol": "circle"
         },
         "mode": "markers",
         "name": "Witbier",
         "orientation": "v",
         "showlegend": true,
         "type": "scatter",
         "x": [
          0.5863508460364607
         ],
         "xaxis": "x",
         "y": [
          -0.4835389252928937
         ],
         "yaxis": "y"
        }
       ],
       "layout": {
        "height": 600,
        "legend": {
         "title": {
          "text": "color"
         },
         "tracegroupgap": 0
        },
        "margin": {
         "t": 60
        },
        "template": {
         "data": {
          "bar": [
           {
            "error_x": {
             "color": "#2a3f5f"
            },
            "error_y": {
             "color": "#2a3f5f"
            },
            "marker": {
             "line": {
              "color": "#E5ECF6",
              "width": 0.5
             },
             "pattern": {
              "fillmode": "overlay",
              "size": 10,
              "solidity": 0.2
             }
            },
            "type": "bar"
           }
          ],
          "barpolar": [
           {
            "marker": {
             "line": {
              "color": "#E5ECF6",
              "width": 0.5
             },
             "pattern": {
              "fillmode": "overlay",
              "size": 10,
              "solidity": 0.2
             }
            },
            "type": "barpolar"
           }
          ],
          "carpet": [
           {
            "aaxis": {
             "endlinecolor": "#2a3f5f",
             "gridcolor": "white",
             "linecolor": "white",
             "minorgridcolor": "white",
             "startlinecolor": "#2a3f5f"
            },
            "baxis": {
             "endlinecolor": "#2a3f5f",
             "gridcolor": "white",
             "linecolor": "white",
             "minorgridcolor": "white",
             "startlinecolor": "#2a3f5f"
            },
            "type": "carpet"
           }
          ],
          "choropleth": [
           {
            "colorbar": {
             "outlinewidth": 0,
             "ticks": ""
            },
            "type": "choropleth"
           }
          ],
          "contour": [
           {
            "colorbar": {
             "outlinewidth": 0,
             "ticks": ""
            },
            "colorscale": [
             [
              0,
              "#0d0887"
             ],
             [
              0.1111111111111111,
              "#46039f"
             ],
             [
              0.2222222222222222,
              "#7201a8"
             ],
             [
              0.3333333333333333,
              "#9c179e"
             ],
             [
              0.4444444444444444,
              "#bd3786"
             ],
             [
              0.5555555555555556,
              "#d8576b"
             ],
             [
              0.6666666666666666,
              "#ed7953"
             ],
             [
              0.7777777777777778,
              "#fb9f3a"
             ],
             [
              0.8888888888888888,
              "#fdca26"
             ],
             [
              1,
              "#f0f921"
             ]
            ],
            "type": "contour"
           }
          ],
          "contourcarpet": [
           {
            "colorbar": {
             "outlinewidth": 0,
             "ticks": ""
            },
            "type": "contourcarpet"
           }
          ],
          "heatmap": [
           {
            "colorbar": {
             "outlinewidth": 0,
             "ticks": ""
            },
            "colorscale": [
             [
              0,
              "#0d0887"
             ],
             [
              0.1111111111111111,
              "#46039f"
             ],
             [
              0.2222222222222222,
              "#7201a8"
             ],
             [
              0.3333333333333333,
              "#9c179e"
             ],
             [
              0.4444444444444444,
              "#bd3786"
             ],
             [
              0.5555555555555556,
              "#d8576b"
             ],
             [
              0.6666666666666666,
              "#ed7953"
             ],
             [
              0.7777777777777778,
              "#fb9f3a"
             ],
             [
              0.8888888888888888,
              "#fdca26"
             ],
             [
              1,
              "#f0f921"
             ]
            ],
            "type": "heatmap"
           }
          ],
          "heatmapgl": [
           {
            "colorbar": {
             "outlinewidth": 0,
             "ticks": ""
            },
            "colorscale": [
             [
              0,
              "#0d0887"
             ],
             [
              0.1111111111111111,
              "#46039f"
             ],
             [
              0.2222222222222222,
              "#7201a8"
             ],
             [
              0.3333333333333333,
              "#9c179e"
             ],
             [
              0.4444444444444444,
              "#bd3786"
             ],
             [
              0.5555555555555556,
              "#d8576b"
             ],
             [
              0.6666666666666666,
              "#ed7953"
             ],
             [
              0.7777777777777778,
              "#fb9f3a"
             ],
             [
              0.8888888888888888,
              "#fdca26"
             ],
             [
              1,
              "#f0f921"
             ]
            ],
            "type": "heatmapgl"
           }
          ],
          "histogram": [
           {
            "marker": {
             "pattern": {
              "fillmode": "overlay",
              "size": 10,
              "solidity": 0.2
             }
            },
            "type": "histogram"
           }
          ],
          "histogram2d": [
           {
            "colorbar": {
             "outlinewidth": 0,
             "ticks": ""
            },
            "colorscale": [
             [
              0,
              "#0d0887"
             ],
             [
              0.1111111111111111,
              "#46039f"
             ],
             [
              0.2222222222222222,
              "#7201a8"
             ],
             [
              0.3333333333333333,
              "#9c179e"
             ],
             [
              0.4444444444444444,
              "#bd3786"
             ],
             [
              0.5555555555555556,
              "#d8576b"
             ],
             [
              0.6666666666666666,
              "#ed7953"
             ],
             [
              0.7777777777777778,
              "#fb9f3a"
             ],
             [
              0.8888888888888888,
              "#fdca26"
             ],
             [
              1,
              "#f0f921"
             ]
            ],
            "type": "histogram2d"
           }
          ],
          "histogram2dcontour": [
           {
            "colorbar": {
             "outlinewidth": 0,
             "ticks": ""
            },
            "colorscale": [
             [
              0,
              "#0d0887"
             ],
             [
              0.1111111111111111,
              "#46039f"
             ],
             [
              0.2222222222222222,
              "#7201a8"
             ],
             [
              0.3333333333333333,
              "#9c179e"
             ],
             [
              0.4444444444444444,
              "#bd3786"
             ],
             [
              0.5555555555555556,
              "#d8576b"
             ],
             [
              0.6666666666666666,
              "#ed7953"
             ],
             [
              0.7777777777777778,
              "#fb9f3a"
             ],
             [
              0.8888888888888888,
              "#fdca26"
             ],
             [
              1,
              "#f0f921"
             ]
            ],
            "type": "histogram2dcontour"
           }
          ],
          "mesh3d": [
           {
            "colorbar": {
             "outlinewidth": 0,
             "ticks": ""
            },
            "type": "mesh3d"
           }
          ],
          "parcoords": [
           {
            "line": {
             "colorbar": {
              "outlinewidth": 0,
              "ticks": ""
             }
            },
            "type": "parcoords"
           }
          ],
          "pie": [
           {
            "automargin": true,
            "type": "pie"
           }
          ],
          "scatter": [
           {
            "fillpattern": {
             "fillmode": "overlay",
             "size": 10,
             "solidity": 0.2
            },
            "type": "scatter"
           }
          ],
          "scatter3d": [
           {
            "line": {
             "colorbar": {
              "outlinewidth": 0,
              "ticks": ""
             }
            },
            "marker": {
             "colorbar": {
              "outlinewidth": 0,
              "ticks": ""
             }
            },
            "type": "scatter3d"
           }
          ],
          "scattercarpet": [
           {
            "marker": {
             "colorbar": {
              "outlinewidth": 0,
              "ticks": ""
             }
            },
            "type": "scattercarpet"
           }
          ],
          "scattergeo": [
           {
            "marker": {
             "colorbar": {
              "outlinewidth": 0,
              "ticks": ""
             }
            },
            "type": "scattergeo"
           }
          ],
          "scattergl": [
           {
            "marker": {
             "colorbar": {
              "outlinewidth": 0,
              "ticks": ""
             }
            },
            "type": "scattergl"
           }
          ],
          "scattermapbox": [
           {
            "marker": {
             "colorbar": {
              "outlinewidth": 0,
              "ticks": ""
             }
            },
            "type": "scattermapbox"
           }
          ],
          "scatterpolar": [
           {
            "marker": {
             "colorbar": {
              "outlinewidth": 0,
              "ticks": ""
             }
            },
            "type": "scatterpolar"
           }
          ],
          "scatterpolargl": [
           {
            "marker": {
             "colorbar": {
              "outlinewidth": 0,
              "ticks": ""
             }
            },
            "type": "scatterpolargl"
           }
          ],
          "scatterternary": [
           {
            "marker": {
             "colorbar": {
              "outlinewidth": 0,
              "ticks": ""
             }
            },
            "type": "scatterternary"
           }
          ],
          "surface": [
           {
            "colorbar": {
             "outlinewidth": 0,
             "ticks": ""
            },
            "colorscale": [
             [
              0,
              "#0d0887"
             ],
             [
              0.1111111111111111,
              "#46039f"
             ],
             [
              0.2222222222222222,
              "#7201a8"
             ],
             [
              0.3333333333333333,
              "#9c179e"
             ],
             [
              0.4444444444444444,
              "#bd3786"
             ],
             [
              0.5555555555555556,
              "#d8576b"
             ],
             [
              0.6666666666666666,
              "#ed7953"
             ],
             [
              0.7777777777777778,
              "#fb9f3a"
             ],
             [
              0.8888888888888888,
              "#fdca26"
             ],
             [
              1,
              "#f0f921"
             ]
            ],
            "type": "surface"
           }
          ],
          "table": [
           {
            "cells": {
             "fill": {
              "color": "#EBF0F8"
             },
             "line": {
              "color": "white"
             }
            },
            "header": {
             "fill": {
              "color": "#C8D4E3"
             },
             "line": {
              "color": "white"
             }
            },
            "type": "table"
           }
          ]
         },
         "layout": {
          "annotationdefaults": {
           "arrowcolor": "#2a3f5f",
           "arrowhead": 0,
           "arrowwidth": 1
          },
          "autotypenumbers": "strict",
          "coloraxis": {
           "colorbar": {
            "outlinewidth": 0,
            "ticks": ""
           }
          },
          "colorscale": {
           "diverging": [
            [
             0,
             "#8e0152"
            ],
            [
             0.1,
             "#c51b7d"
            ],
            [
             0.2,
             "#de77ae"
            ],
            [
             0.3,
             "#f1b6da"
            ],
            [
             0.4,
             "#fde0ef"
            ],
            [
             0.5,
             "#f7f7f7"
            ],
            [
             0.6,
             "#e6f5d0"
            ],
            [
             0.7,
             "#b8e186"
            ],
            [
             0.8,
             "#7fbc41"
            ],
            [
             0.9,
             "#4d9221"
            ],
            [
             1,
             "#276419"
            ]
           ],
           "sequential": [
            [
             0,
             "#0d0887"
            ],
            [
             0.1111111111111111,
             "#46039f"
            ],
            [
             0.2222222222222222,
             "#7201a8"
            ],
            [
             0.3333333333333333,
             "#9c179e"
            ],
            [
             0.4444444444444444,
             "#bd3786"
            ],
            [
             0.5555555555555556,
             "#d8576b"
            ],
            [
             0.6666666666666666,
             "#ed7953"
            ],
            [
             0.7777777777777778,
             "#fb9f3a"
            ],
            [
             0.8888888888888888,
             "#fdca26"
            ],
            [
             1,
             "#f0f921"
            ]
           ],
           "sequentialminus": [
            [
             0,
             "#0d0887"
            ],
            [
             0.1111111111111111,
             "#46039f"
            ],
            [
             0.2222222222222222,
             "#7201a8"
            ],
            [
             0.3333333333333333,
             "#9c179e"
            ],
            [
             0.4444444444444444,
             "#bd3786"
            ],
            [
             0.5555555555555556,
             "#d8576b"
            ],
            [
             0.6666666666666666,
             "#ed7953"
            ],
            [
             0.7777777777777778,
             "#fb9f3a"
            ],
            [
             0.8888888888888888,
             "#fdca26"
            ],
            [
             1,
             "#f0f921"
            ]
           ]
          },
          "colorway": [
           "#636efa",
           "#EF553B",
           "#00cc96",
           "#ab63fa",
           "#FFA15A",
           "#19d3f3",
           "#FF6692",
           "#B6E880",
           "#FF97FF",
           "#FECB52"
          ],
          "font": {
           "color": "#2a3f5f"
          },
          "geo": {
           "bgcolor": "white",
           "lakecolor": "white",
           "landcolor": "#E5ECF6",
           "showlakes": true,
           "showland": true,
           "subunitcolor": "white"
          },
          "hoverlabel": {
           "align": "left"
          },
          "hovermode": "closest",
          "mapbox": {
           "style": "light"
          },
          "paper_bgcolor": "white",
          "plot_bgcolor": "#E5ECF6",
          "polar": {
           "angularaxis": {
            "gridcolor": "white",
            "linecolor": "white",
            "ticks": ""
           },
           "bgcolor": "#E5ECF6",
           "radialaxis": {
            "gridcolor": "white",
            "linecolor": "white",
            "ticks": ""
           }
          },
          "scene": {
           "xaxis": {
            "backgroundcolor": "#E5ECF6",
            "gridcolor": "white",
            "gridwidth": 2,
            "linecolor": "white",
            "showbackground": true,
            "ticks": "",
            "zerolinecolor": "white"
           },
           "yaxis": {
            "backgroundcolor": "#E5ECF6",
            "gridcolor": "white",
            "gridwidth": 2,
            "linecolor": "white",
            "showbackground": true,
            "ticks": "",
            "zerolinecolor": "white"
           },
           "zaxis": {
            "backgroundcolor": "#E5ECF6",
            "gridcolor": "white",
            "gridwidth": 2,
            "linecolor": "white",
            "showbackground": true,
            "ticks": "",
            "zerolinecolor": "white"
           }
          },
          "shapedefaults": {
           "line": {
            "color": "#2a3f5f"
           }
          },
          "ternary": {
           "aaxis": {
            "gridcolor": "white",
            "linecolor": "white",
            "ticks": ""
           },
           "baxis": {
            "gridcolor": "white",
            "linecolor": "white",
            "ticks": ""
           },
           "bgcolor": "#E5ECF6",
           "caxis": {
            "gridcolor": "white",
            "linecolor": "white",
            "ticks": ""
           }
          },
          "title": {
           "x": 0.05
          },
          "xaxis": {
           "automargin": true,
           "gridcolor": "white",
           "linecolor": "white",
           "ticks": "",
           "title": {
            "standoff": 15
           },
           "zerolinecolor": "white",
           "zerolinewidth": 2
          },
          "yaxis": {
           "automargin": true,
           "gridcolor": "white",
           "linecolor": "white",
           "ticks": "",
           "title": {
            "standoff": 15
           },
           "zerolinecolor": "white",
           "zerolinewidth": 2
          }
         }
        },
        "title": {
         "text": "PCA - Beer styles"
        },
        "width": 1000,
        "xaxis": {
         "anchor": "y",
         "domain": [
          0,
          1
         ],
         "title": {
          "text": "x"
         }
        },
        "yaxis": {
         "anchor": "x",
         "domain": [
          0,
          1
         ],
         "title": {
          "text": "y"
         }
        }
       }
      }
     },
     "metadata": {},
     "output_type": "display_data"
    }
   ],
   "source": [
    "X_reduced_pca = PCA(n_components=2).fit(X).transform(X)\n",
    "\n",
    "# Plot the data reduced in 2d space with PCA\n",
    "fig = px.scatter(x=X_reduced_pca[:,0], y=X_reduced_pca[:,1], color=style_labels)\n",
    "fig.update_layout(\n",
    "    title='PCA - Beer styles',\n",
    "    width=1000,\n",
    "    height=600,\n",
    ")\n",
    "fig.show()"
   ]
  },
  {
   "attachments": {},
   "cell_type": "markdown",
   "metadata": {},
   "source": [
    "Visually, groups are hardly distinguishable."
   ]
  },
  {
   "attachments": {},
   "cell_type": "markdown",
   "metadata": {},
   "source": [
    "Considering projections on other PCA components, the results remain quite disappointing. "
   ]
  },
  {
   "cell_type": "code",
   "execution_count": 26,
   "metadata": {},
   "outputs": [
    {
     "data": {
      "application/vnd.plotly.v1+json": {
       "config": {
        "plotlyServerURL": "https://plot.ly"
       },
       "data": [
        {
         "diagonal": {
          "visible": false
         },
         "dimensions": [
          {
           "axis": {
            "matches": true
           },
           "label": "PC 1 (88.9%)",
           "values": [
            0.12663660330925097
           ]
          },
          {
           "axis": {
            "matches": true
           },
           "label": "PC 2 (10.2%)",
           "values": [
            -0.38632646004663335
           ]
          },
          {
           "axis": {
            "matches": true
           },
           "label": "PC 3 (0.5%)",
           "values": [
            0.020048438082022852
           ]
          },
          {
           "axis": {
            "matches": true
           },
           "label": "PC 4 (0.3%)",
           "values": [
            -0.131274993554809
           ]
          }
         ],
         "hovertemplate": "color=Altbier<br>%{xaxis.title.text}=%{x}<br>%{yaxis.title.text}=%{y}<extra></extra>",
         "legendgroup": "Altbier",
         "marker": {
          "color": "#636efa",
          "symbol": "circle"
         },
         "name": "Altbier",
         "showlegend": true,
         "type": "splom"
        },
        {
         "diagonal": {
          "visible": false
         },
         "dimensions": [
          {
           "axis": {
            "matches": true
           },
           "label": "PC 1 (88.9%)",
           "values": [
            7.177979834058069
           ]
          },
          {
           "axis": {
            "matches": true
           },
           "label": "PC 2 (10.2%)",
           "values": [
            0.8805321890831918
           ]
          },
          {
           "axis": {
            "matches": true
           },
           "label": "PC 3 (0.5%)",
           "values": [
            -0.343988284723199
           ]
          },
          {
           "axis": {
            "matches": true
           },
           "label": "PC 4 (0.3%)",
           "values": [
            -0.19967043794837128
           ]
          }
         ],
         "hovertemplate": "color=American Adjunct Lager<br>%{xaxis.title.text}=%{x}<br>%{yaxis.title.text}=%{y}<extra></extra>",
         "legendgroup": "American Adjunct Lager",
         "marker": {
          "color": "#EF553B",
          "symbol": "circle"
         },
         "name": "American Adjunct Lager",
         "showlegend": true,
         "type": "splom"
        },
        {
         "diagonal": {
          "visible": false
         },
         "dimensions": [
          {
           "axis": {
            "matches": true
           },
           "label": "PC 1 (88.9%)",
           "values": [
            -0.13155199890737632
           ]
          },
          {
           "axis": {
            "matches": true
           },
           "label": "PC 2 (10.2%)",
           "values": [
            -0.24381782739171362
           ]
          },
          {
           "axis": {
            "matches": true
           },
           "label": "PC 3 (0.5%)",
           "values": [
            0.10096870389298665
           ]
          },
          {
           "axis": {
            "matches": true
           },
           "label": "PC 4 (0.3%)",
           "values": [
            -0.047536662334637325
           ]
          }
         ],
         "hovertemplate": "color=American Amber / Red Ale<br>%{xaxis.title.text}=%{x}<br>%{yaxis.title.text}=%{y}<extra></extra>",
         "legendgroup": "American Amber / Red Ale",
         "marker": {
          "color": "#00cc96",
          "symbol": "circle"
         },
         "name": "American Amber / Red Ale",
         "showlegend": true,
         "type": "splom"
        },
        {
         "diagonal": {
          "visible": false
         },
         "dimensions": [
          {
           "axis": {
            "matches": true
           },
           "label": "PC 1 (88.9%)",
           "values": [
            2.408624456420969
           ]
          },
          {
           "axis": {
            "matches": true
           },
           "label": "PC 2 (10.2%)",
           "values": [
            0.018798617101952596
           ]
          },
          {
           "axis": {
            "matches": true
           },
           "label": "PC 3 (0.5%)",
           "values": [
            0.05814251962987393
           ]
          },
          {
           "axis": {
            "matches": true
           },
           "label": "PC 4 (0.3%)",
           "values": [
            -0.20847059474070512
           ]
          }
         ],
         "hovertemplate": "color=American Amber / Red Lager<br>%{xaxis.title.text}=%{x}<br>%{yaxis.title.text}=%{y}<extra></extra>",
         "legendgroup": "American Amber / Red Lager",
         "marker": {
          "color": "#ab63fa",
          "symbol": "circle"
         },
         "name": "American Amber / Red Lager",
         "showlegend": true,
         "type": "splom"
        },
        {
         "diagonal": {
          "visible": false
         },
         "dimensions": [
          {
           "axis": {
            "matches": true
           },
           "label": "PC 1 (88.9%)",
           "values": [
            -2.5509928600368643
           ]
          },
          {
           "axis": {
            "matches": true
           },
           "label": "PC 2 (10.2%)",
           "values": [
            1.8038818475429392
           ]
          },
          {
           "axis": {
            "matches": true
           },
           "label": "PC 3 (0.5%)",
           "values": [
            0.04691242681420556
           ]
          },
          {
           "axis": {
            "matches": true
           },
           "label": "PC 4 (0.3%)",
           "values": [
            -0.015400584000023467
           ]
          }
         ],
         "hovertemplate": "color=American Barleywine<br>%{xaxis.title.text}=%{x}<br>%{yaxis.title.text}=%{y}<extra></extra>",
         "legendgroup": "American Barleywine",
         "marker": {
          "color": "#FFA15A",
          "symbol": "circle"
         },
         "name": "American Barleywine",
         "showlegend": true,
         "type": "splom"
        },
        {
         "diagonal": {
          "visible": false
         },
         "dimensions": [
          {
           "axis": {
            "matches": true
           },
           "label": "PC 1 (88.9%)",
           "values": [
            -1.7012630905756987
           ]
          },
          {
           "axis": {
            "matches": true
           },
           "label": "PC 2 (10.2%)",
           "values": [
            -0.05967585079878701
           ]
          },
          {
           "axis": {
            "matches": true
           },
           "label": "PC 3 (0.5%)",
           "values": [
            0.24751428544700138
           ]
          },
          {
           "axis": {
            "matches": true
           },
           "label": "PC 4 (0.3%)",
           "values": [
            -0.03899364877916008
           ]
          }
         ],
         "hovertemplate": "color=American Black Ale<br>%{xaxis.title.text}=%{x}<br>%{yaxis.title.text}=%{y}<extra></extra>",
         "legendgroup": "American Black Ale",
         "marker": {
          "color": "#19d3f3",
          "symbol": "circle"
         },
         "name": "American Black Ale",
         "showlegend": true,
         "type": "splom"
        },
        {
         "diagonal": {
          "visible": false
         },
         "dimensions": [
          {
           "axis": {
            "matches": true
           },
           "label": "PC 1 (88.9%)",
           "values": [
            1.3105447433394648
           ]
          },
          {
           "axis": {
            "matches": true
           },
           "label": "PC 2 (10.2%)",
           "values": [
            -0.38796288800574547
           ]
          },
          {
           "axis": {
            "matches": true
           },
           "label": "PC 3 (0.5%)",
           "values": [
            -0.1018349079621236
           ]
          },
          {
           "axis": {
            "matches": true
           },
           "label": "PC 4 (0.3%)",
           "values": [
            -0.012060006341240496
           ]
          }
         ],
         "hovertemplate": "color=American Blonde Ale<br>%{xaxis.title.text}=%{x}<br>%{yaxis.title.text}=%{y}<extra></extra>",
         "legendgroup": "American Blonde Ale",
         "marker": {
          "color": "#FF6692",
          "symbol": "circle"
         },
         "name": "American Blonde Ale",
         "showlegend": true,
         "type": "splom"
        },
        {
         "diagonal": {
          "visible": false
         },
         "dimensions": [
          {
           "axis": {
            "matches": true
           },
           "label": "PC 1 (88.9%)",
           "values": [
            -0.7981745481965387
           ]
          },
          {
           "axis": {
            "matches": true
           },
           "label": "PC 2 (10.2%)",
           "values": [
            -0.26465603482696926
           ]
          },
          {
           "axis": {
            "matches": true
           },
           "label": "PC 3 (0.5%)",
           "values": [
            -0.003127131067773012
           ]
          },
          {
           "axis": {
            "matches": true
           },
           "label": "PC 4 (0.3%)",
           "values": [
            0.0496535210107079
           ]
          }
         ],
         "hovertemplate": "color=American Brown Ale<br>%{xaxis.title.text}=%{x}<br>%{yaxis.title.text}=%{y}<extra></extra>",
         "legendgroup": "American Brown Ale",
         "marker": {
          "color": "#B6E880",
          "symbol": "circle"
         },
         "name": "American Brown Ale",
         "showlegend": true,
         "type": "splom"
        },
        {
         "diagonal": {
          "visible": false
         },
         "dimensions": [
          {
           "axis": {
            "matches": true
           },
           "label": "PC 1 (88.9%)",
           "values": [
            0.7299737630650232
           ]
          },
          {
           "axis": {
            "matches": true
           },
           "label": "PC 2 (10.2%)",
           "values": [
            -0.022537837703311914
           ]
          },
          {
           "axis": {
            "matches": true
           },
           "label": "PC 3 (0.5%)",
           "values": [
            0.04357569013770869
           ]
          },
          {
           "axis": {
            "matches": true
           },
           "label": "PC 4 (0.3%)",
           "values": [
            0.06544705439749787
           ]
          }
         ],
         "hovertemplate": "color=American Dark Wheat Ale<br>%{xaxis.title.text}=%{x}<br>%{yaxis.title.text}=%{y}<extra></extra>",
         "legendgroup": "American Dark Wheat Ale",
         "marker": {
          "color": "#FF97FF",
          "symbol": "circle"
         },
         "name": "American Dark Wheat Ale",
         "showlegend": true,
         "type": "splom"
        },
        {
         "diagonal": {
          "visible": false
         },
         "dimensions": [
          {
           "axis": {
            "matches": true
           },
           "label": "PC 1 (88.9%)",
           "values": [
            -3.2289675604421215
           ]
          },
          {
           "axis": {
            "matches": true
           },
           "label": "PC 2 (10.2%)",
           "values": [
            0.5590190960053856
           ]
          },
          {
           "axis": {
            "matches": true
           },
           "label": "PC 3 (0.5%)",
           "values": [
            0.01044752346378477
           ]
          },
          {
           "axis": {
            "matches": true
           },
           "label": "PC 4 (0.3%)",
           "values": [
            -0.019226966809994545
           ]
          }
         ],
         "hovertemplate": "color=American Double / Imperial IPA<br>%{xaxis.title.text}=%{x}<br>%{yaxis.title.text}=%{y}<extra></extra>",
         "legendgroup": "American Double / Imperial IPA",
         "marker": {
          "color": "#FECB52",
          "symbol": "circle"
         },
         "name": "American Double / Imperial IPA",
         "showlegend": true,
         "type": "splom"
        },
        {
         "diagonal": {
          "visible": false
         },
         "dimensions": [
          {
           "axis": {
            "matches": true
           },
           "label": "PC 1 (88.9%)",
           "values": [
            -1.507951134267076
           ]
          },
          {
           "axis": {
            "matches": true
           },
           "label": "PC 2 (10.2%)",
           "values": [
            0.2605166251866374
           ]
          },
          {
           "axis": {
            "matches": true
           },
           "label": "PC 3 (0.5%)",
           "values": [
            0.09481043082858782
           ]
          },
          {
           "axis": {
            "matches": true
           },
           "label": "PC 4 (0.3%)",
           "values": [
            -0.020664423535270086
           ]
          }
         ],
         "hovertemplate": "color=American Double / Imperial Pilsner<br>%{xaxis.title.text}=%{x}<br>%{yaxis.title.text}=%{y}<extra></extra>",
         "legendgroup": "American Double / Imperial Pilsner",
         "marker": {
          "color": "#636efa",
          "symbol": "circle"
         },
         "name": "American Double / Imperial Pilsner",
         "showlegend": true,
         "type": "splom"
        },
        {
         "diagonal": {
          "visible": false
         },
         "dimensions": [
          {
           "axis": {
            "matches": true
           },
           "label": "PC 1 (88.9%)",
           "values": [
            -4.147287373108786
           ]
          },
          {
           "axis": {
            "matches": true
           },
           "label": "PC 2 (10.2%)",
           "values": [
            1.2084953945954893
           ]
          },
          {
           "axis": {
            "matches": true
           },
           "label": "PC 3 (0.5%)",
           "values": [
            0.1347987331585442
           ]
          },
          {
           "axis": {
            "matches": true
           },
           "label": "PC 4 (0.3%)",
           "values": [
            -0.10905930966199602
           ]
          }
         ],
         "hovertemplate": "color=American Double / Imperial Stout<br>%{xaxis.title.text}=%{x}<br>%{yaxis.title.text}=%{y}<extra></extra>",
         "legendgroup": "American Double / Imperial Stout",
         "marker": {
          "color": "#EF553B",
          "symbol": "circle"
         },
         "name": "American Double / Imperial Stout",
         "showlegend": true,
         "type": "splom"
        },
        {
         "diagonal": {
          "visible": false
         },
         "dimensions": [
          {
           "axis": {
            "matches": true
           },
           "label": "PC 1 (88.9%)",
           "values": [
            -1.6471380694771882
           ]
          },
          {
           "axis": {
            "matches": true
           },
           "label": "PC 2 (10.2%)",
           "values": [
            -0.3854364570912546
           ]
          },
          {
           "axis": {
            "matches": true
           },
           "label": "PC 3 (0.5%)",
           "values": [
            -0.003340584912236913
           ]
          },
          {
           "axis": {
            "matches": true
           },
           "label": "PC 4 (0.3%)",
           "values": [
            0.03653674586843862
           ]
          }
         ],
         "hovertemplate": "color=American IPA<br>%{xaxis.title.text}=%{x}<br>%{yaxis.title.text}=%{y}<extra></extra>",
         "legendgroup": "American IPA",
         "marker": {
          "color": "#00cc96",
          "symbol": "circle"
         },
         "name": "American IPA",
         "showlegend": true,
         "type": "splom"
        },
        {
         "diagonal": {
          "visible": false
         },
         "dimensions": [
          {
           "axis": {
            "matches": true
           },
           "label": "PC 1 (88.9%)",
           "values": [
            7.7466319725566155
           ]
          },
          {
           "axis": {
            "matches": true
           },
           "label": "PC 2 (10.2%)",
           "values": [
            2.7791873523993664
           ]
          },
          {
           "axis": {
            "matches": true
           },
           "label": "PC 3 (0.5%)",
           "values": [
            0.0708182342088487
           ]
          },
          {
           "axis": {
            "matches": true
           },
           "label": "PC 4 (0.3%)",
           "values": [
            -0.011862197781047938
           ]
          }
         ],
         "hovertemplate": "color=American Malt Liquor<br>%{xaxis.title.text}=%{x}<br>%{yaxis.title.text}=%{y}<extra></extra>",
         "legendgroup": "American Malt Liquor",
         "marker": {
          "color": "#ab63fa",
          "symbol": "circle"
         },
         "name": "American Malt Liquor",
         "showlegend": true,
         "type": "splom"
        },
        {
         "diagonal": {
          "visible": false
         },
         "dimensions": [
          {
           "axis": {
            "matches": true
           },
           "label": "PC 1 (88.9%)",
           "values": [
            -0.8537918741829035
           ]
          },
          {
           "axis": {
            "matches": true
           },
           "label": "PC 2 (10.2%)",
           "values": [
            -0.7509169268580139
           ]
          },
          {
           "axis": {
            "matches": true
           },
           "label": "PC 3 (0.5%)",
           "values": [
            -0.04185401268924947
           ]
          },
          {
           "axis": {
            "matches": true
           },
           "label": "PC 4 (0.3%)",
           "values": [
            0.019331094511362168
           ]
          }
         ],
         "hovertemplate": "color=American Pale Ale (APA)<br>%{xaxis.title.text}=%{x}<br>%{yaxis.title.text}=%{y}<extra></extra>",
         "legendgroup": "American Pale Ale (APA)",
         "marker": {
          "color": "#FFA15A",
          "symbol": "circle"
         },
         "name": "American Pale Ale (APA)",
         "showlegend": true,
         "type": "splom"
        },
        {
         "diagonal": {
          "visible": false
         },
         "dimensions": [
          {
           "axis": {
            "matches": true
           },
           "label": "PC 1 (88.9%)",
           "values": [
            1.6620141401523763
           ]
          },
          {
           "axis": {
            "matches": true
           },
           "label": "PC 2 (10.2%)",
           "values": [
            -0.21969060465472987
           ]
          },
          {
           "axis": {
            "matches": true
           },
           "label": "PC 3 (0.5%)",
           "values": [
            -0.10933790467011803
           ]
          },
          {
           "axis": {
            "matches": true
           },
           "label": "PC 4 (0.3%)",
           "values": [
            -0.049523994865995416
           ]
          }
         ],
         "hovertemplate": "color=American Pale Lager<br>%{xaxis.title.text}=%{x}<br>%{yaxis.title.text}=%{y}<extra></extra>",
         "legendgroup": "American Pale Lager",
         "marker": {
          "color": "#19d3f3",
          "symbol": "circle"
         },
         "name": "American Pale Lager",
         "showlegend": true,
         "type": "splom"
        },
        {
         "diagonal": {
          "visible": false
         },
         "dimensions": [
          {
           "axis": {
            "matches": true
           },
           "label": "PC 1 (88.9%)",
           "values": [
            0.7621963873753294
           ]
          },
          {
           "axis": {
            "matches": true
           },
           "label": "PC 2 (10.2%)",
           "values": [
            -0.449975482376452
           ]
          },
          {
           "axis": {
            "matches": true
           },
           "label": "PC 3 (0.5%)",
           "values": [
            -0.14826251126584428
           ]
          },
          {
           "axis": {
            "matches": true
           },
           "label": "PC 4 (0.3%)",
           "values": [
            -0.0032464656962644676
           ]
          }
         ],
         "hovertemplate": "color=American Pale Wheat Ale<br>%{xaxis.title.text}=%{x}<br>%{yaxis.title.text}=%{y}<extra></extra>",
         "legendgroup": "American Pale Wheat Ale",
         "marker": {
          "color": "#FF6692",
          "symbol": "circle"
         },
         "name": "American Pale Wheat Ale",
         "showlegend": true,
         "type": "splom"
        },
        {
         "diagonal": {
          "visible": false
         },
         "dimensions": [
          {
           "axis": {
            "matches": true
           },
           "label": "PC 1 (88.9%)",
           "values": [
            -1.6438086144073984
           ]
          },
          {
           "axis": {
            "matches": true
           },
           "label": "PC 2 (10.2%)",
           "values": [
            -0.24469890363907462
           ]
          },
          {
           "axis": {
            "matches": true
           },
           "label": "PC 3 (0.5%)",
           "values": [
            0.09433388825599592
           ]
          },
          {
           "axis": {
            "matches": true
           },
           "label": "PC 4 (0.3%)",
           "values": [
            0.052483020245098
           ]
          }
         ],
         "hovertemplate": "color=American Porter<br>%{xaxis.title.text}=%{x}<br>%{yaxis.title.text}=%{y}<extra></extra>",
         "legendgroup": "American Porter",
         "marker": {
          "color": "#B6E880",
          "symbol": "circle"
         },
         "name": "American Porter",
         "showlegend": true,
         "type": "splom"
        },
        {
         "diagonal": {
          "visible": false
         },
         "dimensions": [
          {
           "axis": {
            "matches": true
           },
           "label": "PC 1 (88.9%)",
           "values": [
            -1.168706414014519
           ]
          },
          {
           "axis": {
            "matches": true
           },
           "label": "PC 2 (10.2%)",
           "values": [
            -0.2544363678083607
           ]
          },
          {
           "axis": {
            "matches": true
           },
           "label": "PC 3 (0.5%)",
           "values": [
            0.21975448398789602
           ]
          },
          {
           "axis": {
            "matches": true
           },
           "label": "PC 4 (0.3%)",
           "values": [
            0.12414329599520312
           ]
          }
         ],
         "hovertemplate": "color=American Stout<br>%{xaxis.title.text}=%{x}<br>%{yaxis.title.text}=%{y}<extra></extra>",
         "legendgroup": "American Stout",
         "marker": {
          "color": "#FF97FF",
          "symbol": "circle"
         },
         "name": "American Stout",
         "showlegend": true,
         "type": "splom"
        },
        {
         "diagonal": {
          "visible": false
         },
         "dimensions": [
          {
           "axis": {
            "matches": true
           },
           "label": "PC 1 (88.9%)",
           "values": [
            -2.386736668221967
           ]
          },
          {
           "axis": {
            "matches": true
           },
           "label": "PC 2 (10.2%)",
           "values": [
            1.1064673288376285
           ]
          },
          {
           "axis": {
            "matches": true
           },
           "label": "PC 3 (0.5%)",
           "values": [
            0.05015257899934687
           ]
          },
          {
           "axis": {
            "matches": true
           },
           "label": "PC 4 (0.3%)",
           "values": [
            0.03551205643954095
           ]
          }
         ],
         "hovertemplate": "color=American Strong Ale<br>%{xaxis.title.text}=%{x}<br>%{yaxis.title.text}=%{y}<extra></extra>",
         "legendgroup": "American Strong Ale",
         "marker": {
          "color": "#FECB52",
          "symbol": "circle"
         },
         "name": "American Strong Ale",
         "showlegend": true,
         "type": "splom"
        },
        {
         "diagonal": {
          "visible": false
         },
         "dimensions": [
          {
           "axis": {
            "matches": true
           },
           "label": "PC 1 (88.9%)",
           "values": [
            -2.7169451381946286
           ]
          },
          {
           "axis": {
            "matches": true
           },
           "label": "PC 2 (10.2%)",
           "values": [
            -0.6046455020010737
           ]
          },
          {
           "axis": {
            "matches": true
           },
           "label": "PC 3 (0.5%)",
           "values": [
            -0.16539717541715743
           ]
          },
          {
           "axis": {
            "matches": true
           },
           "label": "PC 4 (0.3%)",
           "values": [
            0.05635160065070595
           ]
          }
         ],
         "hovertemplate": "color=American Wild Ale<br>%{xaxis.title.text}=%{x}<br>%{yaxis.title.text}=%{y}<extra></extra>",
         "legendgroup": "American Wild Ale",
         "marker": {
          "color": "#636efa",
          "symbol": "circle"
         },
         "name": "American Wild Ale",
         "showlegend": true,
         "type": "splom"
        },
        {
         "diagonal": {
          "visible": false
         },
         "dimensions": [
          {
           "axis": {
            "matches": true
           },
           "label": "PC 1 (88.9%)",
           "values": [
            -2.146765200543
           ]
          },
          {
           "axis": {
            "matches": true
           },
           "label": "PC 2 (10.2%)",
           "values": [
            0.460899355498863
           ]
          },
          {
           "axis": {
            "matches": true
           },
           "label": "PC 3 (0.5%)",
           "values": [
            0.08858490890232326
           ]
          },
          {
           "axis": {
            "matches": true
           },
           "label": "PC 4 (0.3%)",
           "values": [
            -0.05080906718465758
           ]
          }
         ],
         "hovertemplate": "color=Baltic Porter<br>%{xaxis.title.text}=%{x}<br>%{yaxis.title.text}=%{y}<extra></extra>",
         "legendgroup": "Baltic Porter",
         "marker": {
          "color": "#EF553B",
          "symbol": "circle"
         },
         "name": "Baltic Porter",
         "showlegend": true,
         "type": "splom"
        },
        {
         "diagonal": {
          "visible": false
         },
         "dimensions": [
          {
           "axis": {
            "matches": true
           },
           "label": "PC 1 (88.9%)",
           "values": [
            -0.03921954055111848
           ]
          },
          {
           "axis": {
            "matches": true
           },
           "label": "PC 2 (10.2%)",
           "values": [
            0.03319661134854697
           ]
          },
          {
           "axis": {
            "matches": true
           },
           "label": "PC 3 (0.5%)",
           "values": [
            0.2742558540384107
           ]
          },
          {
           "axis": {
            "matches": true
           },
           "label": "PC 4 (0.3%)",
           "values": [
            0.055393256958693494
           ]
          }
         ],
         "hovertemplate": "color=Belgian Dark Ale<br>%{xaxis.title.text}=%{x}<br>%{yaxis.title.text}=%{y}<extra></extra>",
         "legendgroup": "Belgian Dark Ale",
         "marker": {
          "color": "#00cc96",
          "symbol": "circle"
         },
         "name": "Belgian Dark Ale",
         "showlegend": true,
         "type": "splom"
        },
        {
         "diagonal": {
          "visible": false
         },
         "dimensions": [
          {
           "axis": {
            "matches": true
           },
           "label": "PC 1 (88.9%)",
           "values": [
            -1.367553257725197
           ]
          },
          {
           "axis": {
            "matches": true
           },
           "label": "PC 2 (10.2%)",
           "values": [
            0.07955001468558955
           ]
          },
          {
           "axis": {
            "matches": true
           },
           "label": "PC 3 (0.5%)",
           "values": [
            0.09143080524704222
           ]
          },
          {
           "axis": {
            "matches": true
           },
           "label": "PC 4 (0.3%)",
           "values": [
            0.03776392348063719
           ]
          }
         ],
         "hovertemplate": "color=Belgian IPA<br>%{xaxis.title.text}=%{x}<br>%{yaxis.title.text}=%{y}<extra></extra>",
         "legendgroup": "Belgian IPA",
         "marker": {
          "color": "#ab63fa",
          "symbol": "circle"
         },
         "name": "Belgian IPA",
         "showlegend": true,
         "type": "splom"
        },
        {
         "diagonal": {
          "visible": false
         },
         "dimensions": [
          {
           "axis": {
            "matches": true
           },
           "label": "PC 1 (88.9%)",
           "values": [
            -0.2637324899907241
           ]
          },
          {
           "axis": {
            "matches": true
           },
           "label": "PC 2 (10.2%)",
           "values": [
            -0.38316002614154665
           ]
          },
          {
           "axis": {
            "matches": true
           },
           "label": "PC 3 (0.5%)",
           "values": [
            0.051685209588664696
           ]
          },
          {
           "axis": {
            "matches": true
           },
           "label": "PC 4 (0.3%)",
           "values": [
            0.0380196241261378
           ]
          }
         ],
         "hovertemplate": "color=Belgian Pale Ale<br>%{xaxis.title.text}=%{x}<br>%{yaxis.title.text}=%{y}<extra></extra>",
         "legendgroup": "Belgian Pale Ale",
         "marker": {
          "color": "#FFA15A",
          "symbol": "circle"
         },
         "name": "Belgian Pale Ale",
         "showlegend": true,
         "type": "splom"
        },
        {
         "diagonal": {
          "visible": false
         },
         "dimensions": [
          {
           "axis": {
            "matches": true
           },
           "label": "PC 1 (88.9%)",
           "values": [
            -2.178753388656178
           ]
          },
          {
           "axis": {
            "matches": true
           },
           "label": "PC 2 (10.2%)",
           "values": [
            1.0301073729143337
           ]
          },
          {
           "axis": {
            "matches": true
           },
           "label": "PC 3 (0.5%)",
           "values": [
            0.025736487641388014
           ]
          },
          {
           "axis": {
            "matches": true
           },
           "label": "PC 4 (0.3%)",
           "values": [
            0.0028455829448326155
           ]
          }
         ],
         "hovertemplate": "color=Belgian Strong Dark Ale<br>%{xaxis.title.text}=%{x}<br>%{yaxis.title.text}=%{y}<extra></extra>",
         "legendgroup": "Belgian Strong Dark Ale",
         "marker": {
          "color": "#19d3f3",
          "symbol": "circle"
         },
         "name": "Belgian Strong Dark Ale",
         "showlegend": true,
         "type": "splom"
        },
        {
         "diagonal": {
          "visible": false
         },
         "dimensions": [
          {
           "axis": {
            "matches": true
           },
           "label": "PC 1 (88.9%)",
           "values": [
            -1.6512092448200157
           ]
          },
          {
           "axis": {
            "matches": true
           },
           "label": "PC 2 (10.2%)",
           "values": [
            0.8279525055938827
           ]
          },
          {
           "axis": {
            "matches": true
           },
           "label": "PC 3 (0.5%)",
           "values": [
            0.012339132778778695
           ]
          },
          {
           "axis": {
            "matches": true
           },
           "label": "PC 4 (0.3%)",
           "values": [
            -0.009433585964393905
           ]
          }
         ],
         "hovertemplate": "color=Belgian Strong Pale Ale<br>%{xaxis.title.text}=%{x}<br>%{yaxis.title.text}=%{y}<extra></extra>",
         "legendgroup": "Belgian Strong Pale Ale",
         "marker": {
          "color": "#FF6692",
          "symbol": "circle"
         },
         "name": "Belgian Strong Pale Ale",
         "showlegend": true,
         "type": "splom"
        },
        {
         "diagonal": {
          "visible": false
         },
         "dimensions": [
          {
           "axis": {
            "matches": true
           },
           "label": "PC 1 (88.9%)",
           "values": [
            -1.4130915211559583
           ]
          },
          {
           "axis": {
            "matches": true
           },
           "label": "PC 2 (10.2%)",
           "values": [
            -1.5468057310315781
           ]
          },
          {
           "axis": {
            "matches": true
           },
           "label": "PC 3 (0.5%)",
           "values": [
            -0.1315346894958446
           ]
          },
          {
           "axis": {
            "matches": true
           },
           "label": "PC 4 (0.3%)",
           "values": [
            0.035422852016502124
           ]
          }
         ],
         "hovertemplate": "color=Berliner Weissbier<br>%{xaxis.title.text}=%{x}<br>%{yaxis.title.text}=%{y}<extra></extra>",
         "legendgroup": "Berliner Weissbier",
         "marker": {
          "color": "#B6E880",
          "symbol": "circle"
         },
         "name": "Berliner Weissbier",
         "showlegend": true,
         "type": "splom"
        },
        {
         "diagonal": {
          "visible": false
         },
         "dimensions": [
          {
           "axis": {
            "matches": true
           },
           "label": "PC 1 (88.9%)",
           "values": [
            -1.271825942475754
           ]
          },
          {
           "axis": {
            "matches": true
           },
           "label": "PC 2 (10.2%)",
           "values": [
            0.8698722948850851
           ]
          },
          {
           "axis": {
            "matches": true
           },
           "label": "PC 3 (0.5%)",
           "values": [
            0.5088947406025384
           ]
          },
          {
           "axis": {
            "matches": true
           },
           "label": "PC 4 (0.3%)",
           "values": [
            -0.03685427805682003
           ]
          }
         ],
         "hovertemplate": "color=Bière de Champagne / Bière Brut<br>%{xaxis.title.text}=%{x}<br>%{yaxis.title.text}=%{y}<extra></extra>",
         "legendgroup": "Bière de Champagne / Bière Brut",
         "marker": {
          "color": "#FF97FF",
          "symbol": "circle"
         },
         "name": "Bière de Champagne / Bière Brut",
         "showlegend": true,
         "type": "splom"
        },
        {
         "diagonal": {
          "visible": false
         },
         "dimensions": [
          {
           "axis": {
            "matches": true
           },
           "label": "PC 1 (88.9%)",
           "values": [
            -1.1366249457320385
           ]
          },
          {
           "axis": {
            "matches": true
           },
           "label": "PC 2 (10.2%)",
           "values": [
            0.08346973779628712
           ]
          },
          {
           "axis": {
            "matches": true
           },
           "label": "PC 3 (0.5%)",
           "values": [
            -0.02434141662063882
           ]
          },
          {
           "axis": {
            "matches": true
           },
           "label": "PC 4 (0.3%)",
           "values": [
            -0.020215435058531288
           ]
          }
         ],
         "hovertemplate": "color=Bière de Garde<br>%{xaxis.title.text}=%{x}<br>%{yaxis.title.text}=%{y}<extra></extra>",
         "legendgroup": "Bière de Garde",
         "marker": {
          "color": "#FECB52",
          "symbol": "circle"
         },
         "name": "Bière de Garde",
         "showlegend": true,
         "type": "splom"
        },
        {
         "diagonal": {
          "visible": false
         },
         "dimensions": [
          {
           "axis": {
            "matches": true
           },
           "label": "PC 1 (88.9%)",
           "values": [
            2.0828085828576075
           ]
          },
          {
           "axis": {
            "matches": true
           },
           "label": "PC 2 (10.2%)",
           "values": [
            0.40286693004479524
           ]
          },
          {
           "axis": {
            "matches": true
           },
           "label": "PC 3 (0.5%)",
           "values": [
            0.31850015749329236
           ]
          },
          {
           "axis": {
            "matches": true
           },
           "label": "PC 4 (0.3%)",
           "values": [
            -0.12509305973731297
           ]
          }
         ],
         "hovertemplate": "color=Black & Tan<br>%{xaxis.title.text}=%{x}<br>%{yaxis.title.text}=%{y}<extra></extra>",
         "legendgroup": "Black & Tan",
         "marker": {
          "color": "#636efa",
          "symbol": "circle"
         },
         "name": "Black & Tan",
         "showlegend": true,
         "type": "splom"
        },
        {
         "diagonal": {
          "visible": false
         },
         "dimensions": [
          {
           "axis": {
            "matches": true
           },
           "label": "PC 1 (88.9%)",
           "values": [
            1.0878617106290642
           ]
          },
          {
           "axis": {
            "matches": true
           },
           "label": "PC 2 (10.2%)",
           "values": [
            0.3770501866646148
           ]
          },
          {
           "axis": {
            "matches": true
           },
           "label": "PC 3 (0.5%)",
           "values": [
            0.11262506974318241
           ]
          },
          {
           "axis": {
            "matches": true
           },
           "label": "PC 4 (0.3%)",
           "values": [
            -0.1397586733691785
           ]
          }
         ],
         "hovertemplate": "color=Bock<br>%{xaxis.title.text}=%{x}<br>%{yaxis.title.text}=%{y}<extra></extra>",
         "legendgroup": "Bock",
         "marker": {
          "color": "#EF553B",
          "symbol": "circle"
         },
         "name": "Bock",
         "showlegend": true,
         "type": "splom"
        },
        {
         "diagonal": {
          "visible": false
         },
         "dimensions": [
          {
           "axis": {
            "matches": true
           },
           "label": "PC 1 (88.9%)",
           "values": [
            -0.6944372854718593
           ]
          },
          {
           "axis": {
            "matches": true
           },
           "label": "PC 2 (10.2%)",
           "values": [
            1.3686724684086293
           ]
          },
          {
           "axis": {
            "matches": true
           },
           "label": "PC 3 (0.5%)",
           "values": [
            -0.04502849379211542
           ]
          },
          {
           "axis": {
            "matches": true
           },
           "label": "PC 4 (0.3%)",
           "values": [
            0.11412652280042793
           ]
          }
         ],
         "hovertemplate": "color=Braggot<br>%{xaxis.title.text}=%{x}<br>%{yaxis.title.text}=%{y}<extra></extra>",
         "legendgroup": "Braggot",
         "marker": {
          "color": "#00cc96",
          "symbol": "circle"
         },
         "name": "Braggot",
         "showlegend": true,
         "type": "splom"
        },
        {
         "diagonal": {
          "visible": false
         },
         "dimensions": [
          {
           "axis": {
            "matches": true
           },
           "label": "PC 1 (88.9%)",
           "values": [
            -0.02829514328884881
           ]
          },
          {
           "axis": {
            "matches": true
           },
           "label": "PC 2 (10.2%)",
           "values": [
            -0.613121867481252
           ]
          },
          {
           "axis": {
            "matches": true
           },
           "label": "PC 3 (0.5%)",
           "values": [
            -0.02537707080836988
           ]
          },
          {
           "axis": {
            "matches": true
           },
           "label": "PC 4 (0.3%)",
           "values": [
            -0.23314214566986688
           ]
          }
         ],
         "hovertemplate": "color=California Common / Steam Beer<br>%{xaxis.title.text}=%{x}<br>%{yaxis.title.text}=%{y}<extra></extra>",
         "legendgroup": "California Common / Steam Beer",
         "marker": {
          "color": "#ab63fa",
          "symbol": "circle"
         },
         "name": "California Common / Steam Beer",
         "showlegend": true,
         "type": "splom"
        },
        {
         "diagonal": {
          "visible": false
         },
         "dimensions": [
          {
           "axis": {
            "matches": true
           },
           "label": "PC 1 (88.9%)",
           "values": [
            1.4709560164694442
           ]
          },
          {
           "axis": {
            "matches": true
           },
           "label": "PC 2 (10.2%)",
           "values": [
            0.16055808151927525
           ]
          },
          {
           "axis": {
            "matches": true
           },
           "label": "PC 3 (0.5%)",
           "values": [
            -0.005209327529900776
           ]
          },
          {
           "axis": {
            "matches": true
           },
           "label": "PC 4 (0.3%)",
           "values": [
            0.37757114356367977
           ]
          }
         ],
         "hovertemplate": "color=Chile Beer<br>%{xaxis.title.text}=%{x}<br>%{yaxis.title.text}=%{y}<extra></extra>",
         "legendgroup": "Chile Beer",
         "marker": {
          "color": "#FFA15A",
          "symbol": "circle"
         },
         "name": "Chile Beer",
         "showlegend": true,
         "type": "splom"
        },
        {
         "diagonal": {
          "visible": false
         },
         "dimensions": [
          {
           "axis": {
            "matches": true
           },
           "label": "PC 1 (88.9%)",
           "values": [
            0.7453117551197802
           ]
          },
          {
           "axis": {
            "matches": true
           },
           "label": "PC 2 (10.2%)",
           "values": [
            -0.382163180295948
           ]
          },
          {
           "axis": {
            "matches": true
           },
           "label": "PC 3 (0.5%)",
           "values": [
            -0.1331409709671016
           ]
          },
          {
           "axis": {
            "matches": true
           },
           "label": "PC 4 (0.3%)",
           "values": [
            -0.05163981415009802
           ]
          }
         ],
         "hovertemplate": "color=Cream Ale<br>%{xaxis.title.text}=%{x}<br>%{yaxis.title.text}=%{y}<extra></extra>",
         "legendgroup": "Cream Ale",
         "marker": {
          "color": "#19d3f3",
          "symbol": "circle"
         },
         "name": "Cream Ale",
         "showlegend": true,
         "type": "splom"
        },
        {
         "diagonal": {
          "visible": false
         },
         "dimensions": [
          {
           "axis": {
            "matches": true
           },
           "label": "PC 1 (88.9%)",
           "values": [
            0.8575997164592454
           ]
          },
          {
           "axis": {
            "matches": true
           },
           "label": "PC 2 (10.2%)",
           "values": [
            -0.5805013905690982
           ]
          },
          {
           "axis": {
            "matches": true
           },
           "label": "PC 3 (0.5%)",
           "values": [
            -0.1376310140920988
           ]
          },
          {
           "axis": {
            "matches": true
           },
           "label": "PC 4 (0.3%)",
           "values": [
            -0.2021890636628849
           ]
          }
         ],
         "hovertemplate": "color=Czech Pilsener<br>%{xaxis.title.text}=%{x}<br>%{yaxis.title.text}=%{y}<extra></extra>",
         "legendgroup": "Czech Pilsener",
         "marker": {
          "color": "#FF6692",
          "symbol": "circle"
         },
         "name": "Czech Pilsener",
         "showlegend": true,
         "type": "splom"
        },
        {
         "diagonal": {
          "visible": false
         },
         "dimensions": [
          {
           "axis": {
            "matches": true
           },
           "label": "PC 1 (88.9%)",
           "values": [
            -1.4490462634384451
           ]
          },
          {
           "axis": {
            "matches": true
           },
           "label": "PC 2 (10.2%)",
           "values": [
            0.6518291109013792
           ]
          },
          {
           "axis": {
            "matches": true
           },
           "label": "PC 3 (0.5%)",
           "values": [
            -0.08670451589971238
           ]
          },
          {
           "axis": {
            "matches": true
           },
           "label": "PC 4 (0.3%)",
           "values": [
            -0.030064760262560775
           ]
          }
         ],
         "hovertemplate": "color=Doppelbock<br>%{xaxis.title.text}=%{x}<br>%{yaxis.title.text}=%{y}<extra></extra>",
         "legendgroup": "Doppelbock",
         "marker": {
          "color": "#B6E880",
          "symbol": "circle"
         },
         "name": "Doppelbock",
         "showlegend": true,
         "type": "splom"
        },
        {
         "diagonal": {
          "visible": false
         },
         "dimensions": [
          {
           "axis": {
            "matches": true
           },
           "label": "PC 1 (88.9%)",
           "values": [
            0.7044880392072354
           ]
          },
          {
           "axis": {
            "matches": true
           },
           "label": "PC 2 (10.2%)",
           "values": [
            -0.4571570443978204
           ]
          },
          {
           "axis": {
            "matches": true
           },
           "label": "PC 3 (0.5%)",
           "values": [
            -0.14231610735711123
           ]
          },
          {
           "axis": {
            "matches": true
           },
           "label": "PC 4 (0.3%)",
           "values": [
            -0.3219937970558434
           ]
          }
         ],
         "hovertemplate": "color=Dortmunder / Export Lager<br>%{xaxis.title.text}=%{x}<br>%{yaxis.title.text}=%{y}<extra></extra>",
         "legendgroup": "Dortmunder / Export Lager",
         "marker": {
          "color": "#FF97FF",
          "symbol": "circle"
         },
         "name": "Dortmunder / Export Lager",
         "showlegend": true,
         "type": "splom"
        },
        {
         "diagonal": {
          "visible": false
         },
         "dimensions": [
          {
           "axis": {
            "matches": true
           },
           "label": "PC 1 (88.9%)",
           "values": [
            -1.3630854734626379
           ]
          },
          {
           "axis": {
            "matches": true
           },
           "label": "PC 2 (10.2%)",
           "values": [
            0.2423564611550967
           ]
          },
          {
           "axis": {
            "matches": true
           },
           "label": "PC 3 (0.5%)",
           "values": [
            0.07756330885921156
           ]
          },
          {
           "axis": {
            "matches": true
           },
           "label": "PC 4 (0.3%)",
           "values": [
            -0.01122777111461109
           ]
          }
         ],
         "hovertemplate": "color=Dubbel<br>%{xaxis.title.text}=%{x}<br>%{yaxis.title.text}=%{y}<extra></extra>",
         "legendgroup": "Dubbel",
         "marker": {
          "color": "#FECB52",
          "symbol": "circle"
         },
         "name": "Dubbel",
         "showlegend": true,
         "type": "splom"
        },
        {
         "diagonal": {
          "visible": false
         },
         "dimensions": [
          {
           "axis": {
            "matches": true
           },
           "label": "PC 1 (88.9%)",
           "values": [
            -0.31680487200367885
           ]
          },
          {
           "axis": {
            "matches": true
           },
           "label": "PC 2 (10.2%)",
           "values": [
            -0.575144251692083
           ]
          },
          {
           "axis": {
            "matches": true
           },
           "label": "PC 3 (0.5%)",
           "values": [
            0.05134962151116627
           ]
          },
          {
           "axis": {
            "matches": true
           },
           "label": "PC 4 (0.3%)",
           "values": [
            0.015287863607365655
           ]
          }
         ],
         "hovertemplate": "color=Dunkelweizen<br>%{xaxis.title.text}=%{x}<br>%{yaxis.title.text}=%{y}<extra></extra>",
         "legendgroup": "Dunkelweizen",
         "marker": {
          "color": "#636efa",
          "symbol": "circle"
         },
         "name": "Dunkelweizen",
         "showlegend": true,
         "type": "splom"
        },
        {
         "diagonal": {
          "visible": false
         },
         "dimensions": [
          {
           "axis": {
            "matches": true
           },
           "label": "PC 1 (88.9%)",
           "values": [
            -3.5422366036360344
           ]
          },
          {
           "axis": {
            "matches": true
           },
           "label": "PC 2 (10.2%)",
           "values": [
            3.322158419823778
           ]
          },
          {
           "axis": {
            "matches": true
           },
           "label": "PC 3 (0.5%)",
           "values": [
            -0.2985979309125853
           ]
          },
          {
           "axis": {
            "matches": true
           },
           "label": "PC 4 (0.3%)",
           "values": [
            0.029272161373173865
           ]
          }
         ],
         "hovertemplate": "color=Eisbock<br>%{xaxis.title.text}=%{x}<br>%{yaxis.title.text}=%{y}<extra></extra>",
         "legendgroup": "Eisbock",
         "marker": {
          "color": "#EF553B",
          "symbol": "circle"
         },
         "name": "Eisbock",
         "showlegend": true,
         "type": "splom"
        },
        {
         "diagonal": {
          "visible": false
         },
         "dimensions": [
          {
           "axis": {
            "matches": true
           },
           "label": "PC 1 (88.9%)",
           "values": [
            -2.8754790641861385
           ]
          },
          {
           "axis": {
            "matches": true
           },
           "label": "PC 2 (10.2%)",
           "values": [
            1.713095721873015
           ]
          },
          {
           "axis": {
            "matches": true
           },
           "label": "PC 3 (0.5%)",
           "values": [
            -0.17801746202441185
           ]
          },
          {
           "axis": {
            "matches": true
           },
           "label": "PC 4 (0.3%)",
           "values": [
            0.03396140609525802
           ]
          }
         ],
         "hovertemplate": "color=English Barleywine<br>%{xaxis.title.text}=%{x}<br>%{yaxis.title.text}=%{y}<extra></extra>",
         "legendgroup": "English Barleywine",
         "marker": {
          "color": "#00cc96",
          "symbol": "circle"
         },
         "name": "English Barleywine",
         "showlegend": true,
         "type": "splom"
        },
        {
         "diagonal": {
          "visible": false
         },
         "dimensions": [
          {
           "axis": {
            "matches": true
           },
           "label": "PC 1 (88.9%)",
           "values": [
            1.0473817869639355
           ]
          },
          {
           "axis": {
            "matches": true
           },
           "label": "PC 2 (10.2%)",
           "values": [
            -0.924179864956321
           ]
          },
          {
           "axis": {
            "matches": true
           },
           "label": "PC 3 (0.5%)",
           "values": [
            0.013843953224706019
           ]
          },
          {
           "axis": {
            "matches": true
           },
           "label": "PC 4 (0.3%)",
           "values": [
            -0.1342907151937114
           ]
          }
         ],
         "hovertemplate": "color=English Bitter<br>%{xaxis.title.text}=%{x}<br>%{yaxis.title.text}=%{y}<extra></extra>",
         "legendgroup": "English Bitter",
         "marker": {
          "color": "#ab63fa",
          "symbol": "circle"
         },
         "name": "English Bitter",
         "showlegend": true,
         "type": "splom"
        },
        {
         "diagonal": {
          "visible": false
         },
         "dimensions": [
          {
           "axis": {
            "matches": true
           },
           "label": "PC 1 (88.9%)",
           "values": [
            0.48258685770617876
           ]
          },
          {
           "axis": {
            "matches": true
           },
           "label": "PC 2 (10.2%)",
           "values": [
            -0.49862344856044144
           ]
          },
          {
           "axis": {
            "matches": true
           },
           "label": "PC 3 (0.5%)",
           "values": [
            -0.020706991870918907
           ]
          },
          {
           "axis": {
            "matches": true
           },
           "label": "PC 4 (0.3%)",
           "values": [
            -0.024489129828062596
           ]
          }
         ],
         "hovertemplate": "color=English Brown Ale<br>%{xaxis.title.text}=%{x}<br>%{yaxis.title.text}=%{y}<extra></extra>",
         "legendgroup": "English Brown Ale",
         "marker": {
          "color": "#FFA15A",
          "symbol": "circle"
         },
         "name": "English Brown Ale",
         "showlegend": true,
         "type": "splom"
        },
        {
         "diagonal": {
          "visible": false
         },
         "dimensions": [
          {
           "axis": {
            "matches": true
           },
           "label": "PC 1 (88.9%)",
           "values": [
            0.6649758150644507
           ]
          },
          {
           "axis": {
            "matches": true
           },
           "label": "PC 2 (10.2%)",
           "values": [
            -1.113329902801427
           ]
          },
          {
           "axis": {
            "matches": true
           },
           "label": "PC 3 (0.5%)",
           "values": [
            0.024323260894592837
           ]
          },
          {
           "axis": {
            "matches": true
           },
           "label": "PC 4 (0.3%)",
           "values": [
            -0.0971125268597476
           ]
          }
         ],
         "hovertemplate": "color=English Dark Mild Ale<br>%{xaxis.title.text}=%{x}<br>%{yaxis.title.text}=%{y}<extra></extra>",
         "legendgroup": "English Dark Mild Ale",
         "marker": {
          "color": "#19d3f3",
          "symbol": "circle"
         },
         "name": "English Dark Mild Ale",
         "showlegend": true,
         "type": "splom"
        },
        {
         "diagonal": {
          "visible": false
         },
         "dimensions": [
          {
           "axis": {
            "matches": true
           },
           "label": "PC 1 (88.9%)",
           "values": [
            0.7123424936947749
           ]
          },
          {
           "axis": {
            "matches": true
           },
           "label": "PC 2 (10.2%)",
           "values": [
            -0.03700974858511631
           ]
          },
          {
           "axis": {
            "matches": true
           },
           "label": "PC 3 (0.5%)",
           "values": [
            0.09269854681317093
           ]
          },
          {
           "axis": {
            "matches": true
           },
           "label": "PC 4 (0.3%)",
           "values": [
            -0.07486314488371161
           ]
          }
         ],
         "hovertemplate": "color=English India Pale Ale (IPA)<br>%{xaxis.title.text}=%{x}<br>%{yaxis.title.text}=%{y}<extra></extra>",
         "legendgroup": "English India Pale Ale (IPA)",
         "marker": {
          "color": "#FF6692",
          "symbol": "circle"
         },
         "name": "English India Pale Ale (IPA)",
         "showlegend": true,
         "type": "splom"
        },
        {
         "diagonal": {
          "visible": false
         },
         "dimensions": [
          {
           "axis": {
            "matches": true
           },
           "label": "PC 1 (88.9%)",
           "values": [
            1.297649337616883
           ]
          },
          {
           "axis": {
            "matches": true
           },
           "label": "PC 2 (10.2%)",
           "values": [
            -0.6172982408693782
           ]
          },
          {
           "axis": {
            "matches": true
           },
           "label": "PC 3 (0.5%)",
           "values": [
            0.0440092682292339
           ]
          },
          {
           "axis": {
            "matches": true
           },
           "label": "PC 4 (0.3%)",
           "values": [
            -0.18019357866527622
           ]
          }
         ],
         "hovertemplate": "color=English Pale Ale<br>%{xaxis.title.text}=%{x}<br>%{yaxis.title.text}=%{y}<extra></extra>",
         "legendgroup": "English Pale Ale",
         "marker": {
          "color": "#B6E880",
          "symbol": "circle"
         },
         "name": "English Pale Ale",
         "showlegend": true,
         "type": "splom"
        },
        {
         "diagonal": {
          "visible": false
         },
         "dimensions": [
          {
           "axis": {
            "matches": true
           },
           "label": "PC 1 (88.9%)",
           "values": [
            1.239133157104856
           ]
          },
          {
           "axis": {
            "matches": true
           },
           "label": "PC 2 (10.2%)",
           "values": [
            -0.9087113537583641
           ]
          },
          {
           "axis": {
            "matches": true
           },
           "label": "PC 3 (0.5%)",
           "values": [
            -0.10329709096983632
           ]
          },
          {
           "axis": {
            "matches": true
           },
           "label": "PC 4 (0.3%)",
           "values": [
            -0.017562700425713625
           ]
          }
         ],
         "hovertemplate": "color=English Pale Mild Ale<br>%{xaxis.title.text}=%{x}<br>%{yaxis.title.text}=%{y}<extra></extra>",
         "legendgroup": "English Pale Mild Ale",
         "marker": {
          "color": "#FF97FF",
          "symbol": "circle"
         },
         "name": "English Pale Mild Ale",
         "showlegend": true,
         "type": "splom"
        },
        {
         "diagonal": {
          "visible": false
         },
         "dimensions": [
          {
           "axis": {
            "matches": true
           },
           "label": "PC 1 (88.9%)",
           "values": [
            -0.9105013914783402
           ]
          },
          {
           "axis": {
            "matches": true
           },
           "label": "PC 2 (10.2%)",
           "values": [
            -0.5760760415817497
           ]
          },
          {
           "axis": {
            "matches": true
           },
           "label": "PC 3 (0.5%)",
           "values": [
            0.06254055375766956
           ]
          },
          {
           "axis": {
            "matches": true
           },
           "label": "PC 4 (0.3%)",
           "values": [
            0.05703899270548169
           ]
          }
         ],
         "hovertemplate": "color=English Porter<br>%{xaxis.title.text}=%{x}<br>%{yaxis.title.text}=%{y}<extra></extra>",
         "legendgroup": "English Porter",
         "marker": {
          "color": "#FECB52",
          "symbol": "circle"
         },
         "name": "English Porter",
         "showlegend": true,
         "type": "splom"
        },
        {
         "diagonal": {
          "visible": false
         },
         "dimensions": [
          {
           "axis": {
            "matches": true
           },
           "label": "PC 1 (88.9%)",
           "values": [
            -0.5364818977517414
           ]
          },
          {
           "axis": {
            "matches": true
           },
           "label": "PC 2 (10.2%)",
           "values": [
            -0.6862827536316559
           ]
          },
          {
           "axis": {
            "matches": true
           },
           "label": "PC 3 (0.5%)",
           "values": [
            0.19969910445460454
           ]
          },
          {
           "axis": {
            "matches": true
           },
           "label": "PC 4 (0.3%)",
           "values": [
            0.08723943617191832
           ]
          }
         ],
         "hovertemplate": "color=English Stout<br>%{xaxis.title.text}=%{x}<br>%{yaxis.title.text}=%{y}<extra></extra>",
         "legendgroup": "English Stout",
         "marker": {
          "color": "#636efa",
          "symbol": "circle"
         },
         "name": "English Stout",
         "showlegend": true,
         "type": "splom"
        },
        {
         "diagonal": {
          "visible": false
         },
         "dimensions": [
          {
           "axis": {
            "matches": true
           },
           "label": "PC 1 (88.9%)",
           "values": [
            -0.4712209279222949
           ]
          },
          {
           "axis": {
            "matches": true
           },
           "label": "PC 2 (10.2%)",
           "values": [
            0.395224923881015
           ]
          },
          {
           "axis": {
            "matches": true
           },
           "label": "PC 3 (0.5%)",
           "values": [
            0.016384673989028986
           ]
          },
          {
           "axis": {
            "matches": true
           },
           "label": "PC 4 (0.3%)",
           "values": [
            0.036481373299516416
           ]
          }
         ],
         "hovertemplate": "color=English Strong Ale<br>%{xaxis.title.text}=%{x}<br>%{yaxis.title.text}=%{y}<extra></extra>",
         "legendgroup": "English Strong Ale",
         "marker": {
          "color": "#EF553B",
          "symbol": "circle"
         },
         "name": "English Strong Ale",
         "showlegend": true,
         "type": "splom"
        },
        {
         "diagonal": {
          "visible": false
         },
         "dimensions": [
          {
           "axis": {
            "matches": true
           },
           "label": "PC 1 (88.9%)",
           "values": [
            1.7728952251756902
           ]
          },
          {
           "axis": {
            "matches": true
           },
           "label": "PC 2 (10.2%)",
           "values": [
            -0.26961768816968373
           ]
          },
          {
           "axis": {
            "matches": true
           },
           "label": "PC 3 (0.5%)",
           "values": [
            0.2906558606970903
           ]
          },
          {
           "axis": {
            "matches": true
           },
           "label": "PC 4 (0.3%)",
           "values": [
            -0.03319547681260962
           ]
          }
         ],
         "hovertemplate": "color=Euro Dark Lager<br>%{xaxis.title.text}=%{x}<br>%{yaxis.title.text}=%{y}<extra></extra>",
         "legendgroup": "Euro Dark Lager",
         "marker": {
          "color": "#00cc96",
          "symbol": "circle"
         },
         "name": "Euro Dark Lager",
         "showlegend": true,
         "type": "splom"
        },
        {
         "diagonal": {
          "visible": false
         },
         "dimensions": [
          {
           "axis": {
            "matches": true
           },
           "label": "PC 1 (88.9%)",
           "values": [
            5.110311833645925
           ]
          },
          {
           "axis": {
            "matches": true
           },
           "label": "PC 2 (10.2%)",
           "values": [
            0.330210388698379
           ]
          },
          {
           "axis": {
            "matches": true
           },
           "label": "PC 3 (0.5%)",
           "values": [
            -0.11119312318952691
           ]
          },
          {
           "axis": {
            "matches": true
           },
           "label": "PC 4 (0.3%)",
           "values": [
            -0.10141445116356529
           ]
          }
         ],
         "hovertemplate": "color=Euro Pale Lager<br>%{xaxis.title.text}=%{x}<br>%{yaxis.title.text}=%{y}<extra></extra>",
         "legendgroup": "Euro Pale Lager",
         "marker": {
          "color": "#ab63fa",
          "symbol": "circle"
         },
         "name": "Euro Pale Lager",
         "showlegend": true,
         "type": "splom"
        },
        {
         "diagonal": {
          "visible": false
         },
         "dimensions": [
          {
           "axis": {
            "matches": true
           },
           "label": "PC 1 (88.9%)",
           "values": [
            5.230999509980498
           ]
          },
          {
           "axis": {
            "matches": true
           },
           "label": "PC 2 (10.2%)",
           "values": [
            2.019477454466061
           ]
          },
          {
           "axis": {
            "matches": true
           },
           "label": "PC 3 (0.5%)",
           "values": [
            0.4284952129001114
           ]
          },
          {
           "axis": {
            "matches": true
           },
           "label": "PC 4 (0.3%)",
           "values": [
            0.19566164160875243
           ]
          }
         ],
         "hovertemplate": "color=Euro Strong Lager<br>%{xaxis.title.text}=%{x}<br>%{yaxis.title.text}=%{y}<extra></extra>",
         "legendgroup": "Euro Strong Lager",
         "marker": {
          "color": "#FFA15A",
          "symbol": "circle"
         },
         "name": "Euro Strong Lager",
         "showlegend": true,
         "type": "splom"
        },
        {
         "diagonal": {
          "visible": false
         },
         "dimensions": [
          {
           "axis": {
            "matches": true
           },
           "label": "PC 1 (88.9%)",
           "values": [
            0.09665685089458584
           ]
          },
          {
           "axis": {
            "matches": true
           },
           "label": "PC 2 (10.2%)",
           "values": [
            -0.4944997254730121
           ]
          },
          {
           "axis": {
            "matches": true
           },
           "label": "PC 3 (0.5%)",
           "values": [
            0.03170939915383135
           ]
          },
          {
           "axis": {
            "matches": true
           },
           "label": "PC 4 (0.3%)",
           "values": [
            -0.16223907592351342
           ]
          }
         ],
         "hovertemplate": "color=Extra Special / Strong Bitter (ESB)<br>%{xaxis.title.text}=%{x}<br>%{yaxis.title.text}=%{y}<extra></extra>",
         "legendgroup": "Extra Special / Strong Bitter (ESB)",
         "marker": {
          "color": "#19d3f3",
          "symbol": "circle"
         },
         "name": "Extra Special / Strong Bitter (ESB)",
         "showlegend": true,
         "type": "splom"
        },
        {
         "diagonal": {
          "visible": false
         },
         "dimensions": [
          {
           "axis": {
            "matches": true
           },
           "label": "PC 1 (88.9%)",
           "values": [
            0.44471958166450104
           ]
          },
          {
           "axis": {
            "matches": true
           },
           "label": "PC 2 (10.2%)",
           "values": [
            -0.670899577015611
           ]
          },
          {
           "axis": {
            "matches": true
           },
           "label": "PC 3 (0.5%)",
           "values": [
            0.02816374479161476
           ]
          },
          {
           "axis": {
            "matches": true
           },
           "label": "PC 4 (0.3%)",
           "values": [
            0.23846625567229784
           ]
          }
         ],
         "hovertemplate": "color=Faro<br>%{xaxis.title.text}=%{x}<br>%{yaxis.title.text}=%{y}<extra></extra>",
         "legendgroup": "Faro",
         "marker": {
          "color": "#FF6692",
          "symbol": "circle"
         },
         "name": "Faro",
         "showlegend": true,
         "type": "splom"
        },
        {
         "diagonal": {
          "visible": false
         },
         "dimensions": [
          {
           "axis": {
            "matches": true
           },
           "label": "PC 1 (88.9%)",
           "values": [
            -1.8184632664201412
           ]
          },
          {
           "axis": {
            "matches": true
           },
           "label": "PC 2 (10.2%)",
           "values": [
            -0.07630995525646575
           ]
          },
          {
           "axis": {
            "matches": true
           },
           "label": "PC 3 (0.5%)",
           "values": [
            -0.14520122233259894
           ]
          },
          {
           "axis": {
            "matches": true
           },
           "label": "PC 4 (0.3%)",
           "values": [
            0.11068395285318747
           ]
          }
         ],
         "hovertemplate": "color=Flanders Oud Bruin<br>%{xaxis.title.text}=%{x}<br>%{yaxis.title.text}=%{y}<extra></extra>",
         "legendgroup": "Flanders Oud Bruin",
         "marker": {
          "color": "#B6E880",
          "symbol": "circle"
         },
         "name": "Flanders Oud Bruin",
         "showlegend": true,
         "type": "splom"
        },
        {
         "diagonal": {
          "visible": false
         },
         "dimensions": [
          {
           "axis": {
            "matches": true
           },
           "label": "PC 1 (88.9%)",
           "values": [
            -2.5555112425844055
           ]
          },
          {
           "axis": {
            "matches": true
           },
           "label": "PC 2 (10.2%)",
           "values": [
            -0.46799201280616765
           ]
          },
          {
           "axis": {
            "matches": true
           },
           "label": "PC 3 (0.5%)",
           "values": [
            -0.17504659566650754
           ]
          },
          {
           "axis": {
            "matches": true
           },
           "label": "PC 4 (0.3%)",
           "values": [
            0.05325607026309747
           ]
          }
         ],
         "hovertemplate": "color=Flanders Red Ale<br>%{xaxis.title.text}=%{x}<br>%{yaxis.title.text}=%{y}<extra></extra>",
         "legendgroup": "Flanders Red Ale",
         "marker": {
          "color": "#FF97FF",
          "symbol": "circle"
         },
         "name": "Flanders Red Ale",
         "showlegend": true,
         "type": "splom"
        },
        {
         "diagonal": {
          "visible": false
         },
         "dimensions": [
          {
           "axis": {
            "matches": true
           },
           "label": "PC 1 (88.9%)",
           "values": [
            -1.3424819556578265
           ]
          },
          {
           "axis": {
            "matches": true
           },
           "label": "PC 2 (10.2%)",
           "values": [
            -0.011894588457982353
           ]
          },
          {
           "axis": {
            "matches": true
           },
           "label": "PC 3 (0.5%)",
           "values": [
            0.27699978150330024
           ]
          },
          {
           "axis": {
            "matches": true
           },
           "label": "PC 4 (0.3%)",
           "values": [
            -0.04674775687467313
           ]
          }
         ],
         "hovertemplate": "color=Foreign / Export Stout<br>%{xaxis.title.text}=%{x}<br>%{yaxis.title.text}=%{y}<extra></extra>",
         "legendgroup": "Foreign / Export Stout",
         "marker": {
          "color": "#FECB52",
          "symbol": "circle"
         },
         "name": "Foreign / Export Stout",
         "showlegend": true,
         "type": "splom"
        },
        {
         "diagonal": {
          "visible": false
         },
         "dimensions": [
          {
           "axis": {
            "matches": true
           },
           "label": "PC 1 (88.9%)",
           "values": [
            1.5057389833174688
           ]
          },
          {
           "axis": {
            "matches": true
           },
           "label": "PC 2 (10.2%)",
           "values": [
            -0.16954691925030035
           ]
          },
          {
           "axis": {
            "matches": true
           },
           "label": "PC 3 (0.5%)",
           "values": [
            -0.02022896955065311
           ]
          },
          {
           "axis": {
            "matches": true
           },
           "label": "PC 4 (0.3%)",
           "values": [
            0.3853541397697903
           ]
          }
         ],
         "hovertemplate": "color=Fruit / Vegetable Beer<br>%{xaxis.title.text}=%{x}<br>%{yaxis.title.text}=%{y}<extra></extra>",
         "legendgroup": "Fruit / Vegetable Beer",
         "marker": {
          "color": "#636efa",
          "symbol": "circle"
         },
         "name": "Fruit / Vegetable Beer",
         "showlegend": true,
         "type": "splom"
        },
        {
         "diagonal": {
          "visible": false
         },
         "dimensions": [
          {
           "axis": {
            "matches": true
           },
           "label": "PC 1 (88.9%)",
           "values": [
            1.0869282848297475
           ]
          },
          {
           "axis": {
            "matches": true
           },
           "label": "PC 2 (10.2%)",
           "values": [
            -0.5105033736465514
           ]
          },
          {
           "axis": {
            "matches": true
           },
           "label": "PC 3 (0.5%)",
           "values": [
            -0.1478032885995617
           ]
          },
          {
           "axis": {
            "matches": true
           },
           "label": "PC 4 (0.3%)",
           "values": [
            -0.16807520755524102
           ]
          }
         ],
         "hovertemplate": "color=German Pilsener<br>%{xaxis.title.text}=%{x}<br>%{yaxis.title.text}=%{y}<extra></extra>",
         "legendgroup": "German Pilsener",
         "marker": {
          "color": "#EF553B",
          "symbol": "circle"
         },
         "name": "German Pilsener",
         "showlegend": true,
         "type": "splom"
        },
        {
         "diagonal": {
          "visible": false
         },
         "dimensions": [
          {
           "axis": {
            "matches": true
           },
           "label": "PC 1 (88.9%)",
           "values": [
            -1.0447304887315043
           ]
          },
          {
           "axis": {
            "matches": true
           },
           "label": "PC 2 (10.2%)",
           "values": [
            -1.199087549891293
           ]
          },
          {
           "axis": {
            "matches": true
           },
           "label": "PC 3 (0.5%)",
           "values": [
            -0.16934947300362282
           ]
          },
          {
           "axis": {
            "matches": true
           },
           "label": "PC 4 (0.3%)",
           "values": [
            0.030308402682878925
           ]
          }
         ],
         "hovertemplate": "color=Gose<br>%{xaxis.title.text}=%{x}<br>%{yaxis.title.text}=%{y}<extra></extra>",
         "legendgroup": "Gose",
         "marker": {
          "color": "#00cc96",
          "symbol": "circle"
         },
         "name": "Gose",
         "showlegend": true,
         "type": "splom"
        },
        {
         "diagonal": {
          "visible": false
         },
         "dimensions": [
          {
           "axis": {
            "matches": true
           },
           "label": "PC 1 (88.9%)",
           "values": [
            -3.387895434154435
           ]
          },
          {
           "axis": {
            "matches": true
           },
           "label": "PC 2 (10.2%)",
           "values": [
            -0.966299070301544
           ]
          },
          {
           "axis": {
            "matches": true
           },
           "label": "PC 3 (0.5%)",
           "values": [
            -0.2198307174984212
           ]
          },
          {
           "axis": {
            "matches": true
           },
           "label": "PC 4 (0.3%)",
           "values": [
            0.049210998214275777
           ]
          }
         ],
         "hovertemplate": "color=Gueuze<br>%{xaxis.title.text}=%{x}<br>%{yaxis.title.text}=%{y}<extra></extra>",
         "legendgroup": "Gueuze",
         "marker": {
          "color": "#ab63fa",
          "symbol": "circle"
         },
         "name": "Gueuze",
         "showlegend": true,
         "type": "splom"
        },
        {
         "diagonal": {
          "visible": false
         },
         "dimensions": [
          {
           "axis": {
            "matches": true
           },
           "label": "PC 1 (88.9%)",
           "values": [
            5.877371351488317
           ]
          },
          {
           "axis": {
            "matches": true
           },
           "label": "PC 2 (10.2%)",
           "values": [
            0.7110643025448142
           ]
          },
          {
           "axis": {
            "matches": true
           },
           "label": "PC 3 (0.5%)",
           "values": [
            0.024697549303437583
           ]
          },
          {
           "axis": {
            "matches": true
           },
           "label": "PC 4 (0.3%)",
           "values": [
            0.03138468249457303
           ]
          }
         ],
         "hovertemplate": "color=Happoshu<br>%{xaxis.title.text}=%{x}<br>%{yaxis.title.text}=%{y}<extra></extra>",
         "legendgroup": "Happoshu",
         "marker": {
          "color": "#FFA15A",
          "symbol": "circle"
         },
         "name": "Happoshu",
         "showlegend": true,
         "type": "splom"
        },
        {
         "diagonal": {
          "visible": false
         },
         "dimensions": [
          {
           "axis": {
            "matches": true
           },
           "label": "PC 1 (88.9%)",
           "values": [
            -0.27682130345547823
           ]
          },
          {
           "axis": {
            "matches": true
           },
           "label": "PC 2 (10.2%)",
           "values": [
            -0.7498059770283958
           ]
          },
          {
           "axis": {
            "matches": true
           },
           "label": "PC 3 (0.5%)",
           "values": [
            -0.11904606759918251
           ]
          },
          {
           "axis": {
            "matches": true
           },
           "label": "PC 4 (0.3%)",
           "values": [
            -0.011189245331866007
           ]
          }
         ],
         "hovertemplate": "color=Hefeweizen<br>%{xaxis.title.text}=%{x}<br>%{yaxis.title.text}=%{y}<extra></extra>",
         "legendgroup": "Hefeweizen",
         "marker": {
          "color": "#19d3f3",
          "symbol": "circle"
         },
         "name": "Hefeweizen",
         "showlegend": true,
         "type": "splom"
        },
        {
         "diagonal": {
          "visible": false
         },
         "dimensions": [
          {
           "axis": {
            "matches": true
           },
           "label": "PC 1 (88.9%)",
           "values": [
            0.9148406043278938
           ]
          },
          {
           "axis": {
            "matches": true
           },
           "label": "PC 2 (10.2%)",
           "values": [
            0.032812111033229716
           ]
          },
          {
           "axis": {
            "matches": true
           },
           "label": "PC 3 (0.5%)",
           "values": [
            -0.016186746604113844
           ]
          },
          {
           "axis": {
            "matches": true
           },
           "label": "PC 4 (0.3%)",
           "values": [
            0.3397990507153415
           ]
          }
         ],
         "hovertemplate": "color=Herbed / Spiced Beer<br>%{xaxis.title.text}=%{x}<br>%{yaxis.title.text}=%{y}<extra></extra>",
         "legendgroup": "Herbed / Spiced Beer",
         "marker": {
          "color": "#FF6692",
          "symbol": "circle"
         },
         "name": "Herbed / Spiced Beer",
         "showlegend": true,
         "type": "splom"
        },
        {
         "diagonal": {
          "visible": false
         },
         "dimensions": [
          {
           "axis": {
            "matches": true
           },
           "label": "PC 1 (88.9%)",
           "values": [
            0.04137857524560001
           ]
          },
          {
           "axis": {
            "matches": true
           },
           "label": "PC 2 (10.2%)",
           "values": [
            -0.8279664772412988
           ]
          },
          {
           "axis": {
            "matches": true
           },
           "label": "PC 3 (0.5%)",
           "values": [
            0.6697350838823309
           ]
          },
          {
           "axis": {
            "matches": true
           },
           "label": "PC 4 (0.3%)",
           "values": [
            -0.23746141400709467
           ]
          }
         ],
         "hovertemplate": "color=Irish Dry Stout<br>%{xaxis.title.text}=%{x}<br>%{yaxis.title.text}=%{y}<extra></extra>",
         "legendgroup": "Irish Dry Stout",
         "marker": {
          "color": "#B6E880",
          "symbol": "circle"
         },
         "name": "Irish Dry Stout",
         "showlegend": true,
         "type": "splom"
        },
        {
         "diagonal": {
          "visible": false
         },
         "dimensions": [
          {
           "axis": {
            "matches": true
           },
           "label": "PC 1 (88.9%)",
           "values": [
            1.0921973157247071
           ]
          },
          {
           "axis": {
            "matches": true
           },
           "label": "PC 2 (10.2%)",
           "values": [
            -0.252479044995566
           ]
          },
          {
           "axis": {
            "matches": true
           },
           "label": "PC 3 (0.5%)",
           "values": [
            0.2121727503306648
           ]
          },
          {
           "axis": {
            "matches": true
           },
           "label": "PC 4 (0.3%)",
           "values": [
            -0.17619936984287227
           ]
          }
         ],
         "hovertemplate": "color=Irish Red Ale<br>%{xaxis.title.text}=%{x}<br>%{yaxis.title.text}=%{y}<extra></extra>",
         "legendgroup": "Irish Red Ale",
         "marker": {
          "color": "#FF97FF",
          "symbol": "circle"
         },
         "name": "Irish Red Ale",
         "showlegend": true,
         "type": "splom"
        },
        {
         "diagonal": {
          "visible": false
         },
         "dimensions": [
          {
           "axis": {
            "matches": true
           },
           "label": "PC 1 (88.9%)",
           "values": [
            5.571529162332205
           ]
          },
          {
           "axis": {
            "matches": true
           },
           "label": "PC 2 (10.2%)",
           "values": [
            0.6858898563001355
           ]
          },
          {
           "axis": {
            "matches": true
           },
           "label": "PC 3 (0.5%)",
           "values": [
            -0.25439549452896404
           ]
          },
          {
           "axis": {
            "matches": true
           },
           "label": "PC 4 (0.3%)",
           "values": [
            -0.13343016345525824
           ]
          }
         ],
         "hovertemplate": "color=Japanese Rice Lager<br>%{xaxis.title.text}=%{x}<br>%{yaxis.title.text}=%{y}<extra></extra>",
         "legendgroup": "Japanese Rice Lager",
         "marker": {
          "color": "#FECB52",
          "symbol": "circle"
         },
         "name": "Japanese Rice Lager",
         "showlegend": true,
         "type": "splom"
        },
        {
         "diagonal": {
          "visible": false
         },
         "dimensions": [
          {
           "axis": {
            "matches": true
           },
           "label": "PC 1 (88.9%)",
           "values": [
            -0.21507719030299688
           ]
          },
          {
           "axis": {
            "matches": true
           },
           "label": "PC 2 (10.2%)",
           "values": [
            -0.7791797230657073
           ]
          },
          {
           "axis": {
            "matches": true
           },
           "label": "PC 3 (0.5%)",
           "values": [
            -0.056173596527379854
           ]
          },
          {
           "axis": {
            "matches": true
           },
           "label": "PC 4 (0.3%)",
           "values": [
            -0.1579552506656993
           ]
          }
         ],
         "hovertemplate": "color=Kellerbier / Zwickelbier<br>%{xaxis.title.text}=%{x}<br>%{yaxis.title.text}=%{y}<extra></extra>",
         "legendgroup": "Kellerbier / Zwickelbier",
         "marker": {
          "color": "#636efa",
          "symbol": "circle"
         },
         "name": "Kellerbier / Zwickelbier",
         "showlegend": true,
         "type": "splom"
        },
        {
         "diagonal": {
          "visible": false
         },
         "dimensions": [
          {
           "axis": {
            "matches": true
           },
           "label": "PC 1 (88.9%)",
           "values": [
            0.8763115994605227
           ]
          },
          {
           "axis": {
            "matches": true
           },
           "label": "PC 2 (10.2%)",
           "values": [
            -0.5195025858965558
           ]
          },
          {
           "axis": {
            "matches": true
           },
           "label": "PC 3 (0.5%)",
           "values": [
            -0.0780245423646654
           ]
          },
          {
           "axis": {
            "matches": true
           },
           "label": "PC 4 (0.3%)",
           "values": [
            -0.13827296122826602
           ]
          }
         ],
         "hovertemplate": "color=Kristalweizen<br>%{xaxis.title.text}=%{x}<br>%{yaxis.title.text}=%{y}<extra></extra>",
         "legendgroup": "Kristalweizen",
         "marker": {
          "color": "#EF553B",
          "symbol": "circle"
         },
         "name": "Kristalweizen",
         "showlegend": true,
         "type": "splom"
        },
        {
         "diagonal": {
          "visible": false
         },
         "dimensions": [
          {
           "axis": {
            "matches": true
           },
           "label": "PC 1 (88.9%)",
           "values": [
            2.802607179897019
           ]
          },
          {
           "axis": {
            "matches": true
           },
           "label": "PC 2 (10.2%)",
           "values": [
            -1.71532699829086
           ]
          },
          {
           "axis": {
            "matches": true
           },
           "label": "PC 3 (0.5%)",
           "values": [
            -0.020721565135411627
           ]
          },
          {
           "axis": {
            "matches": true
           },
           "label": "PC 4 (0.3%)",
           "values": [
            0.3672433366722886
           ]
          }
         ],
         "hovertemplate": "color=Kvass<br>%{xaxis.title.text}=%{x}<br>%{yaxis.title.text}=%{y}<extra></extra>",
         "legendgroup": "Kvass",
         "marker": {
          "color": "#00cc96",
          "symbol": "circle"
         },
         "name": "Kvass",
         "showlegend": true,
         "type": "splom"
        },
        {
         "diagonal": {
          "visible": false
         },
         "dimensions": [
          {
           "axis": {
            "matches": true
           },
           "label": "PC 1 (88.9%)",
           "values": [
            0.8155207792867846
           ]
          },
          {
           "axis": {
            "matches": true
           },
           "label": "PC 2 (10.2%)",
           "values": [
            -0.5912052998617957
           ]
          },
          {
           "axis": {
            "matches": true
           },
           "label": "PC 3 (0.5%)",
           "values": [
            -0.19527260671688443
           ]
          },
          {
           "axis": {
            "matches": true
           },
           "label": "PC 4 (0.3%)",
           "values": [
            -0.1634660250366589
           ]
          }
         ],
         "hovertemplate": "color=Kölsch<br>%{xaxis.title.text}=%{x}<br>%{yaxis.title.text}=%{y}<extra></extra>",
         "legendgroup": "Kölsch",
         "marker": {
          "color": "#ab63fa",
          "symbol": "circle"
         },
         "name": "Kölsch",
         "showlegend": true,
         "type": "splom"
        },
        {
         "diagonal": {
          "visible": false
         },
         "dimensions": [
          {
           "axis": {
            "matches": true
           },
           "label": "PC 1 (88.9%)",
           "values": [
            -2.5346180433985572
           ]
          },
          {
           "axis": {
            "matches": true
           },
           "label": "PC 2 (10.2%)",
           "values": [
            -0.8467721514834187
           ]
          },
          {
           "axis": {
            "matches": true
           },
           "label": "PC 3 (0.5%)",
           "values": [
            0.02891716272944225
           ]
          },
          {
           "axis": {
            "matches": true
           },
           "label": "PC 4 (0.3%)",
           "values": [
            0.11731904414605984
           ]
          }
         ],
         "hovertemplate": "color=Lambic - Fruit<br>%{xaxis.title.text}=%{x}<br>%{yaxis.title.text}=%{y}<extra></extra>",
         "legendgroup": "Lambic - Fruit",
         "marker": {
          "color": "#FFA15A",
          "symbol": "circle"
         },
         "name": "Lambic - Fruit",
         "showlegend": true,
         "type": "splom"
        },
        {
         "diagonal": {
          "visible": false
         },
         "dimensions": [
          {
           "axis": {
            "matches": true
           },
           "label": "PC 1 (88.9%)",
           "values": [
            -2.456108115829842
           ]
          },
          {
           "axis": {
            "matches": true
           },
           "label": "PC 2 (10.2%)",
           "values": [
            -0.8810131666255689
           ]
          },
          {
           "axis": {
            "matches": true
           },
           "label": "PC 3 (0.5%)",
           "values": [
            -0.3080931279239605
           ]
          },
          {
           "axis": {
            "matches": true
           },
           "label": "PC 4 (0.3%)",
           "values": [
            0.1669446313660873
           ]
          }
         ],
         "hovertemplate": "color=Lambic - Unblended<br>%{xaxis.title.text}=%{x}<br>%{yaxis.title.text}=%{y}<extra></extra>",
         "legendgroup": "Lambic - Unblended",
         "marker": {
          "color": "#19d3f3",
          "symbol": "circle"
         },
         "name": "Lambic - Unblended",
         "showlegend": true,
         "type": "splom"
        },
        {
         "diagonal": {
          "visible": false
         },
         "dimensions": [
          {
           "axis": {
            "matches": true
           },
           "label": "PC 1 (88.9%)",
           "values": [
            9.81364984760003
           ]
          },
          {
           "axis": {
            "matches": true
           },
           "label": "PC 2 (10.2%)",
           "values": [
            1.0226557948032493
           ]
          },
          {
           "axis": {
            "matches": true
           },
           "label": "PC 3 (0.5%)",
           "values": [
            -0.4471080070069297
           ]
          },
          {
           "axis": {
            "matches": true
           },
           "label": "PC 4 (0.3%)",
           "values": [
            -0.012934252949136145
           ]
          }
         ],
         "hovertemplate": "color=Light Lager<br>%{xaxis.title.text}=%{x}<br>%{yaxis.title.text}=%{y}<extra></extra>",
         "legendgroup": "Light Lager",
         "marker": {
          "color": "#FF6692",
          "symbol": "circle"
         },
         "name": "Light Lager",
         "showlegend": true,
         "type": "splom"
        },
        {
         "diagonal": {
          "visible": false
         },
         "dimensions": [
          {
           "axis": {
            "matches": true
           },
           "label": "PC 1 (88.9%)",
           "values": [
            8.624182867874865
           ]
          },
          {
           "axis": {
            "matches": true
           },
           "label": "PC 2 (10.2%)",
           "values": [
            -0.877812816893237
           ]
          },
          {
           "axis": {
            "matches": true
           },
           "label": "PC 3 (0.5%)",
           "values": [
            0.48413657290217116
           ]
          },
          {
           "axis": {
            "matches": true
           },
           "label": "PC 4 (0.3%)",
           "values": [
            0.43485316629607296
           ]
          }
         ],
         "hovertemplate": "color=Low Alcohol Beer<br>%{xaxis.title.text}=%{x}<br>%{yaxis.title.text}=%{y}<extra></extra>",
         "legendgroup": "Low Alcohol Beer",
         "marker": {
          "color": "#B6E880",
          "symbol": "circle"
         },
         "name": "Low Alcohol Beer",
         "showlegend": true,
         "type": "splom"
        },
        {
         "diagonal": {
          "visible": false
         },
         "dimensions": [
          {
           "axis": {
            "matches": true
           },
           "label": "PC 1 (88.9%)",
           "values": [
            -0.16872868140168823
           ]
          },
          {
           "axis": {
            "matches": true
           },
           "label": "PC 2 (10.2%)",
           "values": [
            0.18864376281942635
           ]
          },
          {
           "axis": {
            "matches": true
           },
           "label": "PC 3 (0.5%)",
           "values": [
            -0.08893013371704615
           ]
          },
          {
           "axis": {
            "matches": true
           },
           "label": "PC 4 (0.3%)",
           "values": [
            -0.20249386218102192
           ]
          }
         ],
         "hovertemplate": "color=Maibock / Helles Bock<br>%{xaxis.title.text}=%{x}<br>%{yaxis.title.text}=%{y}<extra></extra>",
         "legendgroup": "Maibock / Helles Bock",
         "marker": {
          "color": "#FF97FF",
          "symbol": "circle"
         },
         "name": "Maibock / Helles Bock",
         "showlegend": true,
         "type": "splom"
        },
        {
         "diagonal": {
          "visible": false
         },
         "dimensions": [
          {
           "axis": {
            "matches": true
           },
           "label": "PC 1 (88.9%)",
           "values": [
            -1.8369676614561112
           ]
          },
          {
           "axis": {
            "matches": true
           },
           "label": "PC 2 (10.2%)",
           "values": [
            -0.4398333221391361
           ]
          },
          {
           "axis": {
            "matches": true
           },
           "label": "PC 3 (0.5%)",
           "values": [
            0.1040510820820584
           ]
          },
          {
           "axis": {
            "matches": true
           },
           "label": "PC 4 (0.3%)",
           "values": [
            0.07739693673649423
           ]
          }
         ],
         "hovertemplate": "color=Milk / Sweet Stout<br>%{xaxis.title.text}=%{x}<br>%{yaxis.title.text}=%{y}<extra></extra>",
         "legendgroup": "Milk / Sweet Stout",
         "marker": {
          "color": "#FECB52",
          "symbol": "circle"
         },
         "name": "Milk / Sweet Stout",
         "showlegend": true,
         "type": "splom"
        },
        {
         "diagonal": {
          "visible": false
         },
         "dimensions": [
          {
           "axis": {
            "matches": true
           },
           "label": "PC 1 (88.9%)",
           "values": [
            0.5919872409858183
           ]
          },
          {
           "axis": {
            "matches": true
           },
           "label": "PC 2 (10.2%)",
           "values": [
            -0.5452161336923792
           ]
          },
          {
           "axis": {
            "matches": true
           },
           "label": "PC 3 (0.5%)",
           "values": [
            0.03620497792920578
           ]
          },
          {
           "axis": {
            "matches": true
           },
           "label": "PC 4 (0.3%)",
           "values": [
            -0.1223869945210399
           ]
          }
         ],
         "hovertemplate": "color=Munich Dunkel Lager<br>%{xaxis.title.text}=%{x}<br>%{yaxis.title.text}=%{y}<extra></extra>",
         "legendgroup": "Munich Dunkel Lager",
         "marker": {
          "color": "#636efa",
          "symbol": "circle"
         },
         "name": "Munich Dunkel Lager",
         "showlegend": true,
         "type": "splom"
        },
        {
         "diagonal": {
          "visible": false
         },
         "dimensions": [
          {
           "axis": {
            "matches": true
           },
           "label": "PC 1 (88.9%)",
           "values": [
            0.44546922881282414
           ]
          },
          {
           "axis": {
            "matches": true
           },
           "label": "PC 2 (10.2%)",
           "values": [
            -0.6696416875888153
           ]
          },
          {
           "axis": {
            "matches": true
           },
           "label": "PC 3 (0.5%)",
           "values": [
            -0.2796482770745626
           ]
          },
          {
           "axis": {
            "matches": true
           },
           "label": "PC 4 (0.3%)",
           "values": [
            -0.23769945392522382
           ]
          }
         ],
         "hovertemplate": "color=Munich Helles Lager<br>%{xaxis.title.text}=%{x}<br>%{yaxis.title.text}=%{y}<extra></extra>",
         "legendgroup": "Munich Helles Lager",
         "marker": {
          "color": "#EF553B",
          "symbol": "circle"
         },
         "name": "Munich Helles Lager",
         "showlegend": true,
         "type": "splom"
        },
        {
         "diagonal": {
          "visible": false
         },
         "dimensions": [
          {
           "axis": {
            "matches": true
           },
           "label": "PC 1 (88.9%)",
           "values": [
            0.36525050337121595
           ]
          },
          {
           "axis": {
            "matches": true
           },
           "label": "PC 2 (10.2%)",
           "values": [
            -0.3210552153740408
           ]
          },
          {
           "axis": {
            "matches": true
           },
           "label": "PC 3 (0.5%)",
           "values": [
            -0.0387807960066075
           ]
          },
          {
           "axis": {
            "matches": true
           },
           "label": "PC 4 (0.3%)",
           "values": [
            -0.1846444241550613
           ]
          }
         ],
         "hovertemplate": "color=Märzen / Oktoberfest<br>%{xaxis.title.text}=%{x}<br>%{yaxis.title.text}=%{y}<extra></extra>",
         "legendgroup": "Märzen / Oktoberfest",
         "marker": {
          "color": "#00cc96",
          "symbol": "circle"
         },
         "name": "Märzen / Oktoberfest",
         "showlegend": true,
         "type": "splom"
        },
        {
         "diagonal": {
          "visible": false
         },
         "dimensions": [
          {
           "axis": {
            "matches": true
           },
           "label": "PC 1 (88.9%)",
           "values": [
            -1.463538751841214
           ]
          },
          {
           "axis": {
            "matches": true
           },
           "label": "PC 2 (10.2%)",
           "values": [
            -0.455353376770183
           ]
          },
          {
           "axis": {
            "matches": true
           },
           "label": "PC 3 (0.5%)",
           "values": [
            0.18095653685080085
           ]
          },
          {
           "axis": {
            "matches": true
           },
           "label": "PC 4 (0.3%)",
           "values": [
            -0.014373025245811697
           ]
          }
         ],
         "hovertemplate": "color=Oatmeal Stout<br>%{xaxis.title.text}=%{x}<br>%{yaxis.title.text}=%{y}<extra></extra>",
         "legendgroup": "Oatmeal Stout",
         "marker": {
          "color": "#ab63fa",
          "symbol": "circle"
         },
         "name": "Oatmeal Stout",
         "showlegend": true,
         "type": "splom"
        },
        {
         "diagonal": {
          "visible": false
         },
         "dimensions": [
          {
           "axis": {
            "matches": true
           },
           "label": "PC 1 (88.9%)",
           "values": [
            -2.3082765519481985
           ]
          },
          {
           "axis": {
            "matches": true
           },
           "label": "PC 2 (10.2%)",
           "values": [
            0.7948446360788584
           ]
          },
          {
           "axis": {
            "matches": true
           },
           "label": "PC 3 (0.5%)",
           "values": [
            -0.18252822115743622
           ]
          },
          {
           "axis": {
            "matches": true
           },
           "label": "PC 4 (0.3%)",
           "values": [
            0.09338774257589572
           ]
          }
         ],
         "hovertemplate": "color=Old Ale<br>%{xaxis.title.text}=%{x}<br>%{yaxis.title.text}=%{y}<extra></extra>",
         "legendgroup": "Old Ale",
         "marker": {
          "color": "#FFA15A",
          "symbol": "circle"
         },
         "name": "Old Ale",
         "showlegend": true,
         "type": "splom"
        },
        {
         "diagonal": {
          "visible": false
         },
         "dimensions": [
          {
           "axis": {
            "matches": true
           },
           "label": "PC 1 (88.9%)",
           "values": [
            0.043981013233484176
           ]
          },
          {
           "axis": {
            "matches": true
           },
           "label": "PC 2 (10.2%)",
           "values": [
            0.18266922212522038
           ]
          },
          {
           "axis": {
            "matches": true
           },
           "label": "PC 3 (0.5%)",
           "values": [
            -0.04067996702209736
           ]
          },
          {
           "axis": {
            "matches": true
           },
           "label": "PC 4 (0.3%)",
           "values": [
            0.3192829061858008
           ]
          }
         ],
         "hovertemplate": "color=Pumpkin Ale<br>%{xaxis.title.text}=%{x}<br>%{yaxis.title.text}=%{y}<extra></extra>",
         "legendgroup": "Pumpkin Ale",
         "marker": {
          "color": "#19d3f3",
          "symbol": "circle"
         },
         "name": "Pumpkin Ale",
         "showlegend": true,
         "type": "splom"
        },
        {
         "diagonal": {
          "visible": false
         },
         "dimensions": [
          {
           "axis": {
            "matches": true
           },
           "label": "PC 1 (88.9%)",
           "values": [
            -3.5257512536457285
           ]
          },
          {
           "axis": {
            "matches": true
           },
           "label": "PC 2 (10.2%)",
           "values": [
            1.542499249428513
           ]
          },
          {
           "axis": {
            "matches": true
           },
           "label": "PC 3 (0.5%)",
           "values": [
            -0.07094065176714186
           ]
          },
          {
           "axis": {
            "matches": true
           },
           "label": "PC 4 (0.3%)",
           "values": [
            -0.09190717800482422
           ]
          }
         ],
         "hovertemplate": "color=Quadrupel (Quad)<br>%{xaxis.title.text}=%{x}<br>%{yaxis.title.text}=%{y}<extra></extra>",
         "legendgroup": "Quadrupel (Quad)",
         "marker": {
          "color": "#FF6692",
          "symbol": "circle"
         },
         "name": "Quadrupel (Quad)",
         "showlegend": true,
         "type": "splom"
        },
        {
         "diagonal": {
          "visible": false
         },
         "dimensions": [
          {
           "axis": {
            "matches": true
           },
           "label": "PC 1 (88.9%)",
           "values": [
            -0.9971652860620306
           ]
          },
          {
           "axis": {
            "matches": true
           },
           "label": "PC 2 (10.2%)",
           "values": [
            -0.5185232838749791
           ]
          },
          {
           "axis": {
            "matches": true
           },
           "label": "PC 3 (0.5%)",
           "values": [
            -0.05123621616879879
           ]
          },
          {
           "axis": {
            "matches": true
           },
           "label": "PC 4 (0.3%)",
           "values": [
            0.2966433435030694
           ]
          }
         ],
         "hovertemplate": "color=Rauchbier<br>%{xaxis.title.text}=%{x}<br>%{yaxis.title.text}=%{y}<extra></extra>",
         "legendgroup": "Rauchbier",
         "marker": {
          "color": "#B6E880",
          "symbol": "circle"
         },
         "name": "Rauchbier",
         "showlegend": true,
         "type": "splom"
        },
        {
         "diagonal": {
          "visible": false
         },
         "dimensions": [
          {
           "axis": {
            "matches": true
           },
           "label": "PC 1 (88.9%)",
           "values": [
            -0.17173093639089815
           ]
          },
          {
           "axis": {
            "matches": true
           },
           "label": "PC 2 (10.2%)",
           "values": [
            -0.49303104245849005
           ]
          },
          {
           "axis": {
            "matches": true
           },
           "label": "PC 3 (0.5%)",
           "values": [
            -0.17756330049676294
           ]
          },
          {
           "axis": {
            "matches": true
           },
           "label": "PC 4 (0.3%)",
           "values": [
            0.036716142940610555
           ]
          }
         ],
         "hovertemplate": "color=Roggenbier<br>%{xaxis.title.text}=%{x}<br>%{yaxis.title.text}=%{y}<extra></extra>",
         "legendgroup": "Roggenbier",
         "marker": {
          "color": "#FF97FF",
          "symbol": "circle"
         },
         "name": "Roggenbier",
         "showlegend": true,
         "type": "splom"
        },
        {
         "diagonal": {
          "visible": false
         },
         "dimensions": [
          {
           "axis": {
            "matches": true
           },
           "label": "PC 1 (88.9%)",
           "values": [
            -3.571364298052243
           ]
          },
          {
           "axis": {
            "matches": true
           },
           "label": "PC 2 (10.2%)",
           "values": [
            1.2860342012454464
           ]
          },
          {
           "axis": {
            "matches": true
           },
           "label": "PC 3 (0.5%)",
           "values": [
            0.24420403198969456
           ]
          },
          {
           "axis": {
            "matches": true
           },
           "label": "PC 4 (0.3%)",
           "values": [
            -0.1534852253640931
           ]
          }
         ],
         "hovertemplate": "color=Russian Imperial Stout<br>%{xaxis.title.text}=%{x}<br>%{yaxis.title.text}=%{y}<extra></extra>",
         "legendgroup": "Russian Imperial Stout",
         "marker": {
          "color": "#FECB52",
          "symbol": "circle"
         },
         "name": "Russian Imperial Stout",
         "showlegend": true,
         "type": "splom"
        },
        {
         "diagonal": {
          "visible": false
         },
         "dimensions": [
          {
           "axis": {
            "matches": true
           },
           "label": "PC 1 (88.9%)",
           "values": [
            -0.9921467819659734
           ]
          },
          {
           "axis": {
            "matches": true
           },
           "label": "PC 2 (10.2%)",
           "values": [
            -0.25006023915721426
           ]
          },
          {
           "axis": {
            "matches": true
           },
           "label": "PC 3 (0.5%)",
           "values": [
            -0.0011006940037208007
           ]
          },
          {
           "axis": {
            "matches": true
           },
           "label": "PC 4 (0.3%)",
           "values": [
            -0.023074282934299275
           ]
          }
         ],
         "hovertemplate": "color=Rye Beer<br>%{xaxis.title.text}=%{x}<br>%{yaxis.title.text}=%{y}<extra></extra>",
         "legendgroup": "Rye Beer",
         "marker": {
          "color": "#636efa",
          "symbol": "circle"
         },
         "name": "Rye Beer",
         "showlegend": true,
         "type": "splom"
        },
        {
         "diagonal": {
          "visible": false
         },
         "dimensions": [
          {
           "axis": {
            "matches": true
           },
           "label": "PC 1 (88.9%)",
           "values": [
            -0.4374352039300267
           ]
          },
          {
           "axis": {
            "matches": true
           },
           "label": "PC 2 (10.2%)",
           "values": [
            0.35590113922940936
           ]
          },
          {
           "axis": {
            "matches": true
           },
           "label": "PC 3 (0.5%)",
           "values": [
            -0.29316688078591724
           ]
          },
          {
           "axis": {
            "matches": true
           },
           "label": "PC 4 (0.3%)",
           "values": [
            0.2675290551350138
           ]
          }
         ],
         "hovertemplate": "color=Sahti<br>%{xaxis.title.text}=%{x}<br>%{yaxis.title.text}=%{y}<extra></extra>",
         "legendgroup": "Sahti",
         "marker": {
          "color": "#EF553B",
          "symbol": "circle"
         },
         "name": "Sahti",
         "showlegend": true,
         "type": "splom"
        },
        {
         "diagonal": {
          "visible": false
         },
         "dimensions": [
          {
           "axis": {
            "matches": true
           },
           "label": "PC 1 (88.9%)",
           "values": [
            -1.6543880129791066
           ]
          },
          {
           "axis": {
            "matches": true
           },
           "label": "PC 2 (10.2%)",
           "values": [
            -0.4936038393132382
           ]
          },
          {
           "axis": {
            "matches": true
           },
           "label": "PC 3 (0.5%)",
           "values": [
            0.0034617689033690506
           ]
          },
          {
           "axis": {
            "matches": true
           },
           "label": "PC 4 (0.3%)",
           "values": [
            0.040038741557138054
           ]
          }
         ],
         "hovertemplate": "color=Saison / Farmhouse Ale<br>%{xaxis.title.text}=%{x}<br>%{yaxis.title.text}=%{y}<extra></extra>",
         "legendgroup": "Saison / Farmhouse Ale",
         "marker": {
          "color": "#00cc96",
          "symbol": "circle"
         },
         "name": "Saison / Farmhouse Ale",
         "showlegend": true,
         "type": "splom"
        },
        {
         "diagonal": {
          "visible": false
         },
         "dimensions": [
          {
           "axis": {
            "matches": true
           },
           "label": "PC 1 (88.9%)",
           "values": [
            -0.013840791770202058
           ]
          },
          {
           "axis": {
            "matches": true
           },
           "label": "PC 2 (10.2%)",
           "values": [
            -0.6074161978126429
           ]
          },
          {
           "axis": {
            "matches": true
           },
           "label": "PC 3 (0.5%)",
           "values": [
            0.1524084391066049
           ]
          },
          {
           "axis": {
            "matches": true
           },
           "label": "PC 4 (0.3%)",
           "values": [
            -0.15537986059153683
           ]
          }
         ],
         "hovertemplate": "color=Schwarzbier<br>%{xaxis.title.text}=%{x}<br>%{yaxis.title.text}=%{y}<extra></extra>",
         "legendgroup": "Schwarzbier",
         "marker": {
          "color": "#ab63fa",
          "symbol": "circle"
         },
         "name": "Schwarzbier",
         "showlegend": true,
         "type": "splom"
        },
        {
         "diagonal": {
          "visible": false
         },
         "dimensions": [
          {
           "axis": {
            "matches": true
           },
           "label": "PC 1 (88.9%)",
           "values": [
            -1.7573976669649731
           ]
          },
          {
           "axis": {
            "matches": true
           },
           "label": "PC 2 (10.2%)",
           "values": [
            0.6401028844739887
           ]
          },
          {
           "axis": {
            "matches": true
           },
           "label": "PC 3 (0.5%)",
           "values": [
            -0.12071644740236794
           ]
          },
          {
           "axis": {
            "matches": true
           },
           "label": "PC 4 (0.3%)",
           "values": [
            -0.007892229650857492
           ]
          }
         ],
         "hovertemplate": "color=Scotch Ale / Wee Heavy<br>%{xaxis.title.text}=%{x}<br>%{yaxis.title.text}=%{y}<extra></extra>",
         "legendgroup": "Scotch Ale / Wee Heavy",
         "marker": {
          "color": "#FFA15A",
          "symbol": "circle"
         },
         "name": "Scotch Ale / Wee Heavy",
         "showlegend": true,
         "type": "splom"
        },
        {
         "diagonal": {
          "visible": false
         },
         "dimensions": [
          {
           "axis": {
            "matches": true
           },
           "label": "PC 1 (88.9%)",
           "values": [
            0.1296073542214037
           ]
          },
          {
           "axis": {
            "matches": true
           },
           "label": "PC 2 (10.2%)",
           "values": [
            -0.2767005624507868
           ]
          },
          {
           "axis": {
            "matches": true
           },
           "label": "PC 3 (0.5%)",
           "values": [
            0.05081919750154347
           ]
          },
          {
           "axis": {
            "matches": true
           },
           "label": "PC 4 (0.3%)",
           "values": [
            -0.0828442538515148
           ]
          }
         ],
         "hovertemplate": "color=Scottish Ale<br>%{xaxis.title.text}=%{x}<br>%{yaxis.title.text}=%{y}<extra></extra>",
         "legendgroup": "Scottish Ale",
         "marker": {
          "color": "#19d3f3",
          "symbol": "circle"
         },
         "name": "Scottish Ale",
         "showlegend": true,
         "type": "splom"
        },
        {
         "diagonal": {
          "visible": false
         },
         "dimensions": [
          {
           "axis": {
            "matches": true
           },
           "label": "PC 1 (88.9%)",
           "values": [
            0.03609256095320042
           ]
          },
          {
           "axis": {
            "matches": true
           },
           "label": "PC 2 (10.2%)",
           "values": [
            -0.12526477355056476
           ]
          },
          {
           "axis": {
            "matches": true
           },
           "label": "PC 3 (0.5%)",
           "values": [
            -0.28924207362800397
           ]
          },
          {
           "axis": {
            "matches": true
           },
           "label": "PC 4 (0.3%)",
           "values": [
            0.2666298280522404
           ]
          }
         ],
         "hovertemplate": "color=Scottish Gruit / Ancient Herbed Ale<br>%{xaxis.title.text}=%{x}<br>%{yaxis.title.text}=%{y}<extra></extra>",
         "legendgroup": "Scottish Gruit / Ancient Herbed Ale",
         "marker": {
          "color": "#FF6692",
          "symbol": "circle"
         },
         "name": "Scottish Gruit / Ancient Herbed Ale",
         "showlegend": true,
         "type": "splom"
        },
        {
         "diagonal": {
          "visible": false
         },
         "dimensions": [
          {
           "axis": {
            "matches": true
           },
           "label": "PC 1 (88.9%)",
           "values": [
            -0.6356250221184878
           ]
          },
          {
           "axis": {
            "matches": true
           },
           "label": "PC 2 (10.2%)",
           "values": [
            -0.28987742580326936
           ]
          },
          {
           "axis": {
            "matches": true
           },
           "label": "PC 3 (0.5%)",
           "values": [
            0.11086913245194695
           ]
          },
          {
           "axis": {
            "matches": true
           },
           "label": "PC 4 (0.3%)",
           "values": [
            0.14823301630361285
           ]
          }
         ],
         "hovertemplate": "color=Smoked Beer<br>%{xaxis.title.text}=%{x}<br>%{yaxis.title.text}=%{y}<extra></extra>",
         "legendgroup": "Smoked Beer",
         "marker": {
          "color": "#B6E880",
          "symbol": "circle"
         },
         "name": "Smoked Beer",
         "showlegend": true,
         "type": "splom"
        },
        {
         "diagonal": {
          "visible": false
         },
         "dimensions": [
          {
           "axis": {
            "matches": true
           },
           "label": "PC 1 (88.9%)",
           "values": [
            -1.7926027890953915
           ]
          },
          {
           "axis": {
            "matches": true
           },
           "label": "PC 2 (10.2%)",
           "values": [
            0.9671968150735697
           ]
          },
          {
           "axis": {
            "matches": true
           },
           "label": "PC 3 (0.5%)",
           "values": [
            -0.041833632694787945
           ]
          },
          {
           "axis": {
            "matches": true
           },
           "label": "PC 4 (0.3%)",
           "values": [
            -0.03555856431896835
           ]
          }
         ],
         "hovertemplate": "color=Tripel<br>%{xaxis.title.text}=%{x}<br>%{yaxis.title.text}=%{y}<extra></extra>",
         "legendgroup": "Tripel",
         "marker": {
          "color": "#FF97FF",
          "symbol": "circle"
         },
         "name": "Tripel",
         "showlegend": true,
         "type": "splom"
        },
        {
         "diagonal": {
          "visible": false
         },
         "dimensions": [
          {
           "axis": {
            "matches": true
           },
           "label": "PC 1 (88.9%)",
           "values": [
            1.1627227689603474
           ]
          },
          {
           "axis": {
            "matches": true
           },
           "label": "PC 2 (10.2%)",
           "values": [
            -0.4437059335811574
           ]
          },
          {
           "axis": {
            "matches": true
           },
           "label": "PC 3 (0.5%)",
           "values": [
            -0.022860582904620515
           ]
          },
          {
           "axis": {
            "matches": true
           },
           "label": "PC 4 (0.3%)",
           "values": [
            -0.21265901488107453
           ]
          }
         ],
         "hovertemplate": "color=Vienna Lager<br>%{xaxis.title.text}=%{x}<br>%{yaxis.title.text}=%{y}<extra></extra>",
         "legendgroup": "Vienna Lager",
         "marker": {
          "color": "#FECB52",
          "symbol": "circle"
         },
         "name": "Vienna Lager",
         "showlegend": true,
         "type": "splom"
        },
        {
         "diagonal": {
          "visible": false
         },
         "dimensions": [
          {
           "axis": {
            "matches": true
           },
           "label": "PC 1 (88.9%)",
           "values": [
            -2.1715642661200905
           ]
          },
          {
           "axis": {
            "matches": true
           },
           "label": "PC 2 (10.2%)",
           "values": [
            0.11231066011696428
           ]
          },
          {
           "axis": {
            "matches": true
           },
           "label": "PC 3 (0.5%)",
           "values": [
            -0.13327746095002121
           ]
          },
          {
           "axis": {
            "matches": true
           },
           "label": "PC 4 (0.3%)",
           "values": [
            0.05187889933912585
           ]
          }
         ],
         "hovertemplate": "color=Weizenbock<br>%{xaxis.title.text}=%{x}<br>%{yaxis.title.text}=%{y}<extra></extra>",
         "legendgroup": "Weizenbock",
         "marker": {
          "color": "#636efa",
          "symbol": "circle"
         },
         "name": "Weizenbock",
         "showlegend": true,
         "type": "splom"
        },
        {
         "diagonal": {
          "visible": false
         },
         "dimensions": [
          {
           "axis": {
            "matches": true
           },
           "label": "PC 1 (88.9%)",
           "values": [
            -1.951549919798608
           ]
          },
          {
           "axis": {
            "matches": true
           },
           "label": "PC 2 (10.2%)",
           "values": [
            1.611539227302031
           ]
          },
          {
           "axis": {
            "matches": true
           },
           "label": "PC 3 (0.5%)",
           "values": [
            -0.07871739001438167
           ]
          },
          {
           "axis": {
            "matches": true
           },
           "label": "PC 4 (0.3%)",
           "values": [
            0.08145122675395856
           ]
          }
         ],
         "hovertemplate": "color=Wheatwine<br>%{xaxis.title.text}=%{x}<br>%{yaxis.title.text}=%{y}<extra></extra>",
         "legendgroup": "Wheatwine",
         "marker": {
          "color": "#EF553B",
          "symbol": "circle"
         },
         "name": "Wheatwine",
         "showlegend": true,
         "type": "splom"
        },
        {
         "diagonal": {
          "visible": false
         },
         "dimensions": [
          {
           "axis": {
            "matches": true
           },
           "label": "PC 1 (88.9%)",
           "values": [
            -0.13553752409243375
           ]
          },
          {
           "axis": {
            "matches": true
           },
           "label": "PC 2 (10.2%)",
           "values": [
            0.3452682965806398
           ]
          },
          {
           "axis": {
            "matches": true
           },
           "label": "PC 3 (0.5%)",
           "values": [
            0.16854580172847014
           ]
          },
          {
           "axis": {
            "matches": true
           },
           "label": "PC 4 (0.3%)",
           "values": [
            0.07047540074785899
           ]
          }
         ],
         "hovertemplate": "color=Winter Warmer<br>%{xaxis.title.text}=%{x}<br>%{yaxis.title.text}=%{y}<extra></extra>",
         "legendgroup": "Winter Warmer",
         "marker": {
          "color": "#00cc96",
          "symbol": "circle"
         },
         "name": "Winter Warmer",
         "showlegend": true,
         "type": "splom"
        },
        {
         "diagonal": {
          "visible": false
         },
         "dimensions": [
          {
           "axis": {
            "matches": true
           },
           "label": "PC 1 (88.9%)",
           "values": [
            0.5863508460364604
           ]
          },
          {
           "axis": {
            "matches": true
           },
           "label": "PC 2 (10.2%)",
           "values": [
            -0.48353892529289394
           ]
          },
          {
           "axis": {
            "matches": true
           },
           "label": "PC 3 (0.5%)",
           "values": [
            -0.14200321632249205
           ]
          },
          {
           "axis": {
            "matches": true
           },
           "label": "PC 4 (0.3%)",
           "values": [
            0.06487141281657922
           ]
          }
         ],
         "hovertemplate": "color=Witbier<br>%{xaxis.title.text}=%{x}<br>%{yaxis.title.text}=%{y}<extra></extra>",
         "legendgroup": "Witbier",
         "marker": {
          "color": "#ab63fa",
          "symbol": "circle"
         },
         "name": "Witbier",
         "showlegend": true,
         "type": "splom"
        }
       ],
       "layout": {
        "dragmode": "select",
        "height": 600,
        "legend": {
         "title": {
          "text": "color"
         },
         "tracegroupgap": 0
        },
        "margin": {
         "t": 60
        },
        "template": {
         "data": {
          "bar": [
           {
            "error_x": {
             "color": "#2a3f5f"
            },
            "error_y": {
             "color": "#2a3f5f"
            },
            "marker": {
             "line": {
              "color": "#E5ECF6",
              "width": 0.5
             },
             "pattern": {
              "fillmode": "overlay",
              "size": 10,
              "solidity": 0.2
             }
            },
            "type": "bar"
           }
          ],
          "barpolar": [
           {
            "marker": {
             "line": {
              "color": "#E5ECF6",
              "width": 0.5
             },
             "pattern": {
              "fillmode": "overlay",
              "size": 10,
              "solidity": 0.2
             }
            },
            "type": "barpolar"
           }
          ],
          "carpet": [
           {
            "aaxis": {
             "endlinecolor": "#2a3f5f",
             "gridcolor": "white",
             "linecolor": "white",
             "minorgridcolor": "white",
             "startlinecolor": "#2a3f5f"
            },
            "baxis": {
             "endlinecolor": "#2a3f5f",
             "gridcolor": "white",
             "linecolor": "white",
             "minorgridcolor": "white",
             "startlinecolor": "#2a3f5f"
            },
            "type": "carpet"
           }
          ],
          "choropleth": [
           {
            "colorbar": {
             "outlinewidth": 0,
             "ticks": ""
            },
            "type": "choropleth"
           }
          ],
          "contour": [
           {
            "colorbar": {
             "outlinewidth": 0,
             "ticks": ""
            },
            "colorscale": [
             [
              0,
              "#0d0887"
             ],
             [
              0.1111111111111111,
              "#46039f"
             ],
             [
              0.2222222222222222,
              "#7201a8"
             ],
             [
              0.3333333333333333,
              "#9c179e"
             ],
             [
              0.4444444444444444,
              "#bd3786"
             ],
             [
              0.5555555555555556,
              "#d8576b"
             ],
             [
              0.6666666666666666,
              "#ed7953"
             ],
             [
              0.7777777777777778,
              "#fb9f3a"
             ],
             [
              0.8888888888888888,
              "#fdca26"
             ],
             [
              1,
              "#f0f921"
             ]
            ],
            "type": "contour"
           }
          ],
          "contourcarpet": [
           {
            "colorbar": {
             "outlinewidth": 0,
             "ticks": ""
            },
            "type": "contourcarpet"
           }
          ],
          "heatmap": [
           {
            "colorbar": {
             "outlinewidth": 0,
             "ticks": ""
            },
            "colorscale": [
             [
              0,
              "#0d0887"
             ],
             [
              0.1111111111111111,
              "#46039f"
             ],
             [
              0.2222222222222222,
              "#7201a8"
             ],
             [
              0.3333333333333333,
              "#9c179e"
             ],
             [
              0.4444444444444444,
              "#bd3786"
             ],
             [
              0.5555555555555556,
              "#d8576b"
             ],
             [
              0.6666666666666666,
              "#ed7953"
             ],
             [
              0.7777777777777778,
              "#fb9f3a"
             ],
             [
              0.8888888888888888,
              "#fdca26"
             ],
             [
              1,
              "#f0f921"
             ]
            ],
            "type": "heatmap"
           }
          ],
          "heatmapgl": [
           {
            "colorbar": {
             "outlinewidth": 0,
             "ticks": ""
            },
            "colorscale": [
             [
              0,
              "#0d0887"
             ],
             [
              0.1111111111111111,
              "#46039f"
             ],
             [
              0.2222222222222222,
              "#7201a8"
             ],
             [
              0.3333333333333333,
              "#9c179e"
             ],
             [
              0.4444444444444444,
              "#bd3786"
             ],
             [
              0.5555555555555556,
              "#d8576b"
             ],
             [
              0.6666666666666666,
              "#ed7953"
             ],
             [
              0.7777777777777778,
              "#fb9f3a"
             ],
             [
              0.8888888888888888,
              "#fdca26"
             ],
             [
              1,
              "#f0f921"
             ]
            ],
            "type": "heatmapgl"
           }
          ],
          "histogram": [
           {
            "marker": {
             "pattern": {
              "fillmode": "overlay",
              "size": 10,
              "solidity": 0.2
             }
            },
            "type": "histogram"
           }
          ],
          "histogram2d": [
           {
            "colorbar": {
             "outlinewidth": 0,
             "ticks": ""
            },
            "colorscale": [
             [
              0,
              "#0d0887"
             ],
             [
              0.1111111111111111,
              "#46039f"
             ],
             [
              0.2222222222222222,
              "#7201a8"
             ],
             [
              0.3333333333333333,
              "#9c179e"
             ],
             [
              0.4444444444444444,
              "#bd3786"
             ],
             [
              0.5555555555555556,
              "#d8576b"
             ],
             [
              0.6666666666666666,
              "#ed7953"
             ],
             [
              0.7777777777777778,
              "#fb9f3a"
             ],
             [
              0.8888888888888888,
              "#fdca26"
             ],
             [
              1,
              "#f0f921"
             ]
            ],
            "type": "histogram2d"
           }
          ],
          "histogram2dcontour": [
           {
            "colorbar": {
             "outlinewidth": 0,
             "ticks": ""
            },
            "colorscale": [
             [
              0,
              "#0d0887"
             ],
             [
              0.1111111111111111,
              "#46039f"
             ],
             [
              0.2222222222222222,
              "#7201a8"
             ],
             [
              0.3333333333333333,
              "#9c179e"
             ],
             [
              0.4444444444444444,
              "#bd3786"
             ],
             [
              0.5555555555555556,
              "#d8576b"
             ],
             [
              0.6666666666666666,
              "#ed7953"
             ],
             [
              0.7777777777777778,
              "#fb9f3a"
             ],
             [
              0.8888888888888888,
              "#fdca26"
             ],
             [
              1,
              "#f0f921"
             ]
            ],
            "type": "histogram2dcontour"
           }
          ],
          "mesh3d": [
           {
            "colorbar": {
             "outlinewidth": 0,
             "ticks": ""
            },
            "type": "mesh3d"
           }
          ],
          "parcoords": [
           {
            "line": {
             "colorbar": {
              "outlinewidth": 0,
              "ticks": ""
             }
            },
            "type": "parcoords"
           }
          ],
          "pie": [
           {
            "automargin": true,
            "type": "pie"
           }
          ],
          "scatter": [
           {
            "fillpattern": {
             "fillmode": "overlay",
             "size": 10,
             "solidity": 0.2
            },
            "type": "scatter"
           }
          ],
          "scatter3d": [
           {
            "line": {
             "colorbar": {
              "outlinewidth": 0,
              "ticks": ""
             }
            },
            "marker": {
             "colorbar": {
              "outlinewidth": 0,
              "ticks": ""
             }
            },
            "type": "scatter3d"
           }
          ],
          "scattercarpet": [
           {
            "marker": {
             "colorbar": {
              "outlinewidth": 0,
              "ticks": ""
             }
            },
            "type": "scattercarpet"
           }
          ],
          "scattergeo": [
           {
            "marker": {
             "colorbar": {
              "outlinewidth": 0,
              "ticks": ""
             }
            },
            "type": "scattergeo"
           }
          ],
          "scattergl": [
           {
            "marker": {
             "colorbar": {
              "outlinewidth": 0,
              "ticks": ""
             }
            },
            "type": "scattergl"
           }
          ],
          "scattermapbox": [
           {
            "marker": {
             "colorbar": {
              "outlinewidth": 0,
              "ticks": ""
             }
            },
            "type": "scattermapbox"
           }
          ],
          "scatterpolar": [
           {
            "marker": {
             "colorbar": {
              "outlinewidth": 0,
              "ticks": ""
             }
            },
            "type": "scatterpolar"
           }
          ],
          "scatterpolargl": [
           {
            "marker": {
             "colorbar": {
              "outlinewidth": 0,
              "ticks": ""
             }
            },
            "type": "scatterpolargl"
           }
          ],
          "scatterternary": [
           {
            "marker": {
             "colorbar": {
              "outlinewidth": 0,
              "ticks": ""
             }
            },
            "type": "scatterternary"
           }
          ],
          "surface": [
           {
            "colorbar": {
             "outlinewidth": 0,
             "ticks": ""
            },
            "colorscale": [
             [
              0,
              "#0d0887"
             ],
             [
              0.1111111111111111,
              "#46039f"
             ],
             [
              0.2222222222222222,
              "#7201a8"
             ],
             [
              0.3333333333333333,
              "#9c179e"
             ],
             [
              0.4444444444444444,
              "#bd3786"
             ],
             [
              0.5555555555555556,
              "#d8576b"
             ],
             [
              0.6666666666666666,
              "#ed7953"
             ],
             [
              0.7777777777777778,
              "#fb9f3a"
             ],
             [
              0.8888888888888888,
              "#fdca26"
             ],
             [
              1,
              "#f0f921"
             ]
            ],
            "type": "surface"
           }
          ],
          "table": [
           {
            "cells": {
             "fill": {
              "color": "#EBF0F8"
             },
             "line": {
              "color": "white"
             }
            },
            "header": {
             "fill": {
              "color": "#C8D4E3"
             },
             "line": {
              "color": "white"
             }
            },
            "type": "table"
           }
          ]
         },
         "layout": {
          "annotationdefaults": {
           "arrowcolor": "#2a3f5f",
           "arrowhead": 0,
           "arrowwidth": 1
          },
          "autotypenumbers": "strict",
          "coloraxis": {
           "colorbar": {
            "outlinewidth": 0,
            "ticks": ""
           }
          },
          "colorscale": {
           "diverging": [
            [
             0,
             "#8e0152"
            ],
            [
             0.1,
             "#c51b7d"
            ],
            [
             0.2,
             "#de77ae"
            ],
            [
             0.3,
             "#f1b6da"
            ],
            [
             0.4,
             "#fde0ef"
            ],
            [
             0.5,
             "#f7f7f7"
            ],
            [
             0.6,
             "#e6f5d0"
            ],
            [
             0.7,
             "#b8e186"
            ],
            [
             0.8,
             "#7fbc41"
            ],
            [
             0.9,
             "#4d9221"
            ],
            [
             1,
             "#276419"
            ]
           ],
           "sequential": [
            [
             0,
             "#0d0887"
            ],
            [
             0.1111111111111111,
             "#46039f"
            ],
            [
             0.2222222222222222,
             "#7201a8"
            ],
            [
             0.3333333333333333,
             "#9c179e"
            ],
            [
             0.4444444444444444,
             "#bd3786"
            ],
            [
             0.5555555555555556,
             "#d8576b"
            ],
            [
             0.6666666666666666,
             "#ed7953"
            ],
            [
             0.7777777777777778,
             "#fb9f3a"
            ],
            [
             0.8888888888888888,
             "#fdca26"
            ],
            [
             1,
             "#f0f921"
            ]
           ],
           "sequentialminus": [
            [
             0,
             "#0d0887"
            ],
            [
             0.1111111111111111,
             "#46039f"
            ],
            [
             0.2222222222222222,
             "#7201a8"
            ],
            [
             0.3333333333333333,
             "#9c179e"
            ],
            [
             0.4444444444444444,
             "#bd3786"
            ],
            [
             0.5555555555555556,
             "#d8576b"
            ],
            [
             0.6666666666666666,
             "#ed7953"
            ],
            [
             0.7777777777777778,
             "#fb9f3a"
            ],
            [
             0.8888888888888888,
             "#fdca26"
            ],
            [
             1,
             "#f0f921"
            ]
           ]
          },
          "colorway": [
           "#636efa",
           "#EF553B",
           "#00cc96",
           "#ab63fa",
           "#FFA15A",
           "#19d3f3",
           "#FF6692",
           "#B6E880",
           "#FF97FF",
           "#FECB52"
          ],
          "font": {
           "color": "#2a3f5f"
          },
          "geo": {
           "bgcolor": "white",
           "lakecolor": "white",
           "landcolor": "#E5ECF6",
           "showlakes": true,
           "showland": true,
           "subunitcolor": "white"
          },
          "hoverlabel": {
           "align": "left"
          },
          "hovermode": "closest",
          "mapbox": {
           "style": "light"
          },
          "paper_bgcolor": "white",
          "plot_bgcolor": "#E5ECF6",
          "polar": {
           "angularaxis": {
            "gridcolor": "white",
            "linecolor": "white",
            "ticks": ""
           },
           "bgcolor": "#E5ECF6",
           "radialaxis": {
            "gridcolor": "white",
            "linecolor": "white",
            "ticks": ""
           }
          },
          "scene": {
           "xaxis": {
            "backgroundcolor": "#E5ECF6",
            "gridcolor": "white",
            "gridwidth": 2,
            "linecolor": "white",
            "showbackground": true,
            "ticks": "",
            "zerolinecolor": "white"
           },
           "yaxis": {
            "backgroundcolor": "#E5ECF6",
            "gridcolor": "white",
            "gridwidth": 2,
            "linecolor": "white",
            "showbackground": true,
            "ticks": "",
            "zerolinecolor": "white"
           },
           "zaxis": {
            "backgroundcolor": "#E5ECF6",
            "gridcolor": "white",
            "gridwidth": 2,
            "linecolor": "white",
            "showbackground": true,
            "ticks": "",
            "zerolinecolor": "white"
           }
          },
          "shapedefaults": {
           "line": {
            "color": "#2a3f5f"
           }
          },
          "ternary": {
           "aaxis": {
            "gridcolor": "white",
            "linecolor": "white",
            "ticks": ""
           },
           "baxis": {
            "gridcolor": "white",
            "linecolor": "white",
            "ticks": ""
           },
           "bgcolor": "#E5ECF6",
           "caxis": {
            "gridcolor": "white",
            "linecolor": "white",
            "ticks": ""
           }
          },
          "title": {
           "x": 0.05
          },
          "xaxis": {
           "automargin": true,
           "gridcolor": "white",
           "linecolor": "white",
           "ticks": "",
           "title": {
            "standoff": 15
           },
           "zerolinecolor": "white",
           "zerolinewidth": 2
          },
          "yaxis": {
           "automargin": true,
           "gridcolor": "white",
           "linecolor": "white",
           "ticks": "",
           "title": {
            "standoff": 15
           },
           "zerolinecolor": "white",
           "zerolinewidth": 2
          }
         }
        },
        "title": {
         "text": "PCA - Beer styles"
        },
        "width": 1000
       }
      }
     },
     "metadata": {},
     "output_type": "display_data"
    }
   ],
   "source": [
    "pca = PCA()\n",
    "components = pca.fit_transform(X)\n",
    "labels_var = {\n",
    "    str(i): f\"PC {i+1} ({var:.1f}%)\"\n",
    "    for i, var in enumerate(pca.explained_variance_ratio_ * 100)\n",
    "}\n",
    "\n",
    "fig = px.scatter_matrix(\n",
    "    components,\n",
    "    labels=labels_var,\n",
    "    dimensions=range(4),\n",
    "    color=style_labels,\n",
    ")\n",
    "fig.update_traces(diagonal_visible=False)\n",
    "fig.update_layout(\n",
    "    title='PCA - Beer styles',\n",
    "    width=1000,\n",
    "    height=600,\n",
    ")\n",
    "fig.show()"
   ]
  },
  {
   "attachments": {},
   "cell_type": "markdown",
   "metadata": {},
   "source": [
    "Trying out with T-SNE does not yield more meaningful insight."
   ]
  },
  {
   "cell_type": "code",
   "execution_count": 27,
   "metadata": {},
   "outputs": [
    {
     "data": {
      "application/vnd.plotly.v1+json": {
       "config": {
        "plotlyServerURL": "https://plot.ly"
       },
       "data": [
        {
         "hovertemplate": "color=Altbier<br>x=%{x}<br>y=%{y}<extra></extra>",
         "legendgroup": "Altbier",
         "marker": {
          "color": "#636efa",
          "symbol": "circle"
         },
         "mode": "markers",
         "name": "Altbier",
         "orientation": "v",
         "showlegend": true,
         "type": "scatter",
         "x": [
          2.2625813484191895
         ],
         "xaxis": "x",
         "y": [
          -1.6101789474487305
         ],
         "yaxis": "y"
        },
        {
         "hovertemplate": "color=American Adjunct Lager<br>x=%{x}<br>y=%{y}<extra></extra>",
         "legendgroup": "American Adjunct Lager",
         "marker": {
          "color": "#EF553B",
          "symbol": "circle"
         },
         "mode": "markers",
         "name": "American Adjunct Lager",
         "orientation": "v",
         "showlegend": true,
         "type": "scatter",
         "x": [
          9.89959716796875
         ],
         "xaxis": "x",
         "y": [
          -4.213651657104492
         ],
         "yaxis": "y"
        },
        {
         "hovertemplate": "color=American Amber / Red Ale<br>x=%{x}<br>y=%{y}<extra></extra>",
         "legendgroup": "American Amber / Red Ale",
         "marker": {
          "color": "#00cc96",
          "symbol": "circle"
         },
         "mode": "markers",
         "name": "American Amber / Red Ale",
         "orientation": "v",
         "showlegend": true,
         "type": "scatter",
         "x": [
          1.3646801710128784
         ],
         "xaxis": "x",
         "y": [
          -0.9291873574256897
         ],
         "yaxis": "y"
        },
        {
         "hovertemplate": "color=American Amber / Red Lager<br>x=%{x}<br>y=%{y}<extra></extra>",
         "legendgroup": "American Amber / Red Lager",
         "marker": {
          "color": "#ab63fa",
          "symbol": "circle"
         },
         "mode": "markers",
         "name": "American Amber / Red Lager",
         "orientation": "v",
         "showlegend": true,
         "type": "scatter",
         "x": [
          7.755245685577393
         ],
         "xaxis": "x",
         "y": [
          -3.083635091781616
         ],
         "yaxis": "y"
        },
        {
         "hovertemplate": "color=American Barleywine<br>x=%{x}<br>y=%{y}<extra></extra>",
         "legendgroup": "American Barleywine",
         "marker": {
          "color": "#FFA15A",
          "symbol": "circle"
         },
         "mode": "markers",
         "name": "American Barleywine",
         "orientation": "v",
         "showlegend": true,
         "type": "scatter",
         "x": [
          -7.7245612144470215
         ],
         "xaxis": "x",
         "y": [
          0.8536443114280701
         ],
         "yaxis": "y"
        },
        {
         "hovertemplate": "color=American Black Ale<br>x=%{x}<br>y=%{y}<extra></extra>",
         "legendgroup": "American Black Ale",
         "marker": {
          "color": "#19d3f3",
          "symbol": "circle"
         },
         "mode": "markers",
         "name": "American Black Ale",
         "orientation": "v",
         "showlegend": true,
         "type": "scatter",
         "x": [
          -4.3500752449035645
         ],
         "xaxis": "x",
         "y": [
          0.815414547920227
         ],
         "yaxis": "y"
        },
        {
         "hovertemplate": "color=American Blonde Ale<br>x=%{x}<br>y=%{y}<extra></extra>",
         "legendgroup": "American Blonde Ale",
         "marker": {
          "color": "#FF6692",
          "symbol": "circle"
         },
         "mode": "markers",
         "name": "American Blonde Ale",
         "orientation": "v",
         "showlegend": true,
         "type": "scatter",
         "x": [
          6.249298572540283
         ],
         "xaxis": "x",
         "y": [
          -2.7259974479675293
         ],
         "yaxis": "y"
        },
        {
         "hovertemplate": "color=American Brown Ale<br>x=%{x}<br>y=%{y}<extra></extra>",
         "legendgroup": "American Brown Ale",
         "marker": {
          "color": "#B6E880",
          "symbol": "circle"
         },
         "mode": "markers",
         "name": "American Brown Ale",
         "orientation": "v",
         "showlegend": true,
         "type": "scatter",
         "x": [
          -1.5078179836273193
         ],
         "xaxis": "x",
         "y": [
          -0.094345323741436
         ],
         "yaxis": "y"
        },
        {
         "hovertemplate": "color=American Dark Wheat Ale<br>x=%{x}<br>y=%{y}<extra></extra>",
         "legendgroup": "American Dark Wheat Ale",
         "marker": {
          "color": "#FF97FF",
          "symbol": "circle"
         },
         "mode": "markers",
         "name": "American Dark Wheat Ale",
         "orientation": "v",
         "showlegend": true,
         "type": "scatter",
         "x": [
          5.170466423034668
         ],
         "xaxis": "x",
         "y": [
          -1.3334579467773438
         ],
         "yaxis": "y"
        },
        {
         "hovertemplate": "color=American Double / Imperial IPA<br>x=%{x}<br>y=%{y}<extra></extra>",
         "legendgroup": "American Double / Imperial IPA",
         "marker": {
          "color": "#FECB52",
          "symbol": "circle"
         },
         "mode": "markers",
         "name": "American Double / Imperial IPA",
         "orientation": "v",
         "showlegend": true,
         "type": "scatter",
         "x": [
          -6.9393839836120605
         ],
         "xaxis": "x",
         "y": [
          2.1280789375305176
         ],
         "yaxis": "y"
        },
        {
         "hovertemplate": "color=American Double / Imperial Pilsner<br>x=%{x}<br>y=%{y}<extra></extra>",
         "legendgroup": "American Double / Imperial Pilsner",
         "marker": {
          "color": "#636efa",
          "symbol": "circle"
         },
         "mode": "markers",
         "name": "American Double / Imperial Pilsner",
         "orientation": "v",
         "showlegend": true,
         "type": "scatter",
         "x": [
          -4.777494430541992
         ],
         "xaxis": "x",
         "y": [
          0.2241324633359909
         ],
         "yaxis": "y"
        },
        {
         "hovertemplate": "color=American Double / Imperial Stout<br>x=%{x}<br>y=%{y}<extra></extra>",
         "legendgroup": "American Double / Imperial Stout",
         "marker": {
          "color": "#EF553B",
          "symbol": "circle"
         },
         "mode": "markers",
         "name": "American Double / Imperial Stout",
         "orientation": "v",
         "showlegend": true,
         "type": "scatter",
         "x": [
          -7.8164286613464355
         ],
         "xaxis": "x",
         "y": [
          2.225217819213867
         ],
         "yaxis": "y"
        },
        {
         "hovertemplate": "color=American IPA<br>x=%{x}<br>y=%{y}<extra></extra>",
         "legendgroup": "American IPA",
         "marker": {
          "color": "#00cc96",
          "symbol": "circle"
         },
         "mode": "markers",
         "name": "American IPA",
         "orientation": "v",
         "showlegend": true,
         "type": "scatter",
         "x": [
          -3.6132466793060303
         ],
         "xaxis": "x",
         "y": [
          1.1616921424865723
         ],
         "yaxis": "y"
        },
        {
         "hovertemplate": "color=American Malt Liquor<br>x=%{x}<br>y=%{y}<extra></extra>",
         "legendgroup": "American Malt Liquor",
         "marker": {
          "color": "#ab63fa",
          "symbol": "circle"
         },
         "mode": "markers",
         "name": "American Malt Liquor",
         "orientation": "v",
         "showlegend": true,
         "type": "scatter",
         "x": [
          10.064391136169434
         ],
         "xaxis": "x",
         "y": [
          -4.446220397949219
         ],
         "yaxis": "y"
        },
        {
         "hovertemplate": "color=American Pale Ale (APA)<br>x=%{x}<br>y=%{y}<extra></extra>",
         "legendgroup": "American Pale Ale (APA)",
         "marker": {
          "color": "#FFA15A",
          "symbol": "circle"
         },
         "mode": "markers",
         "name": "American Pale Ale (APA)",
         "orientation": "v",
         "showlegend": true,
         "type": "scatter",
         "x": [
          -1.546137809753418
         ],
         "xaxis": "x",
         "y": [
          -0.9786880612373352
         ],
         "yaxis": "y"
        },
        {
         "hovertemplate": "color=American Pale Lager<br>x=%{x}<br>y=%{y}<extra></extra>",
         "legendgroup": "American Pale Lager",
         "marker": {
          "color": "#19d3f3",
          "symbol": "circle"
         },
         "mode": "markers",
         "name": "American Pale Lager",
         "orientation": "v",
         "showlegend": true,
         "type": "scatter",
         "x": [
          6.9113359451293945
         ],
         "xaxis": "x",
         "y": [
          -2.733259916305542
         ],
         "yaxis": "y"
        },
        {
         "hovertemplate": "color=American Pale Wheat Ale<br>x=%{x}<br>y=%{y}<extra></extra>",
         "legendgroup": "American Pale Wheat Ale",
         "marker": {
          "color": "#FF6692",
          "symbol": "circle"
         },
         "mode": "markers",
         "name": "American Pale Wheat Ale",
         "orientation": "v",
         "showlegend": true,
         "type": "scatter",
         "x": [
          4.719709396362305
         ],
         "xaxis": "x",
         "y": [
          -2.287692070007324
         ],
         "yaxis": "y"
        },
        {
         "hovertemplate": "color=American Porter<br>x=%{x}<br>y=%{y}<extra></extra>",
         "legendgroup": "American Porter",
         "marker": {
          "color": "#B6E880",
          "symbol": "circle"
         },
         "mode": "markers",
         "name": "American Porter",
         "orientation": "v",
         "showlegend": true,
         "type": "scatter",
         "x": [
          -3.8804984092712402
         ],
         "xaxis": "x",
         "y": [
          0.9461226463317871
         ],
         "yaxis": "y"
        },
        {
         "hovertemplate": "color=American Stout<br>x=%{x}<br>y=%{y}<extra></extra>",
         "legendgroup": "American Stout",
         "marker": {
          "color": "#FF97FF",
          "symbol": "circle"
         },
         "mode": "markers",
         "name": "American Stout",
         "orientation": "v",
         "showlegend": true,
         "type": "scatter",
         "x": [
          -2.900009870529175
         ],
         "xaxis": "x",
         "y": [
          0.1458694189786911
         ],
         "yaxis": "y"
        },
        {
         "hovertemplate": "color=American Strong Ale<br>x=%{x}<br>y=%{y}<extra></extra>",
         "legendgroup": "American Strong Ale",
         "marker": {
          "color": "#FECB52",
          "symbol": "circle"
         },
         "mode": "markers",
         "name": "American Strong Ale",
         "orientation": "v",
         "showlegend": true,
         "type": "scatter",
         "x": [
          -6.989426136016846
         ],
         "xaxis": "x",
         "y": [
          0.9292051196098328
         ],
         "yaxis": "y"
        },
        {
         "hovertemplate": "color=American Wild Ale<br>x=%{x}<br>y=%{y}<extra></extra>",
         "legendgroup": "American Wild Ale",
         "marker": {
          "color": "#636efa",
          "symbol": "circle"
         },
         "mode": "markers",
         "name": "American Wild Ale",
         "orientation": "v",
         "showlegend": true,
         "type": "scatter",
         "x": [
          -4.831684112548828
         ],
         "xaxis": "x",
         "y": [
          2.80826735496521
         ],
         "yaxis": "y"
        },
        {
         "hovertemplate": "color=Baltic Porter<br>x=%{x}<br>y=%{y}<extra></extra>",
         "legendgroup": "Baltic Porter",
         "marker": {
          "color": "#EF553B",
          "symbol": "circle"
         },
         "mode": "markers",
         "name": "Baltic Porter",
         "orientation": "v",
         "showlegend": true,
         "type": "scatter",
         "x": [
          -5.831414699554443
         ],
         "xaxis": "x",
         "y": [
          1.0776625871658325
         ],
         "yaxis": "y"
        },
        {
         "hovertemplate": "color=Belgian Dark Ale<br>x=%{x}<br>y=%{y}<extra></extra>",
         "legendgroup": "Belgian Dark Ale",
         "marker": {
          "color": "#00cc96",
          "symbol": "circle"
         },
         "mode": "markers",
         "name": "Belgian Dark Ale",
         "orientation": "v",
         "showlegend": true,
         "type": "scatter",
         "x": [
          1.5302711725234985
         ],
         "xaxis": "x",
         "y": [
          -0.18198156356811523
         ],
         "yaxis": "y"
        },
        {
         "hovertemplate": "color=Belgian IPA<br>x=%{x}<br>y=%{y}<extra></extra>",
         "legendgroup": "Belgian IPA",
         "marker": {
          "color": "#ab63fa",
          "symbol": "circle"
         },
         "mode": "markers",
         "name": "Belgian IPA",
         "orientation": "v",
         "showlegend": true,
         "type": "scatter",
         "x": [
          -4.084345817565918
         ],
         "xaxis": "x",
         "y": [
          0.11865071207284927
         ],
         "yaxis": "y"
        },
        {
         "hovertemplate": "color=Belgian Pale Ale<br>x=%{x}<br>y=%{y}<extra></extra>",
         "legendgroup": "Belgian Pale Ale",
         "marker": {
          "color": "#FFA15A",
          "symbol": "circle"
         },
         "mode": "markers",
         "name": "Belgian Pale Ale",
         "orientation": "v",
         "showlegend": true,
         "type": "scatter",
         "x": [
          0.7071634531021118
         ],
         "xaxis": "x",
         "y": [
          -1.0527784824371338
         ],
         "yaxis": "y"
        },
        {
         "hovertemplate": "color=Belgian Strong Dark Ale<br>x=%{x}<br>y=%{y}<extra></extra>",
         "legendgroup": "Belgian Strong Dark Ale",
         "marker": {
          "color": "#19d3f3",
          "symbol": "circle"
         },
         "mode": "markers",
         "name": "Belgian Strong Dark Ale",
         "orientation": "v",
         "showlegend": true,
         "type": "scatter",
         "x": [
          -6.743919372558594
         ],
         "xaxis": "x",
         "y": [
          0.6521839499473572
         ],
         "yaxis": "y"
        },
        {
         "hovertemplate": "color=Belgian Strong Pale Ale<br>x=%{x}<br>y=%{y}<extra></extra>",
         "legendgroup": "Belgian Strong Pale Ale",
         "marker": {
          "color": "#FF6692",
          "symbol": "circle"
         },
         "mode": "markers",
         "name": "Belgian Strong Pale Ale",
         "orientation": "v",
         "showlegend": true,
         "type": "scatter",
         "x": [
          -6.031095027923584
         ],
         "xaxis": "x",
         "y": [
          0.018972331658005714
         ],
         "yaxis": "y"
        },
        {
         "hovertemplate": "color=Berliner Weissbier<br>x=%{x}<br>y=%{y}<extra></extra>",
         "legendgroup": "Berliner Weissbier",
         "marker": {
          "color": "#B6E880",
          "symbol": "circle"
         },
         "mode": "markers",
         "name": "Berliner Weissbier",
         "orientation": "v",
         "showlegend": true,
         "type": "scatter",
         "x": [
          -2.458277940750122
         ],
         "xaxis": "x",
         "y": [
          -1.7319964170455933
         ],
         "yaxis": "y"
        },
        {
         "hovertemplate": "color=Bière de Champagne / Bière Brut<br>x=%{x}<br>y=%{y}<extra></extra>",
         "legendgroup": "Bière de Champagne / Bière Brut",
         "marker": {
          "color": "#FF97FF",
          "symbol": "circle"
         },
         "mode": "markers",
         "name": "Bière de Champagne / Bière Brut",
         "orientation": "v",
         "showlegend": true,
         "type": "scatter",
         "x": [
          -5.72939395904541
         ],
         "xaxis": "x",
         "y": [
          -0.7175994515419006
         ],
         "yaxis": "y"
        },
        {
         "hovertemplate": "color=Bière de Garde<br>x=%{x}<br>y=%{y}<extra></extra>",
         "legendgroup": "Bière de Garde",
         "marker": {
          "color": "#FECB52",
          "symbol": "circle"
         },
         "mode": "markers",
         "name": "Bière de Garde",
         "orientation": "v",
         "showlegend": true,
         "type": "scatter",
         "x": [
          -3.5901570320129395
         ],
         "xaxis": "x",
         "y": [
          -0.22615481913089752
         ],
         "yaxis": "y"
        },
        {
         "hovertemplate": "color=Black & Tan<br>x=%{x}<br>y=%{y}<extra></extra>",
         "legendgroup": "Black & Tan",
         "marker": {
          "color": "#636efa",
          "symbol": "circle"
         },
         "mode": "markers",
         "name": "Black & Tan",
         "orientation": "v",
         "showlegend": true,
         "type": "scatter",
         "x": [
          7.685140609741211
         ],
         "xaxis": "x",
         "y": [
          -2.9814088344573975
         ],
         "yaxis": "y"
        },
        {
         "hovertemplate": "color=Bock<br>x=%{x}<br>y=%{y}<extra></extra>",
         "legendgroup": "Bock",
         "marker": {
          "color": "#EF553B",
          "symbol": "circle"
         },
         "mode": "markers",
         "name": "Bock",
         "orientation": "v",
         "showlegend": true,
         "type": "scatter",
         "x": [
          6.380839824676514
         ],
         "xaxis": "x",
         "y": [
          -1.2841413021087646
         ],
         "yaxis": "y"
        },
        {
         "hovertemplate": "color=Braggot<br>x=%{x}<br>y=%{y}<extra></extra>",
         "legendgroup": "Braggot",
         "marker": {
          "color": "#00cc96",
          "symbol": "circle"
         },
         "mode": "markers",
         "name": "Braggot",
         "orientation": "v",
         "showlegend": true,
         "type": "scatter",
         "x": [
          -5.904738426208496
         ],
         "xaxis": "x",
         "y": [
          -1.4456446170806885
         ],
         "yaxis": "y"
        },
        {
         "hovertemplate": "color=California Common / Steam Beer<br>x=%{x}<br>y=%{y}<extra></extra>",
         "legendgroup": "California Common / Steam Beer",
         "marker": {
          "color": "#ab63fa",
          "symbol": "circle"
         },
         "mode": "markers",
         "name": "California Common / Steam Beer",
         "orientation": "v",
         "showlegend": true,
         "type": "scatter",
         "x": [
          1.534072995185852
         ],
         "xaxis": "x",
         "y": [
          -2.037135362625122
         ],
         "yaxis": "y"
        },
        {
         "hovertemplate": "color=Chile Beer<br>x=%{x}<br>y=%{y}<extra></extra>",
         "legendgroup": "Chile Beer",
         "marker": {
          "color": "#FFA15A",
          "symbol": "circle"
         },
         "mode": "markers",
         "name": "Chile Beer",
         "orientation": "v",
         "showlegend": true,
         "type": "scatter",
         "x": [
          7.008150577545166
         ],
         "xaxis": "x",
         "y": [
          -1.827082872390747
         ],
         "yaxis": "y"
        },
        {
         "hovertemplate": "color=Cream Ale<br>x=%{x}<br>y=%{y}<extra></extra>",
         "legendgroup": "Cream Ale",
         "marker": {
          "color": "#19d3f3",
          "symbol": "circle"
         },
         "mode": "markers",
         "name": "Cream Ale",
         "orientation": "v",
         "showlegend": true,
         "type": "scatter",
         "x": [
          4.752311706542969
         ],
         "xaxis": "x",
         "y": [
          -2.1347315311431885
         ],
         "yaxis": "y"
        },
        {
         "hovertemplate": "color=Czech Pilsener<br>x=%{x}<br>y=%{y}<extra></extra>",
         "legendgroup": "Czech Pilsener",
         "marker": {
          "color": "#FF6692",
          "symbol": "circle"
         },
         "mode": "markers",
         "name": "Czech Pilsener",
         "orientation": "v",
         "showlegend": true,
         "type": "scatter",
         "x": [
          4.86908483505249
         ],
         "xaxis": "x",
         "y": [
          -3.0618555545806885
         ],
         "yaxis": "y"
        },
        {
         "hovertemplate": "color=Doppelbock<br>x=%{x}<br>y=%{y}<extra></extra>",
         "legendgroup": "Doppelbock",
         "marker": {
          "color": "#B6E880",
          "symbol": "circle"
         },
         "mode": "markers",
         "name": "Doppelbock",
         "orientation": "v",
         "showlegend": true,
         "type": "scatter",
         "x": [
          -5.497578144073486
         ],
         "xaxis": "x",
         "y": [
          -0.11338207125663757
         ],
         "yaxis": "y"
        },
        {
         "hovertemplate": "color=Dortmunder / Export Lager<br>x=%{x}<br>y=%{y}<extra></extra>",
         "legendgroup": "Dortmunder / Export Lager",
         "marker": {
          "color": "#FF97FF",
          "symbol": "circle"
         },
         "mode": "markers",
         "name": "Dortmunder / Export Lager",
         "orientation": "v",
         "showlegend": true,
         "type": "scatter",
         "x": [
          4.402947902679443
         ],
         "xaxis": "x",
         "y": [
          -2.7822227478027344
         ],
         "yaxis": "y"
        },
        {
         "hovertemplate": "color=Dubbel<br>x=%{x}<br>y=%{y}<extra></extra>",
         "legendgroup": "Dubbel",
         "marker": {
          "color": "#FECB52",
          "symbol": "circle"
         },
         "mode": "markers",
         "name": "Dubbel",
         "orientation": "v",
         "showlegend": true,
         "type": "scatter",
         "x": [
          -4.503269195556641
         ],
         "xaxis": "x",
         "y": [
          -0.054555073380470276
         ],
         "yaxis": "y"
        },
        {
         "hovertemplate": "color=Dunkelweizen<br>x=%{x}<br>y=%{y}<extra></extra>",
         "legendgroup": "Dunkelweizen",
         "marker": {
          "color": "#636efa",
          "symbol": "circle"
         },
         "mode": "markers",
         "name": "Dunkelweizen",
         "orientation": "v",
         "showlegend": true,
         "type": "scatter",
         "x": [
          0.325027734041214
         ],
         "xaxis": "x",
         "y": [
          -1.4266810417175293
         ],
         "yaxis": "y"
        },
        {
         "hovertemplate": "color=Eisbock<br>x=%{x}<br>y=%{y}<extra></extra>",
         "legendgroup": "Eisbock",
         "marker": {
          "color": "#EF553B",
          "symbol": "circle"
         },
         "mode": "markers",
         "name": "Eisbock",
         "orientation": "v",
         "showlegend": true,
         "type": "scatter",
         "x": [
          -8.57958984375
         ],
         "xaxis": "x",
         "y": [
          1.2716612815856934
         ],
         "yaxis": "y"
        },
        {
         "hovertemplate": "color=English Barleywine<br>x=%{x}<br>y=%{y}<extra></extra>",
         "legendgroup": "English Barleywine",
         "marker": {
          "color": "#00cc96",
          "symbol": "circle"
         },
         "mode": "markers",
         "name": "English Barleywine",
         "orientation": "v",
         "showlegend": true,
         "type": "scatter",
         "x": [
          -7.77701997756958
         ],
         "xaxis": "x",
         "y": [
          1.1992123126983643
         ],
         "yaxis": "y"
        },
        {
         "hovertemplate": "color=English Bitter<br>x=%{x}<br>y=%{y}<extra></extra>",
         "legendgroup": "English Bitter",
         "marker": {
          "color": "#ab63fa",
          "symbol": "circle"
         },
         "mode": "markers",
         "name": "English Bitter",
         "orientation": "v",
         "showlegend": true,
         "type": "scatter",
         "x": [
          5.2031426429748535
         ],
         "xaxis": "x",
         "y": [
          -3.8259170055389404
         ],
         "yaxis": "y"
        },
        {
         "hovertemplate": "color=English Brown Ale<br>x=%{x}<br>y=%{y}<extra></extra>",
         "legendgroup": "English Brown Ale",
         "marker": {
          "color": "#FFA15A",
          "symbol": "circle"
         },
         "mode": "markers",
         "name": "English Brown Ale",
         "orientation": "v",
         "showlegend": true,
         "type": "scatter",
         "x": [
          3.633794069290161
         ],
         "xaxis": "x",
         "y": [
          -2.080019474029541
         ],
         "yaxis": "y"
        },
        {
         "hovertemplate": "color=English Dark Mild Ale<br>x=%{x}<br>y=%{y}<extra></extra>",
         "legendgroup": "English Dark Mild Ale",
         "marker": {
          "color": "#19d3f3",
          "symbol": "circle"
         },
         "mode": "markers",
         "name": "English Dark Mild Ale",
         "orientation": "v",
         "showlegend": true,
         "type": "scatter",
         "x": [
          4.158863067626953
         ],
         "xaxis": "x",
         "y": [
          -3.919327974319458
         ],
         "yaxis": "y"
        },
        {
         "hovertemplate": "color=English India Pale Ale (IPA)<br>x=%{x}<br>y=%{y}<extra></extra>",
         "legendgroup": "English India Pale Ale (IPA)",
         "marker": {
          "color": "#FF6692",
          "symbol": "circle"
         },
         "mode": "markers",
         "name": "English India Pale Ale (IPA)",
         "orientation": "v",
         "showlegend": true,
         "type": "scatter",
         "x": [
          5.053771018981934
         ],
         "xaxis": "x",
         "y": [
          -1.3790313005447388
         ],
         "yaxis": "y"
        },
        {
         "hovertemplate": "color=English Pale Ale<br>x=%{x}<br>y=%{y}<extra></extra>",
         "legendgroup": "English Pale Ale",
         "marker": {
          "color": "#B6E880",
          "symbol": "circle"
         },
         "mode": "markers",
         "name": "English Pale Ale",
         "orientation": "v",
         "showlegend": true,
         "type": "scatter",
         "x": [
          6.0861005783081055
         ],
         "xaxis": "x",
         "y": [
          -3.3560543060302734
         ],
         "yaxis": "y"
        },
        {
         "hovertemplate": "color=English Pale Mild Ale<br>x=%{x}<br>y=%{y}<extra></extra>",
         "legendgroup": "English Pale Mild Ale",
         "marker": {
          "color": "#FF97FF",
          "symbol": "circle"
         },
         "mode": "markers",
         "name": "English Pale Mild Ale",
         "orientation": "v",
         "showlegend": true,
         "type": "scatter",
         "x": [
          5.744261741638184
         ],
         "xaxis": "x",
         "y": [
          -3.8101024627685547
         ],
         "yaxis": "y"
        },
        {
         "hovertemplate": "color=English Porter<br>x=%{x}<br>y=%{y}<extra></extra>",
         "legendgroup": "English Porter",
         "marker": {
          "color": "#FECB52",
          "symbol": "circle"
         },
         "mode": "markers",
         "name": "English Porter",
         "orientation": "v",
         "showlegend": true,
         "type": "scatter",
         "x": [
          -1.7885559797286987
         ],
         "xaxis": "x",
         "y": [
          -0.5134453177452087
         ],
         "yaxis": "y"
        },
        {
         "hovertemplate": "color=English Stout<br>x=%{x}<br>y=%{y}<extra></extra>",
         "legendgroup": "English Stout",
         "marker": {
          "color": "#636efa",
          "symbol": "circle"
         },
         "mode": "markers",
         "name": "English Stout",
         "orientation": "v",
         "showlegend": true,
         "type": "scatter",
         "x": [
          -0.531600296497345
         ],
         "xaxis": "x",
         "y": [
          -1.2906324863433838
         ],
         "yaxis": "y"
        },
        {
         "hovertemplate": "color=English Strong Ale<br>x=%{x}<br>y=%{y}<extra></extra>",
         "legendgroup": "English Strong Ale",
         "marker": {
          "color": "#EF553B",
          "symbol": "circle"
         },
         "mode": "markers",
         "name": "English Strong Ale",
         "orientation": "v",
         "showlegend": true,
         "type": "scatter",
         "x": [
          0.4345302879810333
         ],
         "xaxis": "x",
         "y": [
          0.6673778295516968
         ],
         "yaxis": "y"
        },
        {
         "hovertemplate": "color=Euro Dark Lager<br>x=%{x}<br>y=%{y}<extra></extra>",
         "legendgroup": "Euro Dark Lager",
         "marker": {
          "color": "#00cc96",
          "symbol": "circle"
         },
         "mode": "markers",
         "name": "Euro Dark Lager",
         "orientation": "v",
         "showlegend": true,
         "type": "scatter",
         "x": [
          7.147110462188721
         ],
         "xaxis": "x",
         "y": [
          -2.9190921783447266
         ],
         "yaxis": "y"
        },
        {
         "hovertemplate": "color=Euro Pale Lager<br>x=%{x}<br>y=%{y}<extra></extra>",
         "legendgroup": "Euro Pale Lager",
         "marker": {
          "color": "#ab63fa",
          "symbol": "circle"
         },
         "mode": "markers",
         "name": "Euro Pale Lager",
         "orientation": "v",
         "showlegend": true,
         "type": "scatter",
         "x": [
          9.291821479797363
         ],
         "xaxis": "x",
         "y": [
          -4.086925983428955
         ],
         "yaxis": "y"
        },
        {
         "hovertemplate": "color=Euro Strong Lager<br>x=%{x}<br>y=%{y}<extra></extra>",
         "legendgroup": "Euro Strong Lager",
         "marker": {
          "color": "#FFA15A",
          "symbol": "circle"
         },
         "mode": "markers",
         "name": "Euro Strong Lager",
         "orientation": "v",
         "showlegend": true,
         "type": "scatter",
         "x": [
          9.371261596679688
         ],
         "xaxis": "x",
         "y": [
          -4.304608345031738
         ],
         "yaxis": "y"
        },
        {
         "hovertemplate": "color=Extra Special / Strong Bitter (ESB)<br>x=%{x}<br>y=%{y}<extra></extra>",
         "legendgroup": "Extra Special / Strong Bitter (ESB)",
         "marker": {
          "color": "#19d3f3",
          "symbol": "circle"
         },
         "mode": "markers",
         "name": "Extra Special / Strong Bitter (ESB)",
         "orientation": "v",
         "showlegend": true,
         "type": "scatter",
         "x": [
          2.0954883098602295
         ],
         "xaxis": "x",
         "y": [
          -1.8954874277114868
         ],
         "yaxis": "y"
        },
        {
         "hovertemplate": "color=Faro<br>x=%{x}<br>y=%{y}<extra></extra>",
         "legendgroup": "Faro",
         "marker": {
          "color": "#FF6692",
          "symbol": "circle"
         },
         "mode": "markers",
         "name": "Faro",
         "orientation": "v",
         "showlegend": true,
         "type": "scatter",
         "x": [
          3.264462947845459
         ],
         "xaxis": "x",
         "y": [
          -2.5804224014282227
         ],
         "yaxis": "y"
        },
        {
         "hovertemplate": "color=Flanders Oud Bruin<br>x=%{x}<br>y=%{y}<extra></extra>",
         "legendgroup": "Flanders Oud Bruin",
         "marker": {
          "color": "#B6E880",
          "symbol": "circle"
         },
         "mode": "markers",
         "name": "Flanders Oud Bruin",
         "orientation": "v",
         "showlegend": true,
         "type": "scatter",
         "x": [
          -4.563543796539307
         ],
         "xaxis": "x",
         "y": [
          1.2297874689102173
         ],
         "yaxis": "y"
        },
        {
         "hovertemplate": "color=Flanders Red Ale<br>x=%{x}<br>y=%{y}<extra></extra>",
         "legendgroup": "Flanders Red Ale",
         "marker": {
          "color": "#FF97FF",
          "symbol": "circle"
         },
         "mode": "markers",
         "name": "Flanders Red Ale",
         "orientation": "v",
         "showlegend": true,
         "type": "scatter",
         "x": [
          -4.8302001953125
         ],
         "xaxis": "x",
         "y": [
          2.512955665588379
         ],
         "yaxis": "y"
        },
        {
         "hovertemplate": "color=Foreign / Export Stout<br>x=%{x}<br>y=%{y}<extra></extra>",
         "legendgroup": "Foreign / Export Stout",
         "marker": {
          "color": "#FECB52",
          "symbol": "circle"
         },
         "mode": "markers",
         "name": "Foreign / Export Stout",
         "orientation": "v",
         "showlegend": true,
         "type": "scatter",
         "x": [
          -3.789320468902588
         ],
         "xaxis": "x",
         "y": [
          0.1626584827899933
         ],
         "yaxis": "y"
        },
        {
         "hovertemplate": "color=Fruit / Vegetable Beer<br>x=%{x}<br>y=%{y}<extra></extra>",
         "legendgroup": "Fruit / Vegetable Beer",
         "marker": {
          "color": "#636efa",
          "symbol": "circle"
         },
         "mode": "markers",
         "name": "Fruit / Vegetable Beer",
         "orientation": "v",
         "showlegend": true,
         "type": "scatter",
         "x": [
          6.927194595336914
         ],
         "xaxis": "x",
         "y": [
          -2.151667833328247
         ],
         "yaxis": "y"
        },
        {
         "hovertemplate": "color=German Pilsener<br>x=%{x}<br>y=%{y}<extra></extra>",
         "legendgroup": "German Pilsener",
         "marker": {
          "color": "#EF553B",
          "symbol": "circle"
         },
         "mode": "markers",
         "name": "German Pilsener",
         "orientation": "v",
         "showlegend": true,
         "type": "scatter",
         "x": [
          5.544110298156738
         ],
         "xaxis": "x",
         "y": [
          -2.9811313152313232
         ],
         "yaxis": "y"
        },
        {
         "hovertemplate": "color=Gose<br>x=%{x}<br>y=%{y}<extra></extra>",
         "legendgroup": "Gose",
         "marker": {
          "color": "#00cc96",
          "symbol": "circle"
         },
         "mode": "markers",
         "name": "Gose",
         "orientation": "v",
         "showlegend": true,
         "type": "scatter",
         "x": [
          -2.072883367538452
         ],
         "xaxis": "x",
         "y": [
          -1.5911482572555542
         ],
         "yaxis": "y"
        },
        {
         "hovertemplate": "color=Gueuze<br>x=%{x}<br>y=%{y}<extra></extra>",
         "legendgroup": "Gueuze",
         "marker": {
          "color": "#ab63fa",
          "symbol": "circle"
         },
         "mode": "markers",
         "name": "Gueuze",
         "orientation": "v",
         "showlegend": true,
         "type": "scatter",
         "x": [
          -4.953756809234619
         ],
         "xaxis": "x",
         "y": [
          3.2877585887908936
         ],
         "yaxis": "y"
        },
        {
         "hovertemplate": "color=Happoshu<br>x=%{x}<br>y=%{y}<extra></extra>",
         "legendgroup": "Happoshu",
         "marker": {
          "color": "#FFA15A",
          "symbol": "circle"
         },
         "mode": "markers",
         "name": "Happoshu",
         "orientation": "v",
         "showlegend": true,
         "type": "scatter",
         "x": [
          9.522516250610352
         ],
         "xaxis": "x",
         "y": [
          -4.177073955535889
         ],
         "yaxis": "y"
        },
        {
         "hovertemplate": "color=Hefeweizen<br>x=%{x}<br>y=%{y}<extra></extra>",
         "legendgroup": "Hefeweizen",
         "marker": {
          "color": "#19d3f3",
          "symbol": "circle"
         },
         "mode": "markers",
         "name": "Hefeweizen",
         "orientation": "v",
         "showlegend": true,
         "type": "scatter",
         "x": [
          0.3633767068386078
         ],
         "xaxis": "x",
         "y": [
          -1.8571522235870361
         ],
         "yaxis": "y"
        },
        {
         "hovertemplate": "color=Herbed / Spiced Beer<br>x=%{x}<br>y=%{y}<extra></extra>",
         "legendgroup": "Herbed / Spiced Beer",
         "marker": {
          "color": "#FF6692",
          "symbol": "circle"
         },
         "mode": "markers",
         "name": "Herbed / Spiced Beer",
         "orientation": "v",
         "showlegend": true,
         "type": "scatter",
         "x": [
          5.851748943328857
         ],
         "xaxis": "x",
         "y": [
          -1.3153793811798096
         ],
         "yaxis": "y"
        },
        {
         "hovertemplate": "color=Irish Dry Stout<br>x=%{x}<br>y=%{y}<extra></extra>",
         "legendgroup": "Irish Dry Stout",
         "marker": {
          "color": "#B6E880",
          "symbol": "circle"
         },
         "mode": "markers",
         "name": "Irish Dry Stout",
         "orientation": "v",
         "showlegend": true,
         "type": "scatter",
         "x": [
          1.439226746559143
         ],
         "xaxis": "x",
         "y": [
          -3.0505154132843018
         ],
         "yaxis": "y"
        },
        {
         "hovertemplate": "color=Irish Red Ale<br>x=%{x}<br>y=%{y}<extra></extra>",
         "legendgroup": "Irish Red Ale",
         "marker": {
          "color": "#FF97FF",
          "symbol": "circle"
         },
         "mode": "markers",
         "name": "Irish Red Ale",
         "orientation": "v",
         "showlegend": true,
         "type": "scatter",
         "x": [
          5.888136863708496
         ],
         "xaxis": "x",
         "y": [
          -2.1975481510162354
         ],
         "yaxis": "y"
        },
        {
         "hovertemplate": "color=Japanese Rice Lager<br>x=%{x}<br>y=%{y}<extra></extra>",
         "legendgroup": "Japanese Rice Lager",
         "marker": {
          "color": "#FECB52",
          "symbol": "circle"
         },
         "mode": "markers",
         "name": "Japanese Rice Lager",
         "orientation": "v",
         "showlegend": true,
         "type": "scatter",
         "x": [
          9.43834400177002
         ],
         "xaxis": "x",
         "y": [
          -4.159421920776367
         ],
         "yaxis": "y"
        },
        {
         "hovertemplate": "color=Kellerbier / Zwickelbier<br>x=%{x}<br>y=%{y}<extra></extra>",
         "legendgroup": "Kellerbier / Zwickelbier",
         "marker": {
          "color": "#636efa",
          "symbol": "circle"
         },
         "mode": "markers",
         "name": "Kellerbier / Zwickelbier",
         "orientation": "v",
         "showlegend": true,
         "type": "scatter",
         "x": [
          0.7169482111930847
         ],
         "xaxis": "x",
         "y": [
          -2.1448910236358643
         ],
         "yaxis": "y"
        },
        {
         "hovertemplate": "color=Kristalweizen<br>x=%{x}<br>y=%{y}<extra></extra>",
         "legendgroup": "Kristalweizen",
         "marker": {
          "color": "#EF553B",
          "symbol": "circle"
         },
         "mode": "markers",
         "name": "Kristalweizen",
         "orientation": "v",
         "showlegend": true,
         "type": "scatter",
         "x": [
          5.051356792449951
         ],
         "xaxis": "x",
         "y": [
          -2.700181722640991
         ],
         "yaxis": "y"
        },
        {
         "hovertemplate": "color=Kvass<br>x=%{x}<br>y=%{y}<extra></extra>",
         "legendgroup": "Kvass",
         "marker": {
          "color": "#00cc96",
          "symbol": "circle"
         },
         "mode": "markers",
         "name": "Kvass",
         "orientation": "v",
         "showlegend": true,
         "type": "scatter",
         "x": [
          8.282504081726074
         ],
         "xaxis": "x",
         "y": [
          -2.2213704586029053
         ],
         "yaxis": "y"
        },
        {
         "hovertemplate": "color=Kölsch<br>x=%{x}<br>y=%{y}<extra></extra>",
         "legendgroup": "Kölsch",
         "marker": {
          "color": "#ab63fa",
          "symbol": "circle"
         },
         "mode": "markers",
         "name": "Kölsch",
         "orientation": "v",
         "showlegend": true,
         "type": "scatter",
         "x": [
          4.685443878173828
         ],
         "xaxis": "x",
         "y": [
          -3.0763423442840576
         ],
         "yaxis": "y"
        },
        {
         "hovertemplate": "color=Lambic - Fruit<br>x=%{x}<br>y=%{y}<extra></extra>",
         "legendgroup": "Lambic - Fruit",
         "marker": {
          "color": "#FFA15A",
          "symbol": "circle"
         },
         "mode": "markers",
         "name": "Lambic - Fruit",
         "orientation": "v",
         "showlegend": true,
         "type": "scatter",
         "x": [
          -4.359395980834961
         ],
         "xaxis": "x",
         "y": [
          2.796384334564209
         ],
         "yaxis": "y"
        },
        {
         "hovertemplate": "color=Lambic - Unblended<br>x=%{x}<br>y=%{y}<extra></extra>",
         "legendgroup": "Lambic - Unblended",
         "marker": {
          "color": "#19d3f3",
          "symbol": "circle"
         },
         "mode": "markers",
         "name": "Lambic - Unblended",
         "orientation": "v",
         "showlegend": true,
         "type": "scatter",
         "x": [
          -4.2856926918029785
         ],
         "xaxis": "x",
         "y": [
          2.8159711360931396
         ],
         "yaxis": "y"
        },
        {
         "hovertemplate": "color=Light Lager<br>x=%{x}<br>y=%{y}<extra></extra>",
         "legendgroup": "Light Lager",
         "marker": {
          "color": "#FF6692",
          "symbol": "circle"
         },
         "mode": "markers",
         "name": "Light Lager",
         "orientation": "v",
         "showlegend": true,
         "type": "scatter",
         "x": [
          10.412664413452148
         ],
         "xaxis": "x",
         "y": [
          -4.227450847625732
         ],
         "yaxis": "y"
        },
        {
         "hovertemplate": "color=Low Alcohol Beer<br>x=%{x}<br>y=%{y}<extra></extra>",
         "legendgroup": "Low Alcohol Beer",
         "marker": {
          "color": "#B6E880",
          "symbol": "circle"
         },
         "mode": "markers",
         "name": "Low Alcohol Beer",
         "orientation": "v",
         "showlegend": true,
         "type": "scatter",
         "x": [
          10.330291748046875
         ],
         "xaxis": "x",
         "y": [
          -4.044000625610352
         ],
         "yaxis": "y"
        },
        {
         "hovertemplate": "color=Maibock / Helles Bock<br>x=%{x}<br>y=%{y}<extra></extra>",
         "legendgroup": "Maibock / Helles Bock",
         "marker": {
          "color": "#FF97FF",
          "symbol": "circle"
         },
         "mode": "markers",
         "name": "Maibock / Helles Bock",
         "orientation": "v",
         "showlegend": true,
         "type": "scatter",
         "x": [
          1.095831274986267
         ],
         "xaxis": "x",
         "y": [
          0.20133443176746368
         ],
         "yaxis": "y"
        },
        {
         "hovertemplate": "color=Milk / Sweet Stout<br>x=%{x}<br>y=%{y}<extra></extra>",
         "legendgroup": "Milk / Sweet Stout",
         "marker": {
          "color": "#FECB52",
          "symbol": "circle"
         },
         "mode": "markers",
         "name": "Milk / Sweet Stout",
         "orientation": "v",
         "showlegend": true,
         "type": "scatter",
         "x": [
          -3.8952136039733887
         ],
         "xaxis": "x",
         "y": [
          1.6035269498825073
         ],
         "yaxis": "y"
        },
        {
         "hovertemplate": "color=Munich Dunkel Lager<br>x=%{x}<br>y=%{y}<extra></extra>",
         "legendgroup": "Munich Dunkel Lager",
         "marker": {
          "color": "#636efa",
          "symbol": "circle"
         },
         "mode": "markers",
         "name": "Munich Dunkel Lager",
         "orientation": "v",
         "showlegend": true,
         "type": "scatter",
         "x": [
          3.9582009315490723
         ],
         "xaxis": "x",
         "y": [
          -2.4885685443878174
         ],
         "yaxis": "y"
        },
        {
         "hovertemplate": "color=Munich Helles Lager<br>x=%{x}<br>y=%{y}<extra></extra>",
         "legendgroup": "Munich Helles Lager",
         "marker": {
          "color": "#EF553B",
          "symbol": "circle"
         },
         "mode": "markers",
         "name": "Munich Helles Lager",
         "orientation": "v",
         "showlegend": true,
         "type": "scatter",
         "x": [
          3.5138814449310303
         ],
         "xaxis": "x",
         "y": [
          -2.9962081909179688
         ],
         "yaxis": "y"
        },
        {
         "hovertemplate": "color=Märzen / Oktoberfest<br>x=%{x}<br>y=%{y}<extra></extra>",
         "legendgroup": "Märzen / Oktoberfest",
         "marker": {
          "color": "#00cc96",
          "symbol": "circle"
         },
         "mode": "markers",
         "name": "Märzen / Oktoberfest",
         "orientation": "v",
         "showlegend": true,
         "type": "scatter",
         "x": [
          3.2376506328582764
         ],
         "xaxis": "x",
         "y": [
          -1.6737622022628784
         ],
         "yaxis": "y"
        },
        {
         "hovertemplate": "color=Oatmeal Stout<br>x=%{x}<br>y=%{y}<extra></extra>",
         "legendgroup": "Oatmeal Stout",
         "marker": {
          "color": "#ab63fa",
          "symbol": "circle"
         },
         "mode": "markers",
         "name": "Oatmeal Stout",
         "orientation": "v",
         "showlegend": true,
         "type": "scatter",
         "x": [
          -3.1502044200897217
         ],
         "xaxis": "x",
         "y": [
          0.7601272463798523
         ],
         "yaxis": "y"
        },
        {
         "hovertemplate": "color=Old Ale<br>x=%{x}<br>y=%{y}<extra></extra>",
         "legendgroup": "Old Ale",
         "marker": {
          "color": "#FFA15A",
          "symbol": "circle"
         },
         "mode": "markers",
         "name": "Old Ale",
         "orientation": "v",
         "showlegend": true,
         "type": "scatter",
         "x": [
          -6.497646331787109
         ],
         "xaxis": "x",
         "y": [
          1.0813024044036865
         ],
         "yaxis": "y"
        },
        {
         "hovertemplate": "color=Pumpkin Ale<br>x=%{x}<br>y=%{y}<extra></extra>",
         "legendgroup": "Pumpkin Ale",
         "marker": {
          "color": "#19d3f3",
          "symbol": "circle"
         },
         "mode": "markers",
         "name": "Pumpkin Ale",
         "orientation": "v",
         "showlegend": true,
         "type": "scatter",
         "x": [
          1.8491820096969604
         ],
         "xaxis": "x",
         "y": [
          0.29740339517593384
         ],
         "yaxis": "y"
        },
        {
         "hovertemplate": "color=Quadrupel (Quad)<br>x=%{x}<br>y=%{y}<extra></extra>",
         "legendgroup": "Quadrupel (Quad)",
         "marker": {
          "color": "#FF6692",
          "symbol": "circle"
         },
         "mode": "markers",
         "name": "Quadrupel (Quad)",
         "orientation": "v",
         "showlegend": true,
         "type": "scatter",
         "x": [
          -7.887629985809326
         ],
         "xaxis": "x",
         "y": [
          1.7591439485549927
         ],
         "yaxis": "y"
        },
        {
         "hovertemplate": "color=Rauchbier<br>x=%{x}<br>y=%{y}<extra></extra>",
         "legendgroup": "Rauchbier",
         "marker": {
          "color": "#B6E880",
          "symbol": "circle"
         },
         "mode": "markers",
         "name": "Rauchbier",
         "orientation": "v",
         "showlegend": true,
         "type": "scatter",
         "x": [
          -2.0949325561523438
         ],
         "xaxis": "x",
         "y": [
          -0.294905424118042
         ],
         "yaxis": "y"
        },
        {
         "hovertemplate": "color=Roggenbier<br>x=%{x}<br>y=%{y}<extra></extra>",
         "legendgroup": "Roggenbier",
         "marker": {
          "color": "#FF97FF",
          "symbol": "circle"
         },
         "mode": "markers",
         "name": "Roggenbier",
         "orientation": "v",
         "showlegend": true,
         "type": "scatter",
         "x": [
          1.021407961845398
         ],
         "xaxis": "x",
         "y": [
          -1.4450289011001587
         ],
         "yaxis": "y"
        },
        {
         "hovertemplate": "color=Russian Imperial Stout<br>x=%{x}<br>y=%{y}<extra></extra>",
         "legendgroup": "Russian Imperial Stout",
         "marker": {
          "color": "#FECB52",
          "symbol": "circle"
         },
         "mode": "markers",
         "name": "Russian Imperial Stout",
         "orientation": "v",
         "showlegend": true,
         "type": "scatter",
         "x": [
          -7.697364330291748
         ],
         "xaxis": "x",
         "y": [
          1.9518781900405884
         ],
         "yaxis": "y"
        },
        {
         "hovertemplate": "color=Rye Beer<br>x=%{x}<br>y=%{y}<extra></extra>",
         "legendgroup": "Rye Beer",
         "marker": {
          "color": "#636efa",
          "symbol": "circle"
         },
         "mode": "markers",
         "name": "Rye Beer",
         "orientation": "v",
         "showlegend": true,
         "type": "scatter",
         "x": [
          -2.380087375640869
         ],
         "xaxis": "x",
         "y": [
          0.024232547730207443
         ],
         "yaxis": "y"
        },
        {
         "hovertemplate": "color=Sahti<br>x=%{x}<br>y=%{y}<extra></extra>",
         "legendgroup": "Sahti",
         "marker": {
          "color": "#EF553B",
          "symbol": "circle"
         },
         "mode": "markers",
         "name": "Sahti",
         "orientation": "v",
         "showlegend": true,
         "type": "scatter",
         "x": [
          0.5024149417877197
         ],
         "xaxis": "x",
         "y": [
          0.7711920142173767
         ],
         "yaxis": "y"
        },
        {
         "hovertemplate": "color=Saison / Farmhouse Ale<br>x=%{x}<br>y=%{y}<extra></extra>",
         "legendgroup": "Saison / Farmhouse Ale",
         "marker": {
          "color": "#00cc96",
          "symbol": "circle"
         },
         "mode": "markers",
         "name": "Saison / Farmhouse Ale",
         "orientation": "v",
         "showlegend": true,
         "type": "scatter",
         "x": [
          -3.4198265075683594
         ],
         "xaxis": "x",
         "y": [
          1.3137413263320923
         ],
         "yaxis": "y"
        },
        {
         "hovertemplate": "color=Schwarzbier<br>x=%{x}<br>y=%{y}<extra></extra>",
         "legendgroup": "Schwarzbier",
         "marker": {
          "color": "#ab63fa",
          "symbol": "circle"
         },
         "mode": "markers",
         "name": "Schwarzbier",
         "orientation": "v",
         "showlegend": true,
         "type": "scatter",
         "x": [
          1.5397611856460571
         ],
         "xaxis": "x",
         "y": [
          -2.099189043045044
         ],
         "yaxis": "y"
        },
        {
         "hovertemplate": "color=Scotch Ale / Wee Heavy<br>x=%{x}<br>y=%{y}<extra></extra>",
         "legendgroup": "Scotch Ale / Wee Heavy",
         "marker": {
          "color": "#FFA15A",
          "symbol": "circle"
         },
         "mode": "markers",
         "name": "Scotch Ale / Wee Heavy",
         "orientation": "v",
         "showlegend": true,
         "type": "scatter",
         "x": [
          -5.774749755859375
         ],
         "xaxis": "x",
         "y": [
          0.41605344414711
         ],
         "yaxis": "y"
        },
        {
         "hovertemplate": "color=Scottish Ale<br>x=%{x}<br>y=%{y}<extra></extra>",
         "legendgroup": "Scottish Ale",
         "marker": {
          "color": "#19d3f3",
          "symbol": "circle"
         },
         "mode": "markers",
         "name": "Scottish Ale",
         "orientation": "v",
         "showlegend": true,
         "type": "scatter",
         "x": [
          2.278597116470337
         ],
         "xaxis": "x",
         "y": [
          -1.256023645401001
         ],
         "yaxis": "y"
        },
        {
         "hovertemplate": "color=Scottish Gruit / Ancient Herbed Ale<br>x=%{x}<br>y=%{y}<extra></extra>",
         "legendgroup": "Scottish Gruit / Ancient Herbed Ale",
         "marker": {
          "color": "#FF6692",
          "symbol": "circle"
         },
         "mode": "markers",
         "name": "Scottish Gruit / Ancient Herbed Ale",
         "orientation": "v",
         "showlegend": true,
         "type": "scatter",
         "x": [
          2.126471757888794
         ],
         "xaxis": "x",
         "y": [
          -0.3426888585090637
         ],
         "yaxis": "y"
        },
        {
         "hovertemplate": "color=Smoked Beer<br>x=%{x}<br>y=%{y}<extra></extra>",
         "legendgroup": "Smoked Beer",
         "marker": {
          "color": "#B6E880",
          "symbol": "circle"
         },
         "mode": "markers",
         "name": "Smoked Beer",
         "orientation": "v",
         "showlegend": true,
         "type": "scatter",
         "x": [
          -0.8375072479248047
         ],
         "xaxis": "x",
         "y": [
          -0.38748982548713684
         ],
         "yaxis": "y"
        },
        {
         "hovertemplate": "color=Tripel<br>x=%{x}<br>y=%{y}<extra></extra>",
         "legendgroup": "Tripel",
         "marker": {
          "color": "#FF97FF",
          "symbol": "circle"
         },
         "mode": "markers",
         "name": "Tripel",
         "orientation": "v",
         "showlegend": true,
         "type": "scatter",
         "x": [
          -6.396246433258057
         ],
         "xaxis": "x",
         "y": [
          0.1441723257303238
         ],
         "yaxis": "y"
        },
        {
         "hovertemplate": "color=Vienna Lager<br>x=%{x}<br>y=%{y}<extra></extra>",
         "legendgroup": "Vienna Lager",
         "marker": {
          "color": "#FECB52",
          "symbol": "circle"
         },
         "mode": "markers",
         "name": "Vienna Lager",
         "orientation": "v",
         "showlegend": true,
         "type": "scatter",
         "x": [
          5.827879905700684
         ],
         "xaxis": "x",
         "y": [
          -2.8434274196624756
         ],
         "yaxis": "y"
        },
        {
         "hovertemplate": "color=Weizenbock<br>x=%{x}<br>y=%{y}<extra></extra>",
         "legendgroup": "Weizenbock",
         "marker": {
          "color": "#636efa",
          "symbol": "circle"
         },
         "mode": "markers",
         "name": "Weizenbock",
         "orientation": "v",
         "showlegend": true,
         "type": "scatter",
         "x": [
          -5.26804256439209
         ],
         "xaxis": "x",
         "y": [
          1.507463812828064
         ],
         "yaxis": "y"
        },
        {
         "hovertemplate": "color=Wheatwine<br>x=%{x}<br>y=%{y}<extra></extra>",
         "legendgroup": "Wheatwine",
         "marker": {
          "color": "#EF553B",
          "symbol": "circle"
         },
         "mode": "markers",
         "name": "Wheatwine",
         "orientation": "v",
         "showlegend": true,
         "type": "scatter",
         "x": [
          -7.273621559143066
         ],
         "xaxis": "x",
         "y": [
          0.22345708310604095
         ],
         "yaxis": "y"
        },
        {
         "hovertemplate": "color=Winter Warmer<br>x=%{x}<br>y=%{y}<extra></extra>",
         "legendgroup": "Winter Warmer",
         "marker": {
          "color": "#00cc96",
          "symbol": "circle"
         },
         "mode": "markers",
         "name": "Winter Warmer",
         "orientation": "v",
         "showlegend": true,
         "type": "scatter",
         "x": [
          1.2213032245635986
         ],
         "xaxis": "x",
         "y": [
          0.5040945410728455
         ],
         "yaxis": "y"
        },
        {
         "hovertemplate": "color=Witbier<br>x=%{x}<br>y=%{y}<extra></extra>",
         "legendgroup": "Witbier",
         "marker": {
          "color": "#ab63fa",
          "symbol": "circle"
         },
         "mode": "markers",
         "name": "Witbier",
         "orientation": "v",
         "showlegend": true,
         "type": "scatter",
         "x": [
          4.097455978393555
         ],
         "xaxis": "x",
         "y": [
          -2.089958667755127
         ],
         "yaxis": "y"
        }
       ],
       "layout": {
        "height": 600,
        "legend": {
         "title": {
          "text": "color"
         },
         "tracegroupgap": 0
        },
        "margin": {
         "t": 60
        },
        "template": {
         "data": {
          "bar": [
           {
            "error_x": {
             "color": "#2a3f5f"
            },
            "error_y": {
             "color": "#2a3f5f"
            },
            "marker": {
             "line": {
              "color": "#E5ECF6",
              "width": 0.5
             },
             "pattern": {
              "fillmode": "overlay",
              "size": 10,
              "solidity": 0.2
             }
            },
            "type": "bar"
           }
          ],
          "barpolar": [
           {
            "marker": {
             "line": {
              "color": "#E5ECF6",
              "width": 0.5
             },
             "pattern": {
              "fillmode": "overlay",
              "size": 10,
              "solidity": 0.2
             }
            },
            "type": "barpolar"
           }
          ],
          "carpet": [
           {
            "aaxis": {
             "endlinecolor": "#2a3f5f",
             "gridcolor": "white",
             "linecolor": "white",
             "minorgridcolor": "white",
             "startlinecolor": "#2a3f5f"
            },
            "baxis": {
             "endlinecolor": "#2a3f5f",
             "gridcolor": "white",
             "linecolor": "white",
             "minorgridcolor": "white",
             "startlinecolor": "#2a3f5f"
            },
            "type": "carpet"
           }
          ],
          "choropleth": [
           {
            "colorbar": {
             "outlinewidth": 0,
             "ticks": ""
            },
            "type": "choropleth"
           }
          ],
          "contour": [
           {
            "colorbar": {
             "outlinewidth": 0,
             "ticks": ""
            },
            "colorscale": [
             [
              0,
              "#0d0887"
             ],
             [
              0.1111111111111111,
              "#46039f"
             ],
             [
              0.2222222222222222,
              "#7201a8"
             ],
             [
              0.3333333333333333,
              "#9c179e"
             ],
             [
              0.4444444444444444,
              "#bd3786"
             ],
             [
              0.5555555555555556,
              "#d8576b"
             ],
             [
              0.6666666666666666,
              "#ed7953"
             ],
             [
              0.7777777777777778,
              "#fb9f3a"
             ],
             [
              0.8888888888888888,
              "#fdca26"
             ],
             [
              1,
              "#f0f921"
             ]
            ],
            "type": "contour"
           }
          ],
          "contourcarpet": [
           {
            "colorbar": {
             "outlinewidth": 0,
             "ticks": ""
            },
            "type": "contourcarpet"
           }
          ],
          "heatmap": [
           {
            "colorbar": {
             "outlinewidth": 0,
             "ticks": ""
            },
            "colorscale": [
             [
              0,
              "#0d0887"
             ],
             [
              0.1111111111111111,
              "#46039f"
             ],
             [
              0.2222222222222222,
              "#7201a8"
             ],
             [
              0.3333333333333333,
              "#9c179e"
             ],
             [
              0.4444444444444444,
              "#bd3786"
             ],
             [
              0.5555555555555556,
              "#d8576b"
             ],
             [
              0.6666666666666666,
              "#ed7953"
             ],
             [
              0.7777777777777778,
              "#fb9f3a"
             ],
             [
              0.8888888888888888,
              "#fdca26"
             ],
             [
              1,
              "#f0f921"
             ]
            ],
            "type": "heatmap"
           }
          ],
          "heatmapgl": [
           {
            "colorbar": {
             "outlinewidth": 0,
             "ticks": ""
            },
            "colorscale": [
             [
              0,
              "#0d0887"
             ],
             [
              0.1111111111111111,
              "#46039f"
             ],
             [
              0.2222222222222222,
              "#7201a8"
             ],
             [
              0.3333333333333333,
              "#9c179e"
             ],
             [
              0.4444444444444444,
              "#bd3786"
             ],
             [
              0.5555555555555556,
              "#d8576b"
             ],
             [
              0.6666666666666666,
              "#ed7953"
             ],
             [
              0.7777777777777778,
              "#fb9f3a"
             ],
             [
              0.8888888888888888,
              "#fdca26"
             ],
             [
              1,
              "#f0f921"
             ]
            ],
            "type": "heatmapgl"
           }
          ],
          "histogram": [
           {
            "marker": {
             "pattern": {
              "fillmode": "overlay",
              "size": 10,
              "solidity": 0.2
             }
            },
            "type": "histogram"
           }
          ],
          "histogram2d": [
           {
            "colorbar": {
             "outlinewidth": 0,
             "ticks": ""
            },
            "colorscale": [
             [
              0,
              "#0d0887"
             ],
             [
              0.1111111111111111,
              "#46039f"
             ],
             [
              0.2222222222222222,
              "#7201a8"
             ],
             [
              0.3333333333333333,
              "#9c179e"
             ],
             [
              0.4444444444444444,
              "#bd3786"
             ],
             [
              0.5555555555555556,
              "#d8576b"
             ],
             [
              0.6666666666666666,
              "#ed7953"
             ],
             [
              0.7777777777777778,
              "#fb9f3a"
             ],
             [
              0.8888888888888888,
              "#fdca26"
             ],
             [
              1,
              "#f0f921"
             ]
            ],
            "type": "histogram2d"
           }
          ],
          "histogram2dcontour": [
           {
            "colorbar": {
             "outlinewidth": 0,
             "ticks": ""
            },
            "colorscale": [
             [
              0,
              "#0d0887"
             ],
             [
              0.1111111111111111,
              "#46039f"
             ],
             [
              0.2222222222222222,
              "#7201a8"
             ],
             [
              0.3333333333333333,
              "#9c179e"
             ],
             [
              0.4444444444444444,
              "#bd3786"
             ],
             [
              0.5555555555555556,
              "#d8576b"
             ],
             [
              0.6666666666666666,
              "#ed7953"
             ],
             [
              0.7777777777777778,
              "#fb9f3a"
             ],
             [
              0.8888888888888888,
              "#fdca26"
             ],
             [
              1,
              "#f0f921"
             ]
            ],
            "type": "histogram2dcontour"
           }
          ],
          "mesh3d": [
           {
            "colorbar": {
             "outlinewidth": 0,
             "ticks": ""
            },
            "type": "mesh3d"
           }
          ],
          "parcoords": [
           {
            "line": {
             "colorbar": {
              "outlinewidth": 0,
              "ticks": ""
             }
            },
            "type": "parcoords"
           }
          ],
          "pie": [
           {
            "automargin": true,
            "type": "pie"
           }
          ],
          "scatter": [
           {
            "fillpattern": {
             "fillmode": "overlay",
             "size": 10,
             "solidity": 0.2
            },
            "type": "scatter"
           }
          ],
          "scatter3d": [
           {
            "line": {
             "colorbar": {
              "outlinewidth": 0,
              "ticks": ""
             }
            },
            "marker": {
             "colorbar": {
              "outlinewidth": 0,
              "ticks": ""
             }
            },
            "type": "scatter3d"
           }
          ],
          "scattercarpet": [
           {
            "marker": {
             "colorbar": {
              "outlinewidth": 0,
              "ticks": ""
             }
            },
            "type": "scattercarpet"
           }
          ],
          "scattergeo": [
           {
            "marker": {
             "colorbar": {
              "outlinewidth": 0,
              "ticks": ""
             }
            },
            "type": "scattergeo"
           }
          ],
          "scattergl": [
           {
            "marker": {
             "colorbar": {
              "outlinewidth": 0,
              "ticks": ""
             }
            },
            "type": "scattergl"
           }
          ],
          "scattermapbox": [
           {
            "marker": {
             "colorbar": {
              "outlinewidth": 0,
              "ticks": ""
             }
            },
            "type": "scattermapbox"
           }
          ],
          "scatterpolar": [
           {
            "marker": {
             "colorbar": {
              "outlinewidth": 0,
              "ticks": ""
             }
            },
            "type": "scatterpolar"
           }
          ],
          "scatterpolargl": [
           {
            "marker": {
             "colorbar": {
              "outlinewidth": 0,
              "ticks": ""
             }
            },
            "type": "scatterpolargl"
           }
          ],
          "scatterternary": [
           {
            "marker": {
             "colorbar": {
              "outlinewidth": 0,
              "ticks": ""
             }
            },
            "type": "scatterternary"
           }
          ],
          "surface": [
           {
            "colorbar": {
             "outlinewidth": 0,
             "ticks": ""
            },
            "colorscale": [
             [
              0,
              "#0d0887"
             ],
             [
              0.1111111111111111,
              "#46039f"
             ],
             [
              0.2222222222222222,
              "#7201a8"
             ],
             [
              0.3333333333333333,
              "#9c179e"
             ],
             [
              0.4444444444444444,
              "#bd3786"
             ],
             [
              0.5555555555555556,
              "#d8576b"
             ],
             [
              0.6666666666666666,
              "#ed7953"
             ],
             [
              0.7777777777777778,
              "#fb9f3a"
             ],
             [
              0.8888888888888888,
              "#fdca26"
             ],
             [
              1,
              "#f0f921"
             ]
            ],
            "type": "surface"
           }
          ],
          "table": [
           {
            "cells": {
             "fill": {
              "color": "#EBF0F8"
             },
             "line": {
              "color": "white"
             }
            },
            "header": {
             "fill": {
              "color": "#C8D4E3"
             },
             "line": {
              "color": "white"
             }
            },
            "type": "table"
           }
          ]
         },
         "layout": {
          "annotationdefaults": {
           "arrowcolor": "#2a3f5f",
           "arrowhead": 0,
           "arrowwidth": 1
          },
          "autotypenumbers": "strict",
          "coloraxis": {
           "colorbar": {
            "outlinewidth": 0,
            "ticks": ""
           }
          },
          "colorscale": {
           "diverging": [
            [
             0,
             "#8e0152"
            ],
            [
             0.1,
             "#c51b7d"
            ],
            [
             0.2,
             "#de77ae"
            ],
            [
             0.3,
             "#f1b6da"
            ],
            [
             0.4,
             "#fde0ef"
            ],
            [
             0.5,
             "#f7f7f7"
            ],
            [
             0.6,
             "#e6f5d0"
            ],
            [
             0.7,
             "#b8e186"
            ],
            [
             0.8,
             "#7fbc41"
            ],
            [
             0.9,
             "#4d9221"
            ],
            [
             1,
             "#276419"
            ]
           ],
           "sequential": [
            [
             0,
             "#0d0887"
            ],
            [
             0.1111111111111111,
             "#46039f"
            ],
            [
             0.2222222222222222,
             "#7201a8"
            ],
            [
             0.3333333333333333,
             "#9c179e"
            ],
            [
             0.4444444444444444,
             "#bd3786"
            ],
            [
             0.5555555555555556,
             "#d8576b"
            ],
            [
             0.6666666666666666,
             "#ed7953"
            ],
            [
             0.7777777777777778,
             "#fb9f3a"
            ],
            [
             0.8888888888888888,
             "#fdca26"
            ],
            [
             1,
             "#f0f921"
            ]
           ],
           "sequentialminus": [
            [
             0,
             "#0d0887"
            ],
            [
             0.1111111111111111,
             "#46039f"
            ],
            [
             0.2222222222222222,
             "#7201a8"
            ],
            [
             0.3333333333333333,
             "#9c179e"
            ],
            [
             0.4444444444444444,
             "#bd3786"
            ],
            [
             0.5555555555555556,
             "#d8576b"
            ],
            [
             0.6666666666666666,
             "#ed7953"
            ],
            [
             0.7777777777777778,
             "#fb9f3a"
            ],
            [
             0.8888888888888888,
             "#fdca26"
            ],
            [
             1,
             "#f0f921"
            ]
           ]
          },
          "colorway": [
           "#636efa",
           "#EF553B",
           "#00cc96",
           "#ab63fa",
           "#FFA15A",
           "#19d3f3",
           "#FF6692",
           "#B6E880",
           "#FF97FF",
           "#FECB52"
          ],
          "font": {
           "color": "#2a3f5f"
          },
          "geo": {
           "bgcolor": "white",
           "lakecolor": "white",
           "landcolor": "#E5ECF6",
           "showlakes": true,
           "showland": true,
           "subunitcolor": "white"
          },
          "hoverlabel": {
           "align": "left"
          },
          "hovermode": "closest",
          "mapbox": {
           "style": "light"
          },
          "paper_bgcolor": "white",
          "plot_bgcolor": "#E5ECF6",
          "polar": {
           "angularaxis": {
            "gridcolor": "white",
            "linecolor": "white",
            "ticks": ""
           },
           "bgcolor": "#E5ECF6",
           "radialaxis": {
            "gridcolor": "white",
            "linecolor": "white",
            "ticks": ""
           }
          },
          "scene": {
           "xaxis": {
            "backgroundcolor": "#E5ECF6",
            "gridcolor": "white",
            "gridwidth": 2,
            "linecolor": "white",
            "showbackground": true,
            "ticks": "",
            "zerolinecolor": "white"
           },
           "yaxis": {
            "backgroundcolor": "#E5ECF6",
            "gridcolor": "white",
            "gridwidth": 2,
            "linecolor": "white",
            "showbackground": true,
            "ticks": "",
            "zerolinecolor": "white"
           },
           "zaxis": {
            "backgroundcolor": "#E5ECF6",
            "gridcolor": "white",
            "gridwidth": 2,
            "linecolor": "white",
            "showbackground": true,
            "ticks": "",
            "zerolinecolor": "white"
           }
          },
          "shapedefaults": {
           "line": {
            "color": "#2a3f5f"
           }
          },
          "ternary": {
           "aaxis": {
            "gridcolor": "white",
            "linecolor": "white",
            "ticks": ""
           },
           "baxis": {
            "gridcolor": "white",
            "linecolor": "white",
            "ticks": ""
           },
           "bgcolor": "#E5ECF6",
           "caxis": {
            "gridcolor": "white",
            "linecolor": "white",
            "ticks": ""
           }
          },
          "title": {
           "x": 0.05
          },
          "xaxis": {
           "automargin": true,
           "gridcolor": "white",
           "linecolor": "white",
           "ticks": "",
           "title": {
            "standoff": 15
           },
           "zerolinecolor": "white",
           "zerolinewidth": 2
          },
          "yaxis": {
           "automargin": true,
           "gridcolor": "white",
           "linecolor": "white",
           "ticks": "",
           "title": {
            "standoff": 15
           },
           "zerolinecolor": "white",
           "zerolinewidth": 2
          }
         }
        },
        "title": {
         "text": "T-SNE - Beer styles"
        },
        "width": 1000,
        "xaxis": {
         "anchor": "y",
         "domain": [
          0,
          1
         ],
         "title": {
          "text": "x"
         }
        },
        "yaxis": {
         "anchor": "x",
         "domain": [
          0,
          1
         ],
         "title": {
          "text": "y"
         }
        }
       }
      }
     },
     "metadata": {},
     "output_type": "display_data"
    }
   ],
   "source": [
    "X_reduced_tsne = TSNE(n_components=2, init='random', learning_rate='auto', random_state=0).fit_transform(X)\n",
    "\n",
    "# Plot the data reduced in 2d space with t-SNE\n",
    "fig = px.scatter(x=X_reduced_tsne[:,0], y=X_reduced_tsne[:,1], color=style_labels)\n",
    "fig.update_layout(\n",
    "    title='T-SNE - Beer styles',\n",
    "    width=1000,\n",
    "    height=600,\n",
    ")\n",
    "fig.show()"
   ]
  },
  {
   "attachments": {},
   "cell_type": "markdown",
   "metadata": {},
   "source": [
    "Note that PCA is an unsupervised linear technique for dimensionality reduction. Some non-linear techniques such as UMAP can further be explored in an attempt to gain further insight. "
   ]
  },
  {
   "cell_type": "code",
   "execution_count": 28,
   "metadata": {},
   "outputs": [
    {
     "name": "stderr",
     "output_type": "stream",
     "text": [
      "OMP: Info #276: omp_set_nested routine deprecated, please use omp_set_max_active_levels instead.\n"
     ]
    },
    {
     "data": {
      "application/vnd.plotly.v1+json": {
       "config": {
        "plotlyServerURL": "https://plot.ly"
       },
       "data": [
        {
         "hovertemplate": "color=Altbier<br>x=%{x}<br>y=%{y}<extra></extra>",
         "legendgroup": "Altbier",
         "marker": {
          "color": "#636efa",
          "symbol": "circle"
         },
         "mode": "markers",
         "name": "Altbier",
         "orientation": "v",
         "showlegend": true,
         "type": "scatter",
         "x": [
          4.479610919952393
         ],
         "xaxis": "x",
         "y": [
          7.965827465057373
         ],
         "yaxis": "y"
        },
        {
         "hovertemplate": "color=American Adjunct Lager<br>x=%{x}<br>y=%{y}<extra></extra>",
         "legendgroup": "American Adjunct Lager",
         "marker": {
          "color": "#EF553B",
          "symbol": "circle"
         },
         "mode": "markers",
         "name": "American Adjunct Lager",
         "orientation": "v",
         "showlegend": true,
         "type": "scatter",
         "x": [
          8.98296070098877
         ],
         "xaxis": "x",
         "y": [
          6.313508987426758
         ],
         "yaxis": "y"
        },
        {
         "hovertemplate": "color=American Amber / Red Ale<br>x=%{x}<br>y=%{y}<extra></extra>",
         "legendgroup": "American Amber / Red Ale",
         "marker": {
          "color": "#00cc96",
          "symbol": "circle"
         },
         "mode": "markers",
         "name": "American Amber / Red Ale",
         "orientation": "v",
         "showlegend": true,
         "type": "scatter",
         "x": [
          3.737077236175537
         ],
         "xaxis": "x",
         "y": [
          8.32846450805664
         ],
         "yaxis": "y"
        },
        {
         "hovertemplate": "color=American Amber / Red Lager<br>x=%{x}<br>y=%{y}<extra></extra>",
         "legendgroup": "American Amber / Red Lager",
         "marker": {
          "color": "#ab63fa",
          "symbol": "circle"
         },
         "mode": "markers",
         "name": "American Amber / Red Lager",
         "orientation": "v",
         "showlegend": true,
         "type": "scatter",
         "x": [
          8.391932487487793
         ],
         "xaxis": "x",
         "y": [
          7.929659366607666
         ],
         "yaxis": "y"
        },
        {
         "hovertemplate": "color=American Barleywine<br>x=%{x}<br>y=%{y}<extra></extra>",
         "legendgroup": "American Barleywine",
         "marker": {
          "color": "#FFA15A",
          "symbol": "circle"
         },
         "mode": "markers",
         "name": "American Barleywine",
         "orientation": "v",
         "showlegend": true,
         "type": "scatter",
         "x": [
          -1.672930121421814
         ],
         "xaxis": "x",
         "y": [
          8.211447715759277
         ],
         "yaxis": "y"
        },
        {
         "hovertemplate": "color=American Black Ale<br>x=%{x}<br>y=%{y}<extra></extra>",
         "legendgroup": "American Black Ale",
         "marker": {
          "color": "#19d3f3",
          "symbol": "circle"
         },
         "mode": "markers",
         "name": "American Black Ale",
         "orientation": "v",
         "showlegend": true,
         "type": "scatter",
         "x": [
          0.44211345911026
         ],
         "xaxis": "x",
         "y": [
          6.871556282043457
         ],
         "yaxis": "y"
        },
        {
         "hovertemplate": "color=American Blonde Ale<br>x=%{x}<br>y=%{y}<extra></extra>",
         "legendgroup": "American Blonde Ale",
         "marker": {
          "color": "#FF6692",
          "symbol": "circle"
         },
         "mode": "markers",
         "name": "American Blonde Ale",
         "orientation": "v",
         "showlegend": true,
         "type": "scatter",
         "x": [
          7.620118141174316
         ],
         "xaxis": "x",
         "y": [
          7.890878677368164
         ],
         "yaxis": "y"
        },
        {
         "hovertemplate": "color=American Brown Ale<br>x=%{x}<br>y=%{y}<extra></extra>",
         "legendgroup": "American Brown Ale",
         "marker": {
          "color": "#B6E880",
          "symbol": "circle"
         },
         "mode": "markers",
         "name": "American Brown Ale",
         "orientation": "v",
         "showlegend": true,
         "type": "scatter",
         "x": [
          1.8887089490890503
         ],
         "xaxis": "x",
         "y": [
          7.38193416595459
         ],
         "yaxis": "y"
        },
        {
         "hovertemplate": "color=American Dark Wheat Ale<br>x=%{x}<br>y=%{y}<extra></extra>",
         "legendgroup": "American Dark Wheat Ale",
         "marker": {
          "color": "#FF97FF",
          "symbol": "circle"
         },
         "mode": "markers",
         "name": "American Dark Wheat Ale",
         "orientation": "v",
         "showlegend": true,
         "type": "scatter",
         "x": [
          7.164306640625
         ],
         "xaxis": "x",
         "y": [
          8.803125381469727
         ],
         "yaxis": "y"
        },
        {
         "hovertemplate": "color=American Double / Imperial IPA<br>x=%{x}<br>y=%{y}<extra></extra>",
         "legendgroup": "American Double / Imperial IPA",
         "marker": {
          "color": "#FECB52",
          "symbol": "circle"
         },
         "mode": "markers",
         "name": "American Double / Imperial IPA",
         "orientation": "v",
         "showlegend": true,
         "type": "scatter",
         "x": [
          -1.6942921876907349
         ],
         "xaxis": "x",
         "y": [
          7.575144290924072
         ],
         "yaxis": "y"
        },
        {
         "hovertemplate": "color=American Double / Imperial Pilsner<br>x=%{x}<br>y=%{y}<extra></extra>",
         "legendgroup": "American Double / Imperial Pilsner",
         "marker": {
          "color": "#636efa",
          "symbol": "circle"
         },
         "mode": "markers",
         "name": "American Double / Imperial Pilsner",
         "orientation": "v",
         "showlegend": true,
         "type": "scatter",
         "x": [
          0.2381211370229721
         ],
         "xaxis": "x",
         "y": [
          7.436916828155518
         ],
         "yaxis": "y"
        },
        {
         "hovertemplate": "color=American Double / Imperial Stout<br>x=%{x}<br>y=%{y}<extra></extra>",
         "legendgroup": "American Double / Imperial Stout",
         "marker": {
          "color": "#EF553B",
          "symbol": "circle"
         },
         "mode": "markers",
         "name": "American Double / Imperial Stout",
         "orientation": "v",
         "showlegend": true,
         "type": "scatter",
         "x": [
          -1.9204477071762085
         ],
         "xaxis": "x",
         "y": [
          7.771999359130859
         ],
         "yaxis": "y"
        },
        {
         "hovertemplate": "color=American IPA<br>x=%{x}<br>y=%{y}<extra></extra>",
         "legendgroup": "American IPA",
         "marker": {
          "color": "#00cc96",
          "symbol": "circle"
         },
         "mode": "markers",
         "name": "American IPA",
         "orientation": "v",
         "showlegend": true,
         "type": "scatter",
         "x": [
          0.5453500747680664
         ],
         "xaxis": "x",
         "y": [
          6.450750350952148
         ],
         "yaxis": "y"
        },
        {
         "hovertemplate": "color=American Malt Liquor<br>x=%{x}<br>y=%{y}<extra></extra>",
         "legendgroup": "American Malt Liquor",
         "marker": {
          "color": "#ab63fa",
          "symbol": "circle"
         },
         "mode": "markers",
         "name": "American Malt Liquor",
         "orientation": "v",
         "showlegend": true,
         "type": "scatter",
         "x": [
          9.063098907470703
         ],
         "xaxis": "x",
         "y": [
          6.102288722991943
         ],
         "yaxis": "y"
        },
        {
         "hovertemplate": "color=American Pale Ale (APA)<br>x=%{x}<br>y=%{y}<extra></extra>",
         "legendgroup": "American Pale Ale (APA)",
         "marker": {
          "color": "#FFA15A",
          "symbol": "circle"
         },
         "mode": "markers",
         "name": "American Pale Ale (APA)",
         "orientation": "v",
         "showlegend": true,
         "type": "scatter",
         "x": [
          2.2688992023468018
         ],
         "xaxis": "x",
         "y": [
          7.084000110626221
         ],
         "yaxis": "y"
        },
        {
         "hovertemplate": "color=American Pale Lager<br>x=%{x}<br>y=%{y}<extra></extra>",
         "legendgroup": "American Pale Lager",
         "marker": {
          "color": "#19d3f3",
          "symbol": "circle"
         },
         "mode": "markers",
         "name": "American Pale Lager",
         "orientation": "v",
         "showlegend": true,
         "type": "scatter",
         "x": [
          8.029067993164062
         ],
         "xaxis": "x",
         "y": [
          7.8365373611450195
         ],
         "yaxis": "y"
        },
        {
         "hovertemplate": "color=American Pale Wheat Ale<br>x=%{x}<br>y=%{y}<extra></extra>",
         "legendgroup": "American Pale Wheat Ale",
         "marker": {
          "color": "#FF6692",
          "symbol": "circle"
         },
         "mode": "markers",
         "name": "American Pale Wheat Ale",
         "orientation": "v",
         "showlegend": true,
         "type": "scatter",
         "x": [
          6.3516693115234375
         ],
         "xaxis": "x",
         "y": [
          8.45582389831543
         ],
         "yaxis": "y"
        },
        {
         "hovertemplate": "color=American Porter<br>x=%{x}<br>y=%{y}<extra></extra>",
         "legendgroup": "American Porter",
         "marker": {
          "color": "#B6E880",
          "symbol": "circle"
         },
         "mode": "markers",
         "name": "American Porter",
         "orientation": "v",
         "showlegend": true,
         "type": "scatter",
         "x": [
          0.6664059162139893
         ],
         "xaxis": "x",
         "y": [
          6.5554633140563965
         ],
         "yaxis": "y"
        },
        {
         "hovertemplate": "color=American Stout<br>x=%{x}<br>y=%{y}<extra></extra>",
         "legendgroup": "American Stout",
         "marker": {
          "color": "#FF97FF",
          "symbol": "circle"
         },
         "mode": "markers",
         "name": "American Stout",
         "orientation": "v",
         "showlegend": true,
         "type": "scatter",
         "x": [
          1.279442548751831
         ],
         "xaxis": "x",
         "y": [
          7.044530868530273
         ],
         "yaxis": "y"
        },
        {
         "hovertemplate": "color=American Strong Ale<br>x=%{x}<br>y=%{y}<extra></extra>",
         "legendgroup": "American Strong Ale",
         "marker": {
          "color": "#FECB52",
          "symbol": "circle"
         },
         "mode": "markers",
         "name": "American Strong Ale",
         "orientation": "v",
         "showlegend": true,
         "type": "scatter",
         "x": [
          -1.343677282333374
         ],
         "xaxis": "x",
         "y": [
          7.762659072875977
         ],
         "yaxis": "y"
        },
        {
         "hovertemplate": "color=American Wild Ale<br>x=%{x}<br>y=%{y}<extra></extra>",
         "legendgroup": "American Wild Ale",
         "marker": {
          "color": "#636efa",
          "symbol": "circle"
         },
         "mode": "markers",
         "name": "American Wild Ale",
         "orientation": "v",
         "showlegend": true,
         "type": "scatter",
         "x": [
          -0.2151452749967575
         ],
         "xaxis": "x",
         "y": [
          5.9797563552856445
         ],
         "yaxis": "y"
        },
        {
         "hovertemplate": "color=Baltic Porter<br>x=%{x}<br>y=%{y}<extra></extra>",
         "legendgroup": "Baltic Porter",
         "marker": {
          "color": "#EF553B",
          "symbol": "circle"
         },
         "mode": "markers",
         "name": "Baltic Porter",
         "orientation": "v",
         "showlegend": true,
         "type": "scatter",
         "x": [
          -0.8925389647483826
         ],
         "xaxis": "x",
         "y": [
          7.461493968963623
         ],
         "yaxis": "y"
        },
        {
         "hovertemplate": "color=Belgian Dark Ale<br>x=%{x}<br>y=%{y}<extra></extra>",
         "legendgroup": "Belgian Dark Ale",
         "marker": {
          "color": "#00cc96",
          "symbol": "circle"
         },
         "mode": "markers",
         "name": "Belgian Dark Ale",
         "orientation": "v",
         "showlegend": true,
         "type": "scatter",
         "x": [
          3.6198227405548096
         ],
         "xaxis": "x",
         "y": [
          8.696884155273438
         ],
         "yaxis": "y"
        },
        {
         "hovertemplate": "color=Belgian IPA<br>x=%{x}<br>y=%{y}<extra></extra>",
         "legendgroup": "Belgian IPA",
         "marker": {
          "color": "#ab63fa",
          "symbol": "circle"
         },
         "mode": "markers",
         "name": "Belgian IPA",
         "orientation": "v",
         "showlegend": true,
         "type": "scatter",
         "x": [
          0.722679853439331
         ],
         "xaxis": "x",
         "y": [
          7.272468090057373
         ],
         "yaxis": "y"
        },
        {
         "hovertemplate": "color=Belgian Pale Ale<br>x=%{x}<br>y=%{y}<extra></extra>",
         "legendgroup": "Belgian Pale Ale",
         "marker": {
          "color": "#FFA15A",
          "symbol": "circle"
         },
         "mode": "markers",
         "name": "Belgian Pale Ale",
         "orientation": "v",
         "showlegend": true,
         "type": "scatter",
         "x": [
          3.4133856296539307
         ],
         "xaxis": "x",
         "y": [
          7.967380523681641
         ],
         "yaxis": "y"
        },
        {
         "hovertemplate": "color=Belgian Strong Dark Ale<br>x=%{x}<br>y=%{y}<extra></extra>",
         "legendgroup": "Belgian Strong Dark Ale",
         "marker": {
          "color": "#19d3f3",
          "symbol": "circle"
         },
         "mode": "markers",
         "name": "Belgian Strong Dark Ale",
         "orientation": "v",
         "showlegend": true,
         "type": "scatter",
         "x": [
          -1.1728897094726562
         ],
         "xaxis": "x",
         "y": [
          7.678460121154785
         ],
         "yaxis": "y"
        },
        {
         "hovertemplate": "color=Belgian Strong Pale Ale<br>x=%{x}<br>y=%{y}<extra></extra>",
         "legendgroup": "Belgian Strong Pale Ale",
         "marker": {
          "color": "#FF6692",
          "symbol": "circle"
         },
         "mode": "markers",
         "name": "Belgian Strong Pale Ale",
         "orientation": "v",
         "showlegend": true,
         "type": "scatter",
         "x": [
          -0.6028124094009399
         ],
         "xaxis": "x",
         "y": [
          7.962061882019043
         ],
         "yaxis": "y"
        },
        {
         "hovertemplate": "color=Berliner Weissbier<br>x=%{x}<br>y=%{y}<extra></extra>",
         "legendgroup": "Berliner Weissbier",
         "marker": {
          "color": "#B6E880",
          "symbol": "circle"
         },
         "mode": "markers",
         "name": "Berliner Weissbier",
         "orientation": "v",
         "showlegend": true,
         "type": "scatter",
         "x": [
          1.6309032440185547
         ],
         "xaxis": "x",
         "y": [
          6.595216751098633
         ],
         "yaxis": "y"
        },
        {
         "hovertemplate": "color=Bière de Champagne / Bière Brut<br>x=%{x}<br>y=%{y}<extra></extra>",
         "legendgroup": "Bière de Champagne / Bière Brut",
         "marker": {
          "color": "#FF97FF",
          "symbol": "circle"
         },
         "mode": "markers",
         "name": "Bière de Champagne / Bière Brut",
         "orientation": "v",
         "showlegend": true,
         "type": "scatter",
         "x": [
          -0.1859222948551178
         ],
         "xaxis": "x",
         "y": [
          7.9302077293396
         ],
         "yaxis": "y"
        },
        {
         "hovertemplate": "color=Bière de Garde<br>x=%{x}<br>y=%{y}<extra></extra>",
         "legendgroup": "Bière de Garde",
         "marker": {
          "color": "#FECB52",
          "symbol": "circle"
         },
         "mode": "markers",
         "name": "Bière de Garde",
         "orientation": "v",
         "showlegend": true,
         "type": "scatter",
         "x": [
          0.9597799777984619
         ],
         "xaxis": "x",
         "y": [
          7.379271984100342
         ],
         "yaxis": "y"
        },
        {
         "hovertemplate": "color=Black & Tan<br>x=%{x}<br>y=%{y}<extra></extra>",
         "legendgroup": "Black & Tan",
         "marker": {
          "color": "#636efa",
          "symbol": "circle"
         },
         "mode": "markers",
         "name": "Black & Tan",
         "orientation": "v",
         "showlegend": true,
         "type": "scatter",
         "x": [
          8.549721717834473
         ],
         "xaxis": "x",
         "y": [
          8.187352180480957
         ],
         "yaxis": "y"
        },
        {
         "hovertemplate": "color=Bock<br>x=%{x}<br>y=%{y}<extra></extra>",
         "legendgroup": "Bock",
         "marker": {
          "color": "#EF553B",
          "symbol": "circle"
         },
         "mode": "markers",
         "name": "Bock",
         "orientation": "v",
         "showlegend": true,
         "type": "scatter",
         "x": [
          7.5356903076171875
         ],
         "xaxis": "x",
         "y": [
          8.834179878234863
         ],
         "yaxis": "y"
        },
        {
         "hovertemplate": "color=Braggot<br>x=%{x}<br>y=%{y}<extra></extra>",
         "legendgroup": "Braggot",
         "marker": {
          "color": "#00cc96",
          "symbol": "circle"
         },
         "mode": "markers",
         "name": "Braggot",
         "orientation": "v",
         "showlegend": true,
         "type": "scatter",
         "x": [
          -0.03862861916422844
         ],
         "xaxis": "x",
         "y": [
          8.16622257232666
         ],
         "yaxis": "y"
        },
        {
         "hovertemplate": "color=California Common / Steam Beer<br>x=%{x}<br>y=%{y}<extra></extra>",
         "legendgroup": "California Common / Steam Beer",
         "marker": {
          "color": "#ab63fa",
          "symbol": "circle"
         },
         "mode": "markers",
         "name": "California Common / Steam Beer",
         "orientation": "v",
         "showlegend": true,
         "type": "scatter",
         "x": [
          4.020993232727051
         ],
         "xaxis": "x",
         "y": [
          7.679173469543457
         ],
         "yaxis": "y"
        },
        {
         "hovertemplate": "color=Chile Beer<br>x=%{x}<br>y=%{y}<extra></extra>",
         "legendgroup": "Chile Beer",
         "marker": {
          "color": "#FFA15A",
          "symbol": "circle"
         },
         "mode": "markers",
         "name": "Chile Beer",
         "orientation": "v",
         "showlegend": true,
         "type": "scatter",
         "x": [
          7.984408378601074
         ],
         "xaxis": "x",
         "y": [
          8.4567289352417
         ],
         "yaxis": "y"
        },
        {
         "hovertemplate": "color=Cream Ale<br>x=%{x}<br>y=%{y}<extra></extra>",
         "legendgroup": "Cream Ale",
         "marker": {
          "color": "#19d3f3",
          "symbol": "circle"
         },
         "mode": "markers",
         "name": "Cream Ale",
         "orientation": "v",
         "showlegend": true,
         "type": "scatter",
         "x": [
          6.539316654205322
         ],
         "xaxis": "x",
         "y": [
          8.395347595214844
         ],
         "yaxis": "y"
        },
        {
         "hovertemplate": "color=Czech Pilsener<br>x=%{x}<br>y=%{y}<extra></extra>",
         "legendgroup": "Czech Pilsener",
         "marker": {
          "color": "#FF6692",
          "symbol": "circle"
         },
         "mode": "markers",
         "name": "Czech Pilsener",
         "orientation": "v",
         "showlegend": true,
         "type": "scatter",
         "x": [
          6.705329895019531
         ],
         "xaxis": "x",
         "y": [
          8.053178787231445
         ],
         "yaxis": "y"
        },
        {
         "hovertemplate": "color=Doppelbock<br>x=%{x}<br>y=%{y}<extra></extra>",
         "legendgroup": "Doppelbock",
         "marker": {
          "color": "#B6E880",
          "symbol": "circle"
         },
         "mode": "markers",
         "name": "Doppelbock",
         "orientation": "v",
         "showlegend": true,
         "type": "scatter",
         "x": [
          -0.393154114484787
         ],
         "xaxis": "x",
         "y": [
          7.770270824432373
         ],
         "yaxis": "y"
        },
        {
         "hovertemplate": "color=Dortmunder / Export Lager<br>x=%{x}<br>y=%{y}<extra></extra>",
         "legendgroup": "Dortmunder / Export Lager",
         "marker": {
          "color": "#FF97FF",
          "symbol": "circle"
         },
         "mode": "markers",
         "name": "Dortmunder / Export Lager",
         "orientation": "v",
         "showlegend": true,
         "type": "scatter",
         "x": [
          6.503945350646973
         ],
         "xaxis": "x",
         "y": [
          8.23819351196289
         ],
         "yaxis": "y"
        },
        {
         "hovertemplate": "color=Dubbel<br>x=%{x}<br>y=%{y}<extra></extra>",
         "legendgroup": "Dubbel",
         "marker": {
          "color": "#FECB52",
          "symbol": "circle"
         },
         "mode": "markers",
         "name": "Dubbel",
         "orientation": "v",
         "showlegend": true,
         "type": "scatter",
         "x": [
          0.48485827445983887
         ],
         "xaxis": "x",
         "y": [
          7.37365198135376
         ],
         "yaxis": "y"
        },
        {
         "hovertemplate": "color=Dunkelweizen<br>x=%{x}<br>y=%{y}<extra></extra>",
         "legendgroup": "Dunkelweizen",
         "marker": {
          "color": "#636efa",
          "symbol": "circle"
         },
         "mode": "markers",
         "name": "Dunkelweizen",
         "orientation": "v",
         "showlegend": true,
         "type": "scatter",
         "x": [
          3.2430450916290283
         ],
         "xaxis": "x",
         "y": [
          7.432916641235352
         ],
         "yaxis": "y"
        },
        {
         "hovertemplate": "color=Eisbock<br>x=%{x}<br>y=%{y}<extra></extra>",
         "legendgroup": "Eisbock",
         "marker": {
          "color": "#EF553B",
          "symbol": "circle"
         },
         "mode": "markers",
         "name": "Eisbock",
         "orientation": "v",
         "showlegend": true,
         "type": "scatter",
         "x": [
          -1.9555667638778687
         ],
         "xaxis": "x",
         "y": [
          7.951848983764648
         ],
         "yaxis": "y"
        },
        {
         "hovertemplate": "color=English Barleywine<br>x=%{x}<br>y=%{y}<extra></extra>",
         "legendgroup": "English Barleywine",
         "marker": {
          "color": "#00cc96",
          "symbol": "circle"
         },
         "mode": "markers",
         "name": "English Barleywine",
         "orientation": "v",
         "showlegend": true,
         "type": "scatter",
         "x": [
          -1.6357760429382324
         ],
         "xaxis": "x",
         "y": [
          8.079236030578613
         ],
         "yaxis": "y"
        },
        {
         "hovertemplate": "color=English Bitter<br>x=%{x}<br>y=%{y}<extra></extra>",
         "legendgroup": "English Bitter",
         "marker": {
          "color": "#ab63fa",
          "symbol": "circle"
         },
         "mode": "markers",
         "name": "English Bitter",
         "orientation": "v",
         "showlegend": true,
         "type": "scatter",
         "x": [
          6.95551872253418
         ],
         "xaxis": "x",
         "y": [
          7.708737373352051
         ],
         "yaxis": "y"
        },
        {
         "hovertemplate": "color=English Brown Ale<br>x=%{x}<br>y=%{y}<extra></extra>",
         "legendgroup": "English Brown Ale",
         "marker": {
          "color": "#FFA15A",
          "symbol": "circle"
         },
         "mode": "markers",
         "name": "English Brown Ale",
         "orientation": "v",
         "showlegend": true,
         "type": "scatter",
         "x": [
          5.743186950683594
         ],
         "xaxis": "x",
         "y": [
          8.174995422363281
         ],
         "yaxis": "y"
        },
        {
         "hovertemplate": "color=English Dark Mild Ale<br>x=%{x}<br>y=%{y}<extra></extra>",
         "legendgroup": "English Dark Mild Ale",
         "marker": {
          "color": "#19d3f3",
          "symbol": "circle"
         },
         "mode": "markers",
         "name": "English Dark Mild Ale",
         "orientation": "v",
         "showlegend": true,
         "type": "scatter",
         "x": [
          6.508605480194092
         ],
         "xaxis": "x",
         "y": [
          7.789857387542725
         ],
         "yaxis": "y"
        },
        {
         "hovertemplate": "color=English India Pale Ale (IPA)<br>x=%{x}<br>y=%{y}<extra></extra>",
         "legendgroup": "English India Pale Ale (IPA)",
         "marker": {
          "color": "#FF6692",
          "symbol": "circle"
         },
         "mode": "markers",
         "name": "English India Pale Ale (IPA)",
         "orientation": "v",
         "showlegend": true,
         "type": "scatter",
         "x": [
          7.216887474060059
         ],
         "xaxis": "x",
         "y": [
          8.863371849060059
         ],
         "yaxis": "y"
        },
        {
         "hovertemplate": "color=English Pale Ale<br>x=%{x}<br>y=%{y}<extra></extra>",
         "legendgroup": "English Pale Ale",
         "marker": {
          "color": "#B6E880",
          "symbol": "circle"
         },
         "mode": "markers",
         "name": "English Pale Ale",
         "orientation": "v",
         "showlegend": true,
         "type": "scatter",
         "x": [
          7.515199184417725
         ],
         "xaxis": "x",
         "y": [
          7.752862453460693
         ],
         "yaxis": "y"
        },
        {
         "hovertemplate": "color=English Pale Mild Ale<br>x=%{x}<br>y=%{y}<extra></extra>",
         "legendgroup": "English Pale Mild Ale",
         "marker": {
          "color": "#FF97FF",
          "symbol": "circle"
         },
         "mode": "markers",
         "name": "English Pale Mild Ale",
         "orientation": "v",
         "showlegend": true,
         "type": "scatter",
         "x": [
          7.234964847564697
         ],
         "xaxis": "x",
         "y": [
          7.616833209991455
         ],
         "yaxis": "y"
        },
        {
         "hovertemplate": "color=English Porter<br>x=%{x}<br>y=%{y}<extra></extra>",
         "legendgroup": "English Porter",
         "marker": {
          "color": "#FECB52",
          "symbol": "circle"
         },
         "mode": "markers",
         "name": "English Porter",
         "orientation": "v",
         "showlegend": true,
         "type": "scatter",
         "x": [
          2.2328920364379883
         ],
         "xaxis": "x",
         "y": [
          7.2405290603637695
         ],
         "yaxis": "y"
        },
        {
         "hovertemplate": "color=English Stout<br>x=%{x}<br>y=%{y}<extra></extra>",
         "legendgroup": "English Stout",
         "marker": {
          "color": "#636efa",
          "symbol": "circle"
         },
         "mode": "markers",
         "name": "English Stout",
         "orientation": "v",
         "showlegend": true,
         "type": "scatter",
         "x": [
          2.808206796646118
         ],
         "xaxis": "x",
         "y": [
          7.351306438446045
         ],
         "yaxis": "y"
        },
        {
         "hovertemplate": "color=English Strong Ale<br>x=%{x}<br>y=%{y}<extra></extra>",
         "legendgroup": "English Strong Ale",
         "marker": {
          "color": "#EF553B",
          "symbol": "circle"
         },
         "mode": "markers",
         "name": "English Strong Ale",
         "orientation": "v",
         "showlegend": true,
         "type": "scatter",
         "x": [
          2.9728565216064453
         ],
         "xaxis": "x",
         "y": [
          9.16792106628418
         ],
         "yaxis": "y"
        },
        {
         "hovertemplate": "color=Euro Dark Lager<br>x=%{x}<br>y=%{y}<extra></extra>",
         "legendgroup": "Euro Dark Lager",
         "marker": {
          "color": "#00cc96",
          "symbol": "circle"
         },
         "mode": "markers",
         "name": "Euro Dark Lager",
         "orientation": "v",
         "showlegend": true,
         "type": "scatter",
         "x": [
          8.142133712768555
         ],
         "xaxis": "x",
         "y": [
          7.9307074546813965
         ],
         "yaxis": "y"
        },
        {
         "hovertemplate": "color=Euro Pale Lager<br>x=%{x}<br>y=%{y}<extra></extra>",
         "legendgroup": "Euro Pale Lager",
         "marker": {
          "color": "#ab63fa",
          "symbol": "circle"
         },
         "mode": "markers",
         "name": "Euro Pale Lager",
         "orientation": "v",
         "showlegend": true,
         "type": "scatter",
         "x": [
          8.9089937210083
         ],
         "xaxis": "x",
         "y": [
          6.410799980163574
         ],
         "yaxis": "y"
        },
        {
         "hovertemplate": "color=Euro Strong Lager<br>x=%{x}<br>y=%{y}<extra></extra>",
         "legendgroup": "Euro Strong Lager",
         "marker": {
          "color": "#FFA15A",
          "symbol": "circle"
         },
         "mode": "markers",
         "name": "Euro Strong Lager",
         "orientation": "v",
         "showlegend": true,
         "type": "scatter",
         "x": [
          9.022675514221191
         ],
         "xaxis": "x",
         "y": [
          6.456528186798096
         ],
         "yaxis": "y"
        },
        {
         "hovertemplate": "color=Extra Special / Strong Bitter (ESB)<br>x=%{x}<br>y=%{y}<extra></extra>",
         "legendgroup": "Extra Special / Strong Bitter (ESB)",
         "marker": {
          "color": "#19d3f3",
          "symbol": "circle"
         },
         "mode": "markers",
         "name": "Extra Special / Strong Bitter (ESB)",
         "orientation": "v",
         "showlegend": true,
         "type": "scatter",
         "x": [
          4.3193182945251465
         ],
         "xaxis": "x",
         "y": [
          7.873741626739502
         ],
         "yaxis": "y"
        },
        {
         "hovertemplate": "color=Faro<br>x=%{x}<br>y=%{y}<extra></extra>",
         "legendgroup": "Faro",
         "marker": {
          "color": "#FF6692",
          "symbol": "circle"
         },
         "mode": "markers",
         "name": "Faro",
         "orientation": "v",
         "showlegend": true,
         "type": "scatter",
         "x": [
          5.807134628295898
         ],
         "xaxis": "x",
         "y": [
          8.250411033630371
         ],
         "yaxis": "y"
        },
        {
         "hovertemplate": "color=Flanders Oud Bruin<br>x=%{x}<br>y=%{y}<extra></extra>",
         "legendgroup": "Flanders Oud Bruin",
         "marker": {
          "color": "#B6E880",
          "symbol": "circle"
         },
         "mode": "markers",
         "name": "Flanders Oud Bruin",
         "orientation": "v",
         "showlegend": true,
         "type": "scatter",
         "x": [
          0.235859215259552
         ],
         "xaxis": "x",
         "y": [
          6.613076210021973
         ],
         "yaxis": "y"
        },
        {
         "hovertemplate": "color=Flanders Red Ale<br>x=%{x}<br>y=%{y}<extra></extra>",
         "legendgroup": "Flanders Red Ale",
         "marker": {
          "color": "#FF97FF",
          "symbol": "circle"
         },
         "mode": "markers",
         "name": "Flanders Red Ale",
         "orientation": "v",
         "showlegend": true,
         "type": "scatter",
         "x": [
          -0.28745317459106445
         ],
         "xaxis": "x",
         "y": [
          6.109196186065674
         ],
         "yaxis": "y"
        },
        {
         "hovertemplate": "color=Foreign / Export Stout<br>x=%{x}<br>y=%{y}<extra></extra>",
         "legendgroup": "Foreign / Export Stout",
         "marker": {
          "color": "#FECB52",
          "symbol": "circle"
         },
         "mode": "markers",
         "name": "Foreign / Export Stout",
         "orientation": "v",
         "showlegend": true,
         "type": "scatter",
         "x": [
          0.811518132686615
         ],
         "xaxis": "x",
         "y": [
          7.105401039123535
         ],
         "yaxis": "y"
        },
        {
         "hovertemplate": "color=Fruit / Vegetable Beer<br>x=%{x}<br>y=%{y}<extra></extra>",
         "legendgroup": "Fruit / Vegetable Beer",
         "marker": {
          "color": "#636efa",
          "symbol": "circle"
         },
         "mode": "markers",
         "name": "Fruit / Vegetable Beer",
         "orientation": "v",
         "showlegend": true,
         "type": "scatter",
         "x": [
          8.012317657470703
         ],
         "xaxis": "x",
         "y": [
          8.17945671081543
         ],
         "yaxis": "y"
        },
        {
         "hovertemplate": "color=German Pilsener<br>x=%{x}<br>y=%{y}<extra></extra>",
         "legendgroup": "German Pilsener",
         "marker": {
          "color": "#EF553B",
          "symbol": "circle"
         },
         "mode": "markers",
         "name": "German Pilsener",
         "orientation": "v",
         "showlegend": true,
         "type": "scatter",
         "x": [
          7.2354559898376465
         ],
         "xaxis": "x",
         "y": [
          7.935717582702637
         ],
         "yaxis": "y"
        },
        {
         "hovertemplate": "color=Gose<br>x=%{x}<br>y=%{y}<extra></extra>",
         "legendgroup": "Gose",
         "marker": {
          "color": "#00cc96",
          "symbol": "circle"
         },
         "mode": "markers",
         "name": "Gose",
         "orientation": "v",
         "showlegend": true,
         "type": "scatter",
         "x": [
          2.0791914463043213
         ],
         "xaxis": "x",
         "y": [
          6.935397624969482
         ],
         "yaxis": "y"
        },
        {
         "hovertemplate": "color=Gueuze<br>x=%{x}<br>y=%{y}<extra></extra>",
         "legendgroup": "Gueuze",
         "marker": {
          "color": "#ab63fa",
          "symbol": "circle"
         },
         "mode": "markers",
         "name": "Gueuze",
         "orientation": "v",
         "showlegend": true,
         "type": "scatter",
         "x": [
          -0.2687152028083801
         ],
         "xaxis": "x",
         "y": [
          5.890047550201416
         ],
         "yaxis": "y"
        },
        {
         "hovertemplate": "color=Happoshu<br>x=%{x}<br>y=%{y}<extra></extra>",
         "legendgroup": "Happoshu",
         "marker": {
          "color": "#FFA15A",
          "symbol": "circle"
         },
         "mode": "markers",
         "name": "Happoshu",
         "orientation": "v",
         "showlegend": true,
         "type": "scatter",
         "x": [
          9.139613151550293
         ],
         "xaxis": "x",
         "y": [
          6.202036380767822
         ],
         "yaxis": "y"
        },
        {
         "hovertemplate": "color=Hefeweizen<br>x=%{x}<br>y=%{y}<extra></extra>",
         "legendgroup": "Hefeweizen",
         "marker": {
          "color": "#19d3f3",
          "symbol": "circle"
         },
         "mode": "markers",
         "name": "Hefeweizen",
         "orientation": "v",
         "showlegend": true,
         "type": "scatter",
         "x": [
          3.3917672634124756
         ],
         "xaxis": "x",
         "y": [
          7.567466735839844
         ],
         "yaxis": "y"
        },
        {
         "hovertemplate": "color=Herbed / Spiced Beer<br>x=%{x}<br>y=%{y}<extra></extra>",
         "legendgroup": "Herbed / Spiced Beer",
         "marker": {
          "color": "#FF6692",
          "symbol": "circle"
         },
         "mode": "markers",
         "name": "Herbed / Spiced Beer",
         "orientation": "v",
         "showlegend": true,
         "type": "scatter",
         "x": [
          7.5385589599609375
         ],
         "xaxis": "x",
         "y": [
          8.95639419555664
         ],
         "yaxis": "y"
        },
        {
         "hovertemplate": "color=Irish Dry Stout<br>x=%{x}<br>y=%{y}<extra></extra>",
         "legendgroup": "Irish Dry Stout",
         "marker": {
          "color": "#B6E880",
          "symbol": "circle"
         },
         "mode": "markers",
         "name": "Irish Dry Stout",
         "orientation": "v",
         "showlegend": true,
         "type": "scatter",
         "x": [
          4.128305912017822
         ],
         "xaxis": "x",
         "y": [
          7.604843616485596
         ],
         "yaxis": "y"
        },
        {
         "hovertemplate": "color=Irish Red Ale<br>x=%{x}<br>y=%{y}<extra></extra>",
         "legendgroup": "Irish Red Ale",
         "marker": {
          "color": "#FF97FF",
          "symbol": "circle"
         },
         "mode": "markers",
         "name": "Irish Red Ale",
         "orientation": "v",
         "showlegend": true,
         "type": "scatter",
         "x": [
          7.366968154907227
         ],
         "xaxis": "x",
         "y": [
          8.368895530700684
         ],
         "yaxis": "y"
        },
        {
         "hovertemplate": "color=Japanese Rice Lager<br>x=%{x}<br>y=%{y}<extra></extra>",
         "legendgroup": "Japanese Rice Lager",
         "marker": {
          "color": "#FECB52",
          "symbol": "circle"
         },
         "mode": "markers",
         "name": "Japanese Rice Lager",
         "orientation": "v",
         "showlegend": true,
         "type": "scatter",
         "x": [
          8.866772651672363
         ],
         "xaxis": "x",
         "y": [
          6.496792793273926
         ],
         "yaxis": "y"
        },
        {
         "hovertemplate": "color=Kellerbier / Zwickelbier<br>x=%{x}<br>y=%{y}<extra></extra>",
         "legendgroup": "Kellerbier / Zwickelbier",
         "marker": {
          "color": "#636efa",
          "symbol": "circle"
         },
         "mode": "markers",
         "name": "Kellerbier / Zwickelbier",
         "orientation": "v",
         "showlegend": true,
         "type": "scatter",
         "x": [
          3.6989593505859375
         ],
         "xaxis": "x",
         "y": [
          7.572822093963623
         ],
         "yaxis": "y"
        },
        {
         "hovertemplate": "color=Kristalweizen<br>x=%{x}<br>y=%{y}<extra></extra>",
         "legendgroup": "Kristalweizen",
         "marker": {
          "color": "#EF553B",
          "symbol": "circle"
         },
         "mode": "markers",
         "name": "Kristalweizen",
         "orientation": "v",
         "showlegend": true,
         "type": "scatter",
         "x": [
          6.764588832855225
         ],
         "xaxis": "x",
         "y": [
          8.049552917480469
         ],
         "yaxis": "y"
        },
        {
         "hovertemplate": "color=Kvass<br>x=%{x}<br>y=%{y}<extra></extra>",
         "legendgroup": "Kvass",
         "marker": {
          "color": "#00cc96",
          "symbol": "circle"
         },
         "mode": "markers",
         "name": "Kvass",
         "orientation": "v",
         "showlegend": true,
         "type": "scatter",
         "x": [
          8.06687068939209
         ],
         "xaxis": "x",
         "y": [
          7.673864841461182
         ],
         "yaxis": "y"
        },
        {
         "hovertemplate": "color=Kölsch<br>x=%{x}<br>y=%{y}<extra></extra>",
         "legendgroup": "Kölsch",
         "marker": {
          "color": "#ab63fa",
          "symbol": "circle"
         },
         "mode": "markers",
         "name": "Kölsch",
         "orientation": "v",
         "showlegend": true,
         "type": "scatter",
         "x": [
          6.456672668457031
         ],
         "xaxis": "x",
         "y": [
          7.8566155433654785
         ],
         "yaxis": "y"
        },
        {
         "hovertemplate": "color=Lambic - Fruit<br>x=%{x}<br>y=%{y}<extra></extra>",
         "legendgroup": "Lambic - Fruit",
         "marker": {
          "color": "#FFA15A",
          "symbol": "circle"
         },
         "mode": "markers",
         "name": "Lambic - Fruit",
         "orientation": "v",
         "showlegend": true,
         "type": "scatter",
         "x": [
          -0.3547598123550415
         ],
         "xaxis": "x",
         "y": [
          5.769443511962891
         ],
         "yaxis": "y"
        },
        {
         "hovertemplate": "color=Lambic - Unblended<br>x=%{x}<br>y=%{y}<extra></extra>",
         "legendgroup": "Lambic - Unblended",
         "marker": {
          "color": "#19d3f3",
          "symbol": "circle"
         },
         "mode": "markers",
         "name": "Lambic - Unblended",
         "orientation": "v",
         "showlegend": true,
         "type": "scatter",
         "x": [
          -0.1089024767279625
         ],
         "xaxis": "x",
         "y": [
          5.6803436279296875
         ],
         "yaxis": "y"
        },
        {
         "hovertemplate": "color=Light Lager<br>x=%{x}<br>y=%{y}<extra></extra>",
         "legendgroup": "Light Lager",
         "marker": {
          "color": "#FF6692",
          "symbol": "circle"
         },
         "mode": "markers",
         "name": "Light Lager",
         "orientation": "v",
         "showlegend": true,
         "type": "scatter",
         "x": [
          9.414484024047852
         ],
         "xaxis": "x",
         "y": [
          6.439290523529053
         ],
         "yaxis": "y"
        },
        {
         "hovertemplate": "color=Low Alcohol Beer<br>x=%{x}<br>y=%{y}<extra></extra>",
         "legendgroup": "Low Alcohol Beer",
         "marker": {
          "color": "#B6E880",
          "symbol": "circle"
         },
         "mode": "markers",
         "name": "Low Alcohol Beer",
         "orientation": "v",
         "showlegend": true,
         "type": "scatter",
         "x": [
          9.214906692504883
         ],
         "xaxis": "x",
         "y": [
          6.300343990325928
         ],
         "yaxis": "y"
        },
        {
         "hovertemplate": "color=Maibock / Helles Bock<br>x=%{x}<br>y=%{y}<extra></extra>",
         "legendgroup": "Maibock / Helles Bock",
         "marker": {
          "color": "#FF97FF",
          "symbol": "circle"
         },
         "mode": "markers",
         "name": "Maibock / Helles Bock",
         "orientation": "v",
         "showlegend": true,
         "type": "scatter",
         "x": [
          3.3788459300994873
         ],
         "xaxis": "x",
         "y": [
          8.830653190612793
         ],
         "yaxis": "y"
        },
        {
         "hovertemplate": "color=Milk / Sweet Stout<br>x=%{x}<br>y=%{y}<extra></extra>",
         "legendgroup": "Milk / Sweet Stout",
         "marker": {
          "color": "#FECB52",
          "symbol": "circle"
         },
         "mode": "markers",
         "name": "Milk / Sweet Stout",
         "orientation": "v",
         "showlegend": true,
         "type": "scatter",
         "x": [
          0.45656123757362366
         ],
         "xaxis": "x",
         "y": [
          6.34664249420166
         ],
         "yaxis": "y"
        },
        {
         "hovertemplate": "color=Munich Dunkel Lager<br>x=%{x}<br>y=%{y}<extra></extra>",
         "legendgroup": "Munich Dunkel Lager",
         "marker": {
          "color": "#636efa",
          "symbol": "circle"
         },
         "mode": "markers",
         "name": "Munich Dunkel Lager",
         "orientation": "v",
         "showlegend": true,
         "type": "scatter",
         "x": [
          6.199277400970459
         ],
         "xaxis": "x",
         "y": [
          8.468417167663574
         ],
         "yaxis": "y"
        },
        {
         "hovertemplate": "color=Munich Helles Lager<br>x=%{x}<br>y=%{y}<extra></extra>",
         "legendgroup": "Munich Helles Lager",
         "marker": {
          "color": "#EF553B",
          "symbol": "circle"
         },
         "mode": "markers",
         "name": "Munich Helles Lager",
         "orientation": "v",
         "showlegend": true,
         "type": "scatter",
         "x": [
          6.088013648986816
         ],
         "xaxis": "x",
         "y": [
          8.024557113647461
         ],
         "yaxis": "y"
        },
        {
         "hovertemplate": "color=Märzen / Oktoberfest<br>x=%{x}<br>y=%{y}<extra></extra>",
         "legendgroup": "Märzen / Oktoberfest",
         "marker": {
          "color": "#00cc96",
          "symbol": "circle"
         },
         "mode": "markers",
         "name": "Märzen / Oktoberfest",
         "orientation": "v",
         "showlegend": true,
         "type": "scatter",
         "x": [
          4.919376850128174
         ],
         "xaxis": "x",
         "y": [
          8.158262252807617
         ],
         "yaxis": "y"
        },
        {
         "hovertemplate": "color=Oatmeal Stout<br>x=%{x}<br>y=%{y}<extra></extra>",
         "legendgroup": "Oatmeal Stout",
         "marker": {
          "color": "#ab63fa",
          "symbol": "circle"
         },
         "mode": "markers",
         "name": "Oatmeal Stout",
         "orientation": "v",
         "showlegend": true,
         "type": "scatter",
         "x": [
          0.7728537917137146
         ],
         "xaxis": "x",
         "y": [
          6.417803764343262
         ],
         "yaxis": "y"
        },
        {
         "hovertemplate": "color=Old Ale<br>x=%{x}<br>y=%{y}<extra></extra>",
         "legendgroup": "Old Ale",
         "marker": {
          "color": "#FFA15A",
          "symbol": "circle"
         },
         "mode": "markers",
         "name": "Old Ale",
         "orientation": "v",
         "showlegend": true,
         "type": "scatter",
         "x": [
          -1.0540770292282104
         ],
         "xaxis": "x",
         "y": [
          7.48291540145874
         ],
         "yaxis": "y"
        },
        {
         "hovertemplate": "color=Pumpkin Ale<br>x=%{x}<br>y=%{y}<extra></extra>",
         "legendgroup": "Pumpkin Ale",
         "marker": {
          "color": "#19d3f3",
          "symbol": "circle"
         },
         "mode": "markers",
         "name": "Pumpkin Ale",
         "orientation": "v",
         "showlegend": true,
         "type": "scatter",
         "x": [
          3.623380184173584
         ],
         "xaxis": "x",
         "y": [
          9.060846328735352
         ],
         "yaxis": "y"
        },
        {
         "hovertemplate": "color=Quadrupel (Quad)<br>x=%{x}<br>y=%{y}<extra></extra>",
         "legendgroup": "Quadrupel (Quad)",
         "marker": {
          "color": "#FF6692",
          "symbol": "circle"
         },
         "mode": "markers",
         "name": "Quadrupel (Quad)",
         "orientation": "v",
         "showlegend": true,
         "type": "scatter",
         "x": [
          -2.0649993419647217
         ],
         "xaxis": "x",
         "y": [
          7.880862712860107
         ],
         "yaxis": "y"
        },
        {
         "hovertemplate": "color=Rauchbier<br>x=%{x}<br>y=%{y}<extra></extra>",
         "legendgroup": "Rauchbier",
         "marker": {
          "color": "#B6E880",
          "symbol": "circle"
         },
         "mode": "markers",
         "name": "Rauchbier",
         "orientation": "v",
         "showlegend": true,
         "type": "scatter",
         "x": [
          1.9185774326324463
         ],
         "xaxis": "x",
         "y": [
          7.211702823638916
         ],
         "yaxis": "y"
        },
        {
         "hovertemplate": "color=Roggenbier<br>x=%{x}<br>y=%{y}<extra></extra>",
         "legendgroup": "Roggenbier",
         "marker": {
          "color": "#FF97FF",
          "symbol": "circle"
         },
         "mode": "markers",
         "name": "Roggenbier",
         "orientation": "v",
         "showlegend": true,
         "type": "scatter",
         "x": [
          3.576308488845825
         ],
         "xaxis": "x",
         "y": [
          7.76260232925415
         ],
         "yaxis": "y"
        },
        {
         "hovertemplate": "color=Russian Imperial Stout<br>x=%{x}<br>y=%{y}<extra></extra>",
         "legendgroup": "Russian Imperial Stout",
         "marker": {
          "color": "#FECB52",
          "symbol": "circle"
         },
         "mode": "markers",
         "name": "Russian Imperial Stout",
         "orientation": "v",
         "showlegend": true,
         "type": "scatter",
         "x": [
          -1.9676048755645752
         ],
         "xaxis": "x",
         "y": [
          7.741505146026611
         ],
         "yaxis": "y"
        },
        {
         "hovertemplate": "color=Rye Beer<br>x=%{x}<br>y=%{y}<extra></extra>",
         "legendgroup": "Rye Beer",
         "marker": {
          "color": "#636efa",
          "symbol": "circle"
         },
         "mode": "markers",
         "name": "Rye Beer",
         "orientation": "v",
         "showlegend": true,
         "type": "scatter",
         "x": [
          1.5866076946258545
         ],
         "xaxis": "x",
         "y": [
          7.337560653686523
         ],
         "yaxis": "y"
        },
        {
         "hovertemplate": "color=Sahti<br>x=%{x}<br>y=%{y}<extra></extra>",
         "legendgroup": "Sahti",
         "marker": {
          "color": "#EF553B",
          "symbol": "circle"
         },
         "mode": "markers",
         "name": "Sahti",
         "orientation": "v",
         "showlegend": true,
         "type": "scatter",
         "x": [
          3.1862072944641113
         ],
         "xaxis": "x",
         "y": [
          8.995939254760742
         ],
         "yaxis": "y"
        },
        {
         "hovertemplate": "color=Saison / Farmhouse Ale<br>x=%{x}<br>y=%{y}<extra></extra>",
         "legendgroup": "Saison / Farmhouse Ale",
         "marker": {
          "color": "#00cc96",
          "symbol": "circle"
         },
         "mode": "markers",
         "name": "Saison / Farmhouse Ale",
         "orientation": "v",
         "showlegend": true,
         "type": "scatter",
         "x": [
          0.5954726338386536
         ],
         "xaxis": "x",
         "y": [
          6.174095153808594
         ],
         "yaxis": "y"
        },
        {
         "hovertemplate": "color=Schwarzbier<br>x=%{x}<br>y=%{y}<extra></extra>",
         "legendgroup": "Schwarzbier",
         "marker": {
          "color": "#ab63fa",
          "symbol": "circle"
         },
         "mode": "markers",
         "name": "Schwarzbier",
         "orientation": "v",
         "showlegend": true,
         "type": "scatter",
         "x": [
          4.154977321624756
         ],
         "xaxis": "x",
         "y": [
          7.589412689208984
         ],
         "yaxis": "y"
        },
        {
         "hovertemplate": "color=Scotch Ale / Wee Heavy<br>x=%{x}<br>y=%{y}<extra></extra>",
         "legendgroup": "Scotch Ale / Wee Heavy",
         "marker": {
          "color": "#FFA15A",
          "symbol": "circle"
         },
         "mode": "markers",
         "name": "Scotch Ale / Wee Heavy",
         "orientation": "v",
         "showlegend": true,
         "type": "scatter",
         "x": [
          -0.6094033122062683
         ],
         "xaxis": "x",
         "y": [
          7.718706130981445
         ],
         "yaxis": "y"
        },
        {
         "hovertemplate": "color=Scottish Ale<br>x=%{x}<br>y=%{y}<extra></extra>",
         "legendgroup": "Scottish Ale",
         "marker": {
          "color": "#19d3f3",
          "symbol": "circle"
         },
         "mode": "markers",
         "name": "Scottish Ale",
         "orientation": "v",
         "showlegend": true,
         "type": "scatter",
         "x": [
          4.266765117645264
         ],
         "xaxis": "x",
         "y": [
          8.254789352416992
         ],
         "yaxis": "y"
        },
        {
         "hovertemplate": "color=Scottish Gruit / Ancient Herbed Ale<br>x=%{x}<br>y=%{y}<extra></extra>",
         "legendgroup": "Scottish Gruit / Ancient Herbed Ale",
         "marker": {
          "color": "#FF6692",
          "symbol": "circle"
         },
         "mode": "markers",
         "name": "Scottish Gruit / Ancient Herbed Ale",
         "orientation": "v",
         "showlegend": true,
         "type": "scatter",
         "x": [
          3.747925281524658
         ],
         "xaxis": "x",
         "y": [
          8.904746055603027
         ],
         "yaxis": "y"
        },
        {
         "hovertemplate": "color=Smoked Beer<br>x=%{x}<br>y=%{y}<extra></extra>",
         "legendgroup": "Smoked Beer",
         "marker": {
          "color": "#B6E880",
          "symbol": "circle"
         },
         "mode": "markers",
         "name": "Smoked Beer",
         "orientation": "v",
         "showlegend": true,
         "type": "scatter",
         "x": [
          2.255235195159912
         ],
         "xaxis": "x",
         "y": [
          7.504227638244629
         ],
         "yaxis": "y"
        },
        {
         "hovertemplate": "color=Tripel<br>x=%{x}<br>y=%{y}<extra></extra>",
         "legendgroup": "Tripel",
         "marker": {
          "color": "#FF97FF",
          "symbol": "circle"
         },
         "mode": "markers",
         "name": "Tripel",
         "orientation": "v",
         "showlegend": true,
         "type": "scatter",
         "x": [
          -0.8837935924530029
         ],
         "xaxis": "x",
         "y": [
          7.968150615692139
         ],
         "yaxis": "y"
        },
        {
         "hovertemplate": "color=Vienna Lager<br>x=%{x}<br>y=%{y}<extra></extra>",
         "legendgroup": "Vienna Lager",
         "marker": {
          "color": "#FECB52",
          "symbol": "circle"
         },
         "mode": "markers",
         "name": "Vienna Lager",
         "orientation": "v",
         "showlegend": true,
         "type": "scatter",
         "x": [
          7.341669082641602
         ],
         "xaxis": "x",
         "y": [
          8.056050300598145
         ],
         "yaxis": "y"
        },
        {
         "hovertemplate": "color=Weizenbock<br>x=%{x}<br>y=%{y}<extra></extra>",
         "legendgroup": "Weizenbock",
         "marker": {
          "color": "#636efa",
          "symbol": "circle"
         },
         "mode": "markers",
         "name": "Weizenbock",
         "orientation": "v",
         "showlegend": true,
         "type": "scatter",
         "x": [
          -0.3565499484539032
         ],
         "xaxis": "x",
         "y": [
          6.8866682052612305
         ],
         "yaxis": "y"
        },
        {
         "hovertemplate": "color=Wheatwine<br>x=%{x}<br>y=%{y}<extra></extra>",
         "legendgroup": "Wheatwine",
         "marker": {
          "color": "#EF553B",
          "symbol": "circle"
         },
         "mode": "markers",
         "name": "Wheatwine",
         "orientation": "v",
         "showlegend": true,
         "type": "scatter",
         "x": [
          -1.3583993911743164
         ],
         "xaxis": "x",
         "y": [
          8.071379661560059
         ],
         "yaxis": "y"
        },
        {
         "hovertemplate": "color=Winter Warmer<br>x=%{x}<br>y=%{y}<extra></extra>",
         "legendgroup": "Winter Warmer",
         "marker": {
          "color": "#00cc96",
          "symbol": "circle"
         },
         "mode": "markers",
         "name": "Winter Warmer",
         "orientation": "v",
         "showlegend": true,
         "type": "scatter",
         "x": [
          3.399178981781006
         ],
         "xaxis": "x",
         "y": [
          8.984408378601074
         ],
         "yaxis": "y"
        },
        {
         "hovertemplate": "color=Witbier<br>x=%{x}<br>y=%{y}<extra></extra>",
         "legendgroup": "Witbier",
         "marker": {
          "color": "#ab63fa",
          "symbol": "circle"
         },
         "mode": "markers",
         "name": "Witbier",
         "orientation": "v",
         "showlegend": true,
         "type": "scatter",
         "x": [
          6.005822658538818
         ],
         "xaxis": "x",
         "y": [
          8.40861988067627
         ],
         "yaxis": "y"
        }
       ],
       "layout": {
        "height": 600,
        "legend": {
         "title": {
          "text": "color"
         },
         "tracegroupgap": 0
        },
        "margin": {
         "t": 60
        },
        "template": {
         "data": {
          "bar": [
           {
            "error_x": {
             "color": "#2a3f5f"
            },
            "error_y": {
             "color": "#2a3f5f"
            },
            "marker": {
             "line": {
              "color": "#E5ECF6",
              "width": 0.5
             },
             "pattern": {
              "fillmode": "overlay",
              "size": 10,
              "solidity": 0.2
             }
            },
            "type": "bar"
           }
          ],
          "barpolar": [
           {
            "marker": {
             "line": {
              "color": "#E5ECF6",
              "width": 0.5
             },
             "pattern": {
              "fillmode": "overlay",
              "size": 10,
              "solidity": 0.2
             }
            },
            "type": "barpolar"
           }
          ],
          "carpet": [
           {
            "aaxis": {
             "endlinecolor": "#2a3f5f",
             "gridcolor": "white",
             "linecolor": "white",
             "minorgridcolor": "white",
             "startlinecolor": "#2a3f5f"
            },
            "baxis": {
             "endlinecolor": "#2a3f5f",
             "gridcolor": "white",
             "linecolor": "white",
             "minorgridcolor": "white",
             "startlinecolor": "#2a3f5f"
            },
            "type": "carpet"
           }
          ],
          "choropleth": [
           {
            "colorbar": {
             "outlinewidth": 0,
             "ticks": ""
            },
            "type": "choropleth"
           }
          ],
          "contour": [
           {
            "colorbar": {
             "outlinewidth": 0,
             "ticks": ""
            },
            "colorscale": [
             [
              0,
              "#0d0887"
             ],
             [
              0.1111111111111111,
              "#46039f"
             ],
             [
              0.2222222222222222,
              "#7201a8"
             ],
             [
              0.3333333333333333,
              "#9c179e"
             ],
             [
              0.4444444444444444,
              "#bd3786"
             ],
             [
              0.5555555555555556,
              "#d8576b"
             ],
             [
              0.6666666666666666,
              "#ed7953"
             ],
             [
              0.7777777777777778,
              "#fb9f3a"
             ],
             [
              0.8888888888888888,
              "#fdca26"
             ],
             [
              1,
              "#f0f921"
             ]
            ],
            "type": "contour"
           }
          ],
          "contourcarpet": [
           {
            "colorbar": {
             "outlinewidth": 0,
             "ticks": ""
            },
            "type": "contourcarpet"
           }
          ],
          "heatmap": [
           {
            "colorbar": {
             "outlinewidth": 0,
             "ticks": ""
            },
            "colorscale": [
             [
              0,
              "#0d0887"
             ],
             [
              0.1111111111111111,
              "#46039f"
             ],
             [
              0.2222222222222222,
              "#7201a8"
             ],
             [
              0.3333333333333333,
              "#9c179e"
             ],
             [
              0.4444444444444444,
              "#bd3786"
             ],
             [
              0.5555555555555556,
              "#d8576b"
             ],
             [
              0.6666666666666666,
              "#ed7953"
             ],
             [
              0.7777777777777778,
              "#fb9f3a"
             ],
             [
              0.8888888888888888,
              "#fdca26"
             ],
             [
              1,
              "#f0f921"
             ]
            ],
            "type": "heatmap"
           }
          ],
          "heatmapgl": [
           {
            "colorbar": {
             "outlinewidth": 0,
             "ticks": ""
            },
            "colorscale": [
             [
              0,
              "#0d0887"
             ],
             [
              0.1111111111111111,
              "#46039f"
             ],
             [
              0.2222222222222222,
              "#7201a8"
             ],
             [
              0.3333333333333333,
              "#9c179e"
             ],
             [
              0.4444444444444444,
              "#bd3786"
             ],
             [
              0.5555555555555556,
              "#d8576b"
             ],
             [
              0.6666666666666666,
              "#ed7953"
             ],
             [
              0.7777777777777778,
              "#fb9f3a"
             ],
             [
              0.8888888888888888,
              "#fdca26"
             ],
             [
              1,
              "#f0f921"
             ]
            ],
            "type": "heatmapgl"
           }
          ],
          "histogram": [
           {
            "marker": {
             "pattern": {
              "fillmode": "overlay",
              "size": 10,
              "solidity": 0.2
             }
            },
            "type": "histogram"
           }
          ],
          "histogram2d": [
           {
            "colorbar": {
             "outlinewidth": 0,
             "ticks": ""
            },
            "colorscale": [
             [
              0,
              "#0d0887"
             ],
             [
              0.1111111111111111,
              "#46039f"
             ],
             [
              0.2222222222222222,
              "#7201a8"
             ],
             [
              0.3333333333333333,
              "#9c179e"
             ],
             [
              0.4444444444444444,
              "#bd3786"
             ],
             [
              0.5555555555555556,
              "#d8576b"
             ],
             [
              0.6666666666666666,
              "#ed7953"
             ],
             [
              0.7777777777777778,
              "#fb9f3a"
             ],
             [
              0.8888888888888888,
              "#fdca26"
             ],
             [
              1,
              "#f0f921"
             ]
            ],
            "type": "histogram2d"
           }
          ],
          "histogram2dcontour": [
           {
            "colorbar": {
             "outlinewidth": 0,
             "ticks": ""
            },
            "colorscale": [
             [
              0,
              "#0d0887"
             ],
             [
              0.1111111111111111,
              "#46039f"
             ],
             [
              0.2222222222222222,
              "#7201a8"
             ],
             [
              0.3333333333333333,
              "#9c179e"
             ],
             [
              0.4444444444444444,
              "#bd3786"
             ],
             [
              0.5555555555555556,
              "#d8576b"
             ],
             [
              0.6666666666666666,
              "#ed7953"
             ],
             [
              0.7777777777777778,
              "#fb9f3a"
             ],
             [
              0.8888888888888888,
              "#fdca26"
             ],
             [
              1,
              "#f0f921"
             ]
            ],
            "type": "histogram2dcontour"
           }
          ],
          "mesh3d": [
           {
            "colorbar": {
             "outlinewidth": 0,
             "ticks": ""
            },
            "type": "mesh3d"
           }
          ],
          "parcoords": [
           {
            "line": {
             "colorbar": {
              "outlinewidth": 0,
              "ticks": ""
             }
            },
            "type": "parcoords"
           }
          ],
          "pie": [
           {
            "automargin": true,
            "type": "pie"
           }
          ],
          "scatter": [
           {
            "fillpattern": {
             "fillmode": "overlay",
             "size": 10,
             "solidity": 0.2
            },
            "type": "scatter"
           }
          ],
          "scatter3d": [
           {
            "line": {
             "colorbar": {
              "outlinewidth": 0,
              "ticks": ""
             }
            },
            "marker": {
             "colorbar": {
              "outlinewidth": 0,
              "ticks": ""
             }
            },
            "type": "scatter3d"
           }
          ],
          "scattercarpet": [
           {
            "marker": {
             "colorbar": {
              "outlinewidth": 0,
              "ticks": ""
             }
            },
            "type": "scattercarpet"
           }
          ],
          "scattergeo": [
           {
            "marker": {
             "colorbar": {
              "outlinewidth": 0,
              "ticks": ""
             }
            },
            "type": "scattergeo"
           }
          ],
          "scattergl": [
           {
            "marker": {
             "colorbar": {
              "outlinewidth": 0,
              "ticks": ""
             }
            },
            "type": "scattergl"
           }
          ],
          "scattermapbox": [
           {
            "marker": {
             "colorbar": {
              "outlinewidth": 0,
              "ticks": ""
             }
            },
            "type": "scattermapbox"
           }
          ],
          "scatterpolar": [
           {
            "marker": {
             "colorbar": {
              "outlinewidth": 0,
              "ticks": ""
             }
            },
            "type": "scatterpolar"
           }
          ],
          "scatterpolargl": [
           {
            "marker": {
             "colorbar": {
              "outlinewidth": 0,
              "ticks": ""
             }
            },
            "type": "scatterpolargl"
           }
          ],
          "scatterternary": [
           {
            "marker": {
             "colorbar": {
              "outlinewidth": 0,
              "ticks": ""
             }
            },
            "type": "scatterternary"
           }
          ],
          "surface": [
           {
            "colorbar": {
             "outlinewidth": 0,
             "ticks": ""
            },
            "colorscale": [
             [
              0,
              "#0d0887"
             ],
             [
              0.1111111111111111,
              "#46039f"
             ],
             [
              0.2222222222222222,
              "#7201a8"
             ],
             [
              0.3333333333333333,
              "#9c179e"
             ],
             [
              0.4444444444444444,
              "#bd3786"
             ],
             [
              0.5555555555555556,
              "#d8576b"
             ],
             [
              0.6666666666666666,
              "#ed7953"
             ],
             [
              0.7777777777777778,
              "#fb9f3a"
             ],
             [
              0.8888888888888888,
              "#fdca26"
             ],
             [
              1,
              "#f0f921"
             ]
            ],
            "type": "surface"
           }
          ],
          "table": [
           {
            "cells": {
             "fill": {
              "color": "#EBF0F8"
             },
             "line": {
              "color": "white"
             }
            },
            "header": {
             "fill": {
              "color": "#C8D4E3"
             },
             "line": {
              "color": "white"
             }
            },
            "type": "table"
           }
          ]
         },
         "layout": {
          "annotationdefaults": {
           "arrowcolor": "#2a3f5f",
           "arrowhead": 0,
           "arrowwidth": 1
          },
          "autotypenumbers": "strict",
          "coloraxis": {
           "colorbar": {
            "outlinewidth": 0,
            "ticks": ""
           }
          },
          "colorscale": {
           "diverging": [
            [
             0,
             "#8e0152"
            ],
            [
             0.1,
             "#c51b7d"
            ],
            [
             0.2,
             "#de77ae"
            ],
            [
             0.3,
             "#f1b6da"
            ],
            [
             0.4,
             "#fde0ef"
            ],
            [
             0.5,
             "#f7f7f7"
            ],
            [
             0.6,
             "#e6f5d0"
            ],
            [
             0.7,
             "#b8e186"
            ],
            [
             0.8,
             "#7fbc41"
            ],
            [
             0.9,
             "#4d9221"
            ],
            [
             1,
             "#276419"
            ]
           ],
           "sequential": [
            [
             0,
             "#0d0887"
            ],
            [
             0.1111111111111111,
             "#46039f"
            ],
            [
             0.2222222222222222,
             "#7201a8"
            ],
            [
             0.3333333333333333,
             "#9c179e"
            ],
            [
             0.4444444444444444,
             "#bd3786"
            ],
            [
             0.5555555555555556,
             "#d8576b"
            ],
            [
             0.6666666666666666,
             "#ed7953"
            ],
            [
             0.7777777777777778,
             "#fb9f3a"
            ],
            [
             0.8888888888888888,
             "#fdca26"
            ],
            [
             1,
             "#f0f921"
            ]
           ],
           "sequentialminus": [
            [
             0,
             "#0d0887"
            ],
            [
             0.1111111111111111,
             "#46039f"
            ],
            [
             0.2222222222222222,
             "#7201a8"
            ],
            [
             0.3333333333333333,
             "#9c179e"
            ],
            [
             0.4444444444444444,
             "#bd3786"
            ],
            [
             0.5555555555555556,
             "#d8576b"
            ],
            [
             0.6666666666666666,
             "#ed7953"
            ],
            [
             0.7777777777777778,
             "#fb9f3a"
            ],
            [
             0.8888888888888888,
             "#fdca26"
            ],
            [
             1,
             "#f0f921"
            ]
           ]
          },
          "colorway": [
           "#636efa",
           "#EF553B",
           "#00cc96",
           "#ab63fa",
           "#FFA15A",
           "#19d3f3",
           "#FF6692",
           "#B6E880",
           "#FF97FF",
           "#FECB52"
          ],
          "font": {
           "color": "#2a3f5f"
          },
          "geo": {
           "bgcolor": "white",
           "lakecolor": "white",
           "landcolor": "#E5ECF6",
           "showlakes": true,
           "showland": true,
           "subunitcolor": "white"
          },
          "hoverlabel": {
           "align": "left"
          },
          "hovermode": "closest",
          "mapbox": {
           "style": "light"
          },
          "paper_bgcolor": "white",
          "plot_bgcolor": "#E5ECF6",
          "polar": {
           "angularaxis": {
            "gridcolor": "white",
            "linecolor": "white",
            "ticks": ""
           },
           "bgcolor": "#E5ECF6",
           "radialaxis": {
            "gridcolor": "white",
            "linecolor": "white",
            "ticks": ""
           }
          },
          "scene": {
           "xaxis": {
            "backgroundcolor": "#E5ECF6",
            "gridcolor": "white",
            "gridwidth": 2,
            "linecolor": "white",
            "showbackground": true,
            "ticks": "",
            "zerolinecolor": "white"
           },
           "yaxis": {
            "backgroundcolor": "#E5ECF6",
            "gridcolor": "white",
            "gridwidth": 2,
            "linecolor": "white",
            "showbackground": true,
            "ticks": "",
            "zerolinecolor": "white"
           },
           "zaxis": {
            "backgroundcolor": "#E5ECF6",
            "gridcolor": "white",
            "gridwidth": 2,
            "linecolor": "white",
            "showbackground": true,
            "ticks": "",
            "zerolinecolor": "white"
           }
          },
          "shapedefaults": {
           "line": {
            "color": "#2a3f5f"
           }
          },
          "ternary": {
           "aaxis": {
            "gridcolor": "white",
            "linecolor": "white",
            "ticks": ""
           },
           "baxis": {
            "gridcolor": "white",
            "linecolor": "white",
            "ticks": ""
           },
           "bgcolor": "#E5ECF6",
           "caxis": {
            "gridcolor": "white",
            "linecolor": "white",
            "ticks": ""
           }
          },
          "title": {
           "x": 0.05
          },
          "xaxis": {
           "automargin": true,
           "gridcolor": "white",
           "linecolor": "white",
           "ticks": "",
           "title": {
            "standoff": 15
           },
           "zerolinecolor": "white",
           "zerolinewidth": 2
          },
          "yaxis": {
           "automargin": true,
           "gridcolor": "white",
           "linecolor": "white",
           "ticks": "",
           "title": {
            "standoff": 15
           },
           "zerolinecolor": "white",
           "zerolinewidth": 2
          }
         }
        },
        "title": {
         "text": "UMAP - Beer styles"
        },
        "width": 1000,
        "xaxis": {
         "anchor": "y",
         "domain": [
          0,
          1
         ],
         "title": {
          "text": "x"
         }
        },
        "yaxis": {
         "anchor": "x",
         "domain": [
          0,
          1
         ],
         "title": {
          "text": "y"
         }
        }
       }
      }
     },
     "metadata": {},
     "output_type": "display_data"
    }
   ],
   "source": [
    "reducer = umap.UMAP()\n",
    "\n",
    "embedding = reducer.fit_transform(X)\n",
    "\n",
    "fig = px.scatter(x=embedding[:, 0], y=embedding[:, 1], color=style_labels)\n",
    "fig.update_layout(\n",
    "    title='UMAP - Beer styles',\n",
    "    width=1000,\n",
    "    height=600,\n",
    ")\n",
    "fig.show()"
   ]
  },
  {
   "attachments": {},
   "cell_type": "markdown",
   "metadata": {},
   "source": [
    "Note that there are some groups that start to emerge a bit more distinctly but those results remain hardly exploitable. Some styles that are projected near to one another would not instinctively be considered similar from common-sense knowledge.\n",
    "\n",
    "Since it is hard to determine them visually, let us now use clustering to try to retrieve some clusters and reason about them.\n",
    "Note here that an arbitrary number of beer style groups have been selected (16)."
   ]
  },
  {
   "cell_type": "code",
   "execution_count": 29,
   "metadata": {},
   "outputs": [],
   "source": [
    "# Cluster the data in 16 groups\n",
    "Klabels = KMeans(n_clusters= 16, random_state=0).fit_predict(X)"
   ]
  },
  {
   "attachments": {},
   "cell_type": "markdown",
   "metadata": {},
   "source": [
    "This clustering can easily be vizualised thanks to PCA. "
   ]
  },
  {
   "cell_type": "code",
   "execution_count": 30,
   "metadata": {},
   "outputs": [
    {
     "data": {
      "application/vnd.plotly.v1+json": {
       "config": {
        "plotlyServerURL": "https://plot.ly"
       },
       "data": [
        {
         "hovertemplate": "x=%{x}<br>y=%{y}<br>color=%{marker.color}<extra></extra>",
         "legendgroup": "",
         "marker": {
          "color": [
           14,
           4,
           14,
           10,
           8,
           1,
           0,
           9,
           0,
           3,
           5,
           3,
           1,
           4,
           9,
           10,
           0,
           1,
           1,
           8,
           13,
           5,
           6,
           1,
           14,
           8,
           5,
           9,
           5,
           1,
           10,
           0,
           6,
           14,
           10,
           0,
           0,
           5,
           0,
           5,
           14,
           7,
           8,
           0,
           14,
           0,
           0,
           0,
           0,
           9,
           9,
           6,
           10,
           2,
           11,
           14,
           14,
           1,
           13,
           1,
           10,
           0,
           9,
           13,
           2,
           14,
           0,
           14,
           0,
           2,
           14,
           0,
           10,
           0,
           13,
           13,
           15,
           12,
           6,
           1,
           0,
           14,
           14,
           1,
           8,
           6,
           3,
           9,
           14,
           3,
           9,
           6,
           1,
           14,
           5,
           14,
           14,
           9,
           5,
           0,
           1,
           8,
           6,
           0
          ],
          "coloraxis": "coloraxis",
          "symbol": "circle"
         },
         "mode": "markers",
         "name": "",
         "orientation": "v",
         "showlegend": false,
         "type": "scatter",
         "x": [
          0.1266366033092438,
          7.177979834058073,
          -0.13155199890737607,
          2.40862445642097,
          -2.550992860036864,
          -1.701263090575699,
          1.310544743339465,
          -0.798174548196539,
          0.7299737630650233,
          -3.228967560442122,
          -1.5079511342670766,
          -4.147287373108788,
          -1.6471380694771889,
          7.746631972556616,
          -0.8537918741829037,
          1.662014140152377,
          0.7621963873753296,
          -1.6438086144073987,
          -1.1687064140145194,
          -2.386736668221967,
          -2.716945138194629,
          -2.146765200543,
          -0.03921954055111873,
          -1.3675532577251974,
          -0.26373248999072413,
          -2.1787533886561774,
          -1.6512092448200164,
          -1.4130915211559585,
          -1.2718259424757545,
          -1.1366249457320385,
          2.082808582857608,
          1.0878617106290642,
          -0.6944372854718593,
          -0.028295143288848985,
          1.470956016469444,
          0.7453117551197803,
          0.8575997164592455,
          -1.4490462634384451,
          0.7044880392072354,
          -1.3630854734626383,
          -0.3168048720036792,
          -3.5422366036360344,
          -2.875479064186139,
          1.0473817869639355,
          0.4825868577061789,
          0.6649758150644507,
          0.7123424936947749,
          1.297649337616883,
          1.2391331571048558,
          -0.9105013914783406,
          -0.5364818977517419,
          -0.4712209279222948,
          1.7728952251756906,
          5.110311833645926,
          5.230999509980499,
          0.09665685089458567,
          0.4447195816645011,
          -1.8184632664201412,
          -2.555511242584406,
          -1.3424819556578267,
          1.5057389833174697,
          1.086928284829748,
          -1.0447304887315039,
          -3.3878954341544367,
          5.8773713514883195,
          -0.27682130345547834,
          0.9148406043278942,
          0.041378575245598986,
          1.0921973157247074,
          5.571529162332205,
          -0.21507719030299696,
          0.8763115994605228,
          2.80260717989702,
          0.8155207792867848,
          -2.5346180433985577,
          -2.456108115829842,
          9.813649847600033,
          8.624182867874865,
          -0.1687286814016883,
          -1.8369676614561117,
          0.5919872409858183,
          0.44546922881282425,
          0.36525050337121584,
          -1.4635387518412148,
          -2.308276551948199,
          0.043981013233484474,
          -3.52575125364573,
          -0.9971652860620308,
          -0.17173093639089795,
          -3.571364298052244,
          -0.9921467819659735,
          -0.43743520393002633,
          -1.6543880129791075,
          -0.013840791770202452,
          -1.757397666964973,
          0.12960735422140365,
          0.036092560953200924,
          -0.6356250221184881,
          -1.792602789095392,
          1.1627227689603477,
          -2.171564266120091,
          -1.951549919798608,
          -0.13553752409243383,
          0.5863508460364607
         ],
         "xaxis": "x",
         "y": [
          -0.3863264600466344,
          0.8805321890831912,
          -0.24381782739171384,
          0.01879861710195242,
          1.803881847542937,
          -0.05967585079878765,
          -0.38796288800574597,
          -0.2646560348269693,
          -0.022537837703311834,
          0.5590190960053856,
          0.26051662518663715,
          1.2084953945954897,
          -0.3854364570912545,
          2.7791873523993664,
          -0.7509169268580136,
          -0.21969060465473012,
          -0.4499754823764517,
          -0.24469890363907454,
          -0.2544363678083605,
          1.1064673288376283,
          -0.6046455020010738,
          0.46089935549886296,
          0.03319661134854712,
          0.0795500146855896,
          -0.38316002614154643,
          1.0301073729143337,
          0.8279525055938827,
          -1.5468057310315793,
          0.8698722948850851,
          0.08346973779628718,
          0.4028669300447957,
          0.37705018666461493,
          1.3686724684086293,
          -0.6131218674812522,
          0.16055808151927475,
          -0.3821631802959483,
          -0.5805013905690982,
          0.6518291109013788,
          -0.4571570443978201,
          0.24235646115509674,
          -0.5751442516920827,
          3.322158419823778,
          1.713095721873015,
          -0.9241798649563208,
          -0.49862344856044105,
          -1.1133299028014265,
          -0.037009748585116145,
          -0.6172982408693779,
          -0.9087113537583643,
          -0.5760760415817496,
          -0.6862827536316556,
          0.39522492388101443,
          -0.2696176881696837,
          0.33021038869837893,
          2.019477454466061,
          -0.494499725473012,
          -0.6708995770156111,
          -0.07630995525646583,
          -0.4679920128061678,
          -0.01189458845798237,
          -0.16954691925030047,
          -0.5105033736465513,
          -1.1990875498912936,
          -0.9662990703015438,
          0.7110643025448147,
          -0.7498059770283955,
          0.032812111033229556,
          -0.8279664772412982,
          -0.25247904499556595,
          0.6858898563001357,
          -0.7791797230657074,
          -0.5195025858965558,
          -1.7153269982908608,
          -0.591205299861796,
          -0.8467721514834187,
          -0.8810131666255687,
          1.0226557948032498,
          -0.8778128168932373,
          0.1886437628194263,
          -0.4398333221391362,
          -0.545216133692379,
          -0.6696416875888151,
          -0.3210552153740407,
          -0.45535337677018295,
          0.794844636078858,
          0.18266922212522044,
          1.5424992494285126,
          -0.5185232838749791,
          -0.4930310424584903,
          1.2860342012454464,
          -0.2500602391572146,
          0.35590113922940897,
          -0.49360383931323804,
          -0.6074161978126428,
          0.6401028844739884,
          -0.2767005624507868,
          -0.12526477355056512,
          -0.2898774258032695,
          0.9671968150735697,
          -0.4437059335811573,
          0.11231066011696418,
          1.611539227302031,
          0.34526829658063996,
          -0.4835389252928937
         ],
         "yaxis": "y"
        }
       ],
       "layout": {
        "coloraxis": {
         "colorbar": {
          "title": {
           "text": "color"
          }
         },
         "colorscale": [
          [
           0,
           "#0d0887"
          ],
          [
           0.1111111111111111,
           "#46039f"
          ],
          [
           0.2222222222222222,
           "#7201a8"
          ],
          [
           0.3333333333333333,
           "#9c179e"
          ],
          [
           0.4444444444444444,
           "#bd3786"
          ],
          [
           0.5555555555555556,
           "#d8576b"
          ],
          [
           0.6666666666666666,
           "#ed7953"
          ],
          [
           0.7777777777777778,
           "#fb9f3a"
          ],
          [
           0.8888888888888888,
           "#fdca26"
          ],
          [
           1,
           "#f0f921"
          ]
         ]
        },
        "height": 600,
        "legend": {
         "tracegroupgap": 0
        },
        "margin": {
         "t": 60
        },
        "template": {
         "data": {
          "bar": [
           {
            "error_x": {
             "color": "#2a3f5f"
            },
            "error_y": {
             "color": "#2a3f5f"
            },
            "marker": {
             "line": {
              "color": "#E5ECF6",
              "width": 0.5
             },
             "pattern": {
              "fillmode": "overlay",
              "size": 10,
              "solidity": 0.2
             }
            },
            "type": "bar"
           }
          ],
          "barpolar": [
           {
            "marker": {
             "line": {
              "color": "#E5ECF6",
              "width": 0.5
             },
             "pattern": {
              "fillmode": "overlay",
              "size": 10,
              "solidity": 0.2
             }
            },
            "type": "barpolar"
           }
          ],
          "carpet": [
           {
            "aaxis": {
             "endlinecolor": "#2a3f5f",
             "gridcolor": "white",
             "linecolor": "white",
             "minorgridcolor": "white",
             "startlinecolor": "#2a3f5f"
            },
            "baxis": {
             "endlinecolor": "#2a3f5f",
             "gridcolor": "white",
             "linecolor": "white",
             "minorgridcolor": "white",
             "startlinecolor": "#2a3f5f"
            },
            "type": "carpet"
           }
          ],
          "choropleth": [
           {
            "colorbar": {
             "outlinewidth": 0,
             "ticks": ""
            },
            "type": "choropleth"
           }
          ],
          "contour": [
           {
            "colorbar": {
             "outlinewidth": 0,
             "ticks": ""
            },
            "colorscale": [
             [
              0,
              "#0d0887"
             ],
             [
              0.1111111111111111,
              "#46039f"
             ],
             [
              0.2222222222222222,
              "#7201a8"
             ],
             [
              0.3333333333333333,
              "#9c179e"
             ],
             [
              0.4444444444444444,
              "#bd3786"
             ],
             [
              0.5555555555555556,
              "#d8576b"
             ],
             [
              0.6666666666666666,
              "#ed7953"
             ],
             [
              0.7777777777777778,
              "#fb9f3a"
             ],
             [
              0.8888888888888888,
              "#fdca26"
             ],
             [
              1,
              "#f0f921"
             ]
            ],
            "type": "contour"
           }
          ],
          "contourcarpet": [
           {
            "colorbar": {
             "outlinewidth": 0,
             "ticks": ""
            },
            "type": "contourcarpet"
           }
          ],
          "heatmap": [
           {
            "colorbar": {
             "outlinewidth": 0,
             "ticks": ""
            },
            "colorscale": [
             [
              0,
              "#0d0887"
             ],
             [
              0.1111111111111111,
              "#46039f"
             ],
             [
              0.2222222222222222,
              "#7201a8"
             ],
             [
              0.3333333333333333,
              "#9c179e"
             ],
             [
              0.4444444444444444,
              "#bd3786"
             ],
             [
              0.5555555555555556,
              "#d8576b"
             ],
             [
              0.6666666666666666,
              "#ed7953"
             ],
             [
              0.7777777777777778,
              "#fb9f3a"
             ],
             [
              0.8888888888888888,
              "#fdca26"
             ],
             [
              1,
              "#f0f921"
             ]
            ],
            "type": "heatmap"
           }
          ],
          "heatmapgl": [
           {
            "colorbar": {
             "outlinewidth": 0,
             "ticks": ""
            },
            "colorscale": [
             [
              0,
              "#0d0887"
             ],
             [
              0.1111111111111111,
              "#46039f"
             ],
             [
              0.2222222222222222,
              "#7201a8"
             ],
             [
              0.3333333333333333,
              "#9c179e"
             ],
             [
              0.4444444444444444,
              "#bd3786"
             ],
             [
              0.5555555555555556,
              "#d8576b"
             ],
             [
              0.6666666666666666,
              "#ed7953"
             ],
             [
              0.7777777777777778,
              "#fb9f3a"
             ],
             [
              0.8888888888888888,
              "#fdca26"
             ],
             [
              1,
              "#f0f921"
             ]
            ],
            "type": "heatmapgl"
           }
          ],
          "histogram": [
           {
            "marker": {
             "pattern": {
              "fillmode": "overlay",
              "size": 10,
              "solidity": 0.2
             }
            },
            "type": "histogram"
           }
          ],
          "histogram2d": [
           {
            "colorbar": {
             "outlinewidth": 0,
             "ticks": ""
            },
            "colorscale": [
             [
              0,
              "#0d0887"
             ],
             [
              0.1111111111111111,
              "#46039f"
             ],
             [
              0.2222222222222222,
              "#7201a8"
             ],
             [
              0.3333333333333333,
              "#9c179e"
             ],
             [
              0.4444444444444444,
              "#bd3786"
             ],
             [
              0.5555555555555556,
              "#d8576b"
             ],
             [
              0.6666666666666666,
              "#ed7953"
             ],
             [
              0.7777777777777778,
              "#fb9f3a"
             ],
             [
              0.8888888888888888,
              "#fdca26"
             ],
             [
              1,
              "#f0f921"
             ]
            ],
            "type": "histogram2d"
           }
          ],
          "histogram2dcontour": [
           {
            "colorbar": {
             "outlinewidth": 0,
             "ticks": ""
            },
            "colorscale": [
             [
              0,
              "#0d0887"
             ],
             [
              0.1111111111111111,
              "#46039f"
             ],
             [
              0.2222222222222222,
              "#7201a8"
             ],
             [
              0.3333333333333333,
              "#9c179e"
             ],
             [
              0.4444444444444444,
              "#bd3786"
             ],
             [
              0.5555555555555556,
              "#d8576b"
             ],
             [
              0.6666666666666666,
              "#ed7953"
             ],
             [
              0.7777777777777778,
              "#fb9f3a"
             ],
             [
              0.8888888888888888,
              "#fdca26"
             ],
             [
              1,
              "#f0f921"
             ]
            ],
            "type": "histogram2dcontour"
           }
          ],
          "mesh3d": [
           {
            "colorbar": {
             "outlinewidth": 0,
             "ticks": ""
            },
            "type": "mesh3d"
           }
          ],
          "parcoords": [
           {
            "line": {
             "colorbar": {
              "outlinewidth": 0,
              "ticks": ""
             }
            },
            "type": "parcoords"
           }
          ],
          "pie": [
           {
            "automargin": true,
            "type": "pie"
           }
          ],
          "scatter": [
           {
            "fillpattern": {
             "fillmode": "overlay",
             "size": 10,
             "solidity": 0.2
            },
            "type": "scatter"
           }
          ],
          "scatter3d": [
           {
            "line": {
             "colorbar": {
              "outlinewidth": 0,
              "ticks": ""
             }
            },
            "marker": {
             "colorbar": {
              "outlinewidth": 0,
              "ticks": ""
             }
            },
            "type": "scatter3d"
           }
          ],
          "scattercarpet": [
           {
            "marker": {
             "colorbar": {
              "outlinewidth": 0,
              "ticks": ""
             }
            },
            "type": "scattercarpet"
           }
          ],
          "scattergeo": [
           {
            "marker": {
             "colorbar": {
              "outlinewidth": 0,
              "ticks": ""
             }
            },
            "type": "scattergeo"
           }
          ],
          "scattergl": [
           {
            "marker": {
             "colorbar": {
              "outlinewidth": 0,
              "ticks": ""
             }
            },
            "type": "scattergl"
           }
          ],
          "scattermapbox": [
           {
            "marker": {
             "colorbar": {
              "outlinewidth": 0,
              "ticks": ""
             }
            },
            "type": "scattermapbox"
           }
          ],
          "scatterpolar": [
           {
            "marker": {
             "colorbar": {
              "outlinewidth": 0,
              "ticks": ""
             }
            },
            "type": "scatterpolar"
           }
          ],
          "scatterpolargl": [
           {
            "marker": {
             "colorbar": {
              "outlinewidth": 0,
              "ticks": ""
             }
            },
            "type": "scatterpolargl"
           }
          ],
          "scatterternary": [
           {
            "marker": {
             "colorbar": {
              "outlinewidth": 0,
              "ticks": ""
             }
            },
            "type": "scatterternary"
           }
          ],
          "surface": [
           {
            "colorbar": {
             "outlinewidth": 0,
             "ticks": ""
            },
            "colorscale": [
             [
              0,
              "#0d0887"
             ],
             [
              0.1111111111111111,
              "#46039f"
             ],
             [
              0.2222222222222222,
              "#7201a8"
             ],
             [
              0.3333333333333333,
              "#9c179e"
             ],
             [
              0.4444444444444444,
              "#bd3786"
             ],
             [
              0.5555555555555556,
              "#d8576b"
             ],
             [
              0.6666666666666666,
              "#ed7953"
             ],
             [
              0.7777777777777778,
              "#fb9f3a"
             ],
             [
              0.8888888888888888,
              "#fdca26"
             ],
             [
              1,
              "#f0f921"
             ]
            ],
            "type": "surface"
           }
          ],
          "table": [
           {
            "cells": {
             "fill": {
              "color": "#EBF0F8"
             },
             "line": {
              "color": "white"
             }
            },
            "header": {
             "fill": {
              "color": "#C8D4E3"
             },
             "line": {
              "color": "white"
             }
            },
            "type": "table"
           }
          ]
         },
         "layout": {
          "annotationdefaults": {
           "arrowcolor": "#2a3f5f",
           "arrowhead": 0,
           "arrowwidth": 1
          },
          "autotypenumbers": "strict",
          "coloraxis": {
           "colorbar": {
            "outlinewidth": 0,
            "ticks": ""
           }
          },
          "colorscale": {
           "diverging": [
            [
             0,
             "#8e0152"
            ],
            [
             0.1,
             "#c51b7d"
            ],
            [
             0.2,
             "#de77ae"
            ],
            [
             0.3,
             "#f1b6da"
            ],
            [
             0.4,
             "#fde0ef"
            ],
            [
             0.5,
             "#f7f7f7"
            ],
            [
             0.6,
             "#e6f5d0"
            ],
            [
             0.7,
             "#b8e186"
            ],
            [
             0.8,
             "#7fbc41"
            ],
            [
             0.9,
             "#4d9221"
            ],
            [
             1,
             "#276419"
            ]
           ],
           "sequential": [
            [
             0,
             "#0d0887"
            ],
            [
             0.1111111111111111,
             "#46039f"
            ],
            [
             0.2222222222222222,
             "#7201a8"
            ],
            [
             0.3333333333333333,
             "#9c179e"
            ],
            [
             0.4444444444444444,
             "#bd3786"
            ],
            [
             0.5555555555555556,
             "#d8576b"
            ],
            [
             0.6666666666666666,
             "#ed7953"
            ],
            [
             0.7777777777777778,
             "#fb9f3a"
            ],
            [
             0.8888888888888888,
             "#fdca26"
            ],
            [
             1,
             "#f0f921"
            ]
           ],
           "sequentialminus": [
            [
             0,
             "#0d0887"
            ],
            [
             0.1111111111111111,
             "#46039f"
            ],
            [
             0.2222222222222222,
             "#7201a8"
            ],
            [
             0.3333333333333333,
             "#9c179e"
            ],
            [
             0.4444444444444444,
             "#bd3786"
            ],
            [
             0.5555555555555556,
             "#d8576b"
            ],
            [
             0.6666666666666666,
             "#ed7953"
            ],
            [
             0.7777777777777778,
             "#fb9f3a"
            ],
            [
             0.8888888888888888,
             "#fdca26"
            ],
            [
             1,
             "#f0f921"
            ]
           ]
          },
          "colorway": [
           "#636efa",
           "#EF553B",
           "#00cc96",
           "#ab63fa",
           "#FFA15A",
           "#19d3f3",
           "#FF6692",
           "#B6E880",
           "#FF97FF",
           "#FECB52"
          ],
          "font": {
           "color": "#2a3f5f"
          },
          "geo": {
           "bgcolor": "white",
           "lakecolor": "white",
           "landcolor": "#E5ECF6",
           "showlakes": true,
           "showland": true,
           "subunitcolor": "white"
          },
          "hoverlabel": {
           "align": "left"
          },
          "hovermode": "closest",
          "mapbox": {
           "style": "light"
          },
          "paper_bgcolor": "white",
          "plot_bgcolor": "#E5ECF6",
          "polar": {
           "angularaxis": {
            "gridcolor": "white",
            "linecolor": "white",
            "ticks": ""
           },
           "bgcolor": "#E5ECF6",
           "radialaxis": {
            "gridcolor": "white",
            "linecolor": "white",
            "ticks": ""
           }
          },
          "scene": {
           "xaxis": {
            "backgroundcolor": "#E5ECF6",
            "gridcolor": "white",
            "gridwidth": 2,
            "linecolor": "white",
            "showbackground": true,
            "ticks": "",
            "zerolinecolor": "white"
           },
           "yaxis": {
            "backgroundcolor": "#E5ECF6",
            "gridcolor": "white",
            "gridwidth": 2,
            "linecolor": "white",
            "showbackground": true,
            "ticks": "",
            "zerolinecolor": "white"
           },
           "zaxis": {
            "backgroundcolor": "#E5ECF6",
            "gridcolor": "white",
            "gridwidth": 2,
            "linecolor": "white",
            "showbackground": true,
            "ticks": "",
            "zerolinecolor": "white"
           }
          },
          "shapedefaults": {
           "line": {
            "color": "#2a3f5f"
           }
          },
          "ternary": {
           "aaxis": {
            "gridcolor": "white",
            "linecolor": "white",
            "ticks": ""
           },
           "baxis": {
            "gridcolor": "white",
            "linecolor": "white",
            "ticks": ""
           },
           "bgcolor": "#E5ECF6",
           "caxis": {
            "gridcolor": "white",
            "linecolor": "white",
            "ticks": ""
           }
          },
          "title": {
           "x": 0.05
          },
          "xaxis": {
           "automargin": true,
           "gridcolor": "white",
           "linecolor": "white",
           "ticks": "",
           "title": {
            "standoff": 15
           },
           "zerolinecolor": "white",
           "zerolinewidth": 2
          },
          "yaxis": {
           "automargin": true,
           "gridcolor": "white",
           "linecolor": "white",
           "ticks": "",
           "title": {
            "standoff": 15
           },
           "zerolinecolor": "white",
           "zerolinewidth": 2
          }
         }
        },
        "title": {
         "text": "K-Means - Beer styles (PCA projections)"
        },
        "width": 1000,
        "xaxis": {
         "anchor": "y",
         "domain": [
          0,
          1
         ],
         "title": {
          "text": "x"
         }
        },
        "yaxis": {
         "anchor": "x",
         "domain": [
          0,
          1
         ],
         "title": {
          "text": "y"
         }
        }
       }
      }
     },
     "metadata": {},
     "output_type": "display_data"
    }
   ],
   "source": [
    "fig = px.scatter(x=X_reduced_pca[:,0], y=X_reduced_pca[:,1], color=Klabels)\n",
    "fig.update_layout(\n",
    "    title='K-Means - Beer styles (PCA projections)',\n",
    "    width=1000,\n",
    "    height=600,\n",
    ")\n",
    "fig.show()"
   ]
  },
  {
   "attachments": {},
   "cell_type": "markdown",
   "metadata": {},
   "source": [
    "Let us dive a bit more into the different clusters and examine which styles they are made of."
   ]
  },
  {
   "cell_type": "code",
   "execution_count": 31,
   "metadata": {},
   "outputs": [],
   "source": [
    "cluster_map = pd.DataFrame()\n",
    "cluster_map['data_index'] = style_features.index.values\n",
    "cluster_map['cluster'] = Klabels"
   ]
  },
  {
   "cell_type": "code",
   "execution_count": 32,
   "metadata": {},
   "outputs": [
    {
     "data": {
      "text/html": [
       "<div>\n",
       "<style scoped>\n",
       "    .dataframe tbody tr th:only-of-type {\n",
       "        vertical-align: middle;\n",
       "    }\n",
       "\n",
       "    .dataframe tbody tr th {\n",
       "        vertical-align: top;\n",
       "    }\n",
       "\n",
       "    .dataframe thead th {\n",
       "        text-align: right;\n",
       "    }\n",
       "</style>\n",
       "<table border=\"1\" class=\"dataframe\">\n",
       "  <thead>\n",
       "    <tr style=\"text-align: right;\">\n",
       "      <th></th>\n",
       "      <th>data_index</th>\n",
       "      <th>cluster</th>\n",
       "    </tr>\n",
       "  </thead>\n",
       "  <tbody>\n",
       "    <tr>\n",
       "      <th>0</th>\n",
       "      <td>Altbier</td>\n",
       "      <td>14</td>\n",
       "    </tr>\n",
       "    <tr>\n",
       "      <th>1</th>\n",
       "      <td>American Adjunct Lager</td>\n",
       "      <td>4</td>\n",
       "    </tr>\n",
       "    <tr>\n",
       "      <th>2</th>\n",
       "      <td>American Amber / Red Ale</td>\n",
       "      <td>14</td>\n",
       "    </tr>\n",
       "    <tr>\n",
       "      <th>3</th>\n",
       "      <td>American Amber / Red Lager</td>\n",
       "      <td>10</td>\n",
       "    </tr>\n",
       "    <tr>\n",
       "      <th>4</th>\n",
       "      <td>American Barleywine</td>\n",
       "      <td>8</td>\n",
       "    </tr>\n",
       "    <tr>\n",
       "      <th>...</th>\n",
       "      <td>...</td>\n",
       "      <td>...</td>\n",
       "    </tr>\n",
       "    <tr>\n",
       "      <th>99</th>\n",
       "      <td>Vienna Lager</td>\n",
       "      <td>0</td>\n",
       "    </tr>\n",
       "    <tr>\n",
       "      <th>100</th>\n",
       "      <td>Weizenbock</td>\n",
       "      <td>1</td>\n",
       "    </tr>\n",
       "    <tr>\n",
       "      <th>101</th>\n",
       "      <td>Wheatwine</td>\n",
       "      <td>8</td>\n",
       "    </tr>\n",
       "    <tr>\n",
       "      <th>102</th>\n",
       "      <td>Winter Warmer</td>\n",
       "      <td>6</td>\n",
       "    </tr>\n",
       "    <tr>\n",
       "      <th>103</th>\n",
       "      <td>Witbier</td>\n",
       "      <td>0</td>\n",
       "    </tr>\n",
       "  </tbody>\n",
       "</table>\n",
       "<p>104 rows × 2 columns</p>\n",
       "</div>"
      ],
      "text/plain": [
       "                     data_index  cluster\n",
       "0                       Altbier       14\n",
       "1        American Adjunct Lager        4\n",
       "2      American Amber / Red Ale       14\n",
       "3    American Amber / Red Lager       10\n",
       "4           American Barleywine        8\n",
       "..                          ...      ...\n",
       "99                 Vienna Lager        0\n",
       "100                  Weizenbock        1\n",
       "101                   Wheatwine        8\n",
       "102               Winter Warmer        6\n",
       "103                     Witbier        0\n",
       "\n",
       "[104 rows x 2 columns]"
      ]
     },
     "execution_count": 32,
     "metadata": {},
     "output_type": "execute_result"
    }
   ],
   "source": [
    "cluster_map"
   ]
  },
  {
   "cell_type": "code",
   "execution_count": 33,
   "metadata": {},
   "outputs": [
    {
     "data": {
      "text/html": [
       "<div>\n",
       "<style scoped>\n",
       "    .dataframe tbody tr th:only-of-type {\n",
       "        vertical-align: middle;\n",
       "    }\n",
       "\n",
       "    .dataframe tbody tr th {\n",
       "        vertical-align: top;\n",
       "    }\n",
       "\n",
       "    .dataframe thead th {\n",
       "        text-align: right;\n",
       "    }\n",
       "</style>\n",
       "<table border=\"1\" class=\"dataframe\">\n",
       "  <thead>\n",
       "    <tr style=\"text-align: right;\">\n",
       "      <th></th>\n",
       "      <th>data_index</th>\n",
       "      <th>cluster</th>\n",
       "    </tr>\n",
       "  </thead>\n",
       "  <tbody>\n",
       "    <tr>\n",
       "      <th>6</th>\n",
       "      <td>American Blonde Ale</td>\n",
       "      <td>0</td>\n",
       "    </tr>\n",
       "    <tr>\n",
       "      <th>8</th>\n",
       "      <td>American Dark Wheat Ale</td>\n",
       "      <td>0</td>\n",
       "    </tr>\n",
       "    <tr>\n",
       "      <th>16</th>\n",
       "      <td>American Pale Wheat Ale</td>\n",
       "      <td>0</td>\n",
       "    </tr>\n",
       "    <tr>\n",
       "      <th>31</th>\n",
       "      <td>Bock</td>\n",
       "      <td>0</td>\n",
       "    </tr>\n",
       "    <tr>\n",
       "      <th>35</th>\n",
       "      <td>Cream Ale</td>\n",
       "      <td>0</td>\n",
       "    </tr>\n",
       "    <tr>\n",
       "      <th>36</th>\n",
       "      <td>Czech Pilsener</td>\n",
       "      <td>0</td>\n",
       "    </tr>\n",
       "    <tr>\n",
       "      <th>38</th>\n",
       "      <td>Dortmunder / Export Lager</td>\n",
       "      <td>0</td>\n",
       "    </tr>\n",
       "    <tr>\n",
       "      <th>43</th>\n",
       "      <td>English Bitter</td>\n",
       "      <td>0</td>\n",
       "    </tr>\n",
       "    <tr>\n",
       "      <th>45</th>\n",
       "      <td>English Dark Mild Ale</td>\n",
       "      <td>0</td>\n",
       "    </tr>\n",
       "    <tr>\n",
       "      <th>46</th>\n",
       "      <td>English India Pale Ale (IPA)</td>\n",
       "      <td>0</td>\n",
       "    </tr>\n",
       "    <tr>\n",
       "      <th>47</th>\n",
       "      <td>English Pale Ale</td>\n",
       "      <td>0</td>\n",
       "    </tr>\n",
       "    <tr>\n",
       "      <th>48</th>\n",
       "      <td>English Pale Mild Ale</td>\n",
       "      <td>0</td>\n",
       "    </tr>\n",
       "    <tr>\n",
       "      <th>61</th>\n",
       "      <td>German Pilsener</td>\n",
       "      <td>0</td>\n",
       "    </tr>\n",
       "    <tr>\n",
       "      <th>66</th>\n",
       "      <td>Herbed / Spiced Beer</td>\n",
       "      <td>0</td>\n",
       "    </tr>\n",
       "    <tr>\n",
       "      <th>68</th>\n",
       "      <td>Irish Red Ale</td>\n",
       "      <td>0</td>\n",
       "    </tr>\n",
       "    <tr>\n",
       "      <th>71</th>\n",
       "      <td>Kristalweizen</td>\n",
       "      <td>0</td>\n",
       "    </tr>\n",
       "    <tr>\n",
       "      <th>73</th>\n",
       "      <td>Kölsch</td>\n",
       "      <td>0</td>\n",
       "    </tr>\n",
       "    <tr>\n",
       "      <th>80</th>\n",
       "      <td>Munich Dunkel Lager</td>\n",
       "      <td>0</td>\n",
       "    </tr>\n",
       "    <tr>\n",
       "      <th>99</th>\n",
       "      <td>Vienna Lager</td>\n",
       "      <td>0</td>\n",
       "    </tr>\n",
       "    <tr>\n",
       "      <th>103</th>\n",
       "      <td>Witbier</td>\n",
       "      <td>0</td>\n",
       "    </tr>\n",
       "  </tbody>\n",
       "</table>\n",
       "</div>"
      ],
      "text/plain": [
       "                       data_index  cluster\n",
       "6             American Blonde Ale        0\n",
       "8         American Dark Wheat Ale        0\n",
       "16        American Pale Wheat Ale        0\n",
       "31                           Bock        0\n",
       "35                      Cream Ale        0\n",
       "36                 Czech Pilsener        0\n",
       "38      Dortmunder / Export Lager        0\n",
       "43                 English Bitter        0\n",
       "45          English Dark Mild Ale        0\n",
       "46   English India Pale Ale (IPA)        0\n",
       "47               English Pale Ale        0\n",
       "48          English Pale Mild Ale        0\n",
       "61                German Pilsener        0\n",
       "66           Herbed / Spiced Beer        0\n",
       "68                  Irish Red Ale        0\n",
       "71                  Kristalweizen        0\n",
       "73                         Kölsch        0\n",
       "80            Munich Dunkel Lager        0\n",
       "99                   Vienna Lager        0\n",
       "103                       Witbier        0"
      ]
     },
     "metadata": {},
     "output_type": "display_data"
    },
    {
     "data": {
      "text/html": [
       "<div>\n",
       "<style scoped>\n",
       "    .dataframe tbody tr th:only-of-type {\n",
       "        vertical-align: middle;\n",
       "    }\n",
       "\n",
       "    .dataframe tbody tr th {\n",
       "        vertical-align: top;\n",
       "    }\n",
       "\n",
       "    .dataframe thead th {\n",
       "        text-align: right;\n",
       "    }\n",
       "</style>\n",
       "<table border=\"1\" class=\"dataframe\">\n",
       "  <thead>\n",
       "    <tr style=\"text-align: right;\">\n",
       "      <th></th>\n",
       "      <th>data_index</th>\n",
       "      <th>cluster</th>\n",
       "    </tr>\n",
       "  </thead>\n",
       "  <tbody>\n",
       "    <tr>\n",
       "      <th>5</th>\n",
       "      <td>American Black Ale</td>\n",
       "      <td>1</td>\n",
       "    </tr>\n",
       "    <tr>\n",
       "      <th>12</th>\n",
       "      <td>American IPA</td>\n",
       "      <td>1</td>\n",
       "    </tr>\n",
       "    <tr>\n",
       "      <th>17</th>\n",
       "      <td>American Porter</td>\n",
       "      <td>1</td>\n",
       "    </tr>\n",
       "    <tr>\n",
       "      <th>18</th>\n",
       "      <td>American Stout</td>\n",
       "      <td>1</td>\n",
       "    </tr>\n",
       "    <tr>\n",
       "      <th>23</th>\n",
       "      <td>Belgian IPA</td>\n",
       "      <td>1</td>\n",
       "    </tr>\n",
       "    <tr>\n",
       "      <th>29</th>\n",
       "      <td>Bière de Garde</td>\n",
       "      <td>1</td>\n",
       "    </tr>\n",
       "    <tr>\n",
       "      <th>57</th>\n",
       "      <td>Flanders Oud Bruin</td>\n",
       "      <td>1</td>\n",
       "    </tr>\n",
       "    <tr>\n",
       "      <th>59</th>\n",
       "      <td>Foreign / Export Stout</td>\n",
       "      <td>1</td>\n",
       "    </tr>\n",
       "    <tr>\n",
       "      <th>79</th>\n",
       "      <td>Milk / Sweet Stout</td>\n",
       "      <td>1</td>\n",
       "    </tr>\n",
       "    <tr>\n",
       "      <th>83</th>\n",
       "      <td>Oatmeal Stout</td>\n",
       "      <td>1</td>\n",
       "    </tr>\n",
       "    <tr>\n",
       "      <th>92</th>\n",
       "      <td>Saison / Farmhouse Ale</td>\n",
       "      <td>1</td>\n",
       "    </tr>\n",
       "    <tr>\n",
       "      <th>100</th>\n",
       "      <td>Weizenbock</td>\n",
       "      <td>1</td>\n",
       "    </tr>\n",
       "  </tbody>\n",
       "</table>\n",
       "</div>"
      ],
      "text/plain": [
       "                 data_index  cluster\n",
       "5        American Black Ale        1\n",
       "12             American IPA        1\n",
       "17          American Porter        1\n",
       "18           American Stout        1\n",
       "23              Belgian IPA        1\n",
       "29           Bière de Garde        1\n",
       "57       Flanders Oud Bruin        1\n",
       "59   Foreign / Export Stout        1\n",
       "79       Milk / Sweet Stout        1\n",
       "83            Oatmeal Stout        1\n",
       "92   Saison / Farmhouse Ale        1\n",
       "100              Weizenbock        1"
      ]
     },
     "metadata": {},
     "output_type": "display_data"
    },
    {
     "data": {
      "text/html": [
       "<div>\n",
       "<style scoped>\n",
       "    .dataframe tbody tr th:only-of-type {\n",
       "        vertical-align: middle;\n",
       "    }\n",
       "\n",
       "    .dataframe tbody tr th {\n",
       "        vertical-align: top;\n",
       "    }\n",
       "\n",
       "    .dataframe thead th {\n",
       "        text-align: right;\n",
       "    }\n",
       "</style>\n",
       "<table border=\"1\" class=\"dataframe\">\n",
       "  <thead>\n",
       "    <tr style=\"text-align: right;\">\n",
       "      <th></th>\n",
       "      <th>data_index</th>\n",
       "      <th>cluster</th>\n",
       "    </tr>\n",
       "  </thead>\n",
       "  <tbody>\n",
       "    <tr>\n",
       "      <th>53</th>\n",
       "      <td>Euro Pale Lager</td>\n",
       "      <td>2</td>\n",
       "    </tr>\n",
       "    <tr>\n",
       "      <th>64</th>\n",
       "      <td>Happoshu</td>\n",
       "      <td>2</td>\n",
       "    </tr>\n",
       "    <tr>\n",
       "      <th>69</th>\n",
       "      <td>Japanese Rice Lager</td>\n",
       "      <td>2</td>\n",
       "    </tr>\n",
       "  </tbody>\n",
       "</table>\n",
       "</div>"
      ],
      "text/plain": [
       "             data_index  cluster\n",
       "53      Euro Pale Lager        2\n",
       "64             Happoshu        2\n",
       "69  Japanese Rice Lager        2"
      ]
     },
     "metadata": {},
     "output_type": "display_data"
    },
    {
     "data": {
      "text/html": [
       "<div>\n",
       "<style scoped>\n",
       "    .dataframe tbody tr th:only-of-type {\n",
       "        vertical-align: middle;\n",
       "    }\n",
       "\n",
       "    .dataframe tbody tr th {\n",
       "        vertical-align: top;\n",
       "    }\n",
       "\n",
       "    .dataframe thead th {\n",
       "        text-align: right;\n",
       "    }\n",
       "</style>\n",
       "<table border=\"1\" class=\"dataframe\">\n",
       "  <thead>\n",
       "    <tr style=\"text-align: right;\">\n",
       "      <th></th>\n",
       "      <th>data_index</th>\n",
       "      <th>cluster</th>\n",
       "    </tr>\n",
       "  </thead>\n",
       "  <tbody>\n",
       "    <tr>\n",
       "      <th>9</th>\n",
       "      <td>American Double / Imperial IPA</td>\n",
       "      <td>3</td>\n",
       "    </tr>\n",
       "    <tr>\n",
       "      <th>11</th>\n",
       "      <td>American Double / Imperial Stout</td>\n",
       "      <td>3</td>\n",
       "    </tr>\n",
       "    <tr>\n",
       "      <th>86</th>\n",
       "      <td>Quadrupel (Quad)</td>\n",
       "      <td>3</td>\n",
       "    </tr>\n",
       "    <tr>\n",
       "      <th>89</th>\n",
       "      <td>Russian Imperial Stout</td>\n",
       "      <td>3</td>\n",
       "    </tr>\n",
       "  </tbody>\n",
       "</table>\n",
       "</div>"
      ],
      "text/plain": [
       "                          data_index  cluster\n",
       "9     American Double / Imperial IPA        3\n",
       "11  American Double / Imperial Stout        3\n",
       "86                  Quadrupel (Quad)        3\n",
       "89            Russian Imperial Stout        3"
      ]
     },
     "metadata": {},
     "output_type": "display_data"
    },
    {
     "data": {
      "text/html": [
       "<div>\n",
       "<style scoped>\n",
       "    .dataframe tbody tr th:only-of-type {\n",
       "        vertical-align: middle;\n",
       "    }\n",
       "\n",
       "    .dataframe tbody tr th {\n",
       "        vertical-align: top;\n",
       "    }\n",
       "\n",
       "    .dataframe thead th {\n",
       "        text-align: right;\n",
       "    }\n",
       "</style>\n",
       "<table border=\"1\" class=\"dataframe\">\n",
       "  <thead>\n",
       "    <tr style=\"text-align: right;\">\n",
       "      <th></th>\n",
       "      <th>data_index</th>\n",
       "      <th>cluster</th>\n",
       "    </tr>\n",
       "  </thead>\n",
       "  <tbody>\n",
       "    <tr>\n",
       "      <th>1</th>\n",
       "      <td>American Adjunct Lager</td>\n",
       "      <td>4</td>\n",
       "    </tr>\n",
       "    <tr>\n",
       "      <th>13</th>\n",
       "      <td>American Malt Liquor</td>\n",
       "      <td>4</td>\n",
       "    </tr>\n",
       "  </tbody>\n",
       "</table>\n",
       "</div>"
      ],
      "text/plain": [
       "                data_index  cluster\n",
       "1   American Adjunct Lager        4\n",
       "13    American Malt Liquor        4"
      ]
     },
     "metadata": {},
     "output_type": "display_data"
    },
    {
     "data": {
      "text/html": [
       "<div>\n",
       "<style scoped>\n",
       "    .dataframe tbody tr th:only-of-type {\n",
       "        vertical-align: middle;\n",
       "    }\n",
       "\n",
       "    .dataframe tbody tr th {\n",
       "        vertical-align: top;\n",
       "    }\n",
       "\n",
       "    .dataframe thead th {\n",
       "        text-align: right;\n",
       "    }\n",
       "</style>\n",
       "<table border=\"1\" class=\"dataframe\">\n",
       "  <thead>\n",
       "    <tr style=\"text-align: right;\">\n",
       "      <th></th>\n",
       "      <th>data_index</th>\n",
       "      <th>cluster</th>\n",
       "    </tr>\n",
       "  </thead>\n",
       "  <tbody>\n",
       "    <tr>\n",
       "      <th>10</th>\n",
       "      <td>American Double / Imperial Pilsner</td>\n",
       "      <td>5</td>\n",
       "    </tr>\n",
       "    <tr>\n",
       "      <th>21</th>\n",
       "      <td>Baltic Porter</td>\n",
       "      <td>5</td>\n",
       "    </tr>\n",
       "    <tr>\n",
       "      <th>26</th>\n",
       "      <td>Belgian Strong Pale Ale</td>\n",
       "      <td>5</td>\n",
       "    </tr>\n",
       "    <tr>\n",
       "      <th>28</th>\n",
       "      <td>Bière de Champagne / Bière Brut</td>\n",
       "      <td>5</td>\n",
       "    </tr>\n",
       "    <tr>\n",
       "      <th>37</th>\n",
       "      <td>Doppelbock</td>\n",
       "      <td>5</td>\n",
       "    </tr>\n",
       "    <tr>\n",
       "      <th>39</th>\n",
       "      <td>Dubbel</td>\n",
       "      <td>5</td>\n",
       "    </tr>\n",
       "    <tr>\n",
       "      <th>94</th>\n",
       "      <td>Scotch Ale / Wee Heavy</td>\n",
       "      <td>5</td>\n",
       "    </tr>\n",
       "    <tr>\n",
       "      <th>98</th>\n",
       "      <td>Tripel</td>\n",
       "      <td>5</td>\n",
       "    </tr>\n",
       "  </tbody>\n",
       "</table>\n",
       "</div>"
      ],
      "text/plain": [
       "                            data_index  cluster\n",
       "10  American Double / Imperial Pilsner        5\n",
       "21                       Baltic Porter        5\n",
       "26             Belgian Strong Pale Ale        5\n",
       "28     Bière de Champagne / Bière Brut        5\n",
       "37                          Doppelbock        5\n",
       "39                              Dubbel        5\n",
       "94              Scotch Ale / Wee Heavy        5\n",
       "98                              Tripel        5"
      ]
     },
     "metadata": {},
     "output_type": "display_data"
    },
    {
     "data": {
      "text/html": [
       "<div>\n",
       "<style scoped>\n",
       "    .dataframe tbody tr th:only-of-type {\n",
       "        vertical-align: middle;\n",
       "    }\n",
       "\n",
       "    .dataframe tbody tr th {\n",
       "        vertical-align: top;\n",
       "    }\n",
       "\n",
       "    .dataframe thead th {\n",
       "        text-align: right;\n",
       "    }\n",
       "</style>\n",
       "<table border=\"1\" class=\"dataframe\">\n",
       "  <thead>\n",
       "    <tr style=\"text-align: right;\">\n",
       "      <th></th>\n",
       "      <th>data_index</th>\n",
       "      <th>cluster</th>\n",
       "    </tr>\n",
       "  </thead>\n",
       "  <tbody>\n",
       "    <tr>\n",
       "      <th>22</th>\n",
       "      <td>Belgian Dark Ale</td>\n",
       "      <td>6</td>\n",
       "    </tr>\n",
       "    <tr>\n",
       "      <th>32</th>\n",
       "      <td>Braggot</td>\n",
       "      <td>6</td>\n",
       "    </tr>\n",
       "    <tr>\n",
       "      <th>51</th>\n",
       "      <td>English Strong Ale</td>\n",
       "      <td>6</td>\n",
       "    </tr>\n",
       "    <tr>\n",
       "      <th>78</th>\n",
       "      <td>Maibock / Helles Bock</td>\n",
       "      <td>6</td>\n",
       "    </tr>\n",
       "    <tr>\n",
       "      <th>85</th>\n",
       "      <td>Pumpkin Ale</td>\n",
       "      <td>6</td>\n",
       "    </tr>\n",
       "    <tr>\n",
       "      <th>91</th>\n",
       "      <td>Sahti</td>\n",
       "      <td>6</td>\n",
       "    </tr>\n",
       "    <tr>\n",
       "      <th>102</th>\n",
       "      <td>Winter Warmer</td>\n",
       "      <td>6</td>\n",
       "    </tr>\n",
       "  </tbody>\n",
       "</table>\n",
       "</div>"
      ],
      "text/plain": [
       "                data_index  cluster\n",
       "22        Belgian Dark Ale        6\n",
       "32                 Braggot        6\n",
       "51      English Strong Ale        6\n",
       "78   Maibock / Helles Bock        6\n",
       "85             Pumpkin Ale        6\n",
       "91                   Sahti        6\n",
       "102          Winter Warmer        6"
      ]
     },
     "metadata": {},
     "output_type": "display_data"
    },
    {
     "data": {
      "text/html": [
       "<div>\n",
       "<style scoped>\n",
       "    .dataframe tbody tr th:only-of-type {\n",
       "        vertical-align: middle;\n",
       "    }\n",
       "\n",
       "    .dataframe tbody tr th {\n",
       "        vertical-align: top;\n",
       "    }\n",
       "\n",
       "    .dataframe thead th {\n",
       "        text-align: right;\n",
       "    }\n",
       "</style>\n",
       "<table border=\"1\" class=\"dataframe\">\n",
       "  <thead>\n",
       "    <tr style=\"text-align: right;\">\n",
       "      <th></th>\n",
       "      <th>data_index</th>\n",
       "      <th>cluster</th>\n",
       "    </tr>\n",
       "  </thead>\n",
       "  <tbody>\n",
       "    <tr>\n",
       "      <th>41</th>\n",
       "      <td>Eisbock</td>\n",
       "      <td>7</td>\n",
       "    </tr>\n",
       "  </tbody>\n",
       "</table>\n",
       "</div>"
      ],
      "text/plain": [
       "   data_index  cluster\n",
       "41    Eisbock        7"
      ]
     },
     "metadata": {},
     "output_type": "display_data"
    },
    {
     "data": {
      "text/html": [
       "<div>\n",
       "<style scoped>\n",
       "    .dataframe tbody tr th:only-of-type {\n",
       "        vertical-align: middle;\n",
       "    }\n",
       "\n",
       "    .dataframe tbody tr th {\n",
       "        vertical-align: top;\n",
       "    }\n",
       "\n",
       "    .dataframe thead th {\n",
       "        text-align: right;\n",
       "    }\n",
       "</style>\n",
       "<table border=\"1\" class=\"dataframe\">\n",
       "  <thead>\n",
       "    <tr style=\"text-align: right;\">\n",
       "      <th></th>\n",
       "      <th>data_index</th>\n",
       "      <th>cluster</th>\n",
       "    </tr>\n",
       "  </thead>\n",
       "  <tbody>\n",
       "    <tr>\n",
       "      <th>4</th>\n",
       "      <td>American Barleywine</td>\n",
       "      <td>8</td>\n",
       "    </tr>\n",
       "    <tr>\n",
       "      <th>19</th>\n",
       "      <td>American Strong Ale</td>\n",
       "      <td>8</td>\n",
       "    </tr>\n",
       "    <tr>\n",
       "      <th>25</th>\n",
       "      <td>Belgian Strong Dark Ale</td>\n",
       "      <td>8</td>\n",
       "    </tr>\n",
       "    <tr>\n",
       "      <th>42</th>\n",
       "      <td>English Barleywine</td>\n",
       "      <td>8</td>\n",
       "    </tr>\n",
       "    <tr>\n",
       "      <th>84</th>\n",
       "      <td>Old Ale</td>\n",
       "      <td>8</td>\n",
       "    </tr>\n",
       "    <tr>\n",
       "      <th>101</th>\n",
       "      <td>Wheatwine</td>\n",
       "      <td>8</td>\n",
       "    </tr>\n",
       "  </tbody>\n",
       "</table>\n",
       "</div>"
      ],
      "text/plain": [
       "                  data_index  cluster\n",
       "4        American Barleywine        8\n",
       "19       American Strong Ale        8\n",
       "25   Belgian Strong Dark Ale        8\n",
       "42        English Barleywine        8\n",
       "84                   Old Ale        8\n",
       "101                Wheatwine        8"
      ]
     },
     "metadata": {},
     "output_type": "display_data"
    },
    {
     "data": {
      "text/html": [
       "<div>\n",
       "<style scoped>\n",
       "    .dataframe tbody tr th:only-of-type {\n",
       "        vertical-align: middle;\n",
       "    }\n",
       "\n",
       "    .dataframe tbody tr th {\n",
       "        vertical-align: top;\n",
       "    }\n",
       "\n",
       "    .dataframe thead th {\n",
       "        text-align: right;\n",
       "    }\n",
       "</style>\n",
       "<table border=\"1\" class=\"dataframe\">\n",
       "  <thead>\n",
       "    <tr style=\"text-align: right;\">\n",
       "      <th></th>\n",
       "      <th>data_index</th>\n",
       "      <th>cluster</th>\n",
       "    </tr>\n",
       "  </thead>\n",
       "  <tbody>\n",
       "    <tr>\n",
       "      <th>7</th>\n",
       "      <td>American Brown Ale</td>\n",
       "      <td>9</td>\n",
       "    </tr>\n",
       "    <tr>\n",
       "      <th>14</th>\n",
       "      <td>American Pale Ale (APA)</td>\n",
       "      <td>9</td>\n",
       "    </tr>\n",
       "    <tr>\n",
       "      <th>27</th>\n",
       "      <td>Berliner Weissbier</td>\n",
       "      <td>9</td>\n",
       "    </tr>\n",
       "    <tr>\n",
       "      <th>49</th>\n",
       "      <td>English Porter</td>\n",
       "      <td>9</td>\n",
       "    </tr>\n",
       "    <tr>\n",
       "      <th>50</th>\n",
       "      <td>English Stout</td>\n",
       "      <td>9</td>\n",
       "    </tr>\n",
       "    <tr>\n",
       "      <th>62</th>\n",
       "      <td>Gose</td>\n",
       "      <td>9</td>\n",
       "    </tr>\n",
       "    <tr>\n",
       "      <th>87</th>\n",
       "      <td>Rauchbier</td>\n",
       "      <td>9</td>\n",
       "    </tr>\n",
       "    <tr>\n",
       "      <th>90</th>\n",
       "      <td>Rye Beer</td>\n",
       "      <td>9</td>\n",
       "    </tr>\n",
       "    <tr>\n",
       "      <th>97</th>\n",
       "      <td>Smoked Beer</td>\n",
       "      <td>9</td>\n",
       "    </tr>\n",
       "  </tbody>\n",
       "</table>\n",
       "</div>"
      ],
      "text/plain": [
       "                 data_index  cluster\n",
       "7        American Brown Ale        9\n",
       "14  American Pale Ale (APA)        9\n",
       "27       Berliner Weissbier        9\n",
       "49           English Porter        9\n",
       "50            English Stout        9\n",
       "62                     Gose        9\n",
       "87                Rauchbier        9\n",
       "90                 Rye Beer        9\n",
       "97              Smoked Beer        9"
      ]
     },
     "metadata": {},
     "output_type": "display_data"
    },
    {
     "data": {
      "text/html": [
       "<div>\n",
       "<style scoped>\n",
       "    .dataframe tbody tr th:only-of-type {\n",
       "        vertical-align: middle;\n",
       "    }\n",
       "\n",
       "    .dataframe tbody tr th {\n",
       "        vertical-align: top;\n",
       "    }\n",
       "\n",
       "    .dataframe thead th {\n",
       "        text-align: right;\n",
       "    }\n",
       "</style>\n",
       "<table border=\"1\" class=\"dataframe\">\n",
       "  <thead>\n",
       "    <tr style=\"text-align: right;\">\n",
       "      <th></th>\n",
       "      <th>data_index</th>\n",
       "      <th>cluster</th>\n",
       "    </tr>\n",
       "  </thead>\n",
       "  <tbody>\n",
       "    <tr>\n",
       "      <th>3</th>\n",
       "      <td>American Amber / Red Lager</td>\n",
       "      <td>10</td>\n",
       "    </tr>\n",
       "    <tr>\n",
       "      <th>15</th>\n",
       "      <td>American Pale Lager</td>\n",
       "      <td>10</td>\n",
       "    </tr>\n",
       "    <tr>\n",
       "      <th>30</th>\n",
       "      <td>Black &amp; Tan</td>\n",
       "      <td>10</td>\n",
       "    </tr>\n",
       "    <tr>\n",
       "      <th>34</th>\n",
       "      <td>Chile Beer</td>\n",
       "      <td>10</td>\n",
       "    </tr>\n",
       "    <tr>\n",
       "      <th>52</th>\n",
       "      <td>Euro Dark Lager</td>\n",
       "      <td>10</td>\n",
       "    </tr>\n",
       "    <tr>\n",
       "      <th>60</th>\n",
       "      <td>Fruit / Vegetable Beer</td>\n",
       "      <td>10</td>\n",
       "    </tr>\n",
       "    <tr>\n",
       "      <th>72</th>\n",
       "      <td>Kvass</td>\n",
       "      <td>10</td>\n",
       "    </tr>\n",
       "  </tbody>\n",
       "</table>\n",
       "</div>"
      ],
      "text/plain": [
       "                    data_index  cluster\n",
       "3   American Amber / Red Lager       10\n",
       "15         American Pale Lager       10\n",
       "30                 Black & Tan       10\n",
       "34                  Chile Beer       10\n",
       "52             Euro Dark Lager       10\n",
       "60      Fruit / Vegetable Beer       10\n",
       "72                       Kvass       10"
      ]
     },
     "metadata": {},
     "output_type": "display_data"
    },
    {
     "data": {
      "text/html": [
       "<div>\n",
       "<style scoped>\n",
       "    .dataframe tbody tr th:only-of-type {\n",
       "        vertical-align: middle;\n",
       "    }\n",
       "\n",
       "    .dataframe tbody tr th {\n",
       "        vertical-align: top;\n",
       "    }\n",
       "\n",
       "    .dataframe thead th {\n",
       "        text-align: right;\n",
       "    }\n",
       "</style>\n",
       "<table border=\"1\" class=\"dataframe\">\n",
       "  <thead>\n",
       "    <tr style=\"text-align: right;\">\n",
       "      <th></th>\n",
       "      <th>data_index</th>\n",
       "      <th>cluster</th>\n",
       "    </tr>\n",
       "  </thead>\n",
       "  <tbody>\n",
       "    <tr>\n",
       "      <th>54</th>\n",
       "      <td>Euro Strong Lager</td>\n",
       "      <td>11</td>\n",
       "    </tr>\n",
       "  </tbody>\n",
       "</table>\n",
       "</div>"
      ],
      "text/plain": [
       "           data_index  cluster\n",
       "54  Euro Strong Lager       11"
      ]
     },
     "metadata": {},
     "output_type": "display_data"
    },
    {
     "data": {
      "text/html": [
       "<div>\n",
       "<style scoped>\n",
       "    .dataframe tbody tr th:only-of-type {\n",
       "        vertical-align: middle;\n",
       "    }\n",
       "\n",
       "    .dataframe tbody tr th {\n",
       "        vertical-align: top;\n",
       "    }\n",
       "\n",
       "    .dataframe thead th {\n",
       "        text-align: right;\n",
       "    }\n",
       "</style>\n",
       "<table border=\"1\" class=\"dataframe\">\n",
       "  <thead>\n",
       "    <tr style=\"text-align: right;\">\n",
       "      <th></th>\n",
       "      <th>data_index</th>\n",
       "      <th>cluster</th>\n",
       "    </tr>\n",
       "  </thead>\n",
       "  <tbody>\n",
       "    <tr>\n",
       "      <th>77</th>\n",
       "      <td>Low Alcohol Beer</td>\n",
       "      <td>12</td>\n",
       "    </tr>\n",
       "  </tbody>\n",
       "</table>\n",
       "</div>"
      ],
      "text/plain": [
       "          data_index  cluster\n",
       "77  Low Alcohol Beer       12"
      ]
     },
     "metadata": {},
     "output_type": "display_data"
    },
    {
     "data": {
      "text/html": [
       "<div>\n",
       "<style scoped>\n",
       "    .dataframe tbody tr th:only-of-type {\n",
       "        vertical-align: middle;\n",
       "    }\n",
       "\n",
       "    .dataframe tbody tr th {\n",
       "        vertical-align: top;\n",
       "    }\n",
       "\n",
       "    .dataframe thead th {\n",
       "        text-align: right;\n",
       "    }\n",
       "</style>\n",
       "<table border=\"1\" class=\"dataframe\">\n",
       "  <thead>\n",
       "    <tr style=\"text-align: right;\">\n",
       "      <th></th>\n",
       "      <th>data_index</th>\n",
       "      <th>cluster</th>\n",
       "    </tr>\n",
       "  </thead>\n",
       "  <tbody>\n",
       "    <tr>\n",
       "      <th>20</th>\n",
       "      <td>American Wild Ale</td>\n",
       "      <td>13</td>\n",
       "    </tr>\n",
       "    <tr>\n",
       "      <th>58</th>\n",
       "      <td>Flanders Red Ale</td>\n",
       "      <td>13</td>\n",
       "    </tr>\n",
       "    <tr>\n",
       "      <th>63</th>\n",
       "      <td>Gueuze</td>\n",
       "      <td>13</td>\n",
       "    </tr>\n",
       "    <tr>\n",
       "      <th>74</th>\n",
       "      <td>Lambic - Fruit</td>\n",
       "      <td>13</td>\n",
       "    </tr>\n",
       "    <tr>\n",
       "      <th>75</th>\n",
       "      <td>Lambic - Unblended</td>\n",
       "      <td>13</td>\n",
       "    </tr>\n",
       "  </tbody>\n",
       "</table>\n",
       "</div>"
      ],
      "text/plain": [
       "            data_index  cluster\n",
       "20   American Wild Ale       13\n",
       "58    Flanders Red Ale       13\n",
       "63              Gueuze       13\n",
       "74      Lambic - Fruit       13\n",
       "75  Lambic - Unblended       13"
      ]
     },
     "metadata": {},
     "output_type": "display_data"
    },
    {
     "data": {
      "text/html": [
       "<div>\n",
       "<style scoped>\n",
       "    .dataframe tbody tr th:only-of-type {\n",
       "        vertical-align: middle;\n",
       "    }\n",
       "\n",
       "    .dataframe tbody tr th {\n",
       "        vertical-align: top;\n",
       "    }\n",
       "\n",
       "    .dataframe thead th {\n",
       "        text-align: right;\n",
       "    }\n",
       "</style>\n",
       "<table border=\"1\" class=\"dataframe\">\n",
       "  <thead>\n",
       "    <tr style=\"text-align: right;\">\n",
       "      <th></th>\n",
       "      <th>data_index</th>\n",
       "      <th>cluster</th>\n",
       "    </tr>\n",
       "  </thead>\n",
       "  <tbody>\n",
       "    <tr>\n",
       "      <th>0</th>\n",
       "      <td>Altbier</td>\n",
       "      <td>14</td>\n",
       "    </tr>\n",
       "    <tr>\n",
       "      <th>2</th>\n",
       "      <td>American Amber / Red Ale</td>\n",
       "      <td>14</td>\n",
       "    </tr>\n",
       "    <tr>\n",
       "      <th>24</th>\n",
       "      <td>Belgian Pale Ale</td>\n",
       "      <td>14</td>\n",
       "    </tr>\n",
       "    <tr>\n",
       "      <th>33</th>\n",
       "      <td>California Common / Steam Beer</td>\n",
       "      <td>14</td>\n",
       "    </tr>\n",
       "    <tr>\n",
       "      <th>40</th>\n",
       "      <td>Dunkelweizen</td>\n",
       "      <td>14</td>\n",
       "    </tr>\n",
       "    <tr>\n",
       "      <th>44</th>\n",
       "      <td>English Brown Ale</td>\n",
       "      <td>14</td>\n",
       "    </tr>\n",
       "    <tr>\n",
       "      <th>55</th>\n",
       "      <td>Extra Special / Strong Bitter (ESB)</td>\n",
       "      <td>14</td>\n",
       "    </tr>\n",
       "    <tr>\n",
       "      <th>56</th>\n",
       "      <td>Faro</td>\n",
       "      <td>14</td>\n",
       "    </tr>\n",
       "    <tr>\n",
       "      <th>65</th>\n",
       "      <td>Hefeweizen</td>\n",
       "      <td>14</td>\n",
       "    </tr>\n",
       "    <tr>\n",
       "      <th>67</th>\n",
       "      <td>Irish Dry Stout</td>\n",
       "      <td>14</td>\n",
       "    </tr>\n",
       "    <tr>\n",
       "      <th>70</th>\n",
       "      <td>Kellerbier / Zwickelbier</td>\n",
       "      <td>14</td>\n",
       "    </tr>\n",
       "    <tr>\n",
       "      <th>81</th>\n",
       "      <td>Munich Helles Lager</td>\n",
       "      <td>14</td>\n",
       "    </tr>\n",
       "    <tr>\n",
       "      <th>82</th>\n",
       "      <td>Märzen / Oktoberfest</td>\n",
       "      <td>14</td>\n",
       "    </tr>\n",
       "    <tr>\n",
       "      <th>88</th>\n",
       "      <td>Roggenbier</td>\n",
       "      <td>14</td>\n",
       "    </tr>\n",
       "    <tr>\n",
       "      <th>93</th>\n",
       "      <td>Schwarzbier</td>\n",
       "      <td>14</td>\n",
       "    </tr>\n",
       "    <tr>\n",
       "      <th>95</th>\n",
       "      <td>Scottish Ale</td>\n",
       "      <td>14</td>\n",
       "    </tr>\n",
       "    <tr>\n",
       "      <th>96</th>\n",
       "      <td>Scottish Gruit / Ancient Herbed Ale</td>\n",
       "      <td>14</td>\n",
       "    </tr>\n",
       "  </tbody>\n",
       "</table>\n",
       "</div>"
      ],
      "text/plain": [
       "                             data_index  cluster\n",
       "0                               Altbier       14\n",
       "2              American Amber / Red Ale       14\n",
       "24                     Belgian Pale Ale       14\n",
       "33       California Common / Steam Beer       14\n",
       "40                         Dunkelweizen       14\n",
       "44                    English Brown Ale       14\n",
       "55  Extra Special / Strong Bitter (ESB)       14\n",
       "56                                 Faro       14\n",
       "65                           Hefeweizen       14\n",
       "67                      Irish Dry Stout       14\n",
       "70             Kellerbier / Zwickelbier       14\n",
       "81                  Munich Helles Lager       14\n",
       "82                 Märzen / Oktoberfest       14\n",
       "88                           Roggenbier       14\n",
       "93                          Schwarzbier       14\n",
       "95                         Scottish Ale       14\n",
       "96  Scottish Gruit / Ancient Herbed Ale       14"
      ]
     },
     "metadata": {},
     "output_type": "display_data"
    },
    {
     "data": {
      "text/html": [
       "<div>\n",
       "<style scoped>\n",
       "    .dataframe tbody tr th:only-of-type {\n",
       "        vertical-align: middle;\n",
       "    }\n",
       "\n",
       "    .dataframe tbody tr th {\n",
       "        vertical-align: top;\n",
       "    }\n",
       "\n",
       "    .dataframe thead th {\n",
       "        text-align: right;\n",
       "    }\n",
       "</style>\n",
       "<table border=\"1\" class=\"dataframe\">\n",
       "  <thead>\n",
       "    <tr style=\"text-align: right;\">\n",
       "      <th></th>\n",
       "      <th>data_index</th>\n",
       "      <th>cluster</th>\n",
       "    </tr>\n",
       "  </thead>\n",
       "  <tbody>\n",
       "    <tr>\n",
       "      <th>76</th>\n",
       "      <td>Light Lager</td>\n",
       "      <td>15</td>\n",
       "    </tr>\n",
       "  </tbody>\n",
       "</table>\n",
       "</div>"
      ],
      "text/plain": [
       "     data_index  cluster\n",
       "76  Light Lager       15"
      ]
     },
     "metadata": {},
     "output_type": "display_data"
    }
   ],
   "source": [
    "for i in range(max(Klabels)+1):\n",
    "     display(cluster_map[cluster_map.cluster == i])"
   ]
  },
  {
   "attachments": {},
   "cell_type": "markdown",
   "metadata": {},
   "source": [
    "This is not conclusive as the clusters do not really make sense sometimes. \n",
    "\n",
    "For some beer styles the results are a bit more encouraging. Among the 8 different stouts, 4 are grouped together in cluster 1 and 2 in cluster 3 for example. Another example is the two Barleywines of the dataset (the American and English Barleywines) that also end up together in cluster 8. But some beer styles such as ales and lagers should be separated and pertain to different categories but fall within the same cluster (e.g 0).  Some beer styles are being grouped together but should not be according to common sense. "
   ]
  },
  {
   "attachments": {},
   "cell_type": "markdown",
   "metadata": {},
   "source": [
    "A possible explanation to those poor results is the following: users that have rated those beers might be very much so the . The analysis would be much more robust considering group of users that share similar understanding and rates in a similar way. To examine how Beer styles in a coherent manner. The problem of identifying group of users is either way part of our datastory and has been done in an other section. \n",
    "\n",
    "Let us try this and see if the results improve. "
   ]
  },
  {
   "cell_type": "code",
   "execution_count": 35,
   "metadata": {},
   "outputs": [],
   "source": [
    "users = pd.read_pickle(DATA_FOLDER + 'users.pkl')\n",
    "breweries = pd.read_pickle(DATA_FOLDER + 'breweries.pkl')"
   ]
  },
  {
   "cell_type": "code",
   "execution_count": null,
   "metadata": {},
   "outputs": [],
   "source": [
    "merged_data = users[['user_id', 'nbr_ratings', 'nbr_reviews', 'location']]\n",
    "merged_data = merged_data.merge(ratings[['user_id', 'beer_id']], on='user_id')\n",
    "merged_data = merged_data.merge(beers[['beer_id','style', 'brewery_id']], on='beer_id')\n",
    "merged_data = merged_data.merge(breweries[['id', 'location']], left_on='brewery_id', right_on='id')\n",
    "\n",
    "merged_data.drop(['brewery_id', 'id'], axis = 1, inplace=True)\n",
    "merged_data.rename(columns={'location_x': 'user_location', 'location_y': 'beer_location'}, inplace=True)\n",
    "merged_data"
   ]
  },
  {
   "cell_type": "code",
   "execution_count": null,
   "metadata": {},
   "outputs": [],
   "source": [
    "ratings_per_beer = ratings.groupby('beer_id')['beer_id'].agg(['count']).reset_index().rename(columns={'count':'nbr_ratings'})\n",
    "#ratings_per_beer = ratings_per_beer.merge(merged_data[['beer_id', 'beer_location']], on='beer_id', how='inner')\n",
    "#ratings_per_beer.drop_duplicates(inplace=True, ignore_index=True)\n",
    "#ratings_per_country = ratings_per_beer.groupby('beer_location')['nbr_ratings'].agg(['sum']).reset_index()\n",
    "#ratings_per_beer = ratings_per_beer.merge(ratings_per_country[['beer_location', 'sum']], on='beer_location')\n",
    "#ratings_per_beer['sum'] = ratings_per_beer['nbr_ratings']/ratings_per_beer['sum']\n",
    "#ratings_per_beer.rename(columns={'sum':'scarcity'})\n",
    "ratings_per_beer"
   ]
  },
  {
   "cell_type": "code",
   "execution_count": null,
   "metadata": {},
   "outputs": [],
   "source": [
    "ratings_per_beer['scarce_beer'] =  ratings_per_beer['nbr_ratings'].apply(lambda x: True if x<10 else False)"
   ]
  },
  {
   "cell_type": "code",
   "execution_count": null,
   "metadata": {},
   "outputs": [],
   "source": [
    "merged_data = merged_data.merge(ratings_per_beer[['beer_id', 'scarce_beer']], on='beer_id', how='inner')"
   ]
  },
  {
   "cell_type": "code",
   "execution_count": null,
   "metadata": {},
   "outputs": [],
   "source": [
    "users['experienced_user'] = users['nbr_ratings'].apply(lambda x: True if x>39 else False)\n",
    "users['novice_user'] = users['nbr_ratings'].apply(lambda x: True if x<3 else False) "
   ]
  },
  {
   "cell_type": "code",
   "execution_count": null,
   "metadata": {},
   "outputs": [],
   "source": [
    "users['explorator']=False\n",
    "\n",
    "for group_user_id, group in tqdm(merged_data.groupby('user_id')):\n",
    "    user = \" \"\n",
    "    user = user.join(group.user_id.unique())\n",
    "    #print(group.beer_id)\n",
    "    for beer in group.beer_id:\n",
    "        if ratings_per_beer.loc[ratings_per_beer.beer_id == beer,'scarce_beer'].bool():\n",
    "            users.loc[users.user_id == user, 'explorator'] = True\n",
    "            break"
   ]
  },
  {
   "cell_type": "code",
   "execution_count": null,
   "metadata": {},
   "outputs": [],
   "source": [
    "ratings_users = pd.merge(ratings, users, left_on='user_id', right_on='user_id')\n",
    "ratings_users"
   ]
  },
  {
   "cell_type": "code",
   "execution_count": null,
   "metadata": {},
   "outputs": [],
   "source": [
    "beers_merged_users = pd.merge(ratings_users, beers, left_on='beer_id', right_on='beer_id')\n",
    "beers_merged_users"
   ]
  },
  {
   "cell_type": "code",
   "execution_count": null,
   "metadata": {},
   "outputs": [],
   "source": [
    "beers_merged1 = beers_merged_users.loc[beers_merged.experienced_user][['appearance', 'aroma', 'palate', 'taste', 'overall', 'rating', 'style']]\n",
    "beers_merged1"
   ]
  },
  {
   "cell_type": "code",
   "execution_count": null,
   "metadata": {},
   "outputs": [],
   "source": [
    "beers_merged2 = beers_merged_users.loc[beers_merged.novice_user][['appearance', 'aroma', 'palate', 'taste', 'overall', 'rating', 'style']]\n",
    "beers_merged2"
   ]
  },
  {
   "cell_type": "code",
   "execution_count": null,
   "metadata": {},
   "outputs": [],
   "source": [
    "beers_merged3 = beers_merged_users.loc[beers_merged.explorator][['appearance', 'aroma', 'palate', 'taste', 'overall', 'rating', 'style']]\n",
    "beers_merged3"
   ]
  },
  {
   "cell_type": "code",
   "execution_count": null,
   "metadata": {},
   "outputs": [],
   "source": [
    "style_features = beers_merged3.groupby('style').mean()\n",
    "style_features"
   ]
  },
  {
   "cell_type": "code",
   "execution_count": null,
   "metadata": {},
   "outputs": [],
   "source": [
    "style_abv = beers.groupby('style').mean()['abv']"
   ]
  },
  {
   "cell_type": "code",
   "execution_count": null,
   "metadata": {},
   "outputs": [],
   "source": [
    "style_features['abv'] = style_abv\n",
    "style_features"
   ]
  },
  {
   "cell_type": "code",
   "execution_count": null,
   "metadata": {},
   "outputs": [],
   "source": [
    "style_labels = style_features.index"
   ]
  },
  {
   "cell_type": "code",
   "execution_count": null,
   "metadata": {},
   "outputs": [],
   "source": [
    "X = style_features.to_numpy()"
   ]
  },
  {
   "cell_type": "code",
   "execution_count": null,
   "metadata": {},
   "outputs": [],
   "source": [
    "X = StandardScaler().fit_transform(style_features.to_numpy())"
   ]
  },
  {
   "cell_type": "code",
   "execution_count": null,
   "metadata": {},
   "outputs": [],
   "source": [
    "X_reduced_pca = PCA(n_components=2).fit(X).transform(X)\n",
    "\n",
    "# Plot the data reduced in 2d space with PCA\n",
    "fig = px.scatter(x=X_reduced_pca[:,0], y=X_reduced_pca[:,1], color=style_labels)\n",
    "fig.update_layout(\n",
    "    title='PCA - Beer styles',\n",
    "    width=1000,\n",
    "    height=600,\n",
    ")\n",
    "fig.show()"
   ]
  },
  {
   "attachments": {},
   "cell_type": "markdown",
   "metadata": {},
   "source": [
    "This is not very conclusive as well.\n",
    "\n",
    "A possible explanation could be BLABLABLA"
   ]
  },
  {
   "attachments": {},
   "cell_type": "markdown",
   "metadata": {},
   "source": [
    "Note that in this process of regrouping styles together we won't start from scratch as our previous results has been quite unsatisfactory. Our earlier analysis has suggested that directly trying to group beer styles in an unsupervised manner (PCA, t-SNE, UMAP, K-Means) based on the features at our disposal (abv and various ratings) was not delivering satisfying results when confronted with accepted knowledge about beer styles. "
   ]
  },
  {
   "attachments": {},
   "cell_type": "markdown",
   "metadata": {},
   "source": [
    "As a workaround, we rely on domain experts that have already come up with some beer style categories with similar beer styles (similar in terms of a number of criteria listed by the experts) falling withing the same category. Those groups or \"supra-styles\" can be found on https://www.craftbeer.com/beer/beer-styles-guide.\n"
   ]
  },
  {
   "attachments": {},
   "cell_type": "markdown",
   "metadata": {},
   "source": [
    "The subsequent analysis aims now at validating those groups given our dataset. "
   ]
  },
  {
   "attachments": {},
   "cell_type": "markdown",
   "metadata": {},
   "source": [
    "15 different \"supra-styles\" have been identified by the experts (see link above), each one of them comprising several similar beer styles. "
   ]
  },
  {
   "attachments": {},
   "cell_type": "markdown",
   "metadata": {},
   "source": [
    "Diving in the code details:\n",
    "We first define a list of lists, each of those lists being made up of strings of the names of different styles pertaining to the \"supra-style\"."
   ]
  },
  {
   "cell_type": "code",
   "execution_count": null,
   "metadata": {},
   "outputs": [],
   "source": [
    "types_features = []\n",
    "types_features.append([\"amber ale\", \"american pale ale\", \"english pale ale\", \"blonde ale\", \"bitter\"])     #Pale Ales\n",
    "types_features.append([\"amber lager\", \"dunkel\", \"marzen\", \"oktoberfest\", \"schwarzbier\", \"vienna lager\", \"dark lager\", \"red lager\"])    #Dark Lagers\n",
    "types_features.append([\"brown ale\", \"mild\"])     #Brown Ales\n",
    "types_features.append([\"ipa\", \"indian pale ale\"])     #India Pale Ales\n",
    "types_features.append([\"wheat wine ale\", \"wheat\", \"witbier\", \"weisse\", \"weissbier\", \"dunkelweizen\", \"hefeweizen\", \"kristalweizen\"])     #Wheat Beers\n",
    "types_features.append([\"barley wine\", \"barleywine\",  \"imperial red ale\", \"barley wine ale\", \"old ale\", \"strong ale\", \"strong pale ale\"])     #Strong Ales\n",
    "types_features.append([\"belgian blonde ale\", \"dubbel\", \"belgian strong dark ale\", \"belgian dark ale\", \"golden strong ale\", \"belgian pale ale\", \"quadrupel\", \"saison\", \"tripel\"])     #Belgian Styles\n",
    "types_features.append([\"cream ale\", \"biere de garde\", \"bière de garde\", \"common\", \"altbier\", \"kolsch\", \"kölsch\", \"red beer\", \"red ale\"])     #Hybrid Beers\n",
    "types_features.append([\"porter\"])     #Porters\n",
    "types_features.append([\"stout\"])     #Stouts\n",
    "types_features.append([\"bock\", \"doppelbock\", \"maibock\", \"weizenbock\"])     #Bocks\n",
    "types_features.append([\"heavy\", \"scottish ale\"])     #Scottish-Style Ales\n",
    "types_features.append([\"brett\", \"sour\", \"flanders\", \"lambic\", \"faro\", \"gueuze\", \"gose\", \"wild\"])     #Wild/Sour Beers\n",
    "types_features.append([\"pale lager\", \"american Lager\", \"american adjunct lager\", \"pilsener\", \"pilsner\", \"export\", \"helles\"])     #Pilseners and Pale Lagers\n",
    "types_features.append([\"black ale\", \"barrel-aged\", \"chocolate\", \"coffee\", \"fruit\", \"field\", \"craft\", \"herb\", \"spice\", \"honey\", \"pumpkin\", \"rye\", \"roggenbier\", \"session\", \"smoke\", \"rauchbier\", \"specialty\", \"sahti\"])     #Specialty Beers"
   ]
  },
  {
   "attachments": {},
   "cell_type": "markdown",
   "metadata": {},
   "source": [
    "Every element of one list becomes a key in a dictionnary and is assigned the same value."
   ]
  },
  {
   "cell_type": "code",
   "execution_count": null,
   "metadata": {},
   "outputs": [],
   "source": [
    "types = {}\n",
    "for i,type_features in enumerate(types_features):\n",
    "    for key in type_features:\n",
    "        types[key] = i"
   ]
  },
  {
   "attachments": {},
   "cell_type": "markdown",
   "metadata": {},
   "source": [
    "We create a new column in our *beers_merged* dataframe which encapsulates which \"supra-styles\" each beer style belongs to.\n",
    "\n",
    "Note: the 16th \"supra-style\" corresponds to beer styles that do not fit in the 15 \"supra-styles\" picked by the experts."
   ]
  },
  {
   "cell_type": "code",
   "execution_count": null,
   "metadata": {},
   "outputs": [
    {
     "data": {
      "text/html": [
       "<div>\n",
       "<style scoped>\n",
       "    .dataframe tbody tr th:only-of-type {\n",
       "        vertical-align: middle;\n",
       "    }\n",
       "\n",
       "    .dataframe tbody tr th {\n",
       "        vertical-align: top;\n",
       "    }\n",
       "\n",
       "    .dataframe thead th {\n",
       "        text-align: right;\n",
       "    }\n",
       "</style>\n",
       "<table border=\"1\" class=\"dataframe\">\n",
       "  <thead>\n",
       "    <tr style=\"text-align: right;\">\n",
       "      <th></th>\n",
       "      <th>appearance</th>\n",
       "      <th>aroma</th>\n",
       "      <th>palate</th>\n",
       "      <th>taste</th>\n",
       "      <th>overall</th>\n",
       "      <th>rating</th>\n",
       "      <th>style</th>\n",
       "      <th>style_merged</th>\n",
       "    </tr>\n",
       "  </thead>\n",
       "  <tbody>\n",
       "    <tr>\n",
       "      <th>0</th>\n",
       "      <td>3.25</td>\n",
       "      <td>2.75</td>\n",
       "      <td>3.25</td>\n",
       "      <td>2.75</td>\n",
       "      <td>3.0</td>\n",
       "      <td>2.88</td>\n",
       "      <td>Euro Pale Lager</td>\n",
       "      <td>13.0</td>\n",
       "    </tr>\n",
       "    <tr>\n",
       "      <th>1</th>\n",
       "      <td>3.00</td>\n",
       "      <td>3.50</td>\n",
       "      <td>3.50</td>\n",
       "      <td>4.00</td>\n",
       "      <td>3.5</td>\n",
       "      <td>3.67</td>\n",
       "      <td>English Pale Ale</td>\n",
       "      <td>0.0</td>\n",
       "    </tr>\n",
       "    <tr>\n",
       "      <th>2</th>\n",
       "      <td>4.00</td>\n",
       "      <td>3.50</td>\n",
       "      <td>3.50</td>\n",
       "      <td>4.00</td>\n",
       "      <td>3.5</td>\n",
       "      <td>3.73</td>\n",
       "      <td>English Pale Ale</td>\n",
       "      <td>0.0</td>\n",
       "    </tr>\n",
       "    <tr>\n",
       "      <th>3</th>\n",
       "      <td>4.00</td>\n",
       "      <td>3.50</td>\n",
       "      <td>4.00</td>\n",
       "      <td>4.00</td>\n",
       "      <td>4.5</td>\n",
       "      <td>3.98</td>\n",
       "      <td>English Pale Ale</td>\n",
       "      <td>0.0</td>\n",
       "    </tr>\n",
       "    <tr>\n",
       "      <th>4</th>\n",
       "      <td>4.00</td>\n",
       "      <td>4.00</td>\n",
       "      <td>4.00</td>\n",
       "      <td>4.00</td>\n",
       "      <td>4.0</td>\n",
       "      <td>4.00</td>\n",
       "      <td>English Pale Ale</td>\n",
       "      <td>0.0</td>\n",
       "    </tr>\n",
       "    <tr>\n",
       "      <th>...</th>\n",
       "      <td>...</td>\n",
       "      <td>...</td>\n",
       "      <td>...</td>\n",
       "      <td>...</td>\n",
       "      <td>...</td>\n",
       "      <td>...</td>\n",
       "      <td>...</td>\n",
       "      <td>...</td>\n",
       "    </tr>\n",
       "    <tr>\n",
       "      <th>8393027</th>\n",
       "      <td>3.50</td>\n",
       "      <td>3.50</td>\n",
       "      <td>3.50</td>\n",
       "      <td>4.00</td>\n",
       "      <td>4.0</td>\n",
       "      <td>3.80</td>\n",
       "      <td>Kölsch</td>\n",
       "      <td>7.0</td>\n",
       "    </tr>\n",
       "    <tr>\n",
       "      <th>8393028</th>\n",
       "      <td>3.00</td>\n",
       "      <td>3.00</td>\n",
       "      <td>3.00</td>\n",
       "      <td>2.50</td>\n",
       "      <td>3.0</td>\n",
       "      <td>2.80</td>\n",
       "      <td>Kölsch</td>\n",
       "      <td>7.0</td>\n",
       "    </tr>\n",
       "    <tr>\n",
       "      <th>8393029</th>\n",
       "      <td>3.00</td>\n",
       "      <td>1.50</td>\n",
       "      <td>1.00</td>\n",
       "      <td>1.50</td>\n",
       "      <td>1.5</td>\n",
       "      <td>1.54</td>\n",
       "      <td>Kölsch</td>\n",
       "      <td>7.0</td>\n",
       "    </tr>\n",
       "    <tr>\n",
       "      <th>8393030</th>\n",
       "      <td>NaN</td>\n",
       "      <td>NaN</td>\n",
       "      <td>NaN</td>\n",
       "      <td>NaN</td>\n",
       "      <td>NaN</td>\n",
       "      <td>3.50</td>\n",
       "      <td>English Brown Ale</td>\n",
       "      <td>2.0</td>\n",
       "    </tr>\n",
       "    <tr>\n",
       "      <th>8393031</th>\n",
       "      <td>3.00</td>\n",
       "      <td>3.00</td>\n",
       "      <td>3.00</td>\n",
       "      <td>3.00</td>\n",
       "      <td>3.0</td>\n",
       "      <td>3.00</td>\n",
       "      <td>English Brown Ale</td>\n",
       "      <td>2.0</td>\n",
       "    </tr>\n",
       "  </tbody>\n",
       "</table>\n",
       "<p>8393032 rows × 8 columns</p>\n",
       "</div>"
      ],
      "text/plain": [
       "         appearance  aroma  palate  taste  overall  rating              style  \\\n",
       "0              3.25   2.75    3.25   2.75      3.0    2.88    Euro Pale Lager   \n",
       "1              3.00   3.50    3.50   4.00      3.5    3.67   English Pale Ale   \n",
       "2              4.00   3.50    3.50   4.00      3.5    3.73   English Pale Ale   \n",
       "3              4.00   3.50    4.00   4.00      4.5    3.98   English Pale Ale   \n",
       "4              4.00   4.00    4.00   4.00      4.0    4.00   English Pale Ale   \n",
       "...             ...    ...     ...    ...      ...     ...                ...   \n",
       "8393027        3.50   3.50    3.50   4.00      4.0    3.80             Kölsch   \n",
       "8393028        3.00   3.00    3.00   2.50      3.0    2.80             Kölsch   \n",
       "8393029        3.00   1.50    1.00   1.50      1.5    1.54             Kölsch   \n",
       "8393030         NaN    NaN     NaN    NaN      NaN    3.50  English Brown Ale   \n",
       "8393031        3.00   3.00    3.00   3.00      3.0    3.00  English Brown Ale   \n",
       "\n",
       "         style_merged  \n",
       "0                13.0  \n",
       "1                 0.0  \n",
       "2                 0.0  \n",
       "3                 0.0  \n",
       "4                 0.0  \n",
       "...               ...  \n",
       "8393027           7.0  \n",
       "8393028           7.0  \n",
       "8393029           7.0  \n",
       "8393030           2.0  \n",
       "8393031           2.0  \n",
       "\n",
       "[8393032 rows x 8 columns]"
      ]
     },
     "execution_count": 12,
     "metadata": {},
     "output_type": "execute_result"
    }
   ],
   "source": [
    "beers_merged[\"style_merged\"] = 15.\n",
    "for type, label in types.items():\n",
    "    beers_merged[\"bool\"] = beers_merged[\"style\"].apply(lambda x: type in x.lower())\n",
    "    beers_merged.loc[beers_merged[\"bool\"], \"style_merged\"] = label\n",
    "    del beers_merged['bool']\n",
    "beers_merged"
   ]
  },
  {
   "attachments": {},
   "cell_type": "markdown",
   "metadata": {},
   "source": [
    "For example, the **Dark Lagers** supra-styles (style_merged = 1.) that have been defined by the experts as regrouping:\n",
    "\n",
    "- American Amber Lager\n",
    "- German-Style Dunkel\n",
    "- German-Style Marzen / Oktoberfest\n",
    "- German-Style Schwarzbier\n",
    "- Vienna-Style Lager\n",
    "\n",
    "contains the following styles from our dataset:"
   ]
  },
  {
   "cell_type": "code",
   "execution_count": null,
   "metadata": {},
   "outputs": [
    {
     "data": {
      "text/plain": [
       "array(['Schwarzbier', 'Vienna Lager', 'Märzen / Oktoberfest',\n",
       "       'Euro Dark Lager', 'Munich Dunkel Lager',\n",
       "       'American Amber / Red Lager'], dtype=object)"
      ]
     },
     "execution_count": 13,
     "metadata": {},
     "output_type": "execute_result"
    }
   ],
   "source": [
    "beers_merged.loc[beers_merged.style_merged == 1.]['style'].unique()"
   ]
  },
  {
   "attachments": {},
   "cell_type": "markdown",
   "metadata": {},
   "source": [
    "The non-defined beer styles (that we have not managed to classify in one of the \"supra-styles\" defined by the experts) are shown below: "
   ]
  },
  {
   "cell_type": "code",
   "execution_count": null,
   "metadata": {},
   "outputs": [
    {
     "data": {
      "text/plain": [
       "['Winter Warmer',\n",
       " 'Black & Tan',\n",
       " 'Low Alcohol Beer',\n",
       " 'Chile Beer',\n",
       " 'Euro Strong Lager',\n",
       " 'Light Lager',\n",
       " 'Kellerbier / Zwickelbier',\n",
       " 'Braggot',\n",
       " 'American Malt Liquor',\n",
       " 'Kvass',\n",
       " 'Bière de Champagne / Bière Brut',\n",
       " 'Japanese Rice Lager',\n",
       " 'Happoshu']"
      ]
     },
     "execution_count": 14,
     "metadata": {},
     "output_type": "execute_result"
    }
   ],
   "source": [
    "list(beers_merged.loc[beers_merged.style_merged == 15.]['style'].unique())"
   ]
  },
  {
   "cell_type": "code",
   "execution_count": null,
   "metadata": {},
   "outputs": [
    {
     "data": {
      "text/plain": [
       "13"
      ]
     },
     "execution_count": 15,
     "metadata": {},
     "output_type": "execute_result"
    }
   ],
   "source": [
    "beers_merged.loc[beers_merged.style_merged == 15.0]['style'].nunique()"
   ]
  },
  {
   "attachments": {},
   "cell_type": "markdown",
   "metadata": {},
   "source": [
    "\"Only\" 13 styles have not been merged which is quite satisfactory given our 104 styles initially. Some research indicated that most of those are in fact quite singular which explains why there are not easily regrouped."
   ]
  },
  {
   "attachments": {},
   "cell_type": "markdown",
   "metadata": {},
   "source": [
    "Let us try now to observe how those newly labelled beer styles (16 \"supra-styles\") fit with our data when projected using the dimensionality reduction techniques cited above. That would be interesting to see if beer styles that have now been identified as pertaining to one supra-style end up closer compared to styles from other supra-styles. This would come as some sort of validation."
   ]
  },
  {
   "attachments": {},
   "cell_type": "markdown",
   "metadata": {},
   "source": [
    "Note that the steps followed are sensibly the same as the previous ones so they will not be commented."
   ]
  },
  {
   "cell_type": "code",
   "execution_count": null,
   "metadata": {},
   "outputs": [],
   "source": [
    "style_features = beers_merged.groupby('style').mean()"
   ]
  },
  {
   "cell_type": "code",
   "execution_count": null,
   "metadata": {},
   "outputs": [
    {
     "data": {
      "text/html": [
       "<div>\n",
       "<style scoped>\n",
       "    .dataframe tbody tr th:only-of-type {\n",
       "        vertical-align: middle;\n",
       "    }\n",
       "\n",
       "    .dataframe tbody tr th {\n",
       "        vertical-align: top;\n",
       "    }\n",
       "\n",
       "    .dataframe thead th {\n",
       "        text-align: right;\n",
       "    }\n",
       "</style>\n",
       "<table border=\"1\" class=\"dataframe\">\n",
       "  <thead>\n",
       "    <tr style=\"text-align: right;\">\n",
       "      <th></th>\n",
       "      <th>appearance</th>\n",
       "      <th>aroma</th>\n",
       "      <th>palate</th>\n",
       "      <th>taste</th>\n",
       "      <th>overall</th>\n",
       "      <th>rating</th>\n",
       "      <th>style_merged</th>\n",
       "    </tr>\n",
       "    <tr>\n",
       "      <th>style</th>\n",
       "      <th></th>\n",
       "      <th></th>\n",
       "      <th></th>\n",
       "      <th></th>\n",
       "      <th></th>\n",
       "      <th></th>\n",
       "      <th></th>\n",
       "    </tr>\n",
       "  </thead>\n",
       "  <tbody>\n",
       "    <tr>\n",
       "      <th>Altbier</th>\n",
       "      <td>3.804970</td>\n",
       "      <td>3.639206</td>\n",
       "      <td>3.712032</td>\n",
       "      <td>3.734094</td>\n",
       "      <td>3.767099</td>\n",
       "      <td>3.688162</td>\n",
       "      <td>Hybrid Beers</td>\n",
       "    </tr>\n",
       "    <tr>\n",
       "      <th>American Adjunct Lager</th>\n",
       "      <td>2.834799</td>\n",
       "      <td>2.557520</td>\n",
       "      <td>2.768130</td>\n",
       "      <td>2.722332</td>\n",
       "      <td>2.881181</td>\n",
       "      <td>2.622378</td>\n",
       "      <td>Pilseners and Pale Lagers</td>\n",
       "    </tr>\n",
       "    <tr>\n",
       "      <th>American Amber / Red Ale</th>\n",
       "      <td>3.847400</td>\n",
       "      <td>3.695537</td>\n",
       "      <td>3.722954</td>\n",
       "      <td>3.749445</td>\n",
       "      <td>3.775169</td>\n",
       "      <td>3.740720</td>\n",
       "      <td>Hybrid Beers</td>\n",
       "    </tr>\n",
       "    <tr>\n",
       "      <th>American Amber / Red Lager</th>\n",
       "      <td>3.535507</td>\n",
       "      <td>3.269277</td>\n",
       "      <td>3.384669</td>\n",
       "      <td>3.396695</td>\n",
       "      <td>3.482003</td>\n",
       "      <td>3.340731</td>\n",
       "      <td>Dark Lagers</td>\n",
       "    </tr>\n",
       "    <tr>\n",
       "      <th>American Barleywine</th>\n",
       "      <td>4.040312</td>\n",
       "      <td>4.021135</td>\n",
       "      <td>4.006163</td>\n",
       "      <td>4.046653</td>\n",
       "      <td>3.974425</td>\n",
       "      <td>4.028173</td>\n",
       "      <td>Strong Ales</td>\n",
       "    </tr>\n",
       "    <tr>\n",
       "      <th>...</th>\n",
       "      <td>...</td>\n",
       "      <td>...</td>\n",
       "      <td>...</td>\n",
       "      <td>...</td>\n",
       "      <td>...</td>\n",
       "      <td>...</td>\n",
       "      <td>...</td>\n",
       "    </tr>\n",
       "    <tr>\n",
       "      <th>Vienna Lager</th>\n",
       "      <td>3.677319</td>\n",
       "      <td>3.458537</td>\n",
       "      <td>3.563928</td>\n",
       "      <td>3.592847</td>\n",
       "      <td>3.663178</td>\n",
       "      <td>3.556377</td>\n",
       "      <td>Dark Lagers</td>\n",
       "    </tr>\n",
       "    <tr>\n",
       "      <th>Weizenbock</th>\n",
       "      <td>4.007100</td>\n",
       "      <td>4.021994</td>\n",
       "      <td>3.993293</td>\n",
       "      <td>4.058172</td>\n",
       "      <td>4.013157</td>\n",
       "      <td>4.044141</td>\n",
       "      <td>Bocks</td>\n",
       "    </tr>\n",
       "    <tr>\n",
       "      <th>Wheatwine</th>\n",
       "      <td>3.938947</td>\n",
       "      <td>3.967110</td>\n",
       "      <td>3.943702</td>\n",
       "      <td>3.975081</td>\n",
       "      <td>3.898842</td>\n",
       "      <td>3.952787</td>\n",
       "      <td>Wheat Beers</td>\n",
       "    </tr>\n",
       "    <tr>\n",
       "      <th>Winter Warmer</th>\n",
       "      <td>3.839167</td>\n",
       "      <td>3.716082</td>\n",
       "      <td>3.693794</td>\n",
       "      <td>3.732080</td>\n",
       "      <td>3.721939</td>\n",
       "      <td>3.725578</td>\n",
       "      <td>Undefined</td>\n",
       "    </tr>\n",
       "    <tr>\n",
       "      <th>Witbier</th>\n",
       "      <td>3.701572</td>\n",
       "      <td>3.647162</td>\n",
       "      <td>3.646796</td>\n",
       "      <td>3.665673</td>\n",
       "      <td>3.711504</td>\n",
       "      <td>3.633994</td>\n",
       "      <td>Wheat Beers</td>\n",
       "    </tr>\n",
       "  </tbody>\n",
       "</table>\n",
       "<p>104 rows × 7 columns</p>\n",
       "</div>"
      ],
      "text/plain": [
       "                            appearance     aroma    palate     taste  \\\n",
       "style                                                                  \n",
       "Altbier                       3.804970  3.639206  3.712032  3.734094   \n",
       "American Adjunct Lager        2.834799  2.557520  2.768130  2.722332   \n",
       "American Amber / Red Ale      3.847400  3.695537  3.722954  3.749445   \n",
       "American Amber / Red Lager    3.535507  3.269277  3.384669  3.396695   \n",
       "American Barleywine           4.040312  4.021135  4.006163  4.046653   \n",
       "...                                ...       ...       ...       ...   \n",
       "Vienna Lager                  3.677319  3.458537  3.563928  3.592847   \n",
       "Weizenbock                    4.007100  4.021994  3.993293  4.058172   \n",
       "Wheatwine                     3.938947  3.967110  3.943702  3.975081   \n",
       "Winter Warmer                 3.839167  3.716082  3.693794  3.732080   \n",
       "Witbier                       3.701572  3.647162  3.646796  3.665673   \n",
       "\n",
       "                             overall    rating               style_merged  \n",
       "style                                                                      \n",
       "Altbier                     3.767099  3.688162               Hybrid Beers  \n",
       "American Adjunct Lager      2.881181  2.622378  Pilseners and Pale Lagers  \n",
       "American Amber / Red Ale    3.775169  3.740720               Hybrid Beers  \n",
       "American Amber / Red Lager  3.482003  3.340731                Dark Lagers  \n",
       "American Barleywine         3.974425  4.028173                Strong Ales  \n",
       "...                              ...       ...                        ...  \n",
       "Vienna Lager                3.663178  3.556377                Dark Lagers  \n",
       "Weizenbock                  4.013157  4.044141                      Bocks  \n",
       "Wheatwine                   3.898842  3.952787                Wheat Beers  \n",
       "Winter Warmer               3.721939  3.725578                  Undefined  \n",
       "Witbier                     3.711504  3.633994                Wheat Beers  \n",
       "\n",
       "[104 rows x 7 columns]"
      ]
     },
     "execution_count": 17,
     "metadata": {},
     "output_type": "execute_result"
    }
   ],
   "source": [
    "supra_styles = [\"Pale Ales\", \"Dark Lagers\", \"Brown Ales\", \"India Pale Ales\", \"Wheat Beers\", \"Strong Ales\", \"Belgian Styles\", \"Hybrid Beers\", \"Porters\", \"Stouts\", \"Bocks\", \"Scottish-Style Ales\", \"Wild/Sour Beers\", \"Pilseners and Pale Lagers\", \"Specialty Beers\", \"Undefined\"]\n",
    "style_features.style_merged = style_features.style_merged.apply(lambda x: supra_styles[int(x)])\n",
    "style_features"
   ]
  },
  {
   "cell_type": "code",
   "execution_count": null,
   "metadata": {},
   "outputs": [],
   "source": [
    "style_labels = style_features.index\n",
    "style_labels_merged = style_features.pop(\"style_merged\")"
   ]
  },
  {
   "cell_type": "code",
   "execution_count": null,
   "metadata": {},
   "outputs": [],
   "source": [
    "X = StandardScaler().fit_transform(style_features.to_numpy())"
   ]
  },
  {
   "cell_type": "code",
   "execution_count": null,
   "metadata": {},
   "outputs": [
    {
     "data": {
      "application/vnd.plotly.v1+json": {
       "config": {
        "plotlyServerURL": "https://plot.ly"
       },
       "data": [
        {
         "hovertemplate": "color=Hybrid Beers<br>x=%{x}<br>y=%{y}<extra></extra>",
         "legendgroup": "Hybrid Beers",
         "marker": {
          "color": "#636efa",
          "symbol": "circle"
         },
         "mode": "markers",
         "name": "Hybrid Beers",
         "orientation": "v",
         "showlegend": true,
         "type": "scatter",
         "x": [
          0.03599242260773825,
          -0.18287174124010183,
          -1.0868064713727565,
          -0.16627318271316852,
          0.6361188268798266,
          1.008019016019743,
          0.6583103314489716
         ],
         "xaxis": "x",
         "y": [
          0.049809551232679515,
          0.11472732602049454,
          -0.025377419413262187,
          0.024380067826774602,
          -0.1166523913222901,
          0.24277958603537553,
          -0.1526785487400512
         ],
         "yaxis": "y"
        },
        {
         "hovertemplate": "color=Pilseners and Pale Lagers<br>x=%{x}<br>y=%{y}<extra></extra>",
         "legendgroup": "Pilseners and Pale Lagers",
         "marker": {
          "color": "#EF553B",
          "symbol": "circle"
         },
         "mode": "markers",
         "name": "Pilseners and Pale Lagers",
         "orientation": "v",
         "showlegend": true,
         "type": "scatter",
         "x": [
          7.18862546053812,
          -1.4079090334078228,
          1.566189201611893,
          0.7027049503775795,
          0.5833879388636918,
          5.048795427012614,
          -1.3070858690626876,
          0.9414240163000556,
          -0.1195583265195905,
          0.2809017359616862
         ],
         "xaxis": "x",
         "y": [
          -0.33539613485066067,
          0.08210249857444557,
          -0.09571057587315096,
          -0.0898591687595156,
          -0.08324103220480647,
          -0.10621032738572356,
          0.2799530180648198,
          -0.10688028874884695,
          -0.07055747701845731,
          -0.2229226368113505
         ],
         "yaxis": "y"
        },
        {
         "hovertemplate": "color=Dark Lagers<br>x=%{x}<br>y=%{y}<extra></extra>",
         "legendgroup": "Dark Lagers",
         "marker": {
          "color": "#00cc96",
          "symbol": "circle"
         },
         "mode": "markers",
         "name": "Dark Lagers",
         "orientation": "v",
         "showlegend": true,
         "type": "scatter",
         "x": [
          2.3515340390628463,
          1.6658049613808465,
          0.4531216930460476,
          0.2835706391777577,
          -0.14985684784414055,
          1.0323786594100317
         ],
         "xaxis": "x",
         "y": [
          0.08870599215534702,
          0.3054259665307075,
          0.07383137655126504,
          -0.0032047451227931872,
          0.19426534991130978,
          0.023319543084446948
         ],
         "yaxis": "y"
        },
        {
         "hovertemplate": "color=Strong Ales<br>x=%{x}<br>y=%{y}<extra></extra>",
         "legendgroup": "Strong Ales",
         "marker": {
          "color": "#ab63fa",
          "symbol": "circle"
         },
         "mode": "markers",
         "name": "Strong Ales",
         "orientation": "v",
         "showlegend": true,
         "type": "scatter",
         "x": [
          -2.0680320847455085,
          -2.0691751462132166,
          -1.4166799388224431,
          -2.4059068366346725,
          -0.3690032698649296,
          -2.065871534129662
         ],
         "xaxis": "x",
         "y": [
          -0.01706569721664336,
          0.0027545733100318714,
          -0.017161380675219162,
          -0.24140782423795,
          -0.0060242302848768775,
          -0.2227725420122586
         ],
         "yaxis": "y"
        },
        {
         "hovertemplate": "color=Specialty Beers<br>x=%{x}<br>y=%{y}<extra></extra>",
         "legendgroup": "Specialty Beers",
         "marker": {
          "color": "#FFA15A",
          "symbol": "circle"
         },
         "mode": "markers",
         "name": "Specialty Beers",
         "orientation": "v",
         "showlegend": true,
         "type": "scatter",
         "x": [
          -1.6677420346379628,
          1.4217293968641704,
          0.893403558864361,
          -2.6621900466925332,
          0.08180326971933853,
          -1.0929048710682525,
          -0.2818311876149002,
          -1.023073585843184,
          -0.34896733669959473,
          0.0020810005816566113,
          -0.6860672192708694
         ],
         "xaxis": "x",
         "y": [
          0.24982385710889232,
          -0.0634149600925269,
          -0.06225419820455885,
          0.040252565004822216,
          -0.08435297720573653,
          -0.07149810674037899,
          -0.16438999726496684,
          0.007982008757823733,
          -0.3394310664194655,
          -0.3154970402169211,
          0.10054016528375007
         ],
         "yaxis": "y"
        },
        {
         "hovertemplate": "color=Pale Ales<br>x=%{x}<br>y=%{y}<extra></extra>",
         "legendgroup": "Pale Ales",
         "marker": {
          "color": "#19d3f3",
          "symbol": "circle"
         },
         "mode": "markers",
         "name": "Pale Ales",
         "orientation": "v",
         "showlegend": true,
         "type": "scatter",
         "x": [
          1.1854900996162674,
          -1.0036232713842443,
          0.8091483924103962,
          1.1235760942083284,
          -0.017306591105156227
         ],
         "xaxis": "x",
         "y": [
          -0.08624562078195924,
          -0.018462936264222046,
          0.0661329817785471,
          0.09046234800716146,
          0.07032183208664308
         ],
         "yaxis": "y"
        },
        {
         "hovertemplate": "color=Brown Ales<br>x=%{x}<br>y=%{y}<extra></extra>",
         "legendgroup": "Brown Ales",
         "marker": {
          "color": "#FF6692",
          "symbol": "circle"
         },
         "mode": "markers",
         "name": "Brown Ales",
         "orientation": "v",
         "showlegend": true,
         "type": "scatter",
         "x": [
          -0.8378802242222111,
          0.356774853932046,
          0.3938989226904563,
          0.9965736553722355
         ],
         "xaxis": "x",
         "y": [
          -0.00023675811229589838,
          0.006406962381461906,
          0.08062279756873972,
          -0.06859138516916444
         ],
         "yaxis": "y"
        },
        {
         "hovertemplate": "color=Wheat Beers<br>x=%{x}<br>y=%{y}<extra></extra>",
         "legendgroup": "Wheat Beers",
         "marker": {
          "color": "#B6E880",
          "symbol": "circle"
         },
         "mode": "markers",
         "name": "Wheat Beers",
         "orientation": "v",
         "showlegend": true,
         "type": "scatter",
         "x": [
          0.7050664959731232,
          0.6378108106810365,
          -1.7326097355480192,
          -0.43955590226055263,
          -0.44115458140874075,
          0.736018682303127,
          -1.5309945728038157,
          0.4585545801264789
         ],
         "xaxis": "x",
         "y": [
          0.03768891648075409,
          -0.1296256593847782,
          -0.08757576359296032,
          0.07132826787924333,
          -0.08720116703297094,
          -0.03517535965971158,
          -0.14838576387302635,
          -0.12999816192889033
         ],
         "yaxis": "y"
        },
        {
         "hovertemplate": "color=India Pale Ales<br>x=%{x}<br>y=%{y}<extra></extra>",
         "legendgroup": "India Pale Ales",
         "marker": {
          "color": "#FF97FF",
          "symbol": "circle"
         },
         "mode": "markers",
         "name": "India Pale Ales",
         "orientation": "v",
         "showlegend": true,
         "type": "scatter",
         "x": [
          -3.0132408950680674,
          -1.6918022557035182,
          -1.3125618799364305,
          0.6856594568726021
         ],
         "xaxis": "x",
         "y": [
          -0.008116580761054593,
          0.0038008779444833607,
          0.08134526016521554,
          0.10183169201261531
         ],
         "yaxis": "y"
        },
        {
         "hovertemplate": "color=Stouts<br>x=%{x}<br>y=%{y}<extra></extra>",
         "legendgroup": "Stouts",
         "marker": {
          "color": "#FECB52",
          "symbol": "circle"
         },
         "mode": "markers",
         "name": "Stouts",
         "orientation": "v",
         "showlegend": true,
         "type": "scatter",
         "x": [
          -3.7556199554613596,
          -1.1951646598581065,
          -0.6788512697200275,
          -0.14292620900208622,
          -1.8887491927347855,
          -1.527467007139667,
          -3.1771889662464767
         ],
         "xaxis": "x",
         "y": [
          0.10526899586598348,
          0.21262792389499285,
          0.2128365672308168,
          0.725622610600095,
          0.10733719313862017,
          0.19633856920845677,
          0.2136555030403805
         ],
         "yaxis": "y"
        },
        {
         "hovertemplate": "color=Undefined<br>x=%{x}<br>y=%{y}<extra></extra>",
         "legendgroup": "Undefined",
         "marker": {
          "color": "#636efa",
          "symbol": "circle"
         },
         "mode": "markers",
         "name": "Undefined",
         "orientation": "v",
         "showlegend": true,
         "type": "scatter",
         "x": [
          8.176712043663253,
          -1.0363652520953381,
          2.124102625755801,
          -0.3631942074324543,
          1.4625830627792065,
          5.5521058066952325,
          5.882860271052102,
          5.578951132363811,
          -0.3875728132374539,
          2.329336817244678,
          9.784736183802298,
          8.186980864401566,
          -0.05250676948835497
         ],
         "xaxis": "x",
         "y": [
          -0.019395814472259465,
          0.4711188563544116,
          0.32635748091321704,
          -0.10799528737233935,
          -0.06388695601778038,
          0.3254088962044681,
          0.0025365811427950913,
          -0.2556045240676468,
          -0.011950962615282341,
          -0.005301530783860697,
          -0.4591976034316825,
          0.455104156158995,
          0.14586361462260794
         ],
         "yaxis": "y"
        },
        {
         "hovertemplate": "color=Porters<br>x=%{x}<br>y=%{y}<extra></extra>",
         "legendgroup": "Porters",
         "marker": {
          "color": "#EF553B",
          "symbol": "circle"
         },
         "mode": "markers",
         "name": "Porters",
         "orientation": "v",
         "showlegend": true,
         "type": "scatter",
         "x": [
          -1.6550905464642207,
          -1.98219198933604,
          -1.017697647108908
         ],
         "xaxis": "x",
         "y": [
          0.09704433165662002,
          0.07658624727501134,
          0.077538127401658
         ],
         "yaxis": "y"
        },
        {
         "hovertemplate": "color=Wild/Sour Beers<br>x=%{x}<br>y=%{y}<extra></extra>",
         "legendgroup": "Wild/Sour Beers",
         "marker": {
          "color": "#00cc96",
          "symbol": "circle"
         },
         "mode": "markers",
         "name": "Wild/Sour Beers",
         "orientation": "v",
         "showlegend": true,
         "type": "scatter",
         "x": [
          -2.7844151250886213,
          0.2746335581763377,
          -1.7889813607762879,
          -2.595945428506674,
          -1.2949253568987698,
          -3.5206907848040405,
          -2.59538144612831
         ],
         "xaxis": "x",
         "y": [
          -0.15312912360083308,
          0.014373489863623919,
          -0.15641385092274096,
          -0.16673458443931571,
          -0.1379433164151992,
          -0.19465340028351108,
          -0.2962968746069358
         ],
         "yaxis": "y"
        },
        {
         "hovertemplate": "color=Belgian Styles<br>x=%{x}<br>y=%{y}<extra></extra>",
         "legendgroup": "Belgian Styles",
         "marker": {
          "color": "#ab63fa",
          "symbol": "circle"
         },
         "mode": "markers",
         "name": "Belgian Styles",
         "orientation": "v",
         "showlegend": true,
         "type": "scatter",
         "x": [
          -0.02945027490269527,
          -0.34489363126840583,
          -1.883620669766215,
          -1.2700507601349282,
          -3.07572805338409,
          -1.724029320831896,
          -1.5221827464789435
         ],
         "xaxis": "x",
         "y": [
          0.26439893667270326,
          0.05877647336469443,
          -0.012545481968604832,
          0.06962148893410408,
          -0.11305988242844911,
          0.012450703030433552,
          -0.071929577631415
         ],
         "yaxis": "y"
        },
        {
         "hovertemplate": "color=Bocks<br>x=%{x}<br>y=%{y}<extra></extra>",
         "legendgroup": "Bocks",
         "marker": {
          "color": "#FFA15A",
          "symbol": "circle"
         },
         "mode": "markers",
         "name": "Bocks",
         "orientation": "v",
         "showlegend": true,
         "type": "scatter",
         "x": [
          1.1479448455989973,
          -1.261183008821797,
          -2.685989984406161,
          -2.0888172754636836
         ],
         "xaxis": "x",
         "y": [
          0.11984625784460443,
          -0.10825219972150976,
          -0.4169594593540046,
          -0.1449251333733121
         ],
         "yaxis": "y"
        },
        {
         "hovertemplate": "color=Scottish-Style Ales<br>x=%{x}<br>y=%{y}<extra></extra>",
         "legendgroup": "Scottish-Style Ales",
         "marker": {
          "color": "#19d3f3",
          "symbol": "circle"
         },
         "mode": "markers",
         "name": "Scottish-Style Ales",
         "orientation": "v",
         "showlegend": true,
         "type": "scatter",
         "x": [
          -1.5639578760061885,
          0.06395026138338808
         ],
         "xaxis": "x",
         "y": [
          -0.14299674678886706,
          0.07143984750184888
         ],
         "yaxis": "y"
        }
       ],
       "layout": {
        "height": 600,
        "legend": {
         "title": {
          "text": "color"
         },
         "tracegroupgap": 0
        },
        "margin": {
         "t": 60
        },
        "template": {
         "data": {
          "bar": [
           {
            "error_x": {
             "color": "#2a3f5f"
            },
            "error_y": {
             "color": "#2a3f5f"
            },
            "marker": {
             "line": {
              "color": "#E5ECF6",
              "width": 0.5
             },
             "pattern": {
              "fillmode": "overlay",
              "size": 10,
              "solidity": 0.2
             }
            },
            "type": "bar"
           }
          ],
          "barpolar": [
           {
            "marker": {
             "line": {
              "color": "#E5ECF6",
              "width": 0.5
             },
             "pattern": {
              "fillmode": "overlay",
              "size": 10,
              "solidity": 0.2
             }
            },
            "type": "barpolar"
           }
          ],
          "carpet": [
           {
            "aaxis": {
             "endlinecolor": "#2a3f5f",
             "gridcolor": "white",
             "linecolor": "white",
             "minorgridcolor": "white",
             "startlinecolor": "#2a3f5f"
            },
            "baxis": {
             "endlinecolor": "#2a3f5f",
             "gridcolor": "white",
             "linecolor": "white",
             "minorgridcolor": "white",
             "startlinecolor": "#2a3f5f"
            },
            "type": "carpet"
           }
          ],
          "choropleth": [
           {
            "colorbar": {
             "outlinewidth": 0,
             "ticks": ""
            },
            "type": "choropleth"
           }
          ],
          "contour": [
           {
            "colorbar": {
             "outlinewidth": 0,
             "ticks": ""
            },
            "colorscale": [
             [
              0,
              "#0d0887"
             ],
             [
              0.1111111111111111,
              "#46039f"
             ],
             [
              0.2222222222222222,
              "#7201a8"
             ],
             [
              0.3333333333333333,
              "#9c179e"
             ],
             [
              0.4444444444444444,
              "#bd3786"
             ],
             [
              0.5555555555555556,
              "#d8576b"
             ],
             [
              0.6666666666666666,
              "#ed7953"
             ],
             [
              0.7777777777777778,
              "#fb9f3a"
             ],
             [
              0.8888888888888888,
              "#fdca26"
             ],
             [
              1,
              "#f0f921"
             ]
            ],
            "type": "contour"
           }
          ],
          "contourcarpet": [
           {
            "colorbar": {
             "outlinewidth": 0,
             "ticks": ""
            },
            "type": "contourcarpet"
           }
          ],
          "heatmap": [
           {
            "colorbar": {
             "outlinewidth": 0,
             "ticks": ""
            },
            "colorscale": [
             [
              0,
              "#0d0887"
             ],
             [
              0.1111111111111111,
              "#46039f"
             ],
             [
              0.2222222222222222,
              "#7201a8"
             ],
             [
              0.3333333333333333,
              "#9c179e"
             ],
             [
              0.4444444444444444,
              "#bd3786"
             ],
             [
              0.5555555555555556,
              "#d8576b"
             ],
             [
              0.6666666666666666,
              "#ed7953"
             ],
             [
              0.7777777777777778,
              "#fb9f3a"
             ],
             [
              0.8888888888888888,
              "#fdca26"
             ],
             [
              1,
              "#f0f921"
             ]
            ],
            "type": "heatmap"
           }
          ],
          "heatmapgl": [
           {
            "colorbar": {
             "outlinewidth": 0,
             "ticks": ""
            },
            "colorscale": [
             [
              0,
              "#0d0887"
             ],
             [
              0.1111111111111111,
              "#46039f"
             ],
             [
              0.2222222222222222,
              "#7201a8"
             ],
             [
              0.3333333333333333,
              "#9c179e"
             ],
             [
              0.4444444444444444,
              "#bd3786"
             ],
             [
              0.5555555555555556,
              "#d8576b"
             ],
             [
              0.6666666666666666,
              "#ed7953"
             ],
             [
              0.7777777777777778,
              "#fb9f3a"
             ],
             [
              0.8888888888888888,
              "#fdca26"
             ],
             [
              1,
              "#f0f921"
             ]
            ],
            "type": "heatmapgl"
           }
          ],
          "histogram": [
           {
            "marker": {
             "pattern": {
              "fillmode": "overlay",
              "size": 10,
              "solidity": 0.2
             }
            },
            "type": "histogram"
           }
          ],
          "histogram2d": [
           {
            "colorbar": {
             "outlinewidth": 0,
             "ticks": ""
            },
            "colorscale": [
             [
              0,
              "#0d0887"
             ],
             [
              0.1111111111111111,
              "#46039f"
             ],
             [
              0.2222222222222222,
              "#7201a8"
             ],
             [
              0.3333333333333333,
              "#9c179e"
             ],
             [
              0.4444444444444444,
              "#bd3786"
             ],
             [
              0.5555555555555556,
              "#d8576b"
             ],
             [
              0.6666666666666666,
              "#ed7953"
             ],
             [
              0.7777777777777778,
              "#fb9f3a"
             ],
             [
              0.8888888888888888,
              "#fdca26"
             ],
             [
              1,
              "#f0f921"
             ]
            ],
            "type": "histogram2d"
           }
          ],
          "histogram2dcontour": [
           {
            "colorbar": {
             "outlinewidth": 0,
             "ticks": ""
            },
            "colorscale": [
             [
              0,
              "#0d0887"
             ],
             [
              0.1111111111111111,
              "#46039f"
             ],
             [
              0.2222222222222222,
              "#7201a8"
             ],
             [
              0.3333333333333333,
              "#9c179e"
             ],
             [
              0.4444444444444444,
              "#bd3786"
             ],
             [
              0.5555555555555556,
              "#d8576b"
             ],
             [
              0.6666666666666666,
              "#ed7953"
             ],
             [
              0.7777777777777778,
              "#fb9f3a"
             ],
             [
              0.8888888888888888,
              "#fdca26"
             ],
             [
              1,
              "#f0f921"
             ]
            ],
            "type": "histogram2dcontour"
           }
          ],
          "mesh3d": [
           {
            "colorbar": {
             "outlinewidth": 0,
             "ticks": ""
            },
            "type": "mesh3d"
           }
          ],
          "parcoords": [
           {
            "line": {
             "colorbar": {
              "outlinewidth": 0,
              "ticks": ""
             }
            },
            "type": "parcoords"
           }
          ],
          "pie": [
           {
            "automargin": true,
            "type": "pie"
           }
          ],
          "scatter": [
           {
            "fillpattern": {
             "fillmode": "overlay",
             "size": 10,
             "solidity": 0.2
            },
            "type": "scatter"
           }
          ],
          "scatter3d": [
           {
            "line": {
             "colorbar": {
              "outlinewidth": 0,
              "ticks": ""
             }
            },
            "marker": {
             "colorbar": {
              "outlinewidth": 0,
              "ticks": ""
             }
            },
            "type": "scatter3d"
           }
          ],
          "scattercarpet": [
           {
            "marker": {
             "colorbar": {
              "outlinewidth": 0,
              "ticks": ""
             }
            },
            "type": "scattercarpet"
           }
          ],
          "scattergeo": [
           {
            "marker": {
             "colorbar": {
              "outlinewidth": 0,
              "ticks": ""
             }
            },
            "type": "scattergeo"
           }
          ],
          "scattergl": [
           {
            "marker": {
             "colorbar": {
              "outlinewidth": 0,
              "ticks": ""
             }
            },
            "type": "scattergl"
           }
          ],
          "scattermapbox": [
           {
            "marker": {
             "colorbar": {
              "outlinewidth": 0,
              "ticks": ""
             }
            },
            "type": "scattermapbox"
           }
          ],
          "scatterpolar": [
           {
            "marker": {
             "colorbar": {
              "outlinewidth": 0,
              "ticks": ""
             }
            },
            "type": "scatterpolar"
           }
          ],
          "scatterpolargl": [
           {
            "marker": {
             "colorbar": {
              "outlinewidth": 0,
              "ticks": ""
             }
            },
            "type": "scatterpolargl"
           }
          ],
          "scatterternary": [
           {
            "marker": {
             "colorbar": {
              "outlinewidth": 0,
              "ticks": ""
             }
            },
            "type": "scatterternary"
           }
          ],
          "surface": [
           {
            "colorbar": {
             "outlinewidth": 0,
             "ticks": ""
            },
            "colorscale": [
             [
              0,
              "#0d0887"
             ],
             [
              0.1111111111111111,
              "#46039f"
             ],
             [
              0.2222222222222222,
              "#7201a8"
             ],
             [
              0.3333333333333333,
              "#9c179e"
             ],
             [
              0.4444444444444444,
              "#bd3786"
             ],
             [
              0.5555555555555556,
              "#d8576b"
             ],
             [
              0.6666666666666666,
              "#ed7953"
             ],
             [
              0.7777777777777778,
              "#fb9f3a"
             ],
             [
              0.8888888888888888,
              "#fdca26"
             ],
             [
              1,
              "#f0f921"
             ]
            ],
            "type": "surface"
           }
          ],
          "table": [
           {
            "cells": {
             "fill": {
              "color": "#EBF0F8"
             },
             "line": {
              "color": "white"
             }
            },
            "header": {
             "fill": {
              "color": "#C8D4E3"
             },
             "line": {
              "color": "white"
             }
            },
            "type": "table"
           }
          ]
         },
         "layout": {
          "annotationdefaults": {
           "arrowcolor": "#2a3f5f",
           "arrowhead": 0,
           "arrowwidth": 1
          },
          "autotypenumbers": "strict",
          "coloraxis": {
           "colorbar": {
            "outlinewidth": 0,
            "ticks": ""
           }
          },
          "colorscale": {
           "diverging": [
            [
             0,
             "#8e0152"
            ],
            [
             0.1,
             "#c51b7d"
            ],
            [
             0.2,
             "#de77ae"
            ],
            [
             0.3,
             "#f1b6da"
            ],
            [
             0.4,
             "#fde0ef"
            ],
            [
             0.5,
             "#f7f7f7"
            ],
            [
             0.6,
             "#e6f5d0"
            ],
            [
             0.7,
             "#b8e186"
            ],
            [
             0.8,
             "#7fbc41"
            ],
            [
             0.9,
             "#4d9221"
            ],
            [
             1,
             "#276419"
            ]
           ],
           "sequential": [
            [
             0,
             "#0d0887"
            ],
            [
             0.1111111111111111,
             "#46039f"
            ],
            [
             0.2222222222222222,
             "#7201a8"
            ],
            [
             0.3333333333333333,
             "#9c179e"
            ],
            [
             0.4444444444444444,
             "#bd3786"
            ],
            [
             0.5555555555555556,
             "#d8576b"
            ],
            [
             0.6666666666666666,
             "#ed7953"
            ],
            [
             0.7777777777777778,
             "#fb9f3a"
            ],
            [
             0.8888888888888888,
             "#fdca26"
            ],
            [
             1,
             "#f0f921"
            ]
           ],
           "sequentialminus": [
            [
             0,
             "#0d0887"
            ],
            [
             0.1111111111111111,
             "#46039f"
            ],
            [
             0.2222222222222222,
             "#7201a8"
            ],
            [
             0.3333333333333333,
             "#9c179e"
            ],
            [
             0.4444444444444444,
             "#bd3786"
            ],
            [
             0.5555555555555556,
             "#d8576b"
            ],
            [
             0.6666666666666666,
             "#ed7953"
            ],
            [
             0.7777777777777778,
             "#fb9f3a"
            ],
            [
             0.8888888888888888,
             "#fdca26"
            ],
            [
             1,
             "#f0f921"
            ]
           ]
          },
          "colorway": [
           "#636efa",
           "#EF553B",
           "#00cc96",
           "#ab63fa",
           "#FFA15A",
           "#19d3f3",
           "#FF6692",
           "#B6E880",
           "#FF97FF",
           "#FECB52"
          ],
          "font": {
           "color": "#2a3f5f"
          },
          "geo": {
           "bgcolor": "white",
           "lakecolor": "white",
           "landcolor": "#E5ECF6",
           "showlakes": true,
           "showland": true,
           "subunitcolor": "white"
          },
          "hoverlabel": {
           "align": "left"
          },
          "hovermode": "closest",
          "mapbox": {
           "style": "light"
          },
          "paper_bgcolor": "white",
          "plot_bgcolor": "#E5ECF6",
          "polar": {
           "angularaxis": {
            "gridcolor": "white",
            "linecolor": "white",
            "ticks": ""
           },
           "bgcolor": "#E5ECF6",
           "radialaxis": {
            "gridcolor": "white",
            "linecolor": "white",
            "ticks": ""
           }
          },
          "scene": {
           "xaxis": {
            "backgroundcolor": "#E5ECF6",
            "gridcolor": "white",
            "gridwidth": 2,
            "linecolor": "white",
            "showbackground": true,
            "ticks": "",
            "zerolinecolor": "white"
           },
           "yaxis": {
            "backgroundcolor": "#E5ECF6",
            "gridcolor": "white",
            "gridwidth": 2,
            "linecolor": "white",
            "showbackground": true,
            "ticks": "",
            "zerolinecolor": "white"
           },
           "zaxis": {
            "backgroundcolor": "#E5ECF6",
            "gridcolor": "white",
            "gridwidth": 2,
            "linecolor": "white",
            "showbackground": true,
            "ticks": "",
            "zerolinecolor": "white"
           }
          },
          "shapedefaults": {
           "line": {
            "color": "#2a3f5f"
           }
          },
          "ternary": {
           "aaxis": {
            "gridcolor": "white",
            "linecolor": "white",
            "ticks": ""
           },
           "baxis": {
            "gridcolor": "white",
            "linecolor": "white",
            "ticks": ""
           },
           "bgcolor": "#E5ECF6",
           "caxis": {
            "gridcolor": "white",
            "linecolor": "white",
            "ticks": ""
           }
          },
          "title": {
           "x": 0.05
          },
          "xaxis": {
           "automargin": true,
           "gridcolor": "white",
           "linecolor": "white",
           "ticks": "",
           "title": {
            "standoff": 15
           },
           "zerolinecolor": "white",
           "zerolinewidth": 2
          },
          "yaxis": {
           "automargin": true,
           "gridcolor": "white",
           "linecolor": "white",
           "ticks": "",
           "title": {
            "standoff": 15
           },
           "zerolinecolor": "white",
           "zerolinewidth": 2
          }
         }
        },
        "title": {
         "text": "PCA - Beer styles"
        },
        "width": 1000,
        "xaxis": {
         "anchor": "y",
         "domain": [
          0,
          1
         ],
         "title": {
          "text": "x"
         }
        },
        "yaxis": {
         "anchor": "x",
         "domain": [
          0,
          1
         ],
         "title": {
          "text": "y"
         }
        }
       }
      }
     },
     "metadata": {},
     "output_type": "display_data"
    }
   ],
   "source": [
    "X_reduced_pca = PCA(n_components=2).fit(X).transform(X)\n",
    "\n",
    "# Plot the data reduced in 2d space with PCA\n",
    "fig = px.scatter(x=X_reduced_pca[:,0], y=X_reduced_pca[:,1], color=style_labels_merged, color_discrete_sequence=px.colors.qualitative.Light24)\n",
    "fig.update_layout(\n",
    "    title='PCA - Beer styles',\n",
    "    width=1000,\n",
    "    height=600,\n",
    ")\n",
    "fig.show()"
   ]
  },
  {
   "attachments": {},
   "cell_type": "markdown",
   "metadata": {},
   "source": [
    "The results are definitely not optimal but some beer styles within supra-styles do seem to fall closer to each others compared to randomly taken beer styles. Take the stouts (yellow) for example that are \"quite\" concentrated, or the Strong Ales. "
   ]
  },
  {
   "attachments": {},
   "cell_type": "markdown",
   "metadata": {},
   "source": [
    "We can repeat the analysis projecting the beer styles on other components of PCA."
   ]
  },
  {
   "cell_type": "markdown",
   "metadata": {},
   "source": []
  },
  {
   "cell_type": "code",
   "execution_count": null,
   "metadata": {},
   "outputs": [
    {
     "data": {
      "application/vnd.plotly.v1+json": {
       "config": {
        "plotlyServerURL": "https://plot.ly"
       },
       "data": [
        {
         "diagonal": {
          "visible": false
         },
         "dimensions": [
          {
           "axis": {
            "matches": true
           },
           "label": "PC 1 (98.9%)",
           "values": [
            0.035992422607745385,
            -0.18287174124010208,
            -1.0868064713727557,
            -0.16627318271316832,
            0.6361188268798262,
            1.0080190160197422,
            0.658310331448971
           ]
          },
          {
           "axis": {
            "matches": true
           },
           "label": "PC 2 (0.5%)",
           "values": [
            0.04980955123268095,
            0.11472732602049457,
            -0.02537741941326173,
            0.024380067826774713,
            -0.1166523913222905,
            0.24277958603537525,
            -0.15267854874005157
           ]
          },
          {
           "axis": {
            "matches": true
           },
           "label": "PC 3 (0.4%)",
           "values": [
            -0.1475332845447004,
            -0.04783449808916547,
            -0.01596940990031521,
            -0.2631361033559605,
            -0.07969512622002309,
            -0.15960743174702166,
            -0.21932535859833935
           ]
          },
          {
           "axis": {
            "matches": true
           },
           "label": "PC 4 (0.1%)",
           "values": [
            0.0267762530951703,
            -0.007174141638070319,
            0.014365341701745605,
            0.0594666751940358,
            0.12881734495652175,
            0.02627776258540235,
            0.06555036868172874
           ]
          }
         ],
         "hovertemplate": "color=Hybrid Beers<br>%{xaxis.title.text}=%{x}<br>%{yaxis.title.text}=%{y}<extra></extra>",
         "legendgroup": "Hybrid Beers",
         "marker": {
          "color": "#636efa",
          "symbol": "circle"
         },
         "name": "Hybrid Beers",
         "showlegend": true,
         "type": "splom"
        },
        {
         "diagonal": {
          "visible": false
         },
         "dimensions": [
          {
           "axis": {
            "matches": true
           },
           "label": "PC 1 (98.9%)",
           "values": [
            7.188625460538116,
            -1.4079090334078217,
            1.5661892016118917,
            0.702704950377579,
            0.5833879388636913,
            5.048795427012609,
            -1.3070858690626865,
            0.9414240163000547,
            -0.11955832651959039,
            0.28090173596168605
           ]
          },
          {
           "axis": {
            "matches": true
           },
           "label": "PC 2 (0.5%)",
           "values": [
            -0.3353961348506643,
            0.08210249857444636,
            -0.09571057587315164,
            -0.08985916875951593,
            -0.08324103220480669,
            -0.10621032738572586,
            0.2799530180648204,
            -0.10688028874884734,
            -0.07055747701845727,
            -0.2229226368113506
           ]
          },
          {
           "axis": {
            "matches": true
           },
           "label": "PC 3 (0.4%)",
           "values": [
            -0.2069116192668474,
            0.021956137319298633,
            -0.07200020667284145,
            -0.25110188071492706,
            -0.3605802374818593,
            -0.09560100456989586,
            -0.006788629210393231,
            -0.21463017031688286,
            -0.19174291018364029,
            -0.31068531838879077
           ]
          },
          {
           "axis": {
            "matches": true
           },
           "label": "PC 4 (0.1%)",
           "values": [
            -0.005965730170787369,
            0.09893115242239567,
            0.0702127064334419,
            0.040379490586904716,
            0.05288141172144766,
            0.05968446907797446,
            -0.0014417526746094507,
            0.039745150021961446,
            0.0851713378941319,
            0.03367014622909524
           ]
          }
         ],
         "hovertemplate": "color=Pilseners and Pale Lagers<br>%{xaxis.title.text}=%{x}<br>%{yaxis.title.text}=%{y}<extra></extra>",
         "legendgroup": "Pilseners and Pale Lagers",
         "marker": {
          "color": "#EF553B",
          "symbol": "circle"
         },
         "name": "Pilseners and Pale Lagers",
         "showlegend": true,
         "type": "splom"
        },
        {
         "diagonal": {
          "visible": false
         },
         "dimensions": [
          {
           "axis": {
            "matches": true
           },
           "label": "PC 1 (98.9%)",
           "values": [
            2.3515340390628454,
            1.6658049613808454,
            0.45312169304604727,
            0.2835706391777575,
            -0.1498568478441403,
            1.032378659410031
           ]
          },
          {
           "axis": {
            "matches": true
           },
           "label": "PC 2 (0.5%)",
           "values": [
            0.08870599215534605,
            0.30542596653070686,
            0.07383137655126487,
            -0.003204745122793295,
            0.19426534991131,
            0.023319543084446535
           ]
          },
          {
           "axis": {
            "matches": true
           },
           "label": "PC 3 (0.4%)",
           "values": [
            -0.20379421049209037,
            -0.01791237511454769,
            -0.1556359942060664,
            -0.20475964574918973,
            -0.17319674407713048,
            -0.2442172817525703
           ]
          },
          {
           "axis": {
            "matches": true
           },
           "label": "PC 4 (0.1%)",
           "values": [
            -0.02035966696909145,
            -0.07827111090824466,
            -0.07625849715845368,
            0.02371234332425211,
            -0.05259337658396185,
            -0.03245406598505994
           ]
          }
         ],
         "hovertemplate": "color=Dark Lagers<br>%{xaxis.title.text}=%{x}<br>%{yaxis.title.text}=%{y}<extra></extra>",
         "legendgroup": "Dark Lagers",
         "marker": {
          "color": "#00cc96",
          "symbol": "circle"
         },
         "name": "Dark Lagers",
         "showlegend": true,
         "type": "splom"
        },
        {
         "diagonal": {
          "visible": false
         },
         "dimensions": [
          {
           "axis": {
            "matches": true
           },
           "label": "PC 1 (98.9%)",
           "values": [
            -2.068032084745507,
            -2.0691751462132153,
            -1.416679938822442,
            -2.4059068366346708,
            -0.3690032698649294,
            -2.065871534129661
           ]
          },
          {
           "axis": {
            "matches": true
           },
           "label": "PC 2 (0.5%)",
           "values": [
            -0.017065697216642493,
            0.0027545733100327397,
            -0.017161380675218472,
            -0.24140782423794907,
            -0.006024230284876705,
            -0.2227725420122578
           ]
          },
          {
           "axis": {
            "matches": true
           },
           "label": "PC 3 (0.4%)",
           "values": [
            0.10968099474708426,
            0.11863498182213611,
            0.047805447278358615,
            0.11654504189394885,
            0.0715832057335733,
            0.11939365272754654
           ]
          },
          {
           "axis": {
            "matches": true
           },
           "label": "PC 4 (0.1%)",
           "values": [
            0.10133693265325867,
            0.06487862660210605,
            0.04671573805992124,
            0.030971085302311206,
            0.07304183411076819,
            0.003117306970467305
           ]
          }
         ],
         "hovertemplate": "color=Strong Ales<br>%{xaxis.title.text}=%{x}<br>%{yaxis.title.text}=%{y}<extra></extra>",
         "legendgroup": "Strong Ales",
         "marker": {
          "color": "#ab63fa",
          "symbol": "circle"
         },
         "name": "Strong Ales",
         "showlegend": true,
         "type": "splom"
        },
        {
         "diagonal": {
          "visible": false
         },
         "dimensions": [
          {
           "axis": {
            "matches": true
           },
           "label": "PC 1 (98.9%)",
           "values": [
            -1.667742034637962,
            1.4217293968641689,
            0.8934035588643603,
            -2.6621900466925306,
            0.08180326971933831,
            -1.092904871068252,
            -0.2818311876149001,
            -1.0230735858431834,
            -0.34896733669959457,
            0.0020810005816564894,
            -0.686067219270869
           ]
          },
          {
           "axis": {
            "matches": true
           },
           "label": "PC 2 (0.5%)",
           "values": [
            0.24982385710889313,
            -0.06341496009252766,
            -0.062254198204559276,
            0.04025256500482327,
            -0.0843529772057367,
            -0.0714981067403786,
            -0.16438999726496678,
            0.007982008757824137,
            -0.3394310664194655,
            -0.3154970402169214,
            0.10054016528375043
           ]
          },
          {
           "axis": {
            "matches": true
           },
           "label": "PC 3 (0.4%)",
           "values": [
            -0.002489377552442294,
            0.3602258320226599,
            0.3331110818110965,
            0.06997115410409589,
            0.306676790580025,
            0.24888310828807056,
            -0.017323665832257935,
            -0.03223844219070729,
            0.24656720453136144,
            0.20832987305063133,
            0.1411009305858532
           ]
          },
          {
           "axis": {
            "matches": true
           },
           "label": "PC 4 (0.1%)",
           "values": [
            0.028062833942416467,
            -0.0527402671303195,
            -0.011603585125480455,
            -0.05662020940261862,
            -0.12746346354249066,
            -0.07836869306287912,
            -0.0023763805132264843,
            0.02749384296350112,
            -0.008498611728038348,
            -0.0990172575601925,
            -0.022892503849860305
           ]
          }
         ],
         "hovertemplate": "color=Specialty Beers<br>%{xaxis.title.text}=%{x}<br>%{yaxis.title.text}=%{y}<extra></extra>",
         "legendgroup": "Specialty Beers",
         "marker": {
          "color": "#FFA15A",
          "symbol": "circle"
         },
         "name": "Specialty Beers",
         "showlegend": true,
         "type": "splom"
        },
        {
         "diagonal": {
          "visible": false
         },
         "dimensions": [
          {
           "axis": {
            "matches": true
           },
           "label": "PC 1 (98.9%)",
           "values": [
            1.1854900996162665,
            -1.003623271384244,
            0.8091483924103958,
            1.1235760942083275,
            -0.0173065911051562
           ]
          },
          {
           "axis": {
            "matches": true
           },
           "label": "PC 2 (0.5%)",
           "values": [
            -0.08624562078195981,
            -0.018462936264221606,
            0.06613298177854678,
            0.090462348007161,
            0.07032183208664317
           ]
          },
          {
           "axis": {
            "matches": true
           },
           "label": "PC 3 (0.4%)",
           "values": [
            -0.047921292970994775,
            -0.0328195453319035,
            -0.19290421320471074,
            -0.21186178880434237,
            -0.18580813421034473
           ]
          },
          {
           "axis": {
            "matches": true
           },
           "label": "PC 4 (0.1%)",
           "values": [
            0.0337097890113971,
            -0.0208241413166935,
            -0.06298286731369182,
            -0.00949533014946141,
            -0.0037829959322130484
           ]
          }
         ],
         "hovertemplate": "color=Pale Ales<br>%{xaxis.title.text}=%{x}<br>%{yaxis.title.text}=%{y}<extra></extra>",
         "legendgroup": "Pale Ales",
         "marker": {
          "color": "#19d3f3",
          "symbol": "circle"
         },
         "name": "Pale Ales",
         "showlegend": true,
         "type": "splom"
        },
        {
         "diagonal": {
          "visible": false
         },
         "dimensions": [
          {
           "axis": {
            "matches": true
           },
           "label": "PC 1 (98.9%)",
           "values": [
            -0.8378802242222103,
            0.35677485393204567,
            0.3938989226904559,
            0.996573655372235
           ]
          },
          {
           "axis": {
            "matches": true
           },
           "label": "PC 2 (0.5%)",
           "values": [
            -0.00023675811229556355,
            0.006406962381461726,
            0.08062279756873955,
            -0.0685913851691649
           ]
          },
          {
           "axis": {
            "matches": true
           },
           "label": "PC 3 (0.4%)",
           "values": [
            0.030454181905356047,
            -0.07376750914343008,
            -0.17335012113815162,
            -0.08682508119505021
           ]
          },
          {
           "axis": {
            "matches": true
           },
           "label": "PC 4 (0.1%)",
           "values": [
            -0.04563058625722644,
            -0.1646175687036164,
            -0.12525707680206216,
            -0.009248849853330516
           ]
          }
         ],
         "hovertemplate": "color=Brown Ales<br>%{xaxis.title.text}=%{x}<br>%{yaxis.title.text}=%{y}<extra></extra>",
         "legendgroup": "Brown Ales",
         "marker": {
          "color": "#FF6692",
          "symbol": "circle"
         },
         "name": "Brown Ales",
         "showlegend": true,
         "type": "splom"
        },
        {
         "diagonal": {
          "visible": false
         },
         "dimensions": [
          {
           "axis": {
            "matches": true
           },
           "label": "PC 1 (98.9%)",
           "values": [
            0.7050664959731227,
            0.637810810681036,
            -1.7326097355480181,
            -0.43955590226055236,
            -0.4411545814087404,
            0.7360186823031265,
            -1.5309945728038146,
            0.4585545801264784
           ]
          },
          {
           "axis": {
            "matches": true
           },
           "label": "PC 2 (0.5%)",
           "values": [
            0.03768891648075382,
            -0.12962565938477857,
            -0.08757576359295968,
            0.07132826787924354,
            -0.08720116703297077,
            -0.03517535965971192,
            -0.1483857638730257,
            -0.12999816192889066
           ]
          },
          {
           "axis": {
            "matches": true
           },
           "label": "PC 3 (0.4%)",
           "values": [
            0.06298728854101576,
            -0.05398908796590743,
            -0.06479265184379834,
            -0.02044811835665483,
            -0.08227142607783532,
            -0.19225587094876773,
            0.17745975555027813,
            0.00806802630297411
           ]
          },
          {
           "axis": {
            "matches": true
           },
           "label": "PC 4 (0.1%)",
           "values": [
            -0.04568140139835687,
            -0.01689195205660856,
            0.04894294653508915,
            -0.08974942633431789,
            -0.09935840263822017,
            -0.08779169015783482,
            0.10981933116839337,
            -0.05221890515453185
           ]
          }
         ],
         "hovertemplate": "color=Wheat Beers<br>%{xaxis.title.text}=%{x}<br>%{yaxis.title.text}=%{y}<extra></extra>",
         "legendgroup": "Wheat Beers",
         "marker": {
          "color": "#B6E880",
          "symbol": "circle"
         },
         "name": "Wheat Beers",
         "showlegend": true,
         "type": "splom"
        },
        {
         "diagonal": {
          "visible": false
         },
         "dimensions": [
          {
           "axis": {
            "matches": true
           },
           "label": "PC 1 (98.9%)",
           "values": [
            -3.013240895068065,
            -1.6918022557035168,
            -1.3125618799364296,
            0.6856594568726018
           ]
          },
          {
           "axis": {
            "matches": true
           },
           "label": "PC 2 (0.5%)",
           "values": [
            -0.008116580761053383,
            0.0038008779444840793,
            0.08134526016521605,
            0.10183169201261509
           ]
          },
          {
           "axis": {
            "matches": true
           },
           "label": "PC 3 (0.4%)",
           "values": [
            0.01953712555470816,
            0.013887155656245653,
            0.05730707841588148,
            -0.05931712209659917
           ]
          },
          {
           "axis": {
            "matches": true
           },
           "label": "PC 4 (0.1%)",
           "values": [
            0.01976676664460728,
            -0.004013376532764205,
            0.019327606384802232,
            0.055494954426615346
           ]
          }
         ],
         "hovertemplate": "color=India Pale Ales<br>%{xaxis.title.text}=%{x}<br>%{yaxis.title.text}=%{y}<extra></extra>",
         "legendgroup": "India Pale Ales",
         "marker": {
          "color": "#FF97FF",
          "symbol": "circle"
         },
         "name": "India Pale Ales",
         "showlegend": true,
         "type": "splom"
        },
        {
         "diagonal": {
          "visible": false
         },
         "dimensions": [
          {
           "axis": {
            "matches": true
           },
           "label": "PC 1 (98.9%)",
           "values": [
            -3.7556199554613565,
            -1.1951646598581054,
            -0.6788512697200272,
            -0.14292620900208608,
            -1.888749192734784,
            -1.5274670071396654,
            -3.1771889662464736
           ]
          },
          {
           "axis": {
            "matches": true
           },
           "label": "PC 2 (0.5%)",
           "values": [
            0.10526899586598525,
            0.2126279238949936,
            0.21283656723081718,
            0.7256226106000955,
            0.10733719313862106,
            0.19633856920845755,
            0.21365550304038233
           ]
          },
          {
           "axis": {
            "matches": true
           },
           "label": "PC 3 (0.4%)",
           "values": [
            -0.01356902319670349,
            0.12849604775092457,
            0.0625276277613723,
            -0.19718551844362767,
            0.06329261348320188,
            -0.017048428343094807,
            -0.028861783367100952
           ]
          },
          {
           "axis": {
            "matches": true
           },
           "label": "PC 4 (0.1%)",
           "values": [
            0.024709665322004554,
            -0.09912893903047576,
            -0.13296685139025466,
            -0.03997996475887577,
            -0.039315564975255346,
            -0.036092926956724766,
            0.09657333122038093
           ]
          }
         ],
         "hovertemplate": "color=Stouts<br>%{xaxis.title.text}=%{x}<br>%{yaxis.title.text}=%{y}<extra></extra>",
         "legendgroup": "Stouts",
         "marker": {
          "color": "#FECB52",
          "symbol": "circle"
         },
         "name": "Stouts",
         "showlegend": true,
         "type": "splom"
        },
        {
         "diagonal": {
          "visible": false
         },
         "dimensions": [
          {
           "axis": {
            "matches": true
           },
           "label": "PC 1 (98.9%)",
           "values": [
            8.17671204366325,
            -1.0363652520953377,
            2.1241026257558,
            -0.363194207432454,
            1.462583062779206,
            5.552105806695227,
            5.882860271052097,
            5.578951132363806,
            -0.3875728132374535,
            2.3293368172446756,
            9.784736183802293,
            8.18698086440156,
            -0.052506769488354935
           ]
          },
          {
           "axis": {
            "matches": true
           },
           "label": "PC 2 (0.5%)",
           "values": [
            -0.019395814472263143,
            0.4711188563544123,
            0.3263574809132163,
            -0.10799528737233924,
            -0.06388695601778117,
            0.32540889620446556,
            0.0025365811427926674,
            -0.2556045240676492,
            -0.01195096261528208,
            -0.005301530783861883,
            -0.4591976034316869,
            0.45510415615899136,
            0.14586361462260802
           ]
          },
          {
           "axis": {
            "matches": true
           },
           "label": "PC 3 (0.4%)",
           "values": [
            0.1629176842923332,
            0.10671574870733713,
            -0.07327753810133349,
            0.1923188288144793,
            0.38749612100219294,
            0.38713416877552925,
            0.06468041759419477,
            -0.12549084276079397,
            -0.20006079441568578,
            0.24015251477969307,
            -0.04796673028456594,
            0.43587057381535815,
            0.11288798168419344
           ]
          },
          {
           "axis": {
            "matches": true
           },
           "label": "PC 4 (0.1%)",
           "values": [
            0.1740603368142297,
            0.23600333873594123,
            -0.11933594339185533,
            0.04937537380723188,
            0.028285463691663584,
            0.21853043641738373,
            -0.04154500940637877,
            0.07713727377596236,
            0.09817659928790565,
            -0.21490240092293306,
            -0.12870318604897443,
            -0.002587746565118017,
            -0.008253027603705913
           ]
          }
         ],
         "hovertemplate": "color=Undefined<br>%{xaxis.title.text}=%{x}<br>%{yaxis.title.text}=%{y}<extra></extra>",
         "legendgroup": "Undefined",
         "marker": {
          "color": "#636efa",
          "symbol": "circle"
         },
         "name": "Undefined",
         "showlegend": true,
         "type": "splom"
        },
        {
         "diagonal": {
          "visible": false
         },
         "dimensions": [
          {
           "axis": {
            "matches": true
           },
           "label": "PC 1 (98.9%)",
           "values": [
            -1.6550905464642192,
            -1.9821919893360385,
            -1.0176976471089074
           ]
          },
          {
           "axis": {
            "matches": true
           },
           "label": "PC 2 (0.5%)",
           "values": [
            0.09704433165662081,
            0.07658624727501222,
            0.07753812740165848
           ]
          },
          {
           "axis": {
            "matches": true
           },
           "label": "PC 3 (0.4%)",
           "values": [
            0.04272867995916646,
            -0.005467491998619748,
            0.019831973969156813
           ]
          },
          {
           "axis": {
            "matches": true
           },
           "label": "PC 4 (0.1%)",
           "values": [
            -0.09576506445525612,
            0.022095172839355342,
            -0.13220897713950372
           ]
          }
         ],
         "hovertemplate": "color=Porters<br>%{xaxis.title.text}=%{x}<br>%{yaxis.title.text}=%{y}<extra></extra>",
         "legendgroup": "Porters",
         "marker": {
          "color": "#EF553B",
          "symbol": "circle"
         },
         "name": "Porters",
         "showlegend": true,
         "type": "splom"
        },
        {
         "diagonal": {
          "visible": false
         },
         "dimensions": [
          {
           "axis": {
            "matches": true
           },
           "label": "PC 1 (98.9%)",
           "values": [
            -2.7844151250886195,
            0.2746335581763375,
            -1.7889813607762863,
            -2.5959454285066723,
            -1.2949253568987686,
            -3.520690784804038,
            -2.5953814461283087
           ]
          },
          {
           "axis": {
            "matches": true
           },
           "label": "PC 2 (0.5%)",
           "values": [
            -0.15312912360083186,
            0.01437348986362379,
            -0.1564138509227403,
            -0.16673458443931458,
            -0.13794331641519866,
            -0.1946534002835098,
            -0.2962968746069349
           ]
          },
          {
           "axis": {
            "matches": true
           },
           "label": "PC 3 (0.4%)",
           "values": [
            0.00013302013439996785,
            0.2089027914523856,
            0.08383675265787252,
            0.003596012319907735,
            -0.049290447337179924,
            -0.03448536060515204,
            0.06352481092146674
           ]
          },
          {
           "axis": {
            "matches": true
           },
           "label": "PC 4 (0.1%)",
           "values": [
            -0.025329860333574417,
            0.06801470709911385,
            -0.05377959658160346,
            -0.04049940731190914,
            0.08644972461776036,
            -0.027120842665470317,
            -0.11422908830152592
           ]
          }
         ],
         "hovertemplate": "color=Wild/Sour Beers<br>%{xaxis.title.text}=%{x}<br>%{yaxis.title.text}=%{y}<extra></extra>",
         "legendgroup": "Wild/Sour Beers",
         "marker": {
          "color": "#00cc96",
          "symbol": "circle"
         },
         "name": "Wild/Sour Beers",
         "showlegend": true,
         "type": "splom"
        },
        {
         "diagonal": {
          "visible": false
         },
         "dimensions": [
          {
           "axis": {
            "matches": true
           },
           "label": "PC 1 (98.9%)",
           "values": [
            -0.02945027490269522,
            -0.34489363126840555,
            -1.8836206697662141,
            -1.2700507601349273,
            -3.0757280533840876,
            -1.7240293208318949,
            -1.5221827464789424
           ]
          },
          {
           "axis": {
            "matches": true
           },
           "label": "PC 2 (0.5%)",
           "values": [
            0.26439893667270337,
            0.058776473364694604,
            -0.012545481968603922,
            0.06962148893410465,
            -0.11305988242844782,
            0.012450703030434187,
            -0.0719295776314144
           ]
          },
          {
           "axis": {
            "matches": true
           },
           "label": "PC 3 (0.4%)",
           "values": [
            0.0907540578208176,
            0.022028482287374057,
            0.07387372385849116,
            0.014566187090585925,
            -0.0022042514616776275,
            0.015019142277961396,
            0.022721380966060214
           ]
          },
          {
           "axis": {
            "matches": true
           },
           "label": "PC 4 (0.1%)",
           "values": [
            -0.03150138457557482,
            0.002907519613744479,
            0.03130246448759084,
            -0.013213484496924813,
            0.035402678334760816,
            0.02867551748866733,
            0.04311975714592195
           ]
          }
         ],
         "hovertemplate": "color=Belgian Styles<br>%{xaxis.title.text}=%{x}<br>%{yaxis.title.text}=%{y}<extra></extra>",
         "legendgroup": "Belgian Styles",
         "marker": {
          "color": "#ab63fa",
          "symbol": "circle"
         },
         "name": "Belgian Styles",
         "showlegend": true,
         "type": "splom"
        },
        {
         "diagonal": {
          "visible": false
         },
         "dimensions": [
          {
           "axis": {
            "matches": true
           },
           "label": "PC 1 (98.9%)",
           "values": [
            1.147944845598997,
            -1.2611830088217961,
            -2.68598998440616,
            -2.088817275463682
           ]
          },
          {
           "axis": {
            "matches": true
           },
           "label": "PC 2 (0.5%)",
           "values": [
            0.11984625784460393,
            -0.10825219972150923,
            -0.4169594593540035,
            -0.14492513337331114
           ]
          },
          {
           "axis": {
            "matches": true
           },
           "label": "PC 3 (0.4%)",
           "values": [
            -0.10433126266289099,
            0.007719034072881751,
            0.1974893696821856,
            0.043464281366048754
           ]
          },
          {
           "axis": {
            "matches": true
           },
           "label": "PC 4 (0.1%)",
           "values": [
            -0.004901110431777809,
            0.06526170990568592,
            0.10336104715352062,
            -0.000997573695500652
           ]
          }
         ],
         "hovertemplate": "color=Bocks<br>%{xaxis.title.text}=%{x}<br>%{yaxis.title.text}=%{y}<extra></extra>",
         "legendgroup": "Bocks",
         "marker": {
          "color": "#FFA15A",
          "symbol": "circle"
         },
         "name": "Bocks",
         "showlegend": true,
         "type": "splom"
        },
        {
         "diagonal": {
          "visible": false
         },
         "dimensions": [
          {
           "axis": {
            "matches": true
           },
           "label": "PC 1 (98.9%)",
           "values": [
            -1.5639578760061876,
            0.06395026138338807
           ]
          },
          {
           "axis": {
            "matches": true
           },
           "label": "PC 2 (0.5%)",
           "values": [
            -0.1429967467888664,
            0.07143984750184891
           ]
          },
          {
           "axis": {
            "matches": true
           },
           "label": "PC 3 (0.4%)",
           "values": [
            0.020072859300701667,
            -0.09263657452494678
           ]
          },
          {
           "axis": {
            "matches": true
           },
           "label": "PC 4 (0.1%)",
           "values": [
            0.02007529558075319,
            -0.02383712639795394
           ]
          }
         ],
         "hovertemplate": "color=Scottish-Style Ales<br>%{xaxis.title.text}=%{x}<br>%{yaxis.title.text}=%{y}<extra></extra>",
         "legendgroup": "Scottish-Style Ales",
         "marker": {
          "color": "#19d3f3",
          "symbol": "circle"
         },
         "name": "Scottish-Style Ales",
         "showlegend": true,
         "type": "splom"
        }
       ],
       "layout": {
        "dragmode": "select",
        "height": 600,
        "legend": {
         "title": {
          "text": "color"
         },
         "tracegroupgap": 0
        },
        "margin": {
         "t": 60
        },
        "template": {
         "data": {
          "bar": [
           {
            "error_x": {
             "color": "#2a3f5f"
            },
            "error_y": {
             "color": "#2a3f5f"
            },
            "marker": {
             "line": {
              "color": "#E5ECF6",
              "width": 0.5
             },
             "pattern": {
              "fillmode": "overlay",
              "size": 10,
              "solidity": 0.2
             }
            },
            "type": "bar"
           }
          ],
          "barpolar": [
           {
            "marker": {
             "line": {
              "color": "#E5ECF6",
              "width": 0.5
             },
             "pattern": {
              "fillmode": "overlay",
              "size": 10,
              "solidity": 0.2
             }
            },
            "type": "barpolar"
           }
          ],
          "carpet": [
           {
            "aaxis": {
             "endlinecolor": "#2a3f5f",
             "gridcolor": "white",
             "linecolor": "white",
             "minorgridcolor": "white",
             "startlinecolor": "#2a3f5f"
            },
            "baxis": {
             "endlinecolor": "#2a3f5f",
             "gridcolor": "white",
             "linecolor": "white",
             "minorgridcolor": "white",
             "startlinecolor": "#2a3f5f"
            },
            "type": "carpet"
           }
          ],
          "choropleth": [
           {
            "colorbar": {
             "outlinewidth": 0,
             "ticks": ""
            },
            "type": "choropleth"
           }
          ],
          "contour": [
           {
            "colorbar": {
             "outlinewidth": 0,
             "ticks": ""
            },
            "colorscale": [
             [
              0,
              "#0d0887"
             ],
             [
              0.1111111111111111,
              "#46039f"
             ],
             [
              0.2222222222222222,
              "#7201a8"
             ],
             [
              0.3333333333333333,
              "#9c179e"
             ],
             [
              0.4444444444444444,
              "#bd3786"
             ],
             [
              0.5555555555555556,
              "#d8576b"
             ],
             [
              0.6666666666666666,
              "#ed7953"
             ],
             [
              0.7777777777777778,
              "#fb9f3a"
             ],
             [
              0.8888888888888888,
              "#fdca26"
             ],
             [
              1,
              "#f0f921"
             ]
            ],
            "type": "contour"
           }
          ],
          "contourcarpet": [
           {
            "colorbar": {
             "outlinewidth": 0,
             "ticks": ""
            },
            "type": "contourcarpet"
           }
          ],
          "heatmap": [
           {
            "colorbar": {
             "outlinewidth": 0,
             "ticks": ""
            },
            "colorscale": [
             [
              0,
              "#0d0887"
             ],
             [
              0.1111111111111111,
              "#46039f"
             ],
             [
              0.2222222222222222,
              "#7201a8"
             ],
             [
              0.3333333333333333,
              "#9c179e"
             ],
             [
              0.4444444444444444,
              "#bd3786"
             ],
             [
              0.5555555555555556,
              "#d8576b"
             ],
             [
              0.6666666666666666,
              "#ed7953"
             ],
             [
              0.7777777777777778,
              "#fb9f3a"
             ],
             [
              0.8888888888888888,
              "#fdca26"
             ],
             [
              1,
              "#f0f921"
             ]
            ],
            "type": "heatmap"
           }
          ],
          "heatmapgl": [
           {
            "colorbar": {
             "outlinewidth": 0,
             "ticks": ""
            },
            "colorscale": [
             [
              0,
              "#0d0887"
             ],
             [
              0.1111111111111111,
              "#46039f"
             ],
             [
              0.2222222222222222,
              "#7201a8"
             ],
             [
              0.3333333333333333,
              "#9c179e"
             ],
             [
              0.4444444444444444,
              "#bd3786"
             ],
             [
              0.5555555555555556,
              "#d8576b"
             ],
             [
              0.6666666666666666,
              "#ed7953"
             ],
             [
              0.7777777777777778,
              "#fb9f3a"
             ],
             [
              0.8888888888888888,
              "#fdca26"
             ],
             [
              1,
              "#f0f921"
             ]
            ],
            "type": "heatmapgl"
           }
          ],
          "histogram": [
           {
            "marker": {
             "pattern": {
              "fillmode": "overlay",
              "size": 10,
              "solidity": 0.2
             }
            },
            "type": "histogram"
           }
          ],
          "histogram2d": [
           {
            "colorbar": {
             "outlinewidth": 0,
             "ticks": ""
            },
            "colorscale": [
             [
              0,
              "#0d0887"
             ],
             [
              0.1111111111111111,
              "#46039f"
             ],
             [
              0.2222222222222222,
              "#7201a8"
             ],
             [
              0.3333333333333333,
              "#9c179e"
             ],
             [
              0.4444444444444444,
              "#bd3786"
             ],
             [
              0.5555555555555556,
              "#d8576b"
             ],
             [
              0.6666666666666666,
              "#ed7953"
             ],
             [
              0.7777777777777778,
              "#fb9f3a"
             ],
             [
              0.8888888888888888,
              "#fdca26"
             ],
             [
              1,
              "#f0f921"
             ]
            ],
            "type": "histogram2d"
           }
          ],
          "histogram2dcontour": [
           {
            "colorbar": {
             "outlinewidth": 0,
             "ticks": ""
            },
            "colorscale": [
             [
              0,
              "#0d0887"
             ],
             [
              0.1111111111111111,
              "#46039f"
             ],
             [
              0.2222222222222222,
              "#7201a8"
             ],
             [
              0.3333333333333333,
              "#9c179e"
             ],
             [
              0.4444444444444444,
              "#bd3786"
             ],
             [
              0.5555555555555556,
              "#d8576b"
             ],
             [
              0.6666666666666666,
              "#ed7953"
             ],
             [
              0.7777777777777778,
              "#fb9f3a"
             ],
             [
              0.8888888888888888,
              "#fdca26"
             ],
             [
              1,
              "#f0f921"
             ]
            ],
            "type": "histogram2dcontour"
           }
          ],
          "mesh3d": [
           {
            "colorbar": {
             "outlinewidth": 0,
             "ticks": ""
            },
            "type": "mesh3d"
           }
          ],
          "parcoords": [
           {
            "line": {
             "colorbar": {
              "outlinewidth": 0,
              "ticks": ""
             }
            },
            "type": "parcoords"
           }
          ],
          "pie": [
           {
            "automargin": true,
            "type": "pie"
           }
          ],
          "scatter": [
           {
            "fillpattern": {
             "fillmode": "overlay",
             "size": 10,
             "solidity": 0.2
            },
            "type": "scatter"
           }
          ],
          "scatter3d": [
           {
            "line": {
             "colorbar": {
              "outlinewidth": 0,
              "ticks": ""
             }
            },
            "marker": {
             "colorbar": {
              "outlinewidth": 0,
              "ticks": ""
             }
            },
            "type": "scatter3d"
           }
          ],
          "scattercarpet": [
           {
            "marker": {
             "colorbar": {
              "outlinewidth": 0,
              "ticks": ""
             }
            },
            "type": "scattercarpet"
           }
          ],
          "scattergeo": [
           {
            "marker": {
             "colorbar": {
              "outlinewidth": 0,
              "ticks": ""
             }
            },
            "type": "scattergeo"
           }
          ],
          "scattergl": [
           {
            "marker": {
             "colorbar": {
              "outlinewidth": 0,
              "ticks": ""
             }
            },
            "type": "scattergl"
           }
          ],
          "scattermapbox": [
           {
            "marker": {
             "colorbar": {
              "outlinewidth": 0,
              "ticks": ""
             }
            },
            "type": "scattermapbox"
           }
          ],
          "scatterpolar": [
           {
            "marker": {
             "colorbar": {
              "outlinewidth": 0,
              "ticks": ""
             }
            },
            "type": "scatterpolar"
           }
          ],
          "scatterpolargl": [
           {
            "marker": {
             "colorbar": {
              "outlinewidth": 0,
              "ticks": ""
             }
            },
            "type": "scatterpolargl"
           }
          ],
          "scatterternary": [
           {
            "marker": {
             "colorbar": {
              "outlinewidth": 0,
              "ticks": ""
             }
            },
            "type": "scatterternary"
           }
          ],
          "surface": [
           {
            "colorbar": {
             "outlinewidth": 0,
             "ticks": ""
            },
            "colorscale": [
             [
              0,
              "#0d0887"
             ],
             [
              0.1111111111111111,
              "#46039f"
             ],
             [
              0.2222222222222222,
              "#7201a8"
             ],
             [
              0.3333333333333333,
              "#9c179e"
             ],
             [
              0.4444444444444444,
              "#bd3786"
             ],
             [
              0.5555555555555556,
              "#d8576b"
             ],
             [
              0.6666666666666666,
              "#ed7953"
             ],
             [
              0.7777777777777778,
              "#fb9f3a"
             ],
             [
              0.8888888888888888,
              "#fdca26"
             ],
             [
              1,
              "#f0f921"
             ]
            ],
            "type": "surface"
           }
          ],
          "table": [
           {
            "cells": {
             "fill": {
              "color": "#EBF0F8"
             },
             "line": {
              "color": "white"
             }
            },
            "header": {
             "fill": {
              "color": "#C8D4E3"
             },
             "line": {
              "color": "white"
             }
            },
            "type": "table"
           }
          ]
         },
         "layout": {
          "annotationdefaults": {
           "arrowcolor": "#2a3f5f",
           "arrowhead": 0,
           "arrowwidth": 1
          },
          "autotypenumbers": "strict",
          "coloraxis": {
           "colorbar": {
            "outlinewidth": 0,
            "ticks": ""
           }
          },
          "colorscale": {
           "diverging": [
            [
             0,
             "#8e0152"
            ],
            [
             0.1,
             "#c51b7d"
            ],
            [
             0.2,
             "#de77ae"
            ],
            [
             0.3,
             "#f1b6da"
            ],
            [
             0.4,
             "#fde0ef"
            ],
            [
             0.5,
             "#f7f7f7"
            ],
            [
             0.6,
             "#e6f5d0"
            ],
            [
             0.7,
             "#b8e186"
            ],
            [
             0.8,
             "#7fbc41"
            ],
            [
             0.9,
             "#4d9221"
            ],
            [
             1,
             "#276419"
            ]
           ],
           "sequential": [
            [
             0,
             "#0d0887"
            ],
            [
             0.1111111111111111,
             "#46039f"
            ],
            [
             0.2222222222222222,
             "#7201a8"
            ],
            [
             0.3333333333333333,
             "#9c179e"
            ],
            [
             0.4444444444444444,
             "#bd3786"
            ],
            [
             0.5555555555555556,
             "#d8576b"
            ],
            [
             0.6666666666666666,
             "#ed7953"
            ],
            [
             0.7777777777777778,
             "#fb9f3a"
            ],
            [
             0.8888888888888888,
             "#fdca26"
            ],
            [
             1,
             "#f0f921"
            ]
           ],
           "sequentialminus": [
            [
             0,
             "#0d0887"
            ],
            [
             0.1111111111111111,
             "#46039f"
            ],
            [
             0.2222222222222222,
             "#7201a8"
            ],
            [
             0.3333333333333333,
             "#9c179e"
            ],
            [
             0.4444444444444444,
             "#bd3786"
            ],
            [
             0.5555555555555556,
             "#d8576b"
            ],
            [
             0.6666666666666666,
             "#ed7953"
            ],
            [
             0.7777777777777778,
             "#fb9f3a"
            ],
            [
             0.8888888888888888,
             "#fdca26"
            ],
            [
             1,
             "#f0f921"
            ]
           ]
          },
          "colorway": [
           "#636efa",
           "#EF553B",
           "#00cc96",
           "#ab63fa",
           "#FFA15A",
           "#19d3f3",
           "#FF6692",
           "#B6E880",
           "#FF97FF",
           "#FECB52"
          ],
          "font": {
           "color": "#2a3f5f"
          },
          "geo": {
           "bgcolor": "white",
           "lakecolor": "white",
           "landcolor": "#E5ECF6",
           "showlakes": true,
           "showland": true,
           "subunitcolor": "white"
          },
          "hoverlabel": {
           "align": "left"
          },
          "hovermode": "closest",
          "mapbox": {
           "style": "light"
          },
          "paper_bgcolor": "white",
          "plot_bgcolor": "#E5ECF6",
          "polar": {
           "angularaxis": {
            "gridcolor": "white",
            "linecolor": "white",
            "ticks": ""
           },
           "bgcolor": "#E5ECF6",
           "radialaxis": {
            "gridcolor": "white",
            "linecolor": "white",
            "ticks": ""
           }
          },
          "scene": {
           "xaxis": {
            "backgroundcolor": "#E5ECF6",
            "gridcolor": "white",
            "gridwidth": 2,
            "linecolor": "white",
            "showbackground": true,
            "ticks": "",
            "zerolinecolor": "white"
           },
           "yaxis": {
            "backgroundcolor": "#E5ECF6",
            "gridcolor": "white",
            "gridwidth": 2,
            "linecolor": "white",
            "showbackground": true,
            "ticks": "",
            "zerolinecolor": "white"
           },
           "zaxis": {
            "backgroundcolor": "#E5ECF6",
            "gridcolor": "white",
            "gridwidth": 2,
            "linecolor": "white",
            "showbackground": true,
            "ticks": "",
            "zerolinecolor": "white"
           }
          },
          "shapedefaults": {
           "line": {
            "color": "#2a3f5f"
           }
          },
          "ternary": {
           "aaxis": {
            "gridcolor": "white",
            "linecolor": "white",
            "ticks": ""
           },
           "baxis": {
            "gridcolor": "white",
            "linecolor": "white",
            "ticks": ""
           },
           "bgcolor": "#E5ECF6",
           "caxis": {
            "gridcolor": "white",
            "linecolor": "white",
            "ticks": ""
           }
          },
          "title": {
           "x": 0.05
          },
          "xaxis": {
           "automargin": true,
           "gridcolor": "white",
           "linecolor": "white",
           "ticks": "",
           "title": {
            "standoff": 15
           },
           "zerolinecolor": "white",
           "zerolinewidth": 2
          },
          "yaxis": {
           "automargin": true,
           "gridcolor": "white",
           "linecolor": "white",
           "ticks": "",
           "title": {
            "standoff": 15
           },
           "zerolinecolor": "white",
           "zerolinewidth": 2
          }
         }
        },
        "title": {
         "text": "PCA - Beer styles"
        },
        "width": 1000
       }
      }
     },
     "metadata": {},
     "output_type": "display_data"
    }
   ],
   "source": [
    "pca = PCA()\n",
    "components = pca.fit_transform(X)\n",
    "labels_var = {\n",
    "    str(i): f\"PC {i+1} ({var:.1f}%)\"\n",
    "    for i, var in enumerate(pca.explained_variance_ratio_ * 100)\n",
    "}\n",
    "\n",
    "fig = px.scatter_matrix(\n",
    "    components,\n",
    "    labels=labels_var,\n",
    "    dimensions=range(4),\n",
    "    color=style_labels_merged,\n",
    ")\n",
    "fig.update_traces(diagonal_visible=False)\n",
    "fig.update_layout(\n",
    "    title='PCA - Beer styles',\n",
    "    width=1000,\n",
    "    height=600,\n",
    ")\n",
    "fig.show()"
   ]
  },
  {
   "attachments": {},
   "cell_type": "markdown",
   "metadata": {},
   "source": [
    "Or with t-SNE:"
   ]
  },
  {
   "cell_type": "code",
   "execution_count": null,
   "metadata": {},
   "outputs": [
    {
     "data": {
      "application/vnd.plotly.v1+json": {
       "config": {
        "plotlyServerURL": "https://plot.ly"
       },
       "data": [
        {
         "hovertemplate": "color=Hybrid Beers<br>x=%{x}<br>y=%{y}<extra></extra>",
         "legendgroup": "Hybrid Beers",
         "marker": {
          "color": "#636efa",
          "symbol": "circle"
         },
         "mode": "markers",
         "name": "Hybrid Beers",
         "orientation": "v",
         "showlegend": true,
         "type": "scatter",
         "x": [
          -0.15490490198135376,
          0.3503181040287018,
          2.991659164428711,
          0.14502839744091034,
          -1.291303277015686,
          -1.5567771196365356,
          -0.9404659867286682
         ],
         "xaxis": "x",
         "y": [
          0.4367481768131256,
          -0.44943830370903015,
          -4.309151649475098,
          -0.45837685465812683,
          2.730170726776123,
          4.046708106994629,
          3.015082836151123
         ],
         "yaxis": "y"
        },
        {
         "hovertemplate": "color=Pilseners and Pale Lagers<br>x=%{x}<br>y=%{y}<extra></extra>",
         "legendgroup": "Pilseners and Pale Lagers",
         "marker": {
          "color": "#EF553B",
          "symbol": "circle"
         },
         "mode": "markers",
         "name": "Pilseners and Pale Lagers",
         "orientation": "v",
         "showlegend": true,
         "type": "scatter",
         "x": [
          -2.0946874618530273,
          3.3034586906433105,
          -2.455127477645874,
          -1.0113410949707031,
          -0.6906909346580505,
          -2.293203830718994,
          2.6980316638946533,
          -1.4481562376022339,
          0.4110863208770752,
          -0.27170050144195557
         ],
         "xaxis": "x",
         "y": [
          7.455506801605225,
          -5.5101542472839355,
          4.620792865753174,
          3.1743884086608887,
          2.8870623111724854,
          7.04617166519165,
          -5.3204193115234375,
          3.6834843158721924,
          -0.12978535890579224,
          1.9507312774658203
         ],
         "yaxis": "y"
        },
        {
         "hovertemplate": "color=Dark Lagers<br>x=%{x}<br>y=%{y}<extra></extra>",
         "legendgroup": "Dark Lagers",
         "marker": {
          "color": "#00cc96",
          "symbol": "circle"
         },
         "mode": "markers",
         "name": "Dark Lagers",
         "orientation": "v",
         "showlegend": true,
         "type": "scatter",
         "x": [
          -2.712188482284546,
          -2.4837429523468018,
          -1.0480401515960693,
          -0.6211384534835815,
          -0.07118275761604309,
          -1.5577205419540405
         ],
         "xaxis": "x",
         "y": [
          5.380506992340088,
          4.872035026550293,
          2.047952890396118,
          1.4820432662963867,
          -0.4608764052391052,
          3.955383062362671
         ],
         "yaxis": "y"
        },
        {
         "hovertemplate": "color=Strong Ales<br>x=%{x}<br>y=%{y}<extra></extra>",
         "legendgroup": "Strong Ales",
         "marker": {
          "color": "#ab63fa",
          "symbol": "circle"
         },
         "mode": "markers",
         "name": "Strong Ales",
         "orientation": "v",
         "showlegend": true,
         "type": "scatter",
         "x": [
          4.374743938446045,
          4.341957092285156,
          3.6155943870544434,
          5.010756015777588,
          1.0303583145141602,
          4.851178169250488
         ],
         "xaxis": "x",
         "y": [
          -7.4342851638793945,
          -7.458328723907471,
          -5.405431747436523,
          -8.015569686889648,
          -0.9436839818954468,
          -7.289896011352539
         ],
         "yaxis": "y"
        },
        {
         "hovertemplate": "color=Specialty Beers<br>x=%{x}<br>y=%{y}<extra></extra>",
         "legendgroup": "Specialty Beers",
         "marker": {
          "color": "#FFA15A",
          "symbol": "circle"
         },
         "mode": "markers",
         "name": "Specialty Beers",
         "orientation": "v",
         "showlegend": true,
         "type": "scatter",
         "x": [
          3.276937961578369,
          -2.87803316116333,
          -2.5129969120025635,
          4.679747581481934,
          0.7089855074882507,
          3.2011101245880127,
          1.0192031860351562,
          2.7608306407928467,
          1.6212913990020752,
          1.0807358026504517,
          1.8105292320251465
         ],
         "xaxis": "x",
         "y": [
          -6.480756759643555,
          4.264489650726318,
          3.241624116897583,
          -8.595053672790527,
          0.8639009594917297,
          -4.111983776092529,
          -0.5214246511459351,
          -4.089962959289551,
          -0.47883981466293335,
          0.5681876540184021,
          -2.5328664779663086
         ],
         "yaxis": "y"
        },
        {
         "hovertemplate": "color=Pale Ales<br>x=%{x}<br>y=%{y}<extra></extra>",
         "legendgroup": "Pale Ales",
         "marker": {
          "color": "#19d3f3",
          "symbol": "circle"
         },
         "mode": "markers",
         "name": "Pale Ales",
         "orientation": "v",
         "showlegend": true,
         "type": "scatter",
         "x": [
          -2.276495933532715,
          2.7261226177215576,
          -1.5086954832077026,
          -1.7644513845443726,
          -0.12108814716339111
         ],
         "xaxis": "x",
         "y": [
          3.9392378330230713,
          -3.943876266479492,
          3.3376576900482178,
          4.141529560089111,
          0.1791990101337433
         ],
         "yaxis": "y"
        },
        {
         "hovertemplate": "color=Brown Ales<br>x=%{x}<br>y=%{y}<extra></extra>",
         "legendgroup": "Brown Ales",
         "marker": {
          "color": "#FF6692",
          "symbol": "circle"
         },
         "mode": "markers",
         "name": "Brown Ales",
         "orientation": "v",
         "showlegend": true,
         "type": "scatter",
         "x": [
          2.3051047325134277,
          -0.8086572289466858,
          -0.9586495757102966,
          -1.9967975616455078
         ],
         "xaxis": "x",
         "y": [
          -3.3147261142730713,
          1.6956071853637695,
          1.831841230392456,
          3.5667545795440674
         ],
         "yaxis": "y"
        },
        {
         "hovertemplate": "color=Wheat Beers<br>x=%{x}<br>y=%{y}<extra></extra>",
         "legendgroup": "Wheat Beers",
         "marker": {
          "color": "#B6E880",
          "symbol": "circle"
         },
         "mode": "markers",
         "name": "Wheat Beers",
         "orientation": "v",
         "showlegend": true,
         "type": "scatter",
         "x": [
          -1.832844614982605,
          -1.3830389976501465,
          4.3040666580200195,
          0.9868295192718506,
          1.0964518785476685,
          -1.3015623092651367,
          4.217035293579102,
          -0.8726274967193604
         ],
         "xaxis": "x",
         "y": [
          2.782188653945923,
          2.6487162113189697,
          -6.358682632446289,
          -1.4132614135742188,
          -1.3090832233428955,
          3.1532115936279297,
          -5.633088111877441,
          2.2091877460479736
         ],
         "yaxis": "y"
        },
        {
         "hovertemplate": "color=India Pale Ales<br>x=%{x}<br>y=%{y}<extra></extra>",
         "legendgroup": "India Pale Ales",
         "marker": {
          "color": "#FF97FF",
          "symbol": "circle"
         },
         "mode": "markers",
         "name": "India Pale Ales",
         "orientation": "v",
         "showlegend": true,
         "type": "scatter",
         "x": [
          4.933806896209717,
          3.8812992572784424,
          3.126328945159912,
          -1.6715482473373413
         ],
         "xaxis": "x",
         "y": [
          -9.039310455322266,
          -6.36721134185791,
          -5.142162322998047,
          2.7856669425964355
         ],
         "yaxis": "y"
        },
        {
         "hovertemplate": "color=Stouts<br>x=%{x}<br>y=%{y}<extra></extra>",
         "legendgroup": "Stouts",
         "marker": {
          "color": "#FECB52",
          "symbol": "circle"
         },
         "mode": "markers",
         "name": "Stouts",
         "orientation": "v",
         "showlegend": true,
         "type": "scatter",
         "x": [
          4.990149021148682,
          2.642611026763916,
          1.6885906457901,
          -0.8157067894935608,
          3.842097043991089,
          3.1617324352264404,
          4.799924850463867
         ],
         "xaxis": "x",
         "y": [
          -9.588229179382324,
          -4.822231769561768,
          -2.4868485927581787,
          -0.8273563385009766,
          -7.0469441413879395,
          -5.980320453643799,
          -9.26071834564209
         ],
         "yaxis": "y"
        },
        {
         "hovertemplate": "color=Undefined<br>x=%{x}<br>y=%{y}<extra></extra>",
         "legendgroup": "Undefined",
         "marker": {
          "color": "#636efa",
          "symbol": "circle"
         },
         "mode": "markers",
         "name": "Undefined",
         "orientation": "v",
         "showlegend": true,
         "type": "scatter",
         "x": [
          -2.006282091140747,
          1.9480421543121338,
          -2.7107949256896973,
          1.353540301322937,
          -2.909435510635376,
          -2.249091148376465,
          -2.2193174362182617,
          -2.2456603050231934,
          0.5442723631858826,
          -2.8441855907440186,
          -1.9007418155670166,
          -2.003445625305176,
          0.3676355481147766
         ],
         "xaxis": "x",
         "y": [
          7.604278564453125,
          -4.6038079261779785,
          5.261383056640625,
          -0.7806828022003174,
          4.344704627990723,
          7.159036636352539,
          7.223793029785156,
          7.163947105407715,
          -1.1623809337615967,
          5.323268890380859,
          7.768967151641846,
          7.609283447265625,
          0.15526732802391052
         ],
         "yaxis": "y"
        },
        {
         "hovertemplate": "color=Porters<br>x=%{x}<br>y=%{y}<extra></extra>",
         "legendgroup": "Porters",
         "marker": {
          "color": "#EF553B",
          "symbol": "circle"
         },
         "mode": "markers",
         "name": "Porters",
         "orientation": "v",
         "showlegend": true,
         "type": "scatter",
         "x": [
          3.5294418334960938,
          4.033980846405029,
          2.608337163925171
         ],
         "xaxis": "x",
         "y": [
          -6.368527412414551,
          -7.25798225402832,
          -4.026913166046143
         ],
         "yaxis": "y"
        },
        {
         "hovertemplate": "color=Wild/Sour Beers<br>x=%{x}<br>y=%{y}<extra></extra>",
         "legendgroup": "Wild/Sour Beers",
         "marker": {
          "color": "#00cc96",
          "symbol": "circle"
         },
         "mode": "markers",
         "name": "Wild/Sour Beers",
         "orientation": "v",
         "showlegend": true,
         "type": "scatter",
         "x": [
          5.071255207061768,
          -0.03975875675678253,
          4.531076431274414,
          4.9324750900268555,
          3.727116584777832,
          5.149188995361328,
          5.228358268737793
         ],
         "xaxis": "x",
         "y": [
          -8.699543952941895,
          1.34651517868042,
          -6.528521537780762,
          -8.396726608276367,
          -4.8862810134887695,
          -9.425739288330078,
          -8.336337089538574
         ],
         "yaxis": "y"
        },
        {
         "hovertemplate": "color=Belgian Styles<br>x=%{x}<br>y=%{y}<extra></extra>",
         "legendgroup": "Belgian Styles",
         "marker": {
          "color": "#ab63fa",
          "symbol": "circle"
         },
         "mode": "markers",
         "name": "Belgian Styles",
         "orientation": "v",
         "showlegend": true,
         "type": "scatter",
         "x": [
          -0.1890985071659088,
          0.7720306515693665,
          4.311130523681641,
          3.12575364112854,
          5.208262920379639,
          3.8832621574401855,
          3.8732478618621826
         ],
         "xaxis": "x",
         "y": [
          -0.02814967930316925,
          -0.9630119800567627,
          -6.871707916259766,
          -4.961235046386719,
          -9.05783462524414,
          -6.49600076675415,
          -5.710543632507324
         ],
         "yaxis": "y"
        },
        {
         "hovertemplate": "color=Bocks<br>x=%{x}<br>y=%{y}<extra></extra>",
         "legendgroup": "Bocks",
         "marker": {
          "color": "#FFA15A",
          "symbol": "circle"
         },
         "mode": "markers",
         "name": "Bocks",
         "orientation": "v",
         "showlegend": true,
         "type": "scatter",
         "x": [
          -2.033425807952881,
          3.59790301322937,
          5.41343355178833,
          4.716111183166504
         ],
         "xaxis": "x",
         "y": [
          4.06957483291626,
          -4.788968086242676,
          -8.461705207824707,
          -7.366883277893066
         ],
         "yaxis": "y"
        },
        {
         "hovertemplate": "color=Scottish-Style Ales<br>x=%{x}<br>y=%{y}<extra></extra>",
         "legendgroup": "Scottish-Style Ales",
         "marker": {
          "color": "#19d3f3",
          "symbol": "circle"
         },
         "mode": "markers",
         "name": "Scottish-Style Ales",
         "orientation": "v",
         "showlegend": true,
         "type": "scatter",
         "x": [
          4.166712284088135,
          -0.16807836294174194
         ],
         "xaxis": "x",
         "y": [
          -5.783934593200684,
          0.5418030619621277
         ],
         "yaxis": "y"
        }
       ],
       "layout": {
        "height": 600,
        "legend": {
         "title": {
          "text": "color"
         },
         "tracegroupgap": 0
        },
        "margin": {
         "t": 60
        },
        "template": {
         "data": {
          "bar": [
           {
            "error_x": {
             "color": "#2a3f5f"
            },
            "error_y": {
             "color": "#2a3f5f"
            },
            "marker": {
             "line": {
              "color": "#E5ECF6",
              "width": 0.5
             },
             "pattern": {
              "fillmode": "overlay",
              "size": 10,
              "solidity": 0.2
             }
            },
            "type": "bar"
           }
          ],
          "barpolar": [
           {
            "marker": {
             "line": {
              "color": "#E5ECF6",
              "width": 0.5
             },
             "pattern": {
              "fillmode": "overlay",
              "size": 10,
              "solidity": 0.2
             }
            },
            "type": "barpolar"
           }
          ],
          "carpet": [
           {
            "aaxis": {
             "endlinecolor": "#2a3f5f",
             "gridcolor": "white",
             "linecolor": "white",
             "minorgridcolor": "white",
             "startlinecolor": "#2a3f5f"
            },
            "baxis": {
             "endlinecolor": "#2a3f5f",
             "gridcolor": "white",
             "linecolor": "white",
             "minorgridcolor": "white",
             "startlinecolor": "#2a3f5f"
            },
            "type": "carpet"
           }
          ],
          "choropleth": [
           {
            "colorbar": {
             "outlinewidth": 0,
             "ticks": ""
            },
            "type": "choropleth"
           }
          ],
          "contour": [
           {
            "colorbar": {
             "outlinewidth": 0,
             "ticks": ""
            },
            "colorscale": [
             [
              0,
              "#0d0887"
             ],
             [
              0.1111111111111111,
              "#46039f"
             ],
             [
              0.2222222222222222,
              "#7201a8"
             ],
             [
              0.3333333333333333,
              "#9c179e"
             ],
             [
              0.4444444444444444,
              "#bd3786"
             ],
             [
              0.5555555555555556,
              "#d8576b"
             ],
             [
              0.6666666666666666,
              "#ed7953"
             ],
             [
              0.7777777777777778,
              "#fb9f3a"
             ],
             [
              0.8888888888888888,
              "#fdca26"
             ],
             [
              1,
              "#f0f921"
             ]
            ],
            "type": "contour"
           }
          ],
          "contourcarpet": [
           {
            "colorbar": {
             "outlinewidth": 0,
             "ticks": ""
            },
            "type": "contourcarpet"
           }
          ],
          "heatmap": [
           {
            "colorbar": {
             "outlinewidth": 0,
             "ticks": ""
            },
            "colorscale": [
             [
              0,
              "#0d0887"
             ],
             [
              0.1111111111111111,
              "#46039f"
             ],
             [
              0.2222222222222222,
              "#7201a8"
             ],
             [
              0.3333333333333333,
              "#9c179e"
             ],
             [
              0.4444444444444444,
              "#bd3786"
             ],
             [
              0.5555555555555556,
              "#d8576b"
             ],
             [
              0.6666666666666666,
              "#ed7953"
             ],
             [
              0.7777777777777778,
              "#fb9f3a"
             ],
             [
              0.8888888888888888,
              "#fdca26"
             ],
             [
              1,
              "#f0f921"
             ]
            ],
            "type": "heatmap"
           }
          ],
          "heatmapgl": [
           {
            "colorbar": {
             "outlinewidth": 0,
             "ticks": ""
            },
            "colorscale": [
             [
              0,
              "#0d0887"
             ],
             [
              0.1111111111111111,
              "#46039f"
             ],
             [
              0.2222222222222222,
              "#7201a8"
             ],
             [
              0.3333333333333333,
              "#9c179e"
             ],
             [
              0.4444444444444444,
              "#bd3786"
             ],
             [
              0.5555555555555556,
              "#d8576b"
             ],
             [
              0.6666666666666666,
              "#ed7953"
             ],
             [
              0.7777777777777778,
              "#fb9f3a"
             ],
             [
              0.8888888888888888,
              "#fdca26"
             ],
             [
              1,
              "#f0f921"
             ]
            ],
            "type": "heatmapgl"
           }
          ],
          "histogram": [
           {
            "marker": {
             "pattern": {
              "fillmode": "overlay",
              "size": 10,
              "solidity": 0.2
             }
            },
            "type": "histogram"
           }
          ],
          "histogram2d": [
           {
            "colorbar": {
             "outlinewidth": 0,
             "ticks": ""
            },
            "colorscale": [
             [
              0,
              "#0d0887"
             ],
             [
              0.1111111111111111,
              "#46039f"
             ],
             [
              0.2222222222222222,
              "#7201a8"
             ],
             [
              0.3333333333333333,
              "#9c179e"
             ],
             [
              0.4444444444444444,
              "#bd3786"
             ],
             [
              0.5555555555555556,
              "#d8576b"
             ],
             [
              0.6666666666666666,
              "#ed7953"
             ],
             [
              0.7777777777777778,
              "#fb9f3a"
             ],
             [
              0.8888888888888888,
              "#fdca26"
             ],
             [
              1,
              "#f0f921"
             ]
            ],
            "type": "histogram2d"
           }
          ],
          "histogram2dcontour": [
           {
            "colorbar": {
             "outlinewidth": 0,
             "ticks": ""
            },
            "colorscale": [
             [
              0,
              "#0d0887"
             ],
             [
              0.1111111111111111,
              "#46039f"
             ],
             [
              0.2222222222222222,
              "#7201a8"
             ],
             [
              0.3333333333333333,
              "#9c179e"
             ],
             [
              0.4444444444444444,
              "#bd3786"
             ],
             [
              0.5555555555555556,
              "#d8576b"
             ],
             [
              0.6666666666666666,
              "#ed7953"
             ],
             [
              0.7777777777777778,
              "#fb9f3a"
             ],
             [
              0.8888888888888888,
              "#fdca26"
             ],
             [
              1,
              "#f0f921"
             ]
            ],
            "type": "histogram2dcontour"
           }
          ],
          "mesh3d": [
           {
            "colorbar": {
             "outlinewidth": 0,
             "ticks": ""
            },
            "type": "mesh3d"
           }
          ],
          "parcoords": [
           {
            "line": {
             "colorbar": {
              "outlinewidth": 0,
              "ticks": ""
             }
            },
            "type": "parcoords"
           }
          ],
          "pie": [
           {
            "automargin": true,
            "type": "pie"
           }
          ],
          "scatter": [
           {
            "fillpattern": {
             "fillmode": "overlay",
             "size": 10,
             "solidity": 0.2
            },
            "type": "scatter"
           }
          ],
          "scatter3d": [
           {
            "line": {
             "colorbar": {
              "outlinewidth": 0,
              "ticks": ""
             }
            },
            "marker": {
             "colorbar": {
              "outlinewidth": 0,
              "ticks": ""
             }
            },
            "type": "scatter3d"
           }
          ],
          "scattercarpet": [
           {
            "marker": {
             "colorbar": {
              "outlinewidth": 0,
              "ticks": ""
             }
            },
            "type": "scattercarpet"
           }
          ],
          "scattergeo": [
           {
            "marker": {
             "colorbar": {
              "outlinewidth": 0,
              "ticks": ""
             }
            },
            "type": "scattergeo"
           }
          ],
          "scattergl": [
           {
            "marker": {
             "colorbar": {
              "outlinewidth": 0,
              "ticks": ""
             }
            },
            "type": "scattergl"
           }
          ],
          "scattermapbox": [
           {
            "marker": {
             "colorbar": {
              "outlinewidth": 0,
              "ticks": ""
             }
            },
            "type": "scattermapbox"
           }
          ],
          "scatterpolar": [
           {
            "marker": {
             "colorbar": {
              "outlinewidth": 0,
              "ticks": ""
             }
            },
            "type": "scatterpolar"
           }
          ],
          "scatterpolargl": [
           {
            "marker": {
             "colorbar": {
              "outlinewidth": 0,
              "ticks": ""
             }
            },
            "type": "scatterpolargl"
           }
          ],
          "scatterternary": [
           {
            "marker": {
             "colorbar": {
              "outlinewidth": 0,
              "ticks": ""
             }
            },
            "type": "scatterternary"
           }
          ],
          "surface": [
           {
            "colorbar": {
             "outlinewidth": 0,
             "ticks": ""
            },
            "colorscale": [
             [
              0,
              "#0d0887"
             ],
             [
              0.1111111111111111,
              "#46039f"
             ],
             [
              0.2222222222222222,
              "#7201a8"
             ],
             [
              0.3333333333333333,
              "#9c179e"
             ],
             [
              0.4444444444444444,
              "#bd3786"
             ],
             [
              0.5555555555555556,
              "#d8576b"
             ],
             [
              0.6666666666666666,
              "#ed7953"
             ],
             [
              0.7777777777777778,
              "#fb9f3a"
             ],
             [
              0.8888888888888888,
              "#fdca26"
             ],
             [
              1,
              "#f0f921"
             ]
            ],
            "type": "surface"
           }
          ],
          "table": [
           {
            "cells": {
             "fill": {
              "color": "#EBF0F8"
             },
             "line": {
              "color": "white"
             }
            },
            "header": {
             "fill": {
              "color": "#C8D4E3"
             },
             "line": {
              "color": "white"
             }
            },
            "type": "table"
           }
          ]
         },
         "layout": {
          "annotationdefaults": {
           "arrowcolor": "#2a3f5f",
           "arrowhead": 0,
           "arrowwidth": 1
          },
          "autotypenumbers": "strict",
          "coloraxis": {
           "colorbar": {
            "outlinewidth": 0,
            "ticks": ""
           }
          },
          "colorscale": {
           "diverging": [
            [
             0,
             "#8e0152"
            ],
            [
             0.1,
             "#c51b7d"
            ],
            [
             0.2,
             "#de77ae"
            ],
            [
             0.3,
             "#f1b6da"
            ],
            [
             0.4,
             "#fde0ef"
            ],
            [
             0.5,
             "#f7f7f7"
            ],
            [
             0.6,
             "#e6f5d0"
            ],
            [
             0.7,
             "#b8e186"
            ],
            [
             0.8,
             "#7fbc41"
            ],
            [
             0.9,
             "#4d9221"
            ],
            [
             1,
             "#276419"
            ]
           ],
           "sequential": [
            [
             0,
             "#0d0887"
            ],
            [
             0.1111111111111111,
             "#46039f"
            ],
            [
             0.2222222222222222,
             "#7201a8"
            ],
            [
             0.3333333333333333,
             "#9c179e"
            ],
            [
             0.4444444444444444,
             "#bd3786"
            ],
            [
             0.5555555555555556,
             "#d8576b"
            ],
            [
             0.6666666666666666,
             "#ed7953"
            ],
            [
             0.7777777777777778,
             "#fb9f3a"
            ],
            [
             0.8888888888888888,
             "#fdca26"
            ],
            [
             1,
             "#f0f921"
            ]
           ],
           "sequentialminus": [
            [
             0,
             "#0d0887"
            ],
            [
             0.1111111111111111,
             "#46039f"
            ],
            [
             0.2222222222222222,
             "#7201a8"
            ],
            [
             0.3333333333333333,
             "#9c179e"
            ],
            [
             0.4444444444444444,
             "#bd3786"
            ],
            [
             0.5555555555555556,
             "#d8576b"
            ],
            [
             0.6666666666666666,
             "#ed7953"
            ],
            [
             0.7777777777777778,
             "#fb9f3a"
            ],
            [
             0.8888888888888888,
             "#fdca26"
            ],
            [
             1,
             "#f0f921"
            ]
           ]
          },
          "colorway": [
           "#636efa",
           "#EF553B",
           "#00cc96",
           "#ab63fa",
           "#FFA15A",
           "#19d3f3",
           "#FF6692",
           "#B6E880",
           "#FF97FF",
           "#FECB52"
          ],
          "font": {
           "color": "#2a3f5f"
          },
          "geo": {
           "bgcolor": "white",
           "lakecolor": "white",
           "landcolor": "#E5ECF6",
           "showlakes": true,
           "showland": true,
           "subunitcolor": "white"
          },
          "hoverlabel": {
           "align": "left"
          },
          "hovermode": "closest",
          "mapbox": {
           "style": "light"
          },
          "paper_bgcolor": "white",
          "plot_bgcolor": "#E5ECF6",
          "polar": {
           "angularaxis": {
            "gridcolor": "white",
            "linecolor": "white",
            "ticks": ""
           },
           "bgcolor": "#E5ECF6",
           "radialaxis": {
            "gridcolor": "white",
            "linecolor": "white",
            "ticks": ""
           }
          },
          "scene": {
           "xaxis": {
            "backgroundcolor": "#E5ECF6",
            "gridcolor": "white",
            "gridwidth": 2,
            "linecolor": "white",
            "showbackground": true,
            "ticks": "",
            "zerolinecolor": "white"
           },
           "yaxis": {
            "backgroundcolor": "#E5ECF6",
            "gridcolor": "white",
            "gridwidth": 2,
            "linecolor": "white",
            "showbackground": true,
            "ticks": "",
            "zerolinecolor": "white"
           },
           "zaxis": {
            "backgroundcolor": "#E5ECF6",
            "gridcolor": "white",
            "gridwidth": 2,
            "linecolor": "white",
            "showbackground": true,
            "ticks": "",
            "zerolinecolor": "white"
           }
          },
          "shapedefaults": {
           "line": {
            "color": "#2a3f5f"
           }
          },
          "ternary": {
           "aaxis": {
            "gridcolor": "white",
            "linecolor": "white",
            "ticks": ""
           },
           "baxis": {
            "gridcolor": "white",
            "linecolor": "white",
            "ticks": ""
           },
           "bgcolor": "#E5ECF6",
           "caxis": {
            "gridcolor": "white",
            "linecolor": "white",
            "ticks": ""
           }
          },
          "title": {
           "x": 0.05
          },
          "xaxis": {
           "automargin": true,
           "gridcolor": "white",
           "linecolor": "white",
           "ticks": "",
           "title": {
            "standoff": 15
           },
           "zerolinecolor": "white",
           "zerolinewidth": 2
          },
          "yaxis": {
           "automargin": true,
           "gridcolor": "white",
           "linecolor": "white",
           "ticks": "",
           "title": {
            "standoff": 15
           },
           "zerolinecolor": "white",
           "zerolinewidth": 2
          }
         }
        },
        "title": {
         "text": "T-SNE - Beer styles"
        },
        "width": 1000,
        "xaxis": {
         "anchor": "y",
         "domain": [
          0,
          1
         ],
         "title": {
          "text": "x"
         }
        },
        "yaxis": {
         "anchor": "x",
         "domain": [
          0,
          1
         ],
         "title": {
          "text": "y"
         }
        }
       }
      }
     },
     "metadata": {},
     "output_type": "display_data"
    }
   ],
   "source": [
    "X_reduced_tsne = TSNE(n_components=2, init='random', learning_rate='auto', random_state=0).fit_transform(X)\n",
    "\n",
    "# Plot the data reduced in 2d space with t-SNE\n",
    "fig = px.scatter(x=X_reduced_tsne[:,0], y=X_reduced_tsne[:,1], color=style_labels_merged, color_discrete_sequence=px.colors.qualitative.Light24)\n",
    "fig.update_layout(\n",
    "    title='T-SNE - Beer styles',\n",
    "    width=1000,\n",
    "    height=600,\n",
    ")\n",
    "fig.show()"
   ]
  },
  {
   "attachments": {},
   "cell_type": "markdown",
   "metadata": {},
   "source": [
    "With UMAP, it gives:"
   ]
  },
  {
   "cell_type": "code",
   "execution_count": null,
   "metadata": {},
   "outputs": [
    {
     "data": {
      "application/vnd.plotly.v1+json": {
       "config": {
        "plotlyServerURL": "https://plot.ly"
       },
       "data": [
        {
         "hovertemplate": "color=Hybrid Beers<br>x=%{x}<br>y=%{y}<extra></extra>",
         "legendgroup": "Hybrid Beers",
         "marker": {
          "color": "#FD3216",
          "symbol": "circle"
         },
         "mode": "markers",
         "name": "Hybrid Beers",
         "orientation": "v",
         "showlegend": true,
         "type": "scatter",
         "x": [
          3.88103985786438,
          3.3061795234680176,
          0.4258182942867279,
          3.065223455429077,
          6.228023052215576,
          7.507718086242676,
          6.30905294418335
         ],
         "xaxis": "x",
         "y": [
          9.89457893371582,
          9.187515258789062,
          7.452235698699951,
          9.306833267211914,
          10.118858337402344,
          10.784985542297363,
          10.211841583251953
         ],
         "yaxis": "y"
        },
        {
         "hovertemplate": "color=Pilseners and Pale Lagers<br>x=%{x}<br>y=%{y}<extra></extra>",
         "legendgroup": "Pilseners and Pale Lagers",
         "marker": {
          "color": "#00FE35",
          "symbol": "circle"
         },
         "mode": "markers",
         "name": "Pilseners and Pale Lagers",
         "orientation": "v",
         "showlegend": true,
         "type": "scatter",
         "x": [
          9.993033409118652,
          -0.7793222665786743,
          8.037775039672852,
          6.415912628173828,
          6.024775981903076,
          9.763776779174805,
          -0.17116333544254303,
          7.152182102203369,
          3.0408098697662354,
          5.1841206550598145
         ],
         "xaxis": "x",
         "y": [
          9.796704292297363,
          8.0027437210083,
          10.783049583435059,
          10.440472602844238,
          10.43774700164795,
          10.00404167175293,
          7.772495746612549,
          10.382283210754395,
          9.4112548828125,
          10.13213062286377
         ],
         "yaxis": "y"
        },
        {
         "hovertemplate": "color=Dark Lagers<br>x=%{x}<br>y=%{y}<extra></extra>",
         "legendgroup": "Dark Lagers",
         "marker": {
          "color": "#6A76FC",
          "symbol": "circle"
         },
         "mode": "markers",
         "name": "Dark Lagers",
         "orientation": "v",
         "showlegend": true,
         "type": "scatter",
         "x": [
          8.553977966308594,
          8.303135871887207,
          5.629415988922119,
          5.1014404296875,
          3.3892030715942383,
          7.297723770141602
         ],
         "xaxis": "x",
         "y": [
          10.691239356994629,
          10.709702491760254,
          10.094024658203125,
          10.048884391784668,
          9.586771011352539,
          10.846450805664062
         ],
         "yaxis": "y"
        },
        {
         "hovertemplate": "color=Strong Ales<br>x=%{x}<br>y=%{y}<extra></extra>",
         "legendgroup": "Strong Ales",
         "marker": {
          "color": "#FED4C4",
          "symbol": "circle"
         },
         "mode": "markers",
         "name": "Strong Ales",
         "orientation": "v",
         "showlegend": true,
         "type": "scatter",
         "x": [
          -2.407808542251587,
          -2.3756020069122314,
          -0.9186713099479675,
          -3.552370548248291,
          2.880401372909546,
          -2.647930145263672
         ],
         "xaxis": "x",
         "y": [
          9.453577995300293,
          9.47308349609375,
          8.073030471801758,
          10.883955955505371,
          8.571544647216797,
          9.892196655273438
         ],
         "yaxis": "y"
        },
        {
         "hovertemplate": "color=Specialty Beers<br>x=%{x}<br>y=%{y}<extra></extra>",
         "legendgroup": "Specialty Beers",
         "marker": {
          "color": "#FE00CE",
          "symbol": "circle"
         },
         "mode": "markers",
         "name": "Specialty Beers",
         "orientation": "v",
         "showlegend": true,
         "type": "scatter",
         "x": [
          -1.1588940620422363,
          7.917133331298828,
          6.957809925079346,
          -4.111355781555176,
          4.1683573722839355,
          0.5329710841178894,
          3.2111809253692627,
          0.6731160879135132,
          3.5612099170684814,
          3.8779866695404053,
          1.4475531578063965
         ],
         "xaxis": "x",
         "y": [
          8.736824035644531,
          10.892836570739746,
          10.483901023864746,
          11.232308387756348,
          9.21831226348877,
          7.384886741638184,
          8.623308181762695,
          7.643265724182129,
          8.621793746948242,
          8.913970947265625,
          7.830727577209473
         ],
         "yaxis": "y"
        },
        {
         "hovertemplate": "color=Pale Ales<br>x=%{x}<br>y=%{y}<extra></extra>",
         "legendgroup": "Pale Ales",
         "marker": {
          "color": "#0DF9FF",
          "symbol": "circle"
         },
         "mode": "markers",
         "name": "Pale Ales",
         "orientation": "v",
         "showlegend": true,
         "type": "scatter",
         "x": [
          7.518931865692139,
          0.7626044750213623,
          6.746565341949463,
          7.469803810119629,
          3.5564522743225098
         ],
         "xaxis": "x",
         "y": [
          10.579198837280273,
          7.3776984214782715,
          10.590158462524414,
          10.76781177520752,
          9.779324531555176
         ],
         "yaxis": "y"
        },
        {
         "hovertemplate": "color=Brown Ales<br>x=%{x}<br>y=%{y}<extra></extra>",
         "legendgroup": "Brown Ales",
         "marker": {
          "color": "#F6F926",
          "symbol": "circle"
         },
         "mode": "markers",
         "name": "Brown Ales",
         "orientation": "v",
         "showlegend": true,
         "type": "scatter",
         "x": [
          0.9378193020820618,
          5.29190731048584,
          5.351003646850586,
          7.24763822555542
         ],
         "xaxis": "x",
         "y": [
          7.607536315917969,
          9.870792388916016,
          10.02209186553955,
          10.508301734924316
         ],
         "yaxis": "y"
        },
        {
         "hovertemplate": "color=Wheat Beers<br>x=%{x}<br>y=%{y}<extra></extra>",
         "legendgroup": "Wheat Beers",
         "marker": {
          "color": "#FF9616",
          "symbol": "circle"
         },
         "mode": "markers",
         "name": "Wheat Beers",
         "orientation": "v",
         "showlegend": true,
         "type": "scatter",
         "x": [
          6.778160572052002,
          6.183209419250488,
          -1.8110235929489136,
          2.5687291622161865,
          2.7837369441986084,
          6.43792724609375,
          -1.3330897092819214,
          5.75732421875
         ],
         "xaxis": "x",
         "y": [
          10.16749095916748,
          10.06728458404541,
          8.915430068969727,
          8.428751945495605,
          8.343911170959473,
          10.352962493896484,
          8.251556396484375,
          9.85378360748291
         ],
         "yaxis": "y"
        },
        {
         "hovertemplate": "color=India Pale Ales<br>x=%{x}<br>y=%{y}<extra></extra>",
         "legendgroup": "India Pale Ales",
         "marker": {
          "color": "#479B55",
          "symbol": "circle"
         },
         "mode": "markers",
         "name": "India Pale Ales",
         "orientation": "v",
         "showlegend": true,
         "type": "scatter",
         "x": [
          -4.453211307525635,
          -1.5994391441345215,
          -0.2984521985054016,
          6.515935897827148
         ],
         "xaxis": "x",
         "y": [
          11.392431259155273,
          8.840744972229004,
          7.747100830078125,
          10.231046676635742
         ],
         "yaxis": "y"
        },
        {
         "hovertemplate": "color=Stouts<br>x=%{x}<br>y=%{y}<extra></extra>",
         "legendgroup": "Stouts",
         "marker": {
          "color": "#EEA6FB",
          "symbol": "circle"
         },
         "mode": "markers",
         "name": "Stouts",
         "orientation": "v",
         "showlegend": true,
         "type": "scatter",
         "x": [
          -4.4264302253723145,
          0.20828133821487427,
          1.523418664932251,
          3.267228841781616,
          -2.068930149078369,
          -0.9925477504730225,
          -4.2918009757995605
         ],
         "xaxis": "x",
         "y": [
          10.963265419006348,
          7.7524213790893555,
          7.902730941772461,
          9.45687484741211,
          9.13802719116211,
          8.545310974121094,
          11.107831001281738
         ],
         "yaxis": "y"
        },
        {
         "hovertemplate": "color=Undefined<br>x=%{x}<br>y=%{y}<extra></extra>",
         "legendgroup": "Undefined",
         "marker": {
          "color": "#DC587D",
          "symbol": "circle"
         },
         "mode": "markers",
         "name": "Undefined",
         "orientation": "v",
         "showlegend": true,
         "type": "scatter",
         "x": [
          10.071385383605957,
          0.1870661973953247,
          8.412242889404297,
          3.2984840869903564,
          8.037939071655273,
          9.893132209777832,
          9.8174409866333,
          9.714219093322754,
          2.808218002319336,
          8.472655296325684,
          10.094300270080566,
          10.027161598205566,
          3.871218204498291
         ],
         "xaxis": "x",
         "y": [
          9.738215446472168,
          7.883742809295654,
          10.608502388000488,
          8.55925178527832,
          10.654233932495117,
          10.096879959106445,
          9.84461784362793,
          9.917510032653809,
          8.867417335510254,
          10.467894554138184,
          9.740822792053223,
          9.75936222076416,
          9.420975685119629
         ],
         "yaxis": "y"
        },
        {
         "hovertemplate": "color=Porters<br>x=%{x}<br>y=%{y}<extra></extra>",
         "legendgroup": "Porters",
         "marker": {
          "color": "#D626FF",
          "symbol": "circle"
         },
         "mode": "markers",
         "name": "Porters",
         "orientation": "v",
         "showlegend": true,
         "type": "scatter",
         "x": [
          -1.405411958694458,
          -2.184561014175415,
          0.6009091138839722
         ],
         "xaxis": "x",
         "y": [
          8.723611831665039,
          9.275882720947266,
          7.684526443481445
         ],
         "yaxis": "y"
        },
        {
         "hovertemplate": "color=Wild/Sour Beers<br>x=%{x}<br>y=%{y}<extra></extra>",
         "legendgroup": "Wild/Sour Beers",
         "marker": {
          "color": "#6E899C",
          "symbol": "circle"
         },
         "mode": "markers",
         "name": "Wild/Sour Beers",
         "orientation": "v",
         "showlegend": true,
         "type": "scatter",
         "x": [
          -3.973130464553833,
          4.594526767730713,
          -1.855220079421997,
          -3.7524282932281494,
          -0.4853844940662384,
          -4.503418445587158,
          -3.690319061279297
         ],
         "xaxis": "x",
         "y": [
          11.158093452453613,
          9.497384071350098,
          9.130719184875488,
          11.220077514648438,
          8.160029411315918,
          11.030085563659668,
          11.082417488098145
         ],
         "yaxis": "y"
        },
        {
         "hovertemplate": "color=Belgian Styles<br>x=%{x}<br>y=%{y}<extra></extra>",
         "legendgroup": "Belgian Styles",
         "marker": {
          "color": "#00B5F7",
          "symbol": "circle"
         },
         "mode": "markers",
         "name": "Belgian Styles",
         "orientation": "v",
         "showlegend": true,
         "type": "scatter",
         "x": [
          3.6994080543518066,
          3.0181875228881836,
          -2.0204992294311523,
          -0.20078721642494202,
          -4.267218589782715,
          -1.6484298706054688,
          -1.1383483409881592
         ],
         "xaxis": "x",
         "y": [
          9.574799537658691,
          8.54609203338623,
          9.285552978515625,
          7.583370685577393,
          10.975722312927246,
          8.556648254394531,
          8.151177406311035
         ],
         "yaxis": "y"
        },
        {
         "hovertemplate": "color=Bocks<br>x=%{x}<br>y=%{y}<extra></extra>",
         "legendgroup": "Bocks",
         "marker": {
          "color": "#B68E00",
          "symbol": "circle"
         },
         "mode": "markers",
         "name": "Bocks",
         "orientation": "v",
         "showlegend": true,
         "type": "scatter",
         "x": [
          7.748003005981445,
          -0.38299718499183655,
          -3.79449462890625,
          -2.5298879146575928
         ],
         "xaxis": "x",
         "y": [
          10.635153770446777,
          7.994083404541016,
          11.156036376953125,
          9.642780303955078
         ],
         "yaxis": "y"
        },
        {
         "hovertemplate": "color=Scottish-Style Ales<br>x=%{x}<br>y=%{y}<extra></extra>",
         "legendgroup": "Scottish-Style Ales",
         "marker": {
          "color": "#C9FBE5",
          "symbol": "circle"
         },
         "mode": "markers",
         "name": "Scottish-Style Ales",
         "orientation": "v",
         "showlegend": true,
         "type": "scatter",
         "x": [
          -1.4623810052871704,
          4.0399298667907715
         ],
         "xaxis": "x",
         "y": [
          8.293304443359375,
          9.753321647644043
         ],
         "yaxis": "y"
        }
       ],
       "layout": {
        "height": 600,
        "legend": {
         "title": {
          "text": "color"
         },
         "tracegroupgap": 0
        },
        "margin": {
         "t": 60
        },
        "template": {
         "data": {
          "bar": [
           {
            "error_x": {
             "color": "#2a3f5f"
            },
            "error_y": {
             "color": "#2a3f5f"
            },
            "marker": {
             "line": {
              "color": "#E5ECF6",
              "width": 0.5
             },
             "pattern": {
              "fillmode": "overlay",
              "size": 10,
              "solidity": 0.2
             }
            },
            "type": "bar"
           }
          ],
          "barpolar": [
           {
            "marker": {
             "line": {
              "color": "#E5ECF6",
              "width": 0.5
             },
             "pattern": {
              "fillmode": "overlay",
              "size": 10,
              "solidity": 0.2
             }
            },
            "type": "barpolar"
           }
          ],
          "carpet": [
           {
            "aaxis": {
             "endlinecolor": "#2a3f5f",
             "gridcolor": "white",
             "linecolor": "white",
             "minorgridcolor": "white",
             "startlinecolor": "#2a3f5f"
            },
            "baxis": {
             "endlinecolor": "#2a3f5f",
             "gridcolor": "white",
             "linecolor": "white",
             "minorgridcolor": "white",
             "startlinecolor": "#2a3f5f"
            },
            "type": "carpet"
           }
          ],
          "choropleth": [
           {
            "colorbar": {
             "outlinewidth": 0,
             "ticks": ""
            },
            "type": "choropleth"
           }
          ],
          "contour": [
           {
            "colorbar": {
             "outlinewidth": 0,
             "ticks": ""
            },
            "colorscale": [
             [
              0,
              "#0d0887"
             ],
             [
              0.1111111111111111,
              "#46039f"
             ],
             [
              0.2222222222222222,
              "#7201a8"
             ],
             [
              0.3333333333333333,
              "#9c179e"
             ],
             [
              0.4444444444444444,
              "#bd3786"
             ],
             [
              0.5555555555555556,
              "#d8576b"
             ],
             [
              0.6666666666666666,
              "#ed7953"
             ],
             [
              0.7777777777777778,
              "#fb9f3a"
             ],
             [
              0.8888888888888888,
              "#fdca26"
             ],
             [
              1,
              "#f0f921"
             ]
            ],
            "type": "contour"
           }
          ],
          "contourcarpet": [
           {
            "colorbar": {
             "outlinewidth": 0,
             "ticks": ""
            },
            "type": "contourcarpet"
           }
          ],
          "heatmap": [
           {
            "colorbar": {
             "outlinewidth": 0,
             "ticks": ""
            },
            "colorscale": [
             [
              0,
              "#0d0887"
             ],
             [
              0.1111111111111111,
              "#46039f"
             ],
             [
              0.2222222222222222,
              "#7201a8"
             ],
             [
              0.3333333333333333,
              "#9c179e"
             ],
             [
              0.4444444444444444,
              "#bd3786"
             ],
             [
              0.5555555555555556,
              "#d8576b"
             ],
             [
              0.6666666666666666,
              "#ed7953"
             ],
             [
              0.7777777777777778,
              "#fb9f3a"
             ],
             [
              0.8888888888888888,
              "#fdca26"
             ],
             [
              1,
              "#f0f921"
             ]
            ],
            "type": "heatmap"
           }
          ],
          "heatmapgl": [
           {
            "colorbar": {
             "outlinewidth": 0,
             "ticks": ""
            },
            "colorscale": [
             [
              0,
              "#0d0887"
             ],
             [
              0.1111111111111111,
              "#46039f"
             ],
             [
              0.2222222222222222,
              "#7201a8"
             ],
             [
              0.3333333333333333,
              "#9c179e"
             ],
             [
              0.4444444444444444,
              "#bd3786"
             ],
             [
              0.5555555555555556,
              "#d8576b"
             ],
             [
              0.6666666666666666,
              "#ed7953"
             ],
             [
              0.7777777777777778,
              "#fb9f3a"
             ],
             [
              0.8888888888888888,
              "#fdca26"
             ],
             [
              1,
              "#f0f921"
             ]
            ],
            "type": "heatmapgl"
           }
          ],
          "histogram": [
           {
            "marker": {
             "pattern": {
              "fillmode": "overlay",
              "size": 10,
              "solidity": 0.2
             }
            },
            "type": "histogram"
           }
          ],
          "histogram2d": [
           {
            "colorbar": {
             "outlinewidth": 0,
             "ticks": ""
            },
            "colorscale": [
             [
              0,
              "#0d0887"
             ],
             [
              0.1111111111111111,
              "#46039f"
             ],
             [
              0.2222222222222222,
              "#7201a8"
             ],
             [
              0.3333333333333333,
              "#9c179e"
             ],
             [
              0.4444444444444444,
              "#bd3786"
             ],
             [
              0.5555555555555556,
              "#d8576b"
             ],
             [
              0.6666666666666666,
              "#ed7953"
             ],
             [
              0.7777777777777778,
              "#fb9f3a"
             ],
             [
              0.8888888888888888,
              "#fdca26"
             ],
             [
              1,
              "#f0f921"
             ]
            ],
            "type": "histogram2d"
           }
          ],
          "histogram2dcontour": [
           {
            "colorbar": {
             "outlinewidth": 0,
             "ticks": ""
            },
            "colorscale": [
             [
              0,
              "#0d0887"
             ],
             [
              0.1111111111111111,
              "#46039f"
             ],
             [
              0.2222222222222222,
              "#7201a8"
             ],
             [
              0.3333333333333333,
              "#9c179e"
             ],
             [
              0.4444444444444444,
              "#bd3786"
             ],
             [
              0.5555555555555556,
              "#d8576b"
             ],
             [
              0.6666666666666666,
              "#ed7953"
             ],
             [
              0.7777777777777778,
              "#fb9f3a"
             ],
             [
              0.8888888888888888,
              "#fdca26"
             ],
             [
              1,
              "#f0f921"
             ]
            ],
            "type": "histogram2dcontour"
           }
          ],
          "mesh3d": [
           {
            "colorbar": {
             "outlinewidth": 0,
             "ticks": ""
            },
            "type": "mesh3d"
           }
          ],
          "parcoords": [
           {
            "line": {
             "colorbar": {
              "outlinewidth": 0,
              "ticks": ""
             }
            },
            "type": "parcoords"
           }
          ],
          "pie": [
           {
            "automargin": true,
            "type": "pie"
           }
          ],
          "scatter": [
           {
            "fillpattern": {
             "fillmode": "overlay",
             "size": 10,
             "solidity": 0.2
            },
            "type": "scatter"
           }
          ],
          "scatter3d": [
           {
            "line": {
             "colorbar": {
              "outlinewidth": 0,
              "ticks": ""
             }
            },
            "marker": {
             "colorbar": {
              "outlinewidth": 0,
              "ticks": ""
             }
            },
            "type": "scatter3d"
           }
          ],
          "scattercarpet": [
           {
            "marker": {
             "colorbar": {
              "outlinewidth": 0,
              "ticks": ""
             }
            },
            "type": "scattercarpet"
           }
          ],
          "scattergeo": [
           {
            "marker": {
             "colorbar": {
              "outlinewidth": 0,
              "ticks": ""
             }
            },
            "type": "scattergeo"
           }
          ],
          "scattergl": [
           {
            "marker": {
             "colorbar": {
              "outlinewidth": 0,
              "ticks": ""
             }
            },
            "type": "scattergl"
           }
          ],
          "scattermapbox": [
           {
            "marker": {
             "colorbar": {
              "outlinewidth": 0,
              "ticks": ""
             }
            },
            "type": "scattermapbox"
           }
          ],
          "scatterpolar": [
           {
            "marker": {
             "colorbar": {
              "outlinewidth": 0,
              "ticks": ""
             }
            },
            "type": "scatterpolar"
           }
          ],
          "scatterpolargl": [
           {
            "marker": {
             "colorbar": {
              "outlinewidth": 0,
              "ticks": ""
             }
            },
            "type": "scatterpolargl"
           }
          ],
          "scatterternary": [
           {
            "marker": {
             "colorbar": {
              "outlinewidth": 0,
              "ticks": ""
             }
            },
            "type": "scatterternary"
           }
          ],
          "surface": [
           {
            "colorbar": {
             "outlinewidth": 0,
             "ticks": ""
            },
            "colorscale": [
             [
              0,
              "#0d0887"
             ],
             [
              0.1111111111111111,
              "#46039f"
             ],
             [
              0.2222222222222222,
              "#7201a8"
             ],
             [
              0.3333333333333333,
              "#9c179e"
             ],
             [
              0.4444444444444444,
              "#bd3786"
             ],
             [
              0.5555555555555556,
              "#d8576b"
             ],
             [
              0.6666666666666666,
              "#ed7953"
             ],
             [
              0.7777777777777778,
              "#fb9f3a"
             ],
             [
              0.8888888888888888,
              "#fdca26"
             ],
             [
              1,
              "#f0f921"
             ]
            ],
            "type": "surface"
           }
          ],
          "table": [
           {
            "cells": {
             "fill": {
              "color": "#EBF0F8"
             },
             "line": {
              "color": "white"
             }
            },
            "header": {
             "fill": {
              "color": "#C8D4E3"
             },
             "line": {
              "color": "white"
             }
            },
            "type": "table"
           }
          ]
         },
         "layout": {
          "annotationdefaults": {
           "arrowcolor": "#2a3f5f",
           "arrowhead": 0,
           "arrowwidth": 1
          },
          "autotypenumbers": "strict",
          "coloraxis": {
           "colorbar": {
            "outlinewidth": 0,
            "ticks": ""
           }
          },
          "colorscale": {
           "diverging": [
            [
             0,
             "#8e0152"
            ],
            [
             0.1,
             "#c51b7d"
            ],
            [
             0.2,
             "#de77ae"
            ],
            [
             0.3,
             "#f1b6da"
            ],
            [
             0.4,
             "#fde0ef"
            ],
            [
             0.5,
             "#f7f7f7"
            ],
            [
             0.6,
             "#e6f5d0"
            ],
            [
             0.7,
             "#b8e186"
            ],
            [
             0.8,
             "#7fbc41"
            ],
            [
             0.9,
             "#4d9221"
            ],
            [
             1,
             "#276419"
            ]
           ],
           "sequential": [
            [
             0,
             "#0d0887"
            ],
            [
             0.1111111111111111,
             "#46039f"
            ],
            [
             0.2222222222222222,
             "#7201a8"
            ],
            [
             0.3333333333333333,
             "#9c179e"
            ],
            [
             0.4444444444444444,
             "#bd3786"
            ],
            [
             0.5555555555555556,
             "#d8576b"
            ],
            [
             0.6666666666666666,
             "#ed7953"
            ],
            [
             0.7777777777777778,
             "#fb9f3a"
            ],
            [
             0.8888888888888888,
             "#fdca26"
            ],
            [
             1,
             "#f0f921"
            ]
           ],
           "sequentialminus": [
            [
             0,
             "#0d0887"
            ],
            [
             0.1111111111111111,
             "#46039f"
            ],
            [
             0.2222222222222222,
             "#7201a8"
            ],
            [
             0.3333333333333333,
             "#9c179e"
            ],
            [
             0.4444444444444444,
             "#bd3786"
            ],
            [
             0.5555555555555556,
             "#d8576b"
            ],
            [
             0.6666666666666666,
             "#ed7953"
            ],
            [
             0.7777777777777778,
             "#fb9f3a"
            ],
            [
             0.8888888888888888,
             "#fdca26"
            ],
            [
             1,
             "#f0f921"
            ]
           ]
          },
          "colorway": [
           "#636efa",
           "#EF553B",
           "#00cc96",
           "#ab63fa",
           "#FFA15A",
           "#19d3f3",
           "#FF6692",
           "#B6E880",
           "#FF97FF",
           "#FECB52"
          ],
          "font": {
           "color": "#2a3f5f"
          },
          "geo": {
           "bgcolor": "white",
           "lakecolor": "white",
           "landcolor": "#E5ECF6",
           "showlakes": true,
           "showland": true,
           "subunitcolor": "white"
          },
          "hoverlabel": {
           "align": "left"
          },
          "hovermode": "closest",
          "mapbox": {
           "style": "light"
          },
          "paper_bgcolor": "white",
          "plot_bgcolor": "#E5ECF6",
          "polar": {
           "angularaxis": {
            "gridcolor": "white",
            "linecolor": "white",
            "ticks": ""
           },
           "bgcolor": "#E5ECF6",
           "radialaxis": {
            "gridcolor": "white",
            "linecolor": "white",
            "ticks": ""
           }
          },
          "scene": {
           "xaxis": {
            "backgroundcolor": "#E5ECF6",
            "gridcolor": "white",
            "gridwidth": 2,
            "linecolor": "white",
            "showbackground": true,
            "ticks": "",
            "zerolinecolor": "white"
           },
           "yaxis": {
            "backgroundcolor": "#E5ECF6",
            "gridcolor": "white",
            "gridwidth": 2,
            "linecolor": "white",
            "showbackground": true,
            "ticks": "",
            "zerolinecolor": "white"
           },
           "zaxis": {
            "backgroundcolor": "#E5ECF6",
            "gridcolor": "white",
            "gridwidth": 2,
            "linecolor": "white",
            "showbackground": true,
            "ticks": "",
            "zerolinecolor": "white"
           }
          },
          "shapedefaults": {
           "line": {
            "color": "#2a3f5f"
           }
          },
          "ternary": {
           "aaxis": {
            "gridcolor": "white",
            "linecolor": "white",
            "ticks": ""
           },
           "baxis": {
            "gridcolor": "white",
            "linecolor": "white",
            "ticks": ""
           },
           "bgcolor": "#E5ECF6",
           "caxis": {
            "gridcolor": "white",
            "linecolor": "white",
            "ticks": ""
           }
          },
          "title": {
           "x": 0.05
          },
          "xaxis": {
           "automargin": true,
           "gridcolor": "white",
           "linecolor": "white",
           "ticks": "",
           "title": {
            "standoff": 15
           },
           "zerolinecolor": "white",
           "zerolinewidth": 2
          },
          "yaxis": {
           "automargin": true,
           "gridcolor": "white",
           "linecolor": "white",
           "ticks": "",
           "title": {
            "standoff": 15
           },
           "zerolinecolor": "white",
           "zerolinewidth": 2
          }
         }
        },
        "title": {
         "text": "UMAP - Beer styles"
        },
        "width": 1000,
        "xaxis": {
         "anchor": "y",
         "domain": [
          0,
          1
         ],
         "title": {
          "text": "x"
         }
        },
        "yaxis": {
         "anchor": "x",
         "domain": [
          0,
          1
         ],
         "title": {
          "text": "y"
         }
        }
       }
      }
     },
     "metadata": {},
     "output_type": "display_data"
    }
   ],
   "source": [
    "reducer = umap.UMAP()\n",
    "\n",
    "embedding = reducer.fit_transform(X)\n",
    "\n",
    "fig = px.scatter(x=embedding[:, 0], y=embedding[:, 1], color=style_labels_merged, color_discrete_sequence=px.colors.qualitative.Light24)\n",
    "fig.update_layout(\n",
    "    title='UMAP - Beer styles',\n",
    "    width=1000,\n",
    "    height=600,\n",
    ")\n",
    "fig.show()"
   ]
  },
  {
   "attachments": {},
   "cell_type": "markdown",
   "metadata": {},
   "source": [
    "Once again, we see that beer styles belonging to the same supra-style fall close to each other. "
   ]
  }
 ],
 "metadata": {
  "kernelspec": {
   "display_name": "Python 3",
   "language": "python",
   "name": "python3"
  },
  "language_info": {
   "codemirror_mode": {
    "name": "ipython",
    "version": 3
   },
   "file_extension": ".py",
   "mimetype": "text/x-python",
   "name": "python",
   "nbconvert_exporter": "python",
   "pygments_lexer": "ipython3",
   "version": "3.9.6 (default, Aug  5 2022, 15:21:02) \n[Clang 14.0.0 (clang-1400.0.29.102)]"
  },
  "orig_nbformat": 4,
  "vscode": {
   "interpreter": {
    "hash": "31f2aee4e71d21fbe5cf8b01ff0e069b9275f58929596ceb00d14d90e3e16cd6"
   }
  }
 },
 "nbformat": 4,
 "nbformat_minor": 2
}
